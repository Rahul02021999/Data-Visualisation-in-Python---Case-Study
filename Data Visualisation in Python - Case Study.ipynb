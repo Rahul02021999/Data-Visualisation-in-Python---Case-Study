{
 "cells": [
  {
   "cell_type": "markdown",
   "metadata": {},
   "source": [
    "# Google Playstore Case Study"
   ]
  },
  {
   "cell_type": "markdown",
   "metadata": {},
   "source": [
    "In this module you’ll be learning data visualisation with the help of a case study. This will enable you to understand how visualisation aids you in solving business problems. "
   ]
  },
  {
   "cell_type": "markdown",
   "metadata": {},
   "source": [
    "**Problem Statement**\n",
    "\n",
    "The team at Google Play Store wants to develop a feature that would enable them to boost visibility for the most promising apps. Now, this analysis would require a preliminary understanding of the features that define a well-performing app. You can ask questions like:\n",
    "- Does a higher size or price necessarily mean that an app would perform better than the other apps? \n",
    "- Or does a higher number of installs give a clear picture of which app would have a better rating than others?\n"
   ]
  },
  {
   "cell_type": "markdown",
   "metadata": {},
   "source": [
    "\n",
    "\n",
    "### Session 1 - Introduction to Data Visualisation"
   ]
  },
  {
   "cell_type": "code",
   "execution_count": 34,
   "metadata": {},
   "outputs": [],
   "source": [
    "#import the libraries\n",
    "import pandas as pd, numpy as np"
   ]
  },
  {
   "cell_type": "code",
   "execution_count": 35,
   "metadata": {},
   "outputs": [],
   "source": [
    "#read the dataset and check the first five rows\n",
    "inp0 = pd.read_csv(r\"C:\\Users\\lenovo\\Downloads\\Case Study Notebook\\googleplaystore_v2.csv\")\n"
   ]
  },
  {
   "cell_type": "code",
   "execution_count": 36,
   "metadata": {},
   "outputs": [
    {
     "data": {
      "text/html": [
       "<div>\n",
       "<style scoped>\n",
       "    .dataframe tbody tr th:only-of-type {\n",
       "        vertical-align: middle;\n",
       "    }\n",
       "\n",
       "    .dataframe tbody tr th {\n",
       "        vertical-align: top;\n",
       "    }\n",
       "\n",
       "    .dataframe thead th {\n",
       "        text-align: right;\n",
       "    }\n",
       "</style>\n",
       "<table border=\"1\" class=\"dataframe\">\n",
       "  <thead>\n",
       "    <tr style=\"text-align: right;\">\n",
       "      <th></th>\n",
       "      <th>App</th>\n",
       "      <th>Category</th>\n",
       "      <th>Rating</th>\n",
       "      <th>Reviews</th>\n",
       "      <th>Size</th>\n",
       "      <th>Installs</th>\n",
       "      <th>Type</th>\n",
       "      <th>Price</th>\n",
       "      <th>Content Rating</th>\n",
       "      <th>Genres</th>\n",
       "      <th>Last Updated</th>\n",
       "      <th>Current Ver</th>\n",
       "      <th>Android Ver</th>\n",
       "    </tr>\n",
       "  </thead>\n",
       "  <tbody>\n",
       "    <tr>\n",
       "      <th>0</th>\n",
       "      <td>Photo Editor &amp; Candy Camera &amp; Grid &amp; ScrapBook</td>\n",
       "      <td>ART_AND_DESIGN</td>\n",
       "      <td>4.1</td>\n",
       "      <td>159</td>\n",
       "      <td>19000.0</td>\n",
       "      <td>10,000+</td>\n",
       "      <td>Free</td>\n",
       "      <td>0</td>\n",
       "      <td>Everyone</td>\n",
       "      <td>Art &amp; Design</td>\n",
       "      <td>January 7, 2018</td>\n",
       "      <td>1.0.0</td>\n",
       "      <td>4.0.3 and up</td>\n",
       "    </tr>\n",
       "    <tr>\n",
       "      <th>1</th>\n",
       "      <td>Coloring book moana</td>\n",
       "      <td>ART_AND_DESIGN</td>\n",
       "      <td>3.9</td>\n",
       "      <td>967</td>\n",
       "      <td>14000.0</td>\n",
       "      <td>500,000+</td>\n",
       "      <td>Free</td>\n",
       "      <td>0</td>\n",
       "      <td>Everyone</td>\n",
       "      <td>Art &amp; Design;Pretend Play</td>\n",
       "      <td>January 15, 2018</td>\n",
       "      <td>2.0.0</td>\n",
       "      <td>4.0.3 and up</td>\n",
       "    </tr>\n",
       "    <tr>\n",
       "      <th>2</th>\n",
       "      <td>U Launcher Lite – FREE Live Cool Themes, Hide ...</td>\n",
       "      <td>ART_AND_DESIGN</td>\n",
       "      <td>4.7</td>\n",
       "      <td>87510</td>\n",
       "      <td>8700.0</td>\n",
       "      <td>5,000,000+</td>\n",
       "      <td>Free</td>\n",
       "      <td>0</td>\n",
       "      <td>Everyone</td>\n",
       "      <td>Art &amp; Design</td>\n",
       "      <td>August 1, 2018</td>\n",
       "      <td>1.2.4</td>\n",
       "      <td>4.0.3 and up</td>\n",
       "    </tr>\n",
       "    <tr>\n",
       "      <th>3</th>\n",
       "      <td>Sketch - Draw &amp; Paint</td>\n",
       "      <td>ART_AND_DESIGN</td>\n",
       "      <td>4.5</td>\n",
       "      <td>215644</td>\n",
       "      <td>25000.0</td>\n",
       "      <td>50,000,000+</td>\n",
       "      <td>Free</td>\n",
       "      <td>0</td>\n",
       "      <td>Teen</td>\n",
       "      <td>Art &amp; Design</td>\n",
       "      <td>June 8, 2018</td>\n",
       "      <td>Varies with device</td>\n",
       "      <td>4.2 and up</td>\n",
       "    </tr>\n",
       "    <tr>\n",
       "      <th>4</th>\n",
       "      <td>Pixel Draw - Number Art Coloring Book</td>\n",
       "      <td>ART_AND_DESIGN</td>\n",
       "      <td>4.3</td>\n",
       "      <td>967</td>\n",
       "      <td>2800.0</td>\n",
       "      <td>100,000+</td>\n",
       "      <td>Free</td>\n",
       "      <td>0</td>\n",
       "      <td>Everyone</td>\n",
       "      <td>Art &amp; Design;Creativity</td>\n",
       "      <td>June 20, 2018</td>\n",
       "      <td>1.1</td>\n",
       "      <td>4.4 and up</td>\n",
       "    </tr>\n",
       "  </tbody>\n",
       "</table>\n",
       "</div>"
      ],
      "text/plain": [
       "                                                 App        Category  Rating  \\\n",
       "0     Photo Editor & Candy Camera & Grid & ScrapBook  ART_AND_DESIGN     4.1   \n",
       "1                                Coloring book moana  ART_AND_DESIGN     3.9   \n",
       "2  U Launcher Lite – FREE Live Cool Themes, Hide ...  ART_AND_DESIGN     4.7   \n",
       "3                              Sketch - Draw & Paint  ART_AND_DESIGN     4.5   \n",
       "4              Pixel Draw - Number Art Coloring Book  ART_AND_DESIGN     4.3   \n",
       "\n",
       "  Reviews     Size     Installs  Type Price Content Rating  \\\n",
       "0     159  19000.0      10,000+  Free     0       Everyone   \n",
       "1     967  14000.0     500,000+  Free     0       Everyone   \n",
       "2   87510   8700.0   5,000,000+  Free     0       Everyone   \n",
       "3  215644  25000.0  50,000,000+  Free     0           Teen   \n",
       "4     967   2800.0     100,000+  Free     0       Everyone   \n",
       "\n",
       "                      Genres      Last Updated         Current Ver  \\\n",
       "0               Art & Design   January 7, 2018               1.0.0   \n",
       "1  Art & Design;Pretend Play  January 15, 2018               2.0.0   \n",
       "2               Art & Design    August 1, 2018               1.2.4   \n",
       "3               Art & Design      June 8, 2018  Varies with device   \n",
       "4    Art & Design;Creativity     June 20, 2018                 1.1   \n",
       "\n",
       "    Android Ver  \n",
       "0  4.0.3 and up  \n",
       "1  4.0.3 and up  \n",
       "2  4.0.3 and up  \n",
       "3    4.2 and up  \n",
       "4    4.4 and up  "
      ]
     },
     "execution_count": 36,
     "metadata": {},
     "output_type": "execute_result"
    }
   ],
   "source": [
    "#Check the shape of the dataframe\n",
    "inp0\n",
    "inp0.head()\n",
    "#print(inp0.shape)"
   ]
  },
  {
   "cell_type": "markdown",
   "metadata": {},
   "source": [
    "### Data Handling and Cleaning"
   ]
  },
  {
   "cell_type": "markdown",
   "metadata": {},
   "source": [
    "The first few steps involve making sure that there are no __missing values__ or __incorrect data types__ before we proceed to the analysis stage. These aforementioned problems are handled as follows:\n",
    "\n",
    " - For Missing Values: Some common techniques to treat this issue are\n",
    "    - Dropping the rows containing the missing values\n",
    "    - Imputing the missing values\n",
    "    - Keep the missing values if they don't affect the analysis\n",
    " \n",
    "    \n",
    " - Incorrect Data Types:\n",
    "    - Clean certain values \n",
    "    - Clean and convert an entire column\n",
    " "
   ]
  },
  {
   "cell_type": "code",
   "execution_count": 37,
   "metadata": {},
   "outputs": [
    {
     "name": "stdout",
     "output_type": "stream",
     "text": [
      "<class 'pandas.core.frame.DataFrame'>\n",
      "RangeIndex: 10841 entries, 0 to 10840\n",
      "Data columns (total 13 columns):\n",
      " #   Column          Non-Null Count  Dtype  \n",
      "---  ------          --------------  -----  \n",
      " 0   App             10841 non-null  object \n",
      " 1   Category        10841 non-null  object \n",
      " 2   Rating          9367 non-null   float64\n",
      " 3   Reviews         10841 non-null  object \n",
      " 4   Size            10841 non-null  float64\n",
      " 5   Installs        10841 non-null  object \n",
      " 6   Type            10840 non-null  object \n",
      " 7   Price           10841 non-null  object \n",
      " 8   Content Rating  10840 non-null  object \n",
      " 9   Genres          10841 non-null  object \n",
      " 10  Last Updated    10841 non-null  object \n",
      " 11  Current Ver     10833 non-null  object \n",
      " 12  Android Ver     10838 non-null  object \n",
      "dtypes: float64(2), object(11)\n",
      "memory usage: 1.1+ MB\n"
     ]
    }
   ],
   "source": [
    "#Check the datatypes of all the columns of the dataframe\n",
    "inp0.info()"
   ]
  },
  {
   "cell_type": "markdown",
   "metadata": {},
   "source": [
    "#### Missing Value Treatment"
   ]
  },
  {
   "cell_type": "code",
   "execution_count": 38,
   "metadata": {},
   "outputs": [
    {
     "data": {
      "text/plain": [
       "App                  0\n",
       "Category             0\n",
       "Rating            1474\n",
       "Reviews              0\n",
       "Size                 0\n",
       "Installs             0\n",
       "Type                 1\n",
       "Price                0\n",
       "Content Rating       1\n",
       "Genres               0\n",
       "Last Updated         0\n",
       "Current Ver          8\n",
       "Android Ver          3\n",
       "dtype: int64"
      ]
     },
     "execution_count": 38,
     "metadata": {},
     "output_type": "execute_result"
    }
   ],
   "source": [
    "#Check the number of null values in the columns\n",
    "inp0.isnull().sum()"
   ]
  },
  {
   "cell_type": "markdown",
   "metadata": {},
   "source": [
    "Handling missing values for rating\n",
    " - Ratings is the target variable\n",
    " - drop the records"
   ]
  },
  {
   "cell_type": "code",
   "execution_count": 39,
   "metadata": {},
   "outputs": [
    {
     "data": {
      "text/html": [
       "<div>\n",
       "<style scoped>\n",
       "    .dataframe tbody tr th:only-of-type {\n",
       "        vertical-align: middle;\n",
       "    }\n",
       "\n",
       "    .dataframe tbody tr th {\n",
       "        vertical-align: top;\n",
       "    }\n",
       "\n",
       "    .dataframe thead th {\n",
       "        text-align: right;\n",
       "    }\n",
       "</style>\n",
       "<table border=\"1\" class=\"dataframe\">\n",
       "  <thead>\n",
       "    <tr style=\"text-align: right;\">\n",
       "      <th></th>\n",
       "      <th>App</th>\n",
       "      <th>Category</th>\n",
       "      <th>Rating</th>\n",
       "      <th>Reviews</th>\n",
       "      <th>Size</th>\n",
       "      <th>Installs</th>\n",
       "      <th>Type</th>\n",
       "      <th>Price</th>\n",
       "      <th>Content Rating</th>\n",
       "      <th>Genres</th>\n",
       "      <th>Last Updated</th>\n",
       "      <th>Current Ver</th>\n",
       "      <th>Android Ver</th>\n",
       "    </tr>\n",
       "  </thead>\n",
       "  <tbody>\n",
       "    <tr>\n",
       "      <th>0</th>\n",
       "      <td>Photo Editor &amp; Candy Camera &amp; Grid &amp; ScrapBook</td>\n",
       "      <td>ART_AND_DESIGN</td>\n",
       "      <td>4.1</td>\n",
       "      <td>159</td>\n",
       "      <td>19000.000000</td>\n",
       "      <td>10,000+</td>\n",
       "      <td>Free</td>\n",
       "      <td>0</td>\n",
       "      <td>Everyone</td>\n",
       "      <td>Art &amp; Design</td>\n",
       "      <td>January 7, 2018</td>\n",
       "      <td>1.0.0</td>\n",
       "      <td>4.0.3 and up</td>\n",
       "    </tr>\n",
       "    <tr>\n",
       "      <th>1</th>\n",
       "      <td>Coloring book moana</td>\n",
       "      <td>ART_AND_DESIGN</td>\n",
       "      <td>3.9</td>\n",
       "      <td>967</td>\n",
       "      <td>14000.000000</td>\n",
       "      <td>500,000+</td>\n",
       "      <td>Free</td>\n",
       "      <td>0</td>\n",
       "      <td>Everyone</td>\n",
       "      <td>Art &amp; Design;Pretend Play</td>\n",
       "      <td>January 15, 2018</td>\n",
       "      <td>2.0.0</td>\n",
       "      <td>4.0.3 and up</td>\n",
       "    </tr>\n",
       "    <tr>\n",
       "      <th>2</th>\n",
       "      <td>U Launcher Lite – FREE Live Cool Themes, Hide ...</td>\n",
       "      <td>ART_AND_DESIGN</td>\n",
       "      <td>4.7</td>\n",
       "      <td>87510</td>\n",
       "      <td>8700.000000</td>\n",
       "      <td>5,000,000+</td>\n",
       "      <td>Free</td>\n",
       "      <td>0</td>\n",
       "      <td>Everyone</td>\n",
       "      <td>Art &amp; Design</td>\n",
       "      <td>August 1, 2018</td>\n",
       "      <td>1.2.4</td>\n",
       "      <td>4.0.3 and up</td>\n",
       "    </tr>\n",
       "    <tr>\n",
       "      <th>3</th>\n",
       "      <td>Sketch - Draw &amp; Paint</td>\n",
       "      <td>ART_AND_DESIGN</td>\n",
       "      <td>4.5</td>\n",
       "      <td>215644</td>\n",
       "      <td>25000.000000</td>\n",
       "      <td>50,000,000+</td>\n",
       "      <td>Free</td>\n",
       "      <td>0</td>\n",
       "      <td>Teen</td>\n",
       "      <td>Art &amp; Design</td>\n",
       "      <td>June 8, 2018</td>\n",
       "      <td>Varies with device</td>\n",
       "      <td>4.2 and up</td>\n",
       "    </tr>\n",
       "    <tr>\n",
       "      <th>4</th>\n",
       "      <td>Pixel Draw - Number Art Coloring Book</td>\n",
       "      <td>ART_AND_DESIGN</td>\n",
       "      <td>4.3</td>\n",
       "      <td>967</td>\n",
       "      <td>2800.000000</td>\n",
       "      <td>100,000+</td>\n",
       "      <td>Free</td>\n",
       "      <td>0</td>\n",
       "      <td>Everyone</td>\n",
       "      <td>Art &amp; Design;Creativity</td>\n",
       "      <td>June 20, 2018</td>\n",
       "      <td>1.1</td>\n",
       "      <td>4.4 and up</td>\n",
       "    </tr>\n",
       "    <tr>\n",
       "      <th>...</th>\n",
       "      <td>...</td>\n",
       "      <td>...</td>\n",
       "      <td>...</td>\n",
       "      <td>...</td>\n",
       "      <td>...</td>\n",
       "      <td>...</td>\n",
       "      <td>...</td>\n",
       "      <td>...</td>\n",
       "      <td>...</td>\n",
       "      <td>...</td>\n",
       "      <td>...</td>\n",
       "      <td>...</td>\n",
       "      <td>...</td>\n",
       "    </tr>\n",
       "    <tr>\n",
       "      <th>10834</th>\n",
       "      <td>FR Calculator</td>\n",
       "      <td>FAMILY</td>\n",
       "      <td>4.0</td>\n",
       "      <td>7</td>\n",
       "      <td>2600.000000</td>\n",
       "      <td>500+</td>\n",
       "      <td>Free</td>\n",
       "      <td>0</td>\n",
       "      <td>Everyone</td>\n",
       "      <td>Education</td>\n",
       "      <td>June 18, 2017</td>\n",
       "      <td>1.0.0</td>\n",
       "      <td>4.1 and up</td>\n",
       "    </tr>\n",
       "    <tr>\n",
       "      <th>10836</th>\n",
       "      <td>Sya9a Maroc - FR</td>\n",
       "      <td>FAMILY</td>\n",
       "      <td>4.5</td>\n",
       "      <td>38</td>\n",
       "      <td>53000.000000</td>\n",
       "      <td>5,000+</td>\n",
       "      <td>Free</td>\n",
       "      <td>0</td>\n",
       "      <td>Everyone</td>\n",
       "      <td>Education</td>\n",
       "      <td>July 25, 2017</td>\n",
       "      <td>1.48</td>\n",
       "      <td>4.1 and up</td>\n",
       "    </tr>\n",
       "    <tr>\n",
       "      <th>10837</th>\n",
       "      <td>Fr. Mike Schmitz Audio Teachings</td>\n",
       "      <td>FAMILY</td>\n",
       "      <td>5.0</td>\n",
       "      <td>4</td>\n",
       "      <td>3600.000000</td>\n",
       "      <td>100+</td>\n",
       "      <td>Free</td>\n",
       "      <td>0</td>\n",
       "      <td>Everyone</td>\n",
       "      <td>Education</td>\n",
       "      <td>July 6, 2018</td>\n",
       "      <td>1.0</td>\n",
       "      <td>4.1 and up</td>\n",
       "    </tr>\n",
       "    <tr>\n",
       "      <th>10839</th>\n",
       "      <td>The SCP Foundation DB fr nn5n</td>\n",
       "      <td>BOOKS_AND_REFERENCE</td>\n",
       "      <td>4.5</td>\n",
       "      <td>114</td>\n",
       "      <td>21516.529524</td>\n",
       "      <td>1,000+</td>\n",
       "      <td>Free</td>\n",
       "      <td>0</td>\n",
       "      <td>Mature 17+</td>\n",
       "      <td>Books &amp; Reference</td>\n",
       "      <td>January 19, 2015</td>\n",
       "      <td>Varies with device</td>\n",
       "      <td>Varies with device</td>\n",
       "    </tr>\n",
       "    <tr>\n",
       "      <th>10840</th>\n",
       "      <td>iHoroscope - 2018 Daily Horoscope &amp; Astrology</td>\n",
       "      <td>LIFESTYLE</td>\n",
       "      <td>4.5</td>\n",
       "      <td>398307</td>\n",
       "      <td>19000.000000</td>\n",
       "      <td>10,000,000+</td>\n",
       "      <td>Free</td>\n",
       "      <td>0</td>\n",
       "      <td>Everyone</td>\n",
       "      <td>Lifestyle</td>\n",
       "      <td>July 25, 2018</td>\n",
       "      <td>Varies with device</td>\n",
       "      <td>Varies with device</td>\n",
       "    </tr>\n",
       "  </tbody>\n",
       "</table>\n",
       "<p>9367 rows × 13 columns</p>\n",
       "</div>"
      ],
      "text/plain": [
       "                                                     App             Category  \\\n",
       "0         Photo Editor & Candy Camera & Grid & ScrapBook       ART_AND_DESIGN   \n",
       "1                                    Coloring book moana       ART_AND_DESIGN   \n",
       "2      U Launcher Lite – FREE Live Cool Themes, Hide ...       ART_AND_DESIGN   \n",
       "3                                  Sketch - Draw & Paint       ART_AND_DESIGN   \n",
       "4                  Pixel Draw - Number Art Coloring Book       ART_AND_DESIGN   \n",
       "...                                                  ...                  ...   \n",
       "10834                                      FR Calculator               FAMILY   \n",
       "10836                                   Sya9a Maroc - FR               FAMILY   \n",
       "10837                   Fr. Mike Schmitz Audio Teachings               FAMILY   \n",
       "10839                      The SCP Foundation DB fr nn5n  BOOKS_AND_REFERENCE   \n",
       "10840      iHoroscope - 2018 Daily Horoscope & Astrology            LIFESTYLE   \n",
       "\n",
       "       Rating Reviews          Size     Installs  Type Price Content Rating  \\\n",
       "0         4.1     159  19000.000000      10,000+  Free     0       Everyone   \n",
       "1         3.9     967  14000.000000     500,000+  Free     0       Everyone   \n",
       "2         4.7   87510   8700.000000   5,000,000+  Free     0       Everyone   \n",
       "3         4.5  215644  25000.000000  50,000,000+  Free     0           Teen   \n",
       "4         4.3     967   2800.000000     100,000+  Free     0       Everyone   \n",
       "...       ...     ...           ...          ...   ...   ...            ...   \n",
       "10834     4.0       7   2600.000000         500+  Free     0       Everyone   \n",
       "10836     4.5      38  53000.000000       5,000+  Free     0       Everyone   \n",
       "10837     5.0       4   3600.000000         100+  Free     0       Everyone   \n",
       "10839     4.5     114  21516.529524       1,000+  Free     0     Mature 17+   \n",
       "10840     4.5  398307  19000.000000  10,000,000+  Free     0       Everyone   \n",
       "\n",
       "                          Genres      Last Updated         Current Ver  \\\n",
       "0                   Art & Design   January 7, 2018               1.0.0   \n",
       "1      Art & Design;Pretend Play  January 15, 2018               2.0.0   \n",
       "2                   Art & Design    August 1, 2018               1.2.4   \n",
       "3                   Art & Design      June 8, 2018  Varies with device   \n",
       "4        Art & Design;Creativity     June 20, 2018                 1.1   \n",
       "...                          ...               ...                 ...   \n",
       "10834                  Education     June 18, 2017               1.0.0   \n",
       "10836                  Education     July 25, 2017                1.48   \n",
       "10837                  Education      July 6, 2018                 1.0   \n",
       "10839          Books & Reference  January 19, 2015  Varies with device   \n",
       "10840                  Lifestyle     July 25, 2018  Varies with device   \n",
       "\n",
       "              Android Ver  \n",
       "0            4.0.3 and up  \n",
       "1            4.0.3 and up  \n",
       "2            4.0.3 and up  \n",
       "3              4.2 and up  \n",
       "4              4.4 and up  \n",
       "...                   ...  \n",
       "10834          4.1 and up  \n",
       "10836          4.1 and up  \n",
       "10837          4.1 and up  \n",
       "10839  Varies with device  \n",
       "10840  Varies with device  \n",
       "\n",
       "[9367 rows x 13 columns]"
      ]
     },
     "execution_count": 39,
     "metadata": {},
     "output_type": "execute_result"
    }
   ],
   "source": [
    "#Drop the rows having null values in the Rating field\n",
    "inp1 = inp0[~inp0.Rating.isnull()]\n",
    "\n",
    "#Check the shape of the dataframe\n",
    "inp1"
   ]
  },
  {
   "cell_type": "code",
   "execution_count": 40,
   "metadata": {},
   "outputs": [
    {
     "data": {
      "text/plain": [
       "0"
      ]
     },
     "execution_count": 40,
     "metadata": {},
     "output_type": "execute_result"
    }
   ],
   "source": [
    "# Check the number of nulls in the Rating field again to cross-verify\n",
    "inp1.Rating.isnull().sum()"
   ]
  },
  {
   "cell_type": "code",
   "execution_count": 41,
   "metadata": {},
   "outputs": [
    {
     "data": {
      "text/plain": [
       "App               0\n",
       "Category          0\n",
       "Rating            0\n",
       "Reviews           0\n",
       "Size              0\n",
       "Installs          0\n",
       "Type              0\n",
       "Price             0\n",
       "Content Rating    1\n",
       "Genres            0\n",
       "Last Updated      0\n",
       "Current Ver       4\n",
       "Android Ver       3\n",
       "dtype: int64"
      ]
     },
     "execution_count": 41,
     "metadata": {},
     "output_type": "execute_result"
    }
   ],
   "source": [
    "#Question\n",
    "#Check the number of nulls in the dataframe again and find the total number of null values\n",
    "inp1.isnull().sum()\n"
   ]
  },
  {
   "cell_type": "code",
   "execution_count": 42,
   "metadata": {},
   "outputs": [
    {
     "data": {
      "text/html": [
       "<div>\n",
       "<style scoped>\n",
       "    .dataframe tbody tr th:only-of-type {\n",
       "        vertical-align: middle;\n",
       "    }\n",
       "\n",
       "    .dataframe tbody tr th {\n",
       "        vertical-align: top;\n",
       "    }\n",
       "\n",
       "    .dataframe thead th {\n",
       "        text-align: right;\n",
       "    }\n",
       "</style>\n",
       "<table border=\"1\" class=\"dataframe\">\n",
       "  <thead>\n",
       "    <tr style=\"text-align: right;\">\n",
       "      <th></th>\n",
       "      <th>App</th>\n",
       "      <th>Category</th>\n",
       "      <th>Rating</th>\n",
       "      <th>Reviews</th>\n",
       "      <th>Size</th>\n",
       "      <th>Installs</th>\n",
       "      <th>Type</th>\n",
       "      <th>Price</th>\n",
       "      <th>Content Rating</th>\n",
       "      <th>Genres</th>\n",
       "      <th>Last Updated</th>\n",
       "      <th>Current Ver</th>\n",
       "      <th>Android Ver</th>\n",
       "    </tr>\n",
       "  </thead>\n",
       "  <tbody>\n",
       "    <tr>\n",
       "      <th>4453</th>\n",
       "      <td>[substratum] Vacuum: P</td>\n",
       "      <td>PERSONALIZATION</td>\n",
       "      <td>4.4</td>\n",
       "      <td>230</td>\n",
       "      <td>11000.000000</td>\n",
       "      <td>1,000+</td>\n",
       "      <td>Paid</td>\n",
       "      <td>$1.49</td>\n",
       "      <td>Everyone</td>\n",
       "      <td>Personalization</td>\n",
       "      <td>July 20, 2018</td>\n",
       "      <td>4.4</td>\n",
       "      <td>NaN</td>\n",
       "    </tr>\n",
       "    <tr>\n",
       "      <th>4490</th>\n",
       "      <td>Pi Dark [substratum]</td>\n",
       "      <td>PERSONALIZATION</td>\n",
       "      <td>4.5</td>\n",
       "      <td>189</td>\n",
       "      <td>2100.000000</td>\n",
       "      <td>10,000+</td>\n",
       "      <td>Free</td>\n",
       "      <td>0</td>\n",
       "      <td>Everyone</td>\n",
       "      <td>Personalization</td>\n",
       "      <td>March 27, 2018</td>\n",
       "      <td>1.1</td>\n",
       "      <td>NaN</td>\n",
       "    </tr>\n",
       "    <tr>\n",
       "      <th>10472</th>\n",
       "      <td>Life Made WI-Fi Touchscreen Photo Frame</td>\n",
       "      <td>1.9</td>\n",
       "      <td>19.0</td>\n",
       "      <td>3.0M</td>\n",
       "      <td>21516.529524</td>\n",
       "      <td>Free</td>\n",
       "      <td>0</td>\n",
       "      <td>Everyone</td>\n",
       "      <td>NaN</td>\n",
       "      <td>February 11, 2018</td>\n",
       "      <td>1.0.19</td>\n",
       "      <td>4.0 and up</td>\n",
       "      <td>NaN</td>\n",
       "    </tr>\n",
       "  </tbody>\n",
       "</table>\n",
       "</div>"
      ],
      "text/plain": [
       "                                           App         Category  Rating  \\\n",
       "4453                    [substratum] Vacuum: P  PERSONALIZATION     4.4   \n",
       "4490                      Pi Dark [substratum]  PERSONALIZATION     4.5   \n",
       "10472  Life Made WI-Fi Touchscreen Photo Frame              1.9    19.0   \n",
       "\n",
       "      Reviews          Size Installs  Type     Price Content Rating  \\\n",
       "4453      230  11000.000000   1,000+  Paid     $1.49       Everyone   \n",
       "4490      189   2100.000000  10,000+  Free         0       Everyone   \n",
       "10472    3.0M  21516.529524     Free     0  Everyone            NaN   \n",
       "\n",
       "                  Genres    Last Updated Current Ver Android Ver  \n",
       "4453     Personalization   July 20, 2018         4.4         NaN  \n",
       "4490     Personalization  March 27, 2018         1.1         NaN  \n",
       "10472  February 11, 2018          1.0.19  4.0 and up         NaN  "
      ]
     },
     "execution_count": 42,
     "metadata": {},
     "output_type": "execute_result"
    }
   ],
   "source": [
    "#Inspect the nulls in the Android Version column\n",
    "inp1[inp1[\"Android Ver\"].isnull()]"
   ]
  },
  {
   "cell_type": "code",
   "execution_count": 43,
   "metadata": {},
   "outputs": [
    {
     "data": {
      "text/html": [
       "<div>\n",
       "<style scoped>\n",
       "    .dataframe tbody tr th:only-of-type {\n",
       "        vertical-align: middle;\n",
       "    }\n",
       "\n",
       "    .dataframe tbody tr th {\n",
       "        vertical-align: top;\n",
       "    }\n",
       "\n",
       "    .dataframe thead th {\n",
       "        text-align: right;\n",
       "    }\n",
       "</style>\n",
       "<table border=\"1\" class=\"dataframe\">\n",
       "  <thead>\n",
       "    <tr style=\"text-align: right;\">\n",
       "      <th></th>\n",
       "      <th>App</th>\n",
       "      <th>Category</th>\n",
       "      <th>Rating</th>\n",
       "      <th>Reviews</th>\n",
       "      <th>Size</th>\n",
       "      <th>Installs</th>\n",
       "      <th>Type</th>\n",
       "      <th>Price</th>\n",
       "      <th>Content Rating</th>\n",
       "      <th>Genres</th>\n",
       "      <th>Last Updated</th>\n",
       "      <th>Current Ver</th>\n",
       "      <th>Android Ver</th>\n",
       "    </tr>\n",
       "  </thead>\n",
       "  <tbody>\n",
       "    <tr>\n",
       "      <th>4453</th>\n",
       "      <td>[substratum] Vacuum: P</td>\n",
       "      <td>PERSONALIZATION</td>\n",
       "      <td>4.4</td>\n",
       "      <td>230</td>\n",
       "      <td>11000.0</td>\n",
       "      <td>1,000+</td>\n",
       "      <td>Paid</td>\n",
       "      <td>$1.49</td>\n",
       "      <td>Everyone</td>\n",
       "      <td>Personalization</td>\n",
       "      <td>July 20, 2018</td>\n",
       "      <td>4.4</td>\n",
       "      <td>NaN</td>\n",
       "    </tr>\n",
       "    <tr>\n",
       "      <th>4490</th>\n",
       "      <td>Pi Dark [substratum]</td>\n",
       "      <td>PERSONALIZATION</td>\n",
       "      <td>4.5</td>\n",
       "      <td>189</td>\n",
       "      <td>2100.0</td>\n",
       "      <td>10,000+</td>\n",
       "      <td>Free</td>\n",
       "      <td>0</td>\n",
       "      <td>Everyone</td>\n",
       "      <td>Personalization</td>\n",
       "      <td>March 27, 2018</td>\n",
       "      <td>1.1</td>\n",
       "      <td>NaN</td>\n",
       "    </tr>\n",
       "  </tbody>\n",
       "</table>\n",
       "</div>"
      ],
      "text/plain": [
       "                         App         Category  Rating Reviews     Size  \\\n",
       "4453  [substratum] Vacuum: P  PERSONALIZATION     4.4     230  11000.0   \n",
       "4490    Pi Dark [substratum]  PERSONALIZATION     4.5     189   2100.0   \n",
       "\n",
       "     Installs  Type  Price Content Rating           Genres    Last Updated  \\\n",
       "4453   1,000+  Paid  $1.49       Everyone  Personalization   July 20, 2018   \n",
       "4490  10,000+  Free      0       Everyone  Personalization  March 27, 2018   \n",
       "\n",
       "     Current Ver Android Ver  \n",
       "4453         4.4         NaN  \n",
       "4490         1.1         NaN  "
      ]
     },
     "execution_count": 43,
     "metadata": {},
     "output_type": "execute_result"
    }
   ],
   "source": [
    "#Drop the row having shifted values\n",
    "#inp1.loc[10472,:]\n",
    "inp1[(inp1[\"Android Ver\"].isnull() & (inp1.Category == \"1.9\"))]\n",
    "\n",
    "#Check the nulls againin Android version column to cross-verify\n",
    "inp1= inp1[~(inp1[\"Android Ver\"].isnull() & (inp1.Category == \"1.9\"))]\n",
    "inp1[inp1[\"Android Ver\"].isnull()]"
   ]
  },
  {
   "cell_type": "markdown",
   "metadata": {},
   "source": [
    "Imputing Missing Values\n",
    "\n",
    "- For numerical variables use mean and median\n",
    "- For categorical variables use mode"
   ]
  },
  {
   "cell_type": "code",
   "execution_count": 44,
   "metadata": {},
   "outputs": [
    {
     "data": {
      "text/plain": [
       "4.1 and up            2059\n",
       "Varies with device    1319\n",
       "4.0.3 and up          1240\n",
       "4.0 and up            1131\n",
       "4.4 and up             875\n",
       "2.3 and up             582\n",
       "5.0 and up             535\n",
       "4.2 and up             338\n",
       "2.3.3 and up           240\n",
       "3.0 and up             211\n",
       "2.2 and up             208\n",
       "4.3 and up             207\n",
       "2.1 and up             113\n",
       "1.6 and up              87\n",
       "6.0 and up              48\n",
       "7.0 and up              41\n",
       "3.2 and up              31\n",
       "2.0 and up              27\n",
       "5.1 and up              18\n",
       "1.5 and up              16\n",
       "3.1 and up               8\n",
       "2.0.1 and up             7\n",
       "4.4W and up              6\n",
       "8.0 and up               5\n",
       "7.1 and up               3\n",
       "5.0 - 8.0                2\n",
       "4.0.3 - 7.1.1            2\n",
       "1.0 and up               2\n",
       "7.0 - 7.1.1              1\n",
       "4.1 - 7.1.1              1\n",
       "5.0 - 6.0                1\n",
       "Name: Android Ver, dtype: int64"
      ]
     },
     "execution_count": 44,
     "metadata": {},
     "output_type": "execute_result"
    }
   ],
   "source": [
    "#Check the most common value in the Android version column\n",
    "inp1['Android Ver'].value_counts() #counts the different value present Android ver"
   ]
  },
  {
   "cell_type": "code",
   "execution_count": 45,
   "metadata": {},
   "outputs": [
    {
     "data": {
      "text/plain": [
       "'4.1 and up'"
      ]
     },
     "execution_count": 45,
     "metadata": {},
     "output_type": "execute_result"
    }
   ],
   "source": [
    "fill = inp1['Android Ver'].mode()[0]\n",
    "fill"
   ]
  },
  {
   "cell_type": "code",
   "execution_count": 46,
   "metadata": {},
   "outputs": [
    {
     "name": "stderr",
     "output_type": "stream",
     "text": [
      "<ipython-input-46-3d6467255f50>:2: SettingWithCopyWarning: \n",
      "A value is trying to be set on a copy of a slice from a DataFrame.\n",
      "Try using .loc[row_indexer,col_indexer] = value instead\n",
      "\n",
      "See the caveats in the documentation: https://pandas.pydata.org/pandas-docs/stable/user_guide/indexing.html#returning-a-view-versus-a-copy\n",
      "  inp1['Android Ver'] = inp1['Android Ver'].fillna(fill)\n"
     ]
    }
   ],
   "source": [
    "#Fill up the nulls in the Android Version column with the above value\n",
    "inp1['Android Ver'] = inp1['Android Ver'].fillna(fill)"
   ]
  },
  {
   "cell_type": "code",
   "execution_count": 47,
   "metadata": {},
   "outputs": [
    {
     "data": {
      "text/plain": [
       "0"
      ]
     },
     "execution_count": 47,
     "metadata": {},
     "output_type": "execute_result"
    }
   ],
   "source": [
    "#Check the nulls in the Android version column again to cross-verify\n",
    "inp1['Android Ver'].isnull().sum()"
   ]
  },
  {
   "cell_type": "code",
   "execution_count": 48,
   "metadata": {},
   "outputs": [
    {
     "data": {
      "text/plain": [
       "App               0\n",
       "Category          0\n",
       "Rating            0\n",
       "Reviews           0\n",
       "Size              0\n",
       "Installs          0\n",
       "Type              0\n",
       "Price             0\n",
       "Content Rating    0\n",
       "Genres            0\n",
       "Last Updated      0\n",
       "Current Ver       4\n",
       "Android Ver       0\n",
       "dtype: int64"
      ]
     },
     "execution_count": 48,
     "metadata": {},
     "output_type": "execute_result"
    }
   ],
   "source": [
    "#Check the nulls in the entire dataframe again\n",
    "inp1.isnull().sum()"
   ]
  },
  {
   "cell_type": "code",
   "execution_count": 49,
   "metadata": {},
   "outputs": [
    {
     "data": {
      "text/plain": [
       "Varies with device    1415\n",
       "1.0                    458\n",
       "1.1                    195\n",
       "1.2                    126\n",
       "1.3                    120\n",
       "                      ... \n",
       "42.0                     1\n",
       "2.24.0                   1\n",
       "9.4.7.6                  1\n",
       "2.6.2.1                  1\n",
       "1.4.13                   1\n",
       "Name: Current Ver, Length: 2638, dtype: int64"
      ]
     },
     "execution_count": 49,
     "metadata": {},
     "output_type": "execute_result"
    }
   ],
   "source": [
    "#Check the most common value in the Current version column\n",
    "inp1['Current Ver'].value_counts()"
   ]
  },
  {
   "cell_type": "code",
   "execution_count": 50,
   "metadata": {},
   "outputs": [
    {
     "name": "stderr",
     "output_type": "stream",
     "text": [
      "<ipython-input-50-8bc15fd78703>:4: SettingWithCopyWarning: \n",
      "A value is trying to be set on a copy of a slice from a DataFrame.\n",
      "Try using .loc[row_indexer,col_indexer] = value instead\n",
      "\n",
      "See the caveats in the documentation: https://pandas.pydata.org/pandas-docs/stable/user_guide/indexing.html#returning-a-view-versus-a-copy\n",
      "  inp1['Current Ver'] = inp1['Current Ver'].fillna(fill_1)\n"
     ]
    }
   ],
   "source": [
    "#Replace the nulls in the Current version column with the above value\n",
    "fill_1= inp1['Current Ver'].mode()[0]\n",
    "fill_1\n",
    "inp1['Current Ver'] = inp1['Current Ver'].fillna(fill_1)\n"
   ]
  },
  {
   "cell_type": "code",
   "execution_count": 51,
   "metadata": {},
   "outputs": [
    {
     "data": {
      "text/plain": [
       "Varies with device    1419\n",
       "1.0                    458\n",
       "1.1                    195\n",
       "1.2                    126\n",
       "1.3                    120\n",
       "                      ... \n",
       "42.0                     1\n",
       "2.24.0                   1\n",
       "9.4.7.6                  1\n",
       "2.6.2.1                  1\n",
       "1.4.13                   1\n",
       "Name: Current Ver, Length: 2638, dtype: int64"
      ]
     },
     "execution_count": 51,
     "metadata": {},
     "output_type": "execute_result"
    }
   ],
   "source": [
    "# Question : Check the most common value in the Current version column again\n",
    "inp1['Current Ver'].value_counts()"
   ]
  },
  {
   "cell_type": "markdown",
   "metadata": {},
   "source": [
    "#### Handling Incorrect Data Types "
   ]
  },
  {
   "cell_type": "code",
   "execution_count": 52,
   "metadata": {},
   "outputs": [
    {
     "data": {
      "text/plain": [
       "App                object\n",
       "Category           object\n",
       "Rating            float64\n",
       "Reviews            object\n",
       "Size              float64\n",
       "Installs           object\n",
       "Type               object\n",
       "Price              object\n",
       "Content Rating     object\n",
       "Genres             object\n",
       "Last Updated       object\n",
       "Current Ver        object\n",
       "Android Ver        object\n",
       "dtype: object"
      ]
     },
     "execution_count": 52,
     "metadata": {},
     "output_type": "execute_result"
    }
   ],
   "source": [
    "#Check the datatypes of all the columns \n",
    "inp1.dtypes"
   ]
  },
  {
   "cell_type": "code",
   "execution_count": 53,
   "metadata": {},
   "outputs": [
    {
     "ename": "TypeError",
     "evalue": "Could not convert 4.0.3 and up4.0.3 and up4.0.3 and up4.2 and up4.4 and up2.3 and up4.0.3 and up4.2 and up3.0 and up4.0.3 and up4.1 and up4.0 and up4.1 and up4.4 and up2.3 and up4.2 and up4.1 and up2.3 and up4.0.3 and up4.1 and up4.1 and up4.0.3 and up4.0.3 and up4.1 and up3.0 and up4.0.3 and up4.0.3 and up2.3 and up2.3 and up4.0.3 and up2.3 and up4.0 and up4.1 and up4.1 and up4.1 and up4.4 and up2.3.3 and up4.0.3 and up4.0 and up4.0.3 and up4.0.3 and upVaries with device4.1 and up4.1 and up4.1 and up4.1 and up4.1 and up2.3 and up4.0.3 and up4.1 and up4.1 and upVaries with device4.1 and up4.1 and up4.0 and up4.4 and up4.1 and up2.2 and up4.4 and up4.0.3 and up4.2 and up4.1 and up4.0 and up4.2 and up4.4 and up2.3 and upVaries with deviceVaries with device4.0.3 and up4.0.3 and up4.2 and up5.0 and up2.3.3 and up4.0 and up4.0 and up4.1 and up4.0 and up4.1 and up4.1 and up6.0 and up4.2 and up5.0 and up4.0.3 and up4.4 and upVaries with device2.3 and up4.0.3 and upVaries with deviceVaries with device4.1 and up4.0.3 and up4.0.3 and up4.0.3 and up4.0.3 and up4.0 and up4.0.3 and up4.0 and up5.0 and up4.1 and up4.1 and up4.0.3 and upVaries with device4.1 and up4.0.3 and up4.0 and up4.2 and up5.0 and up4.0.3 and upVaries with device4.0 and up4.0 and up4.0.3 and up4.0.3 and up4.0.3 and up4.0.3 and upVaries with device4.0 and up4.0 and up4.0.3 and up4.0 and up5.0 and up4.0.3 and up4.0 and up4.1 and up4.0 and up4.0.3 and up4.0.3 and up1.6 and up4.0.3 and up4.0 and up4.0.3 and up4.0.3 and upVaries with device4.4 and up4.0 and upVaries with deviceVaries with device1.5 and upVaries with deviceVaries with device4.1 and up4.0 and upVaries with device4.0 and up4.0.3 and upVaries with device2.3 and up4.0.3 and up4.1 and up4.0.3 and upVaries with device4.1 and up4.1 and up2.3 and up4.1 and upVaries with device4.0 and up4.0 and up4.1 and up4.0.3 and up3.0 and up4.0.3 and up2.1 and up4.4 and upVaries with device7.0 and up4.0 and up4.0.3 and up4.0.3 and up3.0 and up3.0 and upVaries with device4.0 and up4.2 and up4.0.3 and up2.2 and up4.2 and upVaries with deviceVaries with deviceVaries with device5.0 and upVaries with deviceVaries with device4.4 and up4.1 and up4.0.3 and up5.0 and up4.1 and up4.1 and up4.0.3 and up1.5 and upVaries with deviceVaries with device4.3 and upVaries with device4.1 and up4.0 and upVaries with deviceVaries with device2.2 and up4.1 and upVaries with device4.1 and up4.0 and upVaries with device4.1 and up4.0 and up4.1 and up4.2 and up4.0 and up4.0 and up4.0.3 and up4.0.3 and up2.2 and up4.0.3 and up7.0 and upVaries with deviceVaries with device4.0.3 and upVaries with device3.0 and up4.1 and up4.1 and up4.0 and up3.0 and upVaries with device4.1 and up4.0.3 and up4.4 and upVaries with device4.2 and up5.0 and up4.1 and up4.1 and upVaries with device5.0 and up4.0.3 and up5.0 and up4.4 and up4.0 and up4.1 and up4.1 and up4.4 and up4.1 and up4.3 and up4.0 and up5.0 and up4.4 and upVaries with device4.0.3 and up4.4 and up4.0 and up5.0 and upVaries with deviceVaries with device4.1 and up4.0.3 and up4.4 and upVaries with device4.2 and up5.0 and up4.1 and up4.1 and upVaries with device5.0 and up4.0.3 and up5.0 and up4.4 and up4.0 and up4.1 and up4.1 and up4.4 and up4.1 and upVaries with device4.0.3 and upVaries with device3.0 and up4.1 and up4.1 and up4.0 and up3.0 and upVaries with device4.1 and upVaries with device5.0 and up4.1 and upVaries with device4.1 and up4.1 and up4.0.3 and up4.4 and up4.1 and up4.1 and up5.0 and up4.0 and up2.3 and up4.0.3 and up4.2 and up4.0.3 and up4.0.3 and up4.0.3 and up4.0.3 and up4.0.3 and up4.1 and upVaries with device4.2 and up4.4 and up4.4 and up4.0 and upVaries with device4.1 and up4.1 and up5.0 and up4.0.3 and up4.1 and upVaries with device4.0 and up4.0.3 and up2.3 and up4.0.3 and up4.0.3 and up4.0 and up4.4 and upVaries with deviceVaries with device4.1 and upVaries with device2.3 and upVaries with deviceVaries with deviceVaries with device4.4 and upVaries with device4.4 and up4.0 and up4.0 and up5.0 and up4.1 and up4.0.3 - 7.1.1Varies with device4.0.3 - 7.1.1Varies with deviceVaries with device4.1 and upVaries with device4.1 and up5.0 and upVaries with deviceVaries with deviceVaries with device4.0.3 and upVaries with device4.0.3 and upVaries with device4.0 and up4.0.3 and up5.0 and upVaries with deviceVaries with device4.4 and up4.1 and upVaries with device4.1 and upVaries with deviceVaries with device4.0.3 and up4.0 and up4.3 and up4.4 and upVaries with deviceVaries with device4.0 and up4.0.3 and upVaries with deviceVaries with device4.2 and up4.0 and up4.4 and upVaries with deviceVaries with deviceVaries with deviceVaries with deviceVaries with device4.0 and upVaries with device2.3 and up2.3 and upVaries with device4.0.3 and up4.1 and upVaries with deviceVaries with deviceVaries with device4.0.3 and up4.0.3 and upVaries with device5.0 and up4.0 and up4.1 and upVaries with deviceVaries with device4.0 and up4.1 and upVaries with device2.3 and upVaries with deviceVaries with device4.0 and up4.0 and up4.0.3 and upVaries with device4.0 and up4.0 and up4.0 and up3.0 and up4.1 and up4.0.3 and up2.1 and up4.0 and upVaries with device4.0 and up4.0 and up4.0.3 and up5.0 and up4.0.3 and up5.0 and up4.0 and up2.1 and up4.1 and up4.1 and upVaries with deviceVaries with device4.1 and upVaries with device4.0.3 and up4.1 and upVaries with deviceVaries with device2.3 and upVaries with device4.4 and up4.0.3 and upVaries with device4.1 and up4.1 and up5.0 and up2.0 and upVaries with device2.2 and up4.0 and upVaries with deviceVaries with deviceVaries with device4.0 and up4.4 and upVaries with deviceVaries with deviceVaries with device2.3.3 and up4.0.3 and upVaries with deviceVaries with deviceVaries with deviceVaries with device4.1 and up4.0 and up4.0 and upVaries with device4.1 and upVaries with device4.1 and up5.0 and up4.1 and up4.1 and up4.1 and up4.4 and upVaries with device4.1 and up4.0 and up4.4 and up4.1 and up4.4 and up4.1 and up4.1 and up4.1 and upVaries with device4.2 and up4.1 and up4.1 and up4.4 and up4.1 and up4.4 and up4.1 and upVaries with device4.0.3 and up4.2 and up4.0.3 and up4.0.3 and up4.4 and up4.0 and up4.1 and up4.0.3 and up4.1 and up5.0 and up4.4 and up4.0.3 and up4.1 and up5.0 and up4.1 and up4.0 and up4.0.3 and up4.0 and up4.1 and up4.0.3 and up4.0 and up4.0.3 and up4.2 and upVaries with device4.1 and up4.0.3 and up4.0.3 and up5.0 and up4.0 and up4.1 and up4.1 and up4.1 and up4.1 and up4.1 and up4.4 and up4.1 and up5.0 and up4.4 and up4.1 and up4.1 and up4.0.3 and up4.1 and up4.1 and up4.1 and upVaries with device5.0 and up5.0 and up4.1 and up4.0.3 and up4.0.3 and up4.2 and up4.4 and upVaries with device4.1 and up4.2 and up4.1 and up4.1 and up4.1 and up4.3 and up4.1 and up4.0.3 and up4.1 and up4.1 and up4.0.3 and up4.1 and upVaries with device4.0.3 and up4.1 and up4.1 and up4.2 and up4.0.3 and up4.1 and up4.0.3 and up4.1 and up4.2 and up4.1 and up4.1 and up4.0.3 and up4.1 and up4.0.3 and up4.1 and up4.0 and up4.1 and up4.0.3 and up4.1 and up4.1 and up4.0.3 and up4.0.3 and up4.0.3 and up4.2 and up4.0 and up4.1 and up4.0 and up4.4 and up4.3 and up4.0.3 and up4.0.3 and up4.0.3 and up4.0.3 and up4.0.3 and up4.0.3 and up4.4 and up4.0.3 and up4.0.3 and up4.4 and up4.0.3 and up4.0.3 and up4.0.3 and up4.1 and up4.0.3 and up4.0.3 and up4.0.3 and up4.0.3 and up4.0.3 and up4.0.3 and up4.0 and up4.1 and up4.1 and up5.0 and up4.0.3 and up4.0.3 and up4.2 and up5.0 and up4.1 and up4.3 and up4.4 and up4.4 and upVaries with device4.0.3 and up4.0.3 and up4.0.3 and up4.1 and up4.0.3 and up4.4 and up4.1 and up4.4 and up4.1 and up4.0.3 and up4.0.3 and up4.0.3 and up4.1 and up4.0.3 and up4.0.3 and up4.0.3 and up4.0.3 and up4.0.3 and up4.0 and up4.4 and up4.0.3 and up4.0 and up4.1 and up4.1 and up4.2 and up4.0.3 and upVaries with device4.1 and up4.0 and up4.1 and up4.0 and up4.0 and up4.0 and up4.0.3 and up4.0 and up4.0 and up4.1 and up4.1 and up4.2 and upVaries with deviceVaries with device4.0 and up4.0 and up4.4 and up4.0 and up2.3 and up4.1 and up5.0 and up1.6 and up4.4 and upVaries with device4.0.3 and up2.3 and up4.2 and up4.4 and up2.3 and up4.1 and up4.1 and up2.3 and up4.1 and upVaries with device4.0.3 and up4.1 and upVaries with device4.1 and up4.1 and upVaries with device5.0 and upVaries with device4.1 and upVaries with device4.0.3 and upVaries with device5.0 and up4.1 and up4.1 and upVaries with deviceVaries with device4.0 and up2.3 and up2.3 and up2.3 and up5.0 and up5.0 and up4.0 and upVaries with device4.0 and up4.0 and up4.0 and up4.1 and up4.0 and up4.4 and up4.1 and up4.4 and up2.2 and up2.3.3 and up2.1 and upVaries with device2.3.3 and up4.0 and upVaries with device2.1 and up4.1 and upVaries with device4.0 and upVaries with deviceVaries with deviceVaries with device4.1 and up4.1 and upVaries with deviceVaries with deviceVaries with device5.0 and up5.0 and up4.1 and up5.0 and upVaries with device4.1 and upVaries with deviceVaries with device4.4 and up4.4 and upVaries with device4.1 and upVaries with device4.0 and up5.0 and up4.4 and up4.2 and up4.1 and up4.0 and upVaries with device4.0 and up5.0 and upVaries with device2.3 and up4.0.3 and up4.0 and up2.3 and upVaries with device4.0.3 and up2.3 and up4.0 and upVaries with deviceVaries with device4.0.3 and up3.2 and up4.4 and upVaries with deviceVaries with device4.1 and upVaries with device3.0 and up4.0 and up4.1 and up4.2 and up5.0 and upVaries with device4.4 and up3.0 and up5.0 and upVaries with device4.4 and upVaries with deviceVaries with device4.1 and up4.0 and upVaries with device4.1 and up4.1 and upVaries with device5.0 and up5.0 and up4.0.3 and up4.1 and up4.1 and up4.0.3 and up4.1 and up4.4 and up4.4 and upVaries with device4.0.3 and upVaries with device4.1 and up4.1 and up5.0 and upVaries with device6.0 and up4.2 and up4.0.3 and upVaries with deviceVaries with deviceVaries with device4.0 and upVaries with device2.3.3 and up4.0.3 and up4.1 and upVaries with device4.1 and upVaries with device4.2 and up4.2 and upVaries with device4.1 and up4.1 and up4.1 and up4.0.3 and up4.4 and up4.1 and upVaries with device4.1 and up4.4 and upVaries with deviceVaries with device4.3 and up4.1 and up4.1 and up4.1 and upVaries with device4.2 and up5.0 and upVaries with device4.4 and upVaries with device6.0 and up4.1 and up5.0 and upVaries with deviceVaries with deviceVaries with deviceVaries with device4.1 and upVaries with device4.4 and upVaries with device4.1 and upVaries with device4.1 and upVaries with device4.4 and up4.4 and up4.4 and up4.4 and up4.4 and up4.4 and up4.4 and up4.4 and up5.0 and upVaries with deviceVaries with deviceVaries with device4.4 and up4.0.3 and up4.4 and upVaries with deviceVaries with device4.1 and upVaries with deviceVaries with deviceVaries with device4.1 and up4.4 and up5.0 and up4.4 and up4.4 and up4.4 and up4.1 and up4.4 and upVaries with device4.1 and up4.4 and up4.4 and up4.4 and up4.4 and up4.4 and up4.4 and up5.0 and up4.1 and upVaries with deviceVaries with device4.4 and up4.4 and upVaries with device4.1 and upVaries with deviceVaries with deviceVaries with device4.4 and upVaries with device5.0 and upVaries with device4.4 and up4.4 and upVaries with device4.4 and upVaries with device4.4 and up5.0 and upVaries with deviceVaries with device4.3 and up4.4 and up4.4 and upVaries with device4.4 and up4.4 and up4.4 and up4.4 and up4.4 and up4.4 and up4.4 and up4.2 and upVaries with deviceVaries with device6.0 and up4.0.3 and up4.4 and upVaries with device5.0 and upVaries with deviceVaries with device4.0 and up2.3.3 and up2.3 and up5.0 and up4.1 and up4.0.3 and upVaries with device4.0.3 and upVaries with device4.1 and up4.1 and upVaries with device4.1 and up4.0 and up5.0 and up4.2 and up5.0 and upVaries with device4.2 and up4.1 and up4.0 and up4.0 and up5.0 and up4.2 and upVaries with device2.3.3 and upVaries with device2.3.3 and up4.4 and up4.1 and up2.0 and up4.1 and upVaries with device4.2 and up4.0 and up4.4 and up4.0.3 and up5.0 and up4.1 and up4.2 and up4.2 and upVaries with device5.0 and upVaries with device4.2 and up4.0.3 and up4.2 and up4.1 and upVaries with device4.0 and upVaries with device4.2 and upVaries with deviceVaries with device4.1 and up5.0 and up4.0.3 and up4.0.3 and upVaries with deviceVaries with deviceVaries with device4.0.3 and up4.0.3 and up4.2 and up4.4 and up5.0 and upVaries with device4.1 and up4.4 and up5.0 and up4.0 and up4.2 and up4.0 and up4.1 and up4.1 and upVaries with device4.0 and up4.4 and upVaries with deviceVaries with device4.1 and up4.4W and upVaries with device5.0 and up5.0 and up4.1 and up4.4 and upVaries with deviceVaries with deviceVaries with device4.0 and upVaries with device5.0 and up4.1 and up4.0 and up5.0 and up5.0 and upVaries with device4.1 and up4.4 and up4.4 and up4.2 and up4.0 and up4.4 and up4.4 and up4.4 and upVaries with device5.0 and up4.1 and upVaries with device4.0.3 and up6.0 and up4.0.3 and up4.4 and up4.4 and up5.0 and up2.3.3 and upVaries with deviceVaries with device4.0 and upVaries with device4.1 and upVaries with deviceVaries with deviceVaries with device2.3 and upVaries with device4.4 and upVaries with device4.2 and upVaries with device2.1 and upVaries with device4.0 and up4.1 and upVaries with deviceVaries with device4.4 and upVaries with device4.4 and upVaries with deviceVaries with device5.0 and up4.1 and up4.1 and up4.4 and up4.4 and up5.0 and up4.4 and up4.1 and up4.4 and up4.4 and up4.0.3 and up4.2 and up5.0 and upVaries with device5.0 and up4.4 and up5.0 and up4.1 and up5.0 and up5.0 and up5.0 and up4.4 and up4.1 and up5.0 and upVaries with device5.0 and up4.4 and up5.0 and up4.1 and up4.0.3 and upVaries with device4.0.3 and upVaries with device4.4 and up4.0.3 and up4.0.3 and up4.1 and up4.4 and up4.4 and up4.2 and up4.0 and up5.0 and up5.0 and up5.0 and up4.0.3 and up4.4 and up4.0.3 and upVaries with device4.1 and upVaries with device4.0.3 and upVaries with deviceVaries with device4.0.3 and up4.4 and up4.4 and upVaries with device4.1 and up4.0.3 and up4.1 and up4.1 and up4.4 and up4.1 and up4.0 and up4.0.3 and up4.4 and upVaries with device4.0.3 and upVaries with device5.1 and up4.1 and upVaries with device2.3.3 and up4.0 and upVaries with deviceVaries with device4.0 and up4.4 and up5.0 and up4.2 and up5.0 and up5.0 and up5.0 and up5.0 and upVaries with deviceVaries with device4.4 and up5.0 and upVaries with device5.0 and upVaries with deviceVaries with deviceVaries with device5.0 and up4.1 and up6.0 and upVaries with device5.0 and up5.0 and up5.0 and upVaries with device4.1 and up4.2 and upVaries with deviceVaries with device4.4 and up4.2 and up4.1 and up4.2 and up4.0 and up4.0 and up4.4 and up4.1 and up4.1 and up4.4 and up4.0 and up4.0 and up4.1 and up4.0.3 and up4.1 and up4.1 and up5.0 and up4.0.3 and upVaries with device4.1 and upVaries with device4.1 and up4.1 and up4.1 and up4.4 and up3.0 and upVaries with device5.0 and up4.2 and upVaries with device4.1 and up4.1 and upVaries with device5.0 and up4.4 and upVaries with device2.3 and up2.3.3 and up4.4 and up5.0 and upVaries with device5.0 and up4.1 and up4.4 and up5.0 and up4.1 and upVaries with deviceVaries with deviceVaries with device4.1 and upVaries with device5.0 and upVaries with device4.1 and up5.0 and up5.0 and up4.4 and up4.0.3 and up5.0 and upVaries with deviceVaries with device4.1 and up4.4 and up4.0.3 and up5.0 and upVaries with deviceVaries with device5.0 and upVaries with device4.0 and upVaries with device4.0.3 and up2.3.3 and up4.0 and up4.0.3 and up2.3.3 and upVaries with device4.0.3 and up4.3 and up4.2 and up4.1 and up2.3.3 and upVaries with deviceVaries with deviceVaries with deviceVaries with device4.4 and up4.2 and up4.1 and up4.0 and upVaries with deviceVaries with device4.0.3 and up4.0.3 and up4.3 and upVaries with device5.0 and up4.1 and up4.4 and up4.0.3 and upVaries with device4.2 and upVaries with deviceVaries with device4.1 and upVaries with device4.0.3 and upVaries with device5.0 and upVaries with device4.4 and up4.4 and upVaries with deviceVaries with device4.0.3 and up4.1 and up4.4 and upVaries with deviceVaries with device4.1 and up4.1 and upVaries with device4.1 and up5.0 and upVaries with deviceVaries with device5.0 and up5.0 and up4.4 and upVaries with deviceVaries with deviceVaries with device4.4 and upVaries with deviceVaries with device5.0 and up2.3.3 and up4.1 and up4.0.3 and up5.0 and upVaries with device4.1 and up4.4 and up4.0.3 and up4.0 and upVaries with device4.0 and upVaries with deviceVaries with device5.0 and up2.3.3 and up4.0 and up4.1 and up4.1 and upVaries with device2.3 and up5.0 and up4.0.3 and up4.4 and up4.1 and upVaries with device4.0.3 and up4.0 and up4.0 and upVaries with deviceVaries with device4.0.3 and up4.0.3 and up4.4 and upVaries with deviceVaries with device4.1 and up4.4 and up4.0.3 and upVaries with device4.0.3 and up4.4 and up4.1 and up4.0 and up4.1 and upVaries with deviceVaries with deviceVaries with device4.1 and upVaries with deviceVaries with device4.4 and up4.2 and up4.0 and up4.4 and up5.0 and upVaries with device4.0.3 and up4.0.3 and up4.0.3 and up4.1 and up4.4 and upVaries with deviceVaries with device4.0 and upVaries with device4.2 and up5.0 and up4.0.3 and up4.0.3 and upVaries with device4.0 and upVaries with device5.0 and upVaries with deviceVaries with device4.1 and up4.1 and up4.4 and up4.0 and upVaries with device4.0.3 and up5.0 and up4.0.3 and up4.4 and up4.1 and upVaries with deviceVaries with device4.1 and up4.0.3 and up4.0 and up4.0.3 and up4.0 and up4.0 and up4.0.3 and up3.0 and up3.0 and up3.0 and up3.0 and upVaries with device3.0 and up3.0 and up3.0 and up5.0 and up4.1 and up4.0 and up5.0 and up5.0 and up4.0.3 and upVaries with device4.4 and up4.2 and upVaries with deviceVaries with device4.4 and upVaries with device4.4 and upVaries with device4.0.3 and up5.0 and up2.3 and up2.2 and up4.0.3 and up2.2 and up4.0 and up4.0.3 and up4.0 and up2.2 and upVaries with device2.3 and up4.0.3 and up7.1 and up2.3 and up4.1 and up4.0.3 and up4.0.3 and up1.5 and up4.0.3 and up1.6 and up4.2 and upVaries with device1.6 and up4.1 and up5.0 and up2.3 and up4.0 and up1.5 and up2.3 and up2.3 and up4.0.3 and up3.2 and up4.0 and up4.4 and up4.1 and up5.0 and up2.3 and up4.0 and up4.0 and up4.0 and up4.0.3 and up2.3 and up4.0.3 and up4.0.3 and up7.0 - 7.1.12.3 and up4.1 and up7.0 and up2.3.3 and up4.4 and up4.1 and up4.4 and up5.0 and up4.0 and up4.1 and up4.4 and up4.4 and up4.1 and up2.3 and up2.3 and up5.0 and up2.3 and up4.0.3 and up4.4 and up4.0.3 and up5.0 and up4.0 and up4.0.3 and up4.4 and up2.3 and up4.0 and up4.1 and up4.0 and up4.3 and up4.2 and up4.1 and up4.3 and upVaries with device4.0.3 and up4.1 and up4.1 and up4.4 and up4.0.3 and up4.1 and upVaries with device5.0 and upVaries with device4.4 and up4.0.3 and up4.0 and up4.0 and up4.0 and up4.1 and up4.3 and up4.1 and upVaries with device2.2 and up2.3 and up4.3 and up4.1 and up4.1 and upVaries with device2.2 and up2.3 and up4.3 and up4.1 and up4.0.3 and up5.0 and up4.2 and up2.2 and up4.1 and up4.4 and up4.0.3 and upVaries with device4.0 and up4.0.3 and upVaries with deviceVaries with device4.0 and up4.0.3 and upVaries with device4.1 and upVaries with deviceVaries with device4.0.3 and up4.1 and up4.1 and up4.1 and up4.1 and up4.0.3 and up4.1 and up2.3 and up4.1 and up4.0 and up4.0 and up4.1 and up2.3 and up4.1 and up4.1 and up4.1 and up4.1 and up2.3 and up4.1 and up4.4 and up2.3.3 and up4.1 and up4.0 and up4.0.3 and up4.1 and up3.0 and up3.0 and up4.0 and up4.1 and up4.1 and up4.0.3 and up4.0.3 and up4.1 and upVaries with device4.1 and up4.1 and up4.0 and up4.2 and up4.0.3 and up4.0.3 and up4.0.3 and up4.1 and upVaries with device2.3 and up4.0 and up4.1 and up4.1 and upVaries with device4.1 and up4.1 and up4.0 and up4.0.3 and up4.1 and up4.1 and up4.1 and up4.0.3 and up4.1 and up4.4 and up4.1 and up4.0.3 and up4.1 and up4.4 and up4.1 and up3.0 and up4.1 and up4.0.3 and up4.0.3 and up2.3 and up4.1 and up4.1 and up4.1 and upVaries with device4.0 and up4.1 and up4.1 and up4.1 and up2.3 and up4.0 and upVaries with device4.0.3 and up4.0.3 and up2.3 and up4.0 and up2.3 and up4.1 and up4.1 and up4.3 and up4.4 and up4.1 and up4.0.3 and up4.1 and up4.2 and up4.1 and up4.0.3 and up4.0.3 and up4.0.3 and up4.1 and up4.1 and up4.1 and up4.1 and up4.1 and up4.1 and up4.0 and up4.0.3 and upVaries with device2.3 and up4.1 and up4.0 and up4.4 and up4.1 and up4.1 and up4.1 and up4.4 and up4.1 and up5.0 and up4.1 and up4.1 and up4.4 and up4.1 and up4.1 and up4.1 and up4.0 and up4.1 and up4.1 and up4.1 and up4.1 and up4.0.3 and up4.3 and up4.1 and up4.1 and up4.4 and up5.0 and up4.1 and up4.3 and upVaries with device4.1 and up4.1 and up5.0 and up4.1 and up4.1 and up4.1 and up4.0.3 and up4.3 and up5.0 and up4.1 and up4.1 and up5.0 and up4.1 and up4.1 and up4.4 and up5.0 and up4.4 and up4.1 and up4.1 and up6.0 and upVaries with device4.0.3 and up4.1 and up4.0.3 and up4.2 and up4.4 and up4.1 and up4.1 and upVaries with device4.1 and up6.0 and up4.0 and up2.3 and up4.4 and up4.1 and up4.3 and up4.0.3 and up4.0.3 and up4.4 and up4.1 and up4.0.3 and up4.3 and up4.3 and up4.4 and up4.4 and up5.0 and up4.4 and up2.3 and up4.4 and up4.0.3 and up2.3.3 and up4.1 and up4.4 and up6.0 and up4.1 and up4.1 and up4.1 and up4.0.3 and up4.1 and up4.4 and up4.3 and up4.0.3 and up4.4 and upVaries with device4.0.3 and up4.4 and up4.0.3 and up4.0.3 and up4.1 and up4.0.3 and up4.1 and up4.4 and up6.0 and up4.0.3 and up4.0.3 and up4.0.3 and up2.3 and up4.0 and up4.3 and up2.3 and up4.0.3 and up4.0.3 and up4.1 and up4.1 and up4.0.3 and up4.1 and up4.1 and up2.3 and up4.0.3 and up4.1 and up4.1 and up4.1 and up4.1 and up2.3 and up4.1 and up3.0 and up2.3 and up4.0 and up4.0 and up4.0 and up4.1 and up4.0.3 and up4.1 and up4.1 and up2.3 and up4.0.3 and up4.0.3 and up4.0.3 and up4.0.3 and up4.1 and up4.4 and up4.1 and up4.1 and up4.0 and up4.0 and up4.4 and up4.1 and up4.0.3 and up4.1 and up4.1 and up4.1 and up4.1 and up4.2 and upVaries with device4.3 and up4.0.3 and up4.0.3 and upVaries with device4.0.3 and upVaries with device4.1 and up4.1 and up5.0 and up4.0 and up2.3 and up4.1 and up4.1 and up4.1 and upVaries with device4.1 and up2.3.3 and up4.4 and up4.4 and up4.2 and up4.0.3 and up3.0 and up4.0 and up3.0 and up6.0 and upVaries with device4.1 and up2.3 and up4.1 and up4.1 and up4.0 and up3.0 and up2.3 and up4.1 and up4.1 and up2.3.3 and up4.0.3 and up2.3 and up4.0.3 and up4.1 and up4.1 and up5.0 and up4.0.3 and up4.0.3 and upVaries with device4.1 and up4.0.3 and up4.0 and upVaries with device4.1 and up4.0 and up4.1 and up4.2 and up4.0.3 and up4.0.3 and up4.1 and up4.1 and up2.3 and up4.1 and up4.0.3 and up4.0.3 and up4.0.3 and upVaries with device4.0.3 and up4.0.3 and up4.1 and up4.2 and up2.3.3 and up4.1 and up4.0.3 and up4.1 and up4.1 and up4.0 and up4.1 and up4.0 and up4.1 and up4.0 and up4.1 and up4.1 and up4.1 and upVaries with device4.2 and up4.0 and up4.1 and up2.3 and up4.1 and up4.1 and up4.4 and up4.1 and up4.1 and up2.3.3 and up4.1 and up4.3 and up4.4 and up2.3 and up4.0 and up4.1 and upVaries with deviceVaries with deviceVaries with device2.3 and up2.3.3 and up4.1 and up4.1 and up4.0.3 and up4.1 and up4.0.3 and up4.0.3 and up4.0.3 and up4.1 and up4.0.3 and up4.1 and up2.3 and up4.1 and up4.0 and up4.1 and up4.0.3 and up4.0.3 and up4.1 and up2.3 and up4.1 and up4.1 and up4.0.3 and up4.0.3 and up2.3 and upVaries with device4.1 and up4.0.3 and up4.0.3 and upVaries with device2.3 and up4.0.3 and up4.0.3 and up4.0.3 and up4.1 and up4.0 and up4.0.3 and up4.0 and up4.1 and upVaries with device4.0.3 and up2.3.3 and up4.0 and up4.1 and up4.0.3 and upVaries with device4.4 and up4.4 and up4.1 and up4.1 and up5.0 and up4.4 and up4.4 and up4.2 and up4.1 and up4.1 and up4.0.3 and up4.1 and up4.1 and up4.1 and up4.4 and up4.4 and up5.0 and up4.1 and up4.0.3 and upVaries with deviceVaries with device4.1 and up4.0.3 and upVaries with device4.1 and up4.1 and up4.1 and up4.1 and up4.1 and up4.4 and up4.1 and up4.1 and up4.0.3 and upVaries with device4.1 and up4.0 and up4.4 and up4.1 and up2.3.3 and up4.1 and up4.1 and up4.1 and up4.0.3 and up4.0.3 and up4.4 and up4.2 and up4.2 and up4.1 and up4.1 and up4.1 and up4.0.3 and up4.0 and up4.1 and up4.1 and up4.1 and up2.3 and up4.1 and up2.3 and up4.3 and up2.3 and up4.0.3 and up2.3.3 and up4.1 and up4.1 and up4.2 and up4.0 and up4.0 and up4.4 and up2.3.3 and up4.1 and up4.1 and up4.1 and up4.0 and up4.2 and up4.0 and up2.3 and up4.0.3 and up4.0.3 and up4.1 and up2.3 and up4.2 and up4.0.3 and up4.1 and up4.1 and up2.3 and up5.1 and up4.2 and up4.0 and up4.1 and up4.1 and up4.0 and up4.1 and upVaries with device4.4 and up4.0.3 and up2.3 and up2.3 and up4.0.3 and up2.3 and up2.3 and up4.1 and up4.1 and up3.0 and up4.1 and up2.3 and up4.0.3 and up4.1 and up4.4 and up4.0 and up2.3 and upVaries with device4.0 and up4.0 and up4.0 and up5.1 and up2.3.3 and up4.1 and up4.1 and up4.1 and up2.3 and up4.0 and up2.3 and up4.0.3 and up4.0 and up2.3 and up4.0.3 and up4.2 and up4.0.3 and up2.2 and up4.4 and up4.3 and up4.0.3 and up2.3 and up4.0.3 and up4.0 and up4.0.3 and up4.0 and up2.3 and up4.0.3 and up4.2 and up4.0.3 and up2.2 and up4.4 and up4.3 and up4.0.3 and up2.3 and up4.0.3 and up4.0 and up4.1 and upVaries with device4.1 and up4.2 and up4.1 and up4.0.3 and up4.2 and up4.4 and up4.1 and up4.1 and upVaries with device4.4 and up4.1 and up4.1 and up4.4 and up4.0.3 and up4.0 and up4.2 and up2.3 and up4.2 and up4.4 and up4.4 and up6.0 and up4.0.3 and up4.4 and up2.3 and up4.0.3 and up2.3 and upVaries with device4.0 and up4.0 and up4.1 and up4.3 and up4.1 and up5.0 and upVaries with device2.3.3 and up4.0 and up2.2 and up4.1 and up2.2 and upVaries with device4.1 and up6.0 and up5.0 and up5.0 and up4.0.3 and up4.0.3 and up4.4W and up4.0.3 and up4.0.3 and up4.1 and up4.0 and up5.0 and upVaries with device4.0 and up4.1 and up4.0.3 and up4.0.3 and up4.0 and up2.1 and up4.1 and up3.0 and up4.0 and up4.0 and up3.0 and up3.0 and up4.4 and up4.1 and upVaries with device4.4 and up2.1 and up1.6 and up3.0 and upVaries with device2.3 and up4.1 and up2.3.3 and up4.1 and upVaries with device4.1 and up4.4W and upVaries with deviceVaries with device4.2 and up4.1 and up2.3.3 and up2.1 and up4.1 and up2.2 and up4.0.3 and up2.3.3 and up4.0 and up3.2 and up4.1 and upVaries with device4.4 and upVaries with device4.3 and up4.3 and up5.0 and up4.1 and up4.1 and up4.4 and up4.4 and up5.1 and upVaries with device4.3 and up4.4 and up4.1 and up4.1 and up6.0 and up4.3 and up5.0 and up4.0 and up4.1 and up4.3 and up4.0 and up4.0.3 and up4.4 and up4.0 and up4.4 and up5.0 and up4.1 and up4.1 and up4.0.3 and up5.0 and up4.4 and up5.0 and up4.4 and up5.0 and up4.1 and up4.4 and up4.1 and up4.0.3 and up4.1 and up4.1 and up4.1 and up4.1 and up4.4 and up4.1 and up4.1 and up4.4 and upVaries with device5.0 and up4.0 and up4.4 and up4.0 and up4.1 and up4.0 and up6.0 and up4.4 and up5.0 and up4.1 and up4.4 and up4.0.3 and up4.0 and up5.0 and up4.1 and up4.4 and up4.4 and up4.4 and up5.0 and up4.1 and upVaries with device4.1 and up4.4 and up4.1 and up2.2 and up4.4 and up4.1 and up4.2 and up7.0 and up4.1 and up2.2 and up4.0.3 and up4.0.3 and up4.0 and up4.1 and up4.0 and up7.0 and up3.0 and upVaries with device4.0.3 and up4.4W and up4.4 and up4.4 and upVaries with device4.1 and up3.0 and up5.0 and up4.0 and up4.2 and up4.4 and up4.1 and up2.2 and up4.4 and up4.1 and up3.0 and up4.4 and up4.0 and up4.1 and up5.0 and up4.1 and up4.1 and up5.0 and up4.4 and up4.0 and up4.1 and upVaries with device4.0.3 and up5.0 and up4.4 and up5.0 and up4.1 and up4.2 and up4.1 and up4.1 and up4.1 and up4.0.3 and up4.0.3 and up4.1 and up5.0 and up4.0 and up4.1 and up4.4 and up4.0.3 and up4.0.3 and up4.1 and up4.1 and up4.4 and up8.0 and up4.3 and up4.4 and up4.4 and up4.3 and up4.0.3 and up5.0 and up3.0 and up6.0 and up5.0 and up4.1 and up4.2 and up3.0 and up4.4 and up4.0.3 and up4.0.3 and up4.0.3 and up3.0 and up4.4 and up3.0 and up4.0.3 and up4.0.3 and up4.3 and up4.0.3 and up5.0 and up5.0 and up4.4 and up5.0 and up5.0 and upVaries with device4.0 and up4.1 and up2.2 and up4.0 and up4.4 and up4.3 and up4.4 and up5.0 and up4.0.3 and up2.3.3 and up4.0.3 and up4.1 and up4.0 and up4.0.3 and up4.0.3 and up4.0 and up4.1 and up3.0 and up4.0.3 and up4.0.3 and up5.0 and upVaries with deviceVaries with deviceVaries with device4.1 and upVaries with device4.0 and upVaries with device4.0 and upVaries with deviceVaries with deviceVaries with device4.1 and up4.1 and up4.3 and upVaries with device4.1 and up5.0 and up4.0.3 and up4.1 and up4.0 and up4.0.3 and upVaries with device4.1 and up2.3 and up4.0.3 and up4.3 and up4.1 and up4.0.3 and up4.1 and up4.3 and upVaries with device4.0.3 and up4.0 and up4.4 and up4.4 and upVaries with device2.2 and up4.0.3 and up5.0 and up4.4 and upVaries with device4.4 and upVaries with deviceVaries with deviceVaries with deviceVaries with device4.1 and up4.1 and upVaries with device4.1 and upVaries with device4.3 and upVaries with deviceVaries with deviceVaries with deviceVaries with device2.1 and upVaries with device4.0.3 and upVaries with deviceVaries with deviceVaries with deviceVaries with device4.1 and up4.4 and up4.1 and upVaries with deviceVaries with deviceVaries with device5.0 and upVaries with device2.3 and upVaries with device4.1 and up4.3 and up4.1 and up4.0.3 and up5.0 and upVaries with deviceVaries with deviceVaries with deviceVaries with device2.3 and upVaries with device5.0 and upVaries with device4.1 and up4.2 and up4.1 and up5.0 and up4.4 and upVaries with deviceVaries with device4.1 and up2.3 and upVaries with device4.4 and up4.4 and upVaries with device4.1 and upVaries with device4.2 and upVaries with deviceVaries with device4.1 and up4.3 and upVaries with deviceVaries with device2.3 and up4.4 and up4.4 and up4.1 and upVaries with device4.1 and up4.1 and up5.0 and upVaries with deviceVaries with deviceVaries with device4.1 and up4.4 and up4.2 and up4.1 and up4.1 and upVaries with device4.1 and up4.0.3 and up4.0 and up4.0.3 and up4.1 and upVaries with device4.1 and up4.1 and up4.1 and up4.1 and up4.1 and up4.0.3 and up4.0.3 and up4.1 and up4.4 and upVaries with deviceVaries with device4.2 and up4.3 and upVaries with device4.1 and up4.1 and up4.2 and up4.1 and up4.1 and up4.0 and up4.0.3 and up4.0.3 and up5.0 and upVaries with deviceVaries with device4.2 and up4.0.3 and up4.0 and up4.3 and upVaries with device4.3 and upVaries with device4.0.3 and up4.4 and up4.0 and upVaries with device4.4 and up4.1 and up4.1 and up4.1 and upVaries with deviceVaries with device4.4 and up4.1 and up4.4 and up4.4 and up5.0 and up4.4 and up4.3 and upVaries with deviceVaries with deviceVaries with deviceVaries with device4.4 and upVaries with device4.4 and upVaries with deviceVaries with deviceVaries with device4.1 and up4.1 and up4.4 and upVaries with deviceVaries with deviceVaries with device4.4 and up4.1 and up4.0 and up4.4 and up2.3 and up4.4 and up4.0.3 and upVaries with deviceVaries with device4.1 and upVaries with device4.1 and upVaries with device4.4 and up4.0.3 and up4.1 and upVaries with device4.4 and upVaries with deviceVaries with device4.4 and up4.0.3 and up4.4 and up4.4 and up4.4 and up4.4 and up4.4 and upVaries with device4.1 and up4.4 and up5.0 and up4.4 and upVaries with device4.1 and upVaries with device4.0 and up4.1 and up4.4 and up4.0.3 and up4.4 and up4.4 and up4.4 and up4.1 and upVaries with deviceVaries with device4.1 and up4.1 and up4.0.3 and up2.3.3 and up4.0.3 and upVaries with device4.4 and up4.1 and up4.4 and up5.0 and up4.4 and up4.1 and up4.0 and upVaries with device5.0 and up4.4 and up4.4 and up5.0 and up4.1 and up4.0.3 and up4.1 and up4.1 and up4.4 and upVaries with deviceVaries with device4.2 and up4.4 and up4.1 and up4.0.3 and up4.4 and up4.2 and up4.3 and up2.3 and up4.0.3 and up5.0 and up4.0 and up4.2 and up4.1 and up4.0 and up7.0 and up4.0.3 and up4.0.3 and up4.0 and up4.1 and upVaries with device4.0.3 and up4.2 and up4.0.3 and upVaries with device4.4 and up4.1 and upVaries with device2.3 and up4.0.3 and up4.1 and up4.1 and up5.0 - 8.04.0.3 and up2.3 and upVaries with device4.4 and up4.0 and up4.0.3 and up4.0.3 and upVaries with device4.0.3 and up4.0 and up4.1 and upVaries with device4.0 and up4.0 and up4.4 and up5.0 and up4.0.3 and up4.3 and up4.0 and upVaries with device4.1 and up2.3.3 and upVaries with deviceVaries with device2.3 and upVaries with device4.0.3 and upVaries with device4.4 and up4.0 and up4.0.3 and up4.0.3 and up4.0 and up2.3 and up4.0 and up4.0.3 and up4.0.3 and up4.1 and up3.0 and up4.1 and up4.0.3 and up4.1 and upVaries with device4.0 and up4.0 and up4.4 and up5.0 and upVaries with device4.0 and upVaries with device4.0 and up2.3 and up2.1 and up4.2 and up5.0 and upVaries with device4.0.3 and up4.0 and upVaries with device4.2 and up4.0 and up4.0.3 and upVaries with deviceVaries with device2.2 and up4.0.3 and upVaries with device4.0.3 and up4.4 and up4.0.3 and up4.1 and upVaries with device4.2 and up3.1 and upVaries with device4.0 and up2.3.3 and up4.2 and up4.0 and upVaries with deviceVaries with device4.0 and upVaries with device4.0 and upVaries with device5.1 and upVaries with deviceVaries with device4.1 and upVaries with device4.0.3 and up4.1 and upVaries with deviceVaries with device4.4 and up4.1 and up4.0.3 and upVaries with device4.1 and up4.4 and up4.1 and upVaries with device4.0.3 and upVaries with device4.3 and upVaries with device4.4 and up4.0.3 and up4.1 and up4.0 and up2.3 and up4.0.3 and up2.3.3 and up5.0 and up4.0 and up4.1 and up4.3 and up5.0 and up4.0.3 and up4.1 and upVaries with deviceVaries with device4.4 and up4.4 and up4.1 and up4.4 and upVaries with device5.0 and up4.0 and up4.0.3 and upVaries with deviceVaries with deviceVaries with deviceVaries with device5.0 and upVaries with device4.1 and upVaries with deviceVaries with device4.1 and up4.1 and up4.1 and upVaries with device4.1 and up4.4 and up4.1 and up4.2 and up4.1 and upVaries with deviceVaries with device4.1 and up2.3 and up4.1 and up4.0 and up4.0.3 and up4.0.3 and up4.1 and up4.0.3 and up4.4 and upVaries with device4.4 and upVaries with device4.1 and up4.2 and up4.1 and up5.0 and upVaries with deviceVaries with device5.0 and upVaries with deviceVaries with device4.4 and up4.4 and up5.0 and up4.4 and up5.0 and up5.0 and upVaries with device5.0 and up4.1 and up4.4 and up4.1 and upVaries with device4.1 and up4.1 and up4.1 and up4.1 and upVaries with device4.4 and up5.0 and up4.0 and up4.1 and up4.2 and upVaries with device2.3 and upVaries with device4.0.3 and up4.1 and up5.0 and up5.0 and upVaries with device4.4 and up4.1 and up4.4 and up5.0 and up5.0 and up5.0 and up5.0 and upVaries with device4.0.3 and up2.3 and upVaries with device4.4 and up4.4 and up5.0 and up4.1 and up5.1 and up4.1 and up5.0 and upVaries with deviceVaries with device4.4 and up5.0 and up4.2 and up5.1 and up4.4 and up5.0 and upVaries with deviceVaries with deviceVaries with device5.0 and up5.0 and upVaries with device4.0.3 and up2.3 and up4.1 and upVaries with device5.0 and upVaries with deviceVaries with device4.4 and up4.1 and upVaries with device4.4 and up2.3.3 and up4.4 and up4.1 and upVaries with device5.0 and up5.1 and up4.2 and up4.4 and up4.4 and up4.2 and upVaries with device5.0 and up5.0 and up5.0 and upVaries with deviceVaries with device5.0 and upVaries with device5.0 and up5.0 and upVaries with device5.0 and upVaries with device4.4 and up4.0.3 and upVaries with deviceVaries with device4.1 and up4.1 and upVaries with deviceVaries with deviceVaries with deviceVaries with device4.0 and up4.0.3 and up4.1 and up4.4 and up6.0 and up4.1 and up4.2 and upVaries with deviceVaries with device4.4 and up5.0 and up4.3 and up4.4 and up5.0 and up4.0.3 and up4.1 and up4.2 and upVaries with device5.0 and upVaries with device4.2 and up4.4 and up5.0 and upVaries with device5.0 and upVaries with device4.1 and upVaries with device5.0 and up4.4 and up4.1 and up4.1 and upVaries with device4.1 and up4.0 and up4.4 and upVaries with deviceVaries with device4.1 and upVaries with device4.4 and up5.0 and up4.1 and up4.0.3 and up4.4 and upVaries with deviceVaries with device4.0.3 and up4.1 and up4.0.3 and upVaries with deviceVaries with device4.1 and up5.0 and up4.4 and up5.0 and up5.0 and upVaries with device4.4 and up4.4 and up6.0 and up4.4 and upVaries with device4.4 and up5.0 and up4.1 and up5.0 and up5.0 and upVaries with deviceVaries with deviceVaries with device4.1 and upVaries with device4.4 and up4.1 and up4.2 and up4.0.3 and up4.1 and upVaries with deviceVaries with deviceVaries with device4.4 and up4.1 and upVaries with device5.0 and upVaries with deviceVaries with deviceVaries with device4.4 and up4.4 and up4.4 and upVaries with deviceVaries with deviceVaries with device4.1 and upVaries with deviceVaries with device4.1 and upVaries with device5.0 and up4.4 and upVaries with device4.4 and upVaries with deviceVaries with device4.0 and up4.0 and up4.0.3 and up4.1 and upVaries with device5.0 and upVaries with device4.0 and upVaries with device5.0 and upVaries with deviceVaries with deviceVaries with device4.4 and upVaries with device4.0 and up8.0 and upVaries with deviceVaries with deviceVaries with deviceVaries with device4.0 and upVaries with device4.1 and up4.2 and upVaries with deviceVaries with deviceVaries with deviceVaries with device4.2 and up4.1 and upVaries with device5.0 and up7.0 and up5.0 and up7.0 and up4.1 and upVaries with deviceVaries with deviceVaries with device7.1 and up4.1 and upVaries with device5.0 and upVaries with deviceVaries with deviceVaries with deviceVaries with device4.0.3 and up8.0 and up4.2 and up6.0 and up4.1 and up4.1 and up4.1 and up4.4 and up4.0 and up4.4 and upVaries with device4.0 and upVaries with device4.0.3 and up3.0 and upVaries with deviceVaries with deviceVaries with deviceVaries with device2.3 and upVaries with device4.1 and up3.0 and upVaries with device4.2 and upVaries with deviceVaries with device4.1 and upVaries with device4.1 and up2.3 and up4.0 and up4.4 and upVaries with device4.2 and upVaries with device3.0 and upVaries with device2.3 and up4.0.3 and up5.0 and up4.0.3 and up4.0 and up4.1 and up4.1 and up4.1 and up4.1 and up4.1 and up4.0.3 and up4.0.3 and up4.1 and up4.1 and upVaries with device2.3 and up4.1 and upVaries with deviceVaries with device6.0 and up4.2 and upVaries with device4.4 and up4.2 and up4.0.3 and upVaries with device2.3 and upVaries with device2.2 and up4.0 and up4.0 and upVaries with device4.2 and up3.2 and up4.0 and up2.3 and upVaries with deviceVaries with device2.2 and up4.0 and upVaries with device4.0 and upVaries with device4.4 and up4.0.3 and up4.4 and up4.2 and up5.0 and up4.0.3 and up4.0.3 and upVaries with device4.0 and up4.0.3 and upVaries with device4.0 and up4.2 and up4.1 and up4.1 and up4.0.3 and up4.0 and upVaries with device4.2 and up4.0.3 and up5.0 and up4.0 and up4.0.3 and upVaries with device4.2 and up4.1 and up4.0 and upVaries with device4.0.3 and up5.0 and up4.0 and up5.0 and up4.0.3 and up4.0.3 and up4.4 and up4.0 and up4.0 and up4.0.3 and up5.0 and up2.3 and up4.0.3 and up4.0 and up4.1 and upVaries with device4.1 and upVaries with deviceVaries with device3.2 and up2.3 and up2.3 and up4.4 and up4.2 and up1.6 and up4.0.3 and upVaries with deviceVaries with device4.0.3 and up4.0.3 and up4.1 and up2.3.3 and up2.1 and up4.1 and up4.2 and up2.1 and up4.0.3 and up4.4 and up4.0 and up3.0 and up4.0 and upVaries with deviceVaries with device4.1 and up4.1 and up2.1 and up4.1 and up4.1 and up4.1 and up4.1 and up4.1 and up4.1 and upVaries with deviceVaries with deviceVaries with device4.0.3 and upVaries with deviceVaries with device2.1 and upVaries with device4.1 and up4.0.3 and upVaries with deviceVaries with device4.0.3 and up4.1 and up4.0 and up4.4 and upVaries with deviceVaries with device4.1 and upVaries with device4.4 and upVaries with device4.4 and upVaries with device4.4 and up4.4 and up4.1 and up5.0 and upVaries with deviceVaries with device4.4 and upVaries with deviceVaries with device4.1 and up4.0 and upVaries with deviceVaries with device4.0 and upVaries with device5.0 - 8.0Varies with deviceVaries with deviceVaries with deviceVaries with device4.4 and upVaries with device4.0.3 and upVaries with deviceVaries with device2.3.3 and upVaries with device4.4 and up4.3 and up4.2 and upVaries with deviceVaries with device4.4 and up5.0 and upVaries with device2.2 and upVaries with device4.1 and up4.1 and up4.0.3 and upVaries with device4.4 and up4.1 and upVaries with device4.0 and up4.4 and up4.1 and upVaries with deviceVaries with deviceVaries with device5.0 and upVaries with device4.1 and up5.0 and upVaries with device4.0 and up2.3 and up4.0 and up2.2 and up2.3 and upVaries with device4.1 and up4.0 and up4.4 and upVaries with deviceVaries with deviceVaries with deviceVaries with device4.4 and upVaries with device4.1 and up4.4 and up4.0 and up4.4 and upVaries with deviceVaries with deviceVaries with deviceVaries with device2.3 and up2.3.3 and up4.0 and up2.3 and up4.0 and upVaries with device2.3.3 and up4.2 and upVaries with deviceVaries with deviceVaries with deviceVaries with device4.4 and up4.4 and upVaries with device4.0.3 and up4.1 and upVaries with device4.0.3 and up4.0 and up4.0.3 and upVaries with deviceVaries with deviceVaries with device4.1 and upVaries with deviceVaries with deviceVaries with deviceVaries with deviceVaries with deviceVaries with device4.1 and upVaries with device4.2 and up2.3.3 and upVaries with device4.1 and upVaries with device4.0.3 and upVaries with device4.0 and up4.1 and up4.2 and up4.0.3 and up4.2 and up4.1 and up4.0 and up4.0.3 and up4.0 and up4.0 and up4.1 and up4.0.3 and up4.1 and up4.4 and upVaries with device4.2 and up4.0 and up5.0 and up4.1 and up2.3 and up4.0.3 and up4.0.3 and up5.0 and up4.4 and up4.0.3 and up4.0.3 and up4.0.3 and up4.0.3 and up4.0.3 and up4.1 and up4.2 and up4.1 and up4.0.3 and up4.1 and up4.4 and up4.0.3 and up4.4 and up4.0 and up4.1 and upVaries with device4.4 and upVaries with device4.4 and upVaries with device4.0 and upVaries with deviceVaries with device4.1 and up3.0 and up5.0 and up4.1 and up4.0 and upVaries with device5.0 and up4.1 and up5.0 and up4.1 and up4.4 and upVaries with deviceVaries with deviceVaries with device4.4 and upVaries with device4.4 and upVaries with deviceVaries with deviceVaries with deviceVaries with device4.2 and up4.1 and up4.4 and up4.4 and up2.3 and up4.1 and up4.1 and upVaries with device4.1 and up4.1 and upVaries with device4.4 and up4.4 and up4.1 and up4.0 and upVaries with device4.3 and upVaries with device4.0.3 and up4.0.3 and up2.3 and up5.0 and up4.0.3 and up4.0.3 and up4.0 and up4.0.3 and up4.0.3 and up4.3 and up4.4 and upVaries with device2.3 and up4.0.3 and upVaries with device5.0 and upVaries with deviceVaries with device7.0 and up7.1 and up4.0 and up5.0 and up4.1 and upVaries with device4.1 and upVaries with device4.3 and up4.4 and up4.3 and upVaries with deviceVaries with device4.1 and upVaries with deviceVaries with device3.0 and up2.3 and up4.1 and upVaries with device4.3 and up4.3 and up4.4 and upVaries with deviceVaries with device4.0 and up4.1 and upVaries with device4.1 and upVaries with deviceVaries with device4.4 and up4.4 and upVaries with device4.0 and up4.0.3 and up4.1 and upVaries with device4.0 and up4.1 and up4.1 and up4.1 and upVaries with device4.0.3 and up4.4 and upVaries with device4.0 and upVaries with device4.1 and up4.0.3 and up4.1 and upVaries with device4.1 and up5.0 and upVaries with device4.0.3 and up4.1 and up4.1 and up4.4 and up4.0 and up4.1 and up4.4 and upVaries with deviceVaries with device4.1 and upVaries with device4.1 and upVaries with device4.0 and up4.4 and upVaries with device4.2 and up4.0.3 and up4.4 and up4.4 and upVaries with deviceVaries with device4.2 and upVaries with device4.1 and upVaries with device4.1 and up4.1 and up4.4 and up4.1 and up4.4 and upVaries with deviceVaries with deviceVaries with device4.0.3 and upVaries with device4.1 and up4.4 and upVaries with deviceVaries with device5.0 and upVaries with device4.1 and upVaries with device4.0 and up4.4 and up4.4 and up4.0 and upVaries with deviceVaries with device2.2 and upVaries with device4.1 and upVaries with deviceVaries with deviceVaries with device4.1 and upVaries with device5.0 and up5.0 and upVaries with deviceVaries with device4.1 and up4.1 and up4.4 and up4.0.3 and upVaries with device4.4 and upVaries with device4.4 and upVaries with device4.4 and upVaries with deviceVaries with deviceVaries with deviceVaries with device4.0 and upVaries with deviceVaries with device4.1 and upVaries with device4.0.3 and up4.1 and up4.1 and up5.0 and up4.0.3 and upVaries with device2.3 and upVaries with device4.1 and upVaries with deviceVaries with deviceVaries with device4.4 and up4.0.3 and up5.0 and up4.4 and up4.0 and upVaries with device4.1 and up4.0.3 and up4.1 and up4.0.3 and up4.1 and up4.0.3 and up4.1 and upVaries with device4.0 and up4.0 and up4.2 and up4.1 and up4.1 and up4.0 and up4.0 and up4.1 and upVaries with deviceVaries with device4.2 and upVaries with device4.0 and up4.0.3 and up4.0.3 and upVaries with deviceVaries with device4.0 and up4.1 and up4.0.3 and up2.3 and up4.0 and up4.0 and up4.4 and up4.0 and up4.0 and up4.0.3 and up4.1 and up4.4 and up4.1 and up4.1 and upVaries with device4.1 and up4.4 and up4.1 and upVaries with device4.1 and up2.3 and upVaries with deviceVaries with device2.3 and upVaries with device4.1 and up4.2 and up2.1 and up4.0.3 and up4.0.3 and up4.0 and up4.1 and up4.2 and upVaries with deviceVaries with device4.1 and upVaries with device4.4 and upVaries with device4.1 and up4.1 and up4.0.3 and up4.1 and up4.0.3 and upVaries with device4.1 and up3.2 and up4.0.3 and up4.1 and up4.1 and up4.0.3 and up4.4 and up4.1 and upVaries with device4.1 and up5.0 and up1.5 and upVaries with device4.1 and up4.1 and up5.0 and up4.4 and up4.0 and up4.4 and up4.0 and up4.0 and up4.4 and up4.0.3 and up3.0 and upVaries with deviceVaries with device4.0 and upVaries with device2.3 and up4.1 and up4.3 and up4.2 and up2.3 and up4.1 and up4.4 and up4.0 and up4.0.3 and up4.0.3 and up5.0 and up4.0 and up4.1 and up4.4 and up4.0 and up4.1 and up4.1 and upVaries with device5.0 and up2.0 and up2.1 and up2.2 and up4.0.3 and up2.3 and up2.1 and up4.4 and up4.0 and up4.4 and up4.1 and upVaries with device4.0.3 and up4.1 and up3.2 and up4.0.3 and up4.3 and up4.1 and up4.0 and up4.0 and up4.0.3 and up4.0.3 and up4.1 and up4.1 and up2.3 and upVaries with device4.0 and up4.0.3 and up4.4 and upVaries with device4.1 and up4.1 and upVaries with device4.1 and up2.1 and up4.0 and upVaries with device4.0.3 and up4.1 and up4.0.3 and up4.1 and upVaries with device4.3 and up4.1 and up4.0 and up4.1 and up6.0 and up4.4 and up4.4 and up4.0 and up4.1 and up4.0.3 and up5.0 and up4.2 and up4.0.3 and up4.4 and up4.0 and up4.0 and up4.0.3 and up4.1 and up3.0 and up4.1 and up4.0.3 and up3.0 and up4.0 and up3.0 and up4.0 and upVaries with device4.1 and up4.1 and up4.1 and up2.1 and upVaries with device4.1 and up5.0 and up4.4 and up5.0 and up4.0 and up4.0.3 and up4.0 and up4.0.3 and up4.1 and up4.0 and up2.2 and upVaries with device4.1 and up4.0 and upVaries with device4.2 and up4.1 and up2.0.1 and up4.1 and up4.4 and up2.3 and up4.0.3 and up2.3 and up4.1 and up4.0 and up4.0 and up2.3.3 and upVaries with device4.0 and up4.4 and up4.4 and upVaries with device5.0 and up4.3 and up5.0 and up4.0 and up4.0 and upVaries with device4.4 and up4.1 and up2.3 and up4.2 and upVaries with device4.4 and up4.1 and upVaries with deviceVaries with deviceVaries with deviceVaries with device4.4 and up4.4 and upVaries with device4.1 and upVaries with device4.1 and up4.0 and up3.0 and upVaries with device4.0 and upVaries with deviceVaries with deviceVaries with deviceVaries with device4.0 and upVaries with device4.1 and up2.2 and upVaries with deviceVaries with device2.3 and up4.0 and up2.2 and up2.3 and up4.1 and up4.1 and up5.0 and up5.0 and up4.2 and upVaries with device4.0 and up5.0 and up4.0.3 and up5.0 and up3.2 and up4.0.3 and upVaries with device4.0 and up5.0 and up4.0 and upVaries with device2.3.3 and up4.4 and up4.0 and up2.3 and upVaries with deviceVaries with device4.4 and up4.0.3 and up4.0.3 and up4.4 and up4.0 and up4.0 and up4.0 and upVaries with device4.3 and upVaries with deviceVaries with device4.0 and up2.3.3 and upVaries with device4.1 - 7.1.12.3.3 and upVaries with device2.3 and up3.0 and up2.2 and up4.0.3 and up2.2 and up4.0 and upVaries with device4.0.3 and up2.3 and up4.1 and upVaries with device3.2 and up2.3.3 and up4.1 and up5.0 and up4.0.3 and upVaries with device4.0 and up4.0 and up7.0 and up2.3 and up4.3 and up4.1 and up4.0 and up4.0.3 and up4.0 and up4.0 and up4.1 and up2.3 and up2.3 and up4.4 and up4.0 and up4.4 and up4.0 and up4.0 and up4.0.3 and up4.4 and up2.2 and up4.0.3 and up4.4 and up5.0 and up4.4 and up7.0 and up2.3 and up4.1 and up2.3.3 and up4.4 and up4.0 and up4.1 and upVaries with device4.4 and up4.0 and up4.1 and up4.1 and up4.0.3 and up4.1 and up4.0 and up2.3 and up5.0 and up4.0 and upVaries with device4.1 and up2.3.3 and up4.0 and up4.0 and up4.0 and up3.1 and up4.4 and up4.1 and up4.0 and up2.3 and up4.3 and up4.1 and up3.0 and up4.1 and upVaries with device2.3 and upVaries with device4.1 and up4.1 and up2.3.3 and upVaries with device4.2 and up4.4 and upVaries with device4.1 and up4.1 and up4.1 and up4.1 and up2.3.3 and up4.1 and up2.1 and up4.1 and up4.1 and up4.1 and up2.3 and up4.3 and up4.0 and up4.1 and up4.1 and up4.1 and up4.0.3 and up4.1 and up2.3.3 and up4.2 and up4.1 and up4.0.3 and up4.0.3 and up4.1 and up4.4 and up2.2 and up2.3.3 and up4.0.3 and up6.0 and up4.0 and up4.0.3 and upVaries with device4.1 and up4.4 and upVaries with deviceVaries with device4.4 and up4.0 and up4.1 and up4.2 and up7.0 and up4.0.3 and up4.1 and up4.1 and up4.0.3 and up4.2 and up4.1 and up4.0 and up4.1 and up4.1 and up4.1 and up2.2 and up4.3 and up4.1 and upVaries with device4.1 and up4.0 and up2.2 and up4.4 and up4.0.3 and up4.0 and up5.0 and up4.0.3 and up4.0 and up4.0.3 and up2.3 and up2.3 and up4.1 and upVaries with device4.1 and up4.1 and up4.1 and up4.1 and up4.1 and up2.3.3 and up4.1 and up2.3 and up4.1 and up2.2 and up4.0.3 and up4.0.3 and up4.3 and up4.1 and up4.0 and up2.3 and up4.0.3 and up4.0.3 and up4.1 and up4.0 and up4.0.3 and up4.4 and up4.4 and up4.1 and up4.0.3 and up4.4 and upVaries with deviceVaries with device4.4 and up4.4 and up4.1 and up4.4 and up4.0.3 and up4.0 and upVaries with device4.0.3 and up4.1 and up2.2 and up5.0 and up4.0.3 and up4.0 and up4.4 and up2.3 and up1.6 and upVaries with device2.2 and up4.1 and up4.0.3 and up4.1 and up4.0 and up3.0 and up4.0.3 and up3.0 and upVaries with device4.4 and up6.0 and up2.3 and up4.1 and up4.1 and up4.1 and up4.1 and up4.1 and up4.1 and up4.1 and up4.1 and up4.4 and up2.3 and up4.1 and up2.3.3 and up4.4 and up4.0.3 and up4.1 and up4.1 and up4.1 and up2.3.3 and up4.1 and up2.3.3 and up4.0 and up4.0 and up4.1 and up4.1 and up2.3 and up7.0 and up4.0.3 and upVaries with device4.0 and up4.0.3 and up4.0.3 and up2.3.3 and up4.0.3 and up1.5 and up4.1 and up4.0 and up4.1 and up4.3 and up4.1 and up4.1 and up2.1 and up5.0 and up4.0.3 and upVaries with deviceVaries with device4.1 and up4.3 and up4.4 and upVaries with device2.3.3 and up4.1 and up5.0 and up4.0.3 and up4.2 and up3.0 and up4.0.3 and up2.1 and up5.0 and up5.1 and up4.0 and up2.1 and up5.0 and up4.3 and up4.1 and up2.1 and up4.0.3 and up4.1 and up2.3 and upVaries with device4.0.3 and up4.1 and up6.0 and up5.0 and up4.1 and up4.0 and up4.4 and up7.0 and up7.0 and up8.0 and up4.1 and up5.0 and upVaries with device7.0 and up4.0 and up7.0 and up4.1 and up4.0.3 and up4.0.3 and up4.4 and up4.0.3 and up4.1 and up4.1 and up5.0 and up4.4 and up4.4 and up4.4 and up5.0 and up5.0 and up5.0 and up4.0.3 and up5.0 and up4.1 and up4.1 and up5.0 and up4.4 and up4.0 and upVaries with device2.3.3 and upVaries with device4.4 and up2.3.3 and up4.4 and upVaries with device2.3 and up3.0 and up4.4 and up2.3 and up4.0.3 and up2.3 and up4.0.3 and up4.1 and up4.0.3 and up4.0 and up2.3 and up4.3 and up4.0.3 and up4.0.3 and up2.3.3 and up4.4 and up4.3 and up4.3 and up4.4 and up5.0 and up2.3 and up4.0.3 and up5.0 and up4.1 and up4.1 and up4.0 and up2.2 and up4.2 and up4.3 and up3.0 and up2.3 and up2.3 and up4.1 and up4.0.3 and up1.5 and up2.3.3 and up4.0 and up4.0.3 and up4.0 and up3.1 and up4.4 and up2.3.3 and up4.0.3 and up4.0.3 and up4.0.3 and up5.0 and up4.1 and up4.3 and up4.0.3 and up2.1 and up4.1 and up4.1 and upVaries with device2.3 and up2.3 and up4.1 and up4.3 and up6.0 and up4.1 and up4.2 and up4.2 and up7.0 and up4.0 and up4.1 and up2.3 and up2.3 and up4.0.3 and up4.1 and up4.1 and up4.1 and upVaries with device4.4 and up4.0 and upVaries with deviceVaries with device4.1 and upVaries with device5.0 and up4.1 and upVaries with device4.0 and up4.4 and up4.3 and up6.0 and upVaries with device5.0 and upVaries with device4.4 and up4.0 and upVaries with device4.0 and up4.0.3 and up4.4 and up2.3 and upVaries with device5.0 and up5.0 and up2.3 and up4.1 and up4.2 and up4.4 and upVaries with device2.3 and up5.0 and up2.3.3 and up2.0.1 and up5.0 and up4.1 and up4.1 and up6.0 and up4.1 and up4.4 and up4.0.3 and up4.1 and up4.0.3 and up4.0.3 and up4.1 and up4.0 and upVaries with device2.1 and up4.1 and up4.0.3 and up4.4 and up4.0 and up2.1 and up2.2 and up4.3 and up4.1 and up4.1 and up4.1 and up1.6 and up5.0 and up4.0 and up4.0 and up2.3 and up2.3 and up4.1 and up5.0 and up4.1 and up2.3 and up5.0 and up4.1 and up2.3 and up4.4 and up4.0.3 and up4.0.3 and up4.0.3 and upVaries with device2.3 and up4.1 and up4.2 and up4.0.3 and up5.0 and up4.2 and up4.2 and upVaries with device4.1 and up4.0.3 and up4.0.3 and up3.0 and upVaries with device6.0 and up4.0.3 and up4.1 and upVaries with device2.3 and up4.0 and upVaries with device4.1 and up4.1 and up4.0.3 and up4.0 and up4.1 and up4.0.3 and up5.0 and up2.3 and up4.1 and up4.4 and up4.0 and up4.0.3 and upVaries with device4.0.3 and up2.3 and upVaries with device4.0.3 and up2.1 and up4.0 and up2.1 and up4.4 and up3.0 and up4.2 and up4.2 and up4.1 and up4.0 and up2.3 and upVaries with device2.1 and up4.0 and upVaries with device4.1 and upVaries with deviceVaries with device4.1 and up4.0 and up7.0 and upVaries with device4.1 and upVaries with device4.0.3 and up2.3.3 and up4.0.3 and up3.0 and up5.0 and up4.0 and up2.2 and upVaries with device5.0 and up2.3.3 and up4.1 and up4.0.3 and up4.4 and up4.1 and up4.0 and upVaries with device2.3.3 and upVaries with device2.1 and upVaries with device4.4 and up4.1 and upVaries with deviceVaries with device4.1 and up4.1 and up4.3 and up4.1 and up4.4 and up4.0 and up4.1 and up4.3 and up4.0 and up4.1 and up4.1 and up4.1 and up4.0.3 and up4.0 and up2.3 and up4.1 and up5.0 and up2.3.3 and up4.0 and up4.1 and up4.1 and upVaries with device4.1 and up4.0 and up4.4 and up4.4 and up4.1 and up2.2 and up4.0 and up4.1 and up3.0 and up4.1 and upVaries with device2.3 and up4.1 and up4.4 and up4.1 and up2.1 and up2.3 and up4.3 and up4.3 and up1.6 and up5.0 and upVaries with device4.0.3 and up4.0 and upVaries with device4.1 and up4.1 and up4.1 and up4.4 and up4.0 and up4.0 and up4.0 and upVaries with device4.1 and up2.3 and up2.3 and up4.1 and upVaries with deviceVaries with deviceVaries with deviceVaries with device2.2 and upVaries with device4.0.3 and up4.1 and up2.3.3 and up4.0.3 and up4.0.3 and up4.0 and upVaries with device2.2 and up4.0 and up4.1 and up4.0.3 and up4.0.3 and up4.0.3 and up5.0 and up4.0.3 and up4.1 and up4.4 and up4.4 and up4.0 and up4.0.3 and up4.4 and up4.2 and up4.0 and up4.0 and up4.4 and up4.0.3 and up4.0 and up2.3 and up4.0 and upVaries with device1.6 and up4.0 and up2.3 and up4.4 and up5.0 and up4.0 and up2.3 and up4.2 and up4.0 and up4.4 and up4.0 and up4.0 and up5.0 and up5.0 and up4.1 and up4.2 and upVaries with device4.1 and up4.4 and up4.1 and up4.0.3 and upVaries with device4.1 and up4.4 and up3.0 and upVaries with deviceVaries with device4.1 and upVaries with device4.1 and up4.1 and up4.0.3 and up2.3 and up4.0.3 and up4.1 and up4.0.3 and up4.1 and up4.1 and up4.1 and up5.0 and up3.0 and up4.1 and up4.0.3 and up4.0 and up4.1 and up4.1 and up2.1 and up4.1 and up4.0.3 and upVaries with device2.2 and up4.1 and up4.1 and up2.3 and up2.2 and up2.2 and up4.4 and up2.3 and up3.0 and up2.2 and up4.0 and up3.0 and up4.0.3 and up4.3 and up4.0.3 and up4.0 and up4.2 and up2.3.3 and up4.2 and up3.0 and up4.2 and up4.0 and up4.0 and up4.2 and up2.3 and up4.1 and up4.0.3 and up4.1 and up4.1 and up4.0.3 and up4.2 and up4.1 and up2.2 and up4.0 and up4.0 and up4.4 and up4.2 and up4.2 and up4.1 and up4.2 and up4.0.3 and up4.0.3 and upVaries with device2.3 and up4.1 and upVaries with deviceVaries with device5.0 and up4.1 and up4.0 and upVaries with device4.1 and up4.4 and up2.3 and up5.0 and up4.0.3 and up4.0 and up5.0 and up3.0 and up4.0.3 and up4.1 and up4.1 and up4.4 and up4.1 and up4.4 and up4.0 and up4.2 and up5.0 and up4.1 and up4.0 and up2.2 and up4.1 and up3.2 and up2.2 and up4.1 and up4.1 and up4.1 and up2.2 and up2.3 and up4.0.3 and up4.1 and up3.0 and up4.1 and upVaries with device4.0.3 and up5.0 and up1.6 and upVaries with device4.0 and upVaries with device4.4 and up4.4 and up4.4 and up2.3 and up2.2 and up3.0 and up2.3 and upVaries with deviceVaries with device2.3.3 and up3.0 and upVaries with device4.0.3 and up2.3 and up2.0 and up2.0 and up2.3 and up2.3 and up4.0.3 and upVaries with device2.3 and up2.2 and up2.3 and up4.4 and upVaries with device4.1 and up4.0.3 and upVaries with device2.3 and up2.3 and up4.0 and up2.1 and up2.1 and up4.2 and up4.0.3 and up2.1 and up2.3 and up3.1 and up2.2 and upVaries with device3.0 and up4.3 and up2.3 and up4.1 and up4.0.3 and up4.4 and up4.4 and up2.3.3 and up4.1 and up4.0 and up4.0 and up3.0 and up4.0.3 and up2.1 and up4.1 and up5.0 and upVaries with device4.0 and up4.0.3 and up4.0 and upVaries with deviceVaries with device2.2 and up4.0.3 and up4.0 and up4.0 and up4.0 and up4.1 and up3.2 and up4.0 and up4.0.3 and upVaries with device5.0 and up2.3 and up4.1 and up4.4 and upVaries with device4.0.3 and up4.0 and up4.0.3 and up4.3 and up4.4 and up4.0.3 and up2.3 and up2.3.3 and up4.0.3 and up4.1 and up4.0.3 and up5.0 and up4.1 and up4.1 and up3.0 and up4.4 and up5.0 and up4.1 and up4.0.3 and up4.1 and up4.4 and up4.0.3 and up4.0.3 and up4.0 and up4.0.3 and up4.0 and up4.2 and up4.4 and upVaries with device4.4 and up4.0.3 and up4.0 and up1.5 and up4.0.3 and up4.0 and up4.0.3 and up2.3 and up5.0 and up4.0.3 and up4.0.3 and up4.0.3 and up4.3 and up4.3 and up4.0.3 and up2.3 and up4.4 and up5.0 and up4.0 and up2.3 and up4.0 and up4.0 and up4.0 and up4.1 and up4.1 and up4.0.3 and upVaries with device6.0 and up1.6 and up5.0 and up4.1 and up4.1 and up4.1 and up4.1 and up4.4 and up4.0.3 and up4.0.3 and up4.1 and up4.0 and up5.0 and up6.0 and up4.0 and up4.0.3 and up2.3 and up4.0.3 and up4.1 and up5.0 and up4.4 and up5.0 and up2.2 and up4.1 and up5.0 and up4.0.3 and up4.0.3 and up2.3 and up4.0 and up2.1 and up4.1 and up4.0 and up4.1 and up4.3 and up4.0.3 and up4.1 and up4.1 and up4.4 and up2.3 and up4.4 and up2.2 and up3.2 and up2.3 and up2.3.3 and up4.1 and up5.0 and up2.2 and up2.3 and up2.2 and up4.1 and up4.3 and up4.1 and up4.1 and up4.0 and up4.1 and up4.0.3 and up4.1 and up4.0.3 and up4.1 and up4.0.3 and up3.0 and up2.3.3 and up4.1 and up4.4 and up4.0 and up4.0 and up4.1 and up2.3 and up4.0.3 and up4.1 and up2.3 and up4.0.3 and up4.1 and up4.0.3 and up4.1 and up2.3 and up4.0 and up2.2 and up4.1 and up4.0.3 and up2.2 and up4.4 and up2.3 and up4.0 and up4.1 and up2.3 and up2.3.3 and up4.0 and up4.1 and up4.1 and up4.2 and up4.1 and up4.0 and up4.4 and up4.0 and up4.4 and up4.0 and upVaries with device4.0 and up2.3 and up2.2 and up4.0.3 and upVaries with device4.1 and up2.3 and up4.0 and up3.0 and up4.0 and up2.2 and upVaries with device4.1 and up2.2 and upVaries with device2.3 and up4.0.3 and up4.0.3 and up2.2 and up4.1 and up2.3.3 and up4.1 and upVaries with device2.2 and up2.3.3 and up2.3.3 and upVaries with device4.1 and up4.0.3 and up2.3 and up4.4 and up4.4 and up4.3 and up4.0 and up4.0 and up4.1 and up4.4 and up4.0.3 and up4.0.3 and up1.6 and up4.0.3 and up4.0.3 and up4.0 and up4.2 and up4.4 and up4.1 and up4.2 and up4.0.3 and up4.1 and up4.4 and up4.1 and upVaries with device4.1 and up4.0.3 and up4.0.3 and up4.1 and up4.1 and up4.3 and up4.1 and up4.1 and upVaries with device4.0.3 and up4.1 and up4.1 and up2.3.3 and up2.3.3 and up4.1 and up4.4 and up4.0.3 and upVaries with device4.0.3 and up4.2 and upVaries with deviceVaries with device4.2 and up4.4 and upVaries with device4.0.3 and up4.0 and up4.0 and up5.0 and up4.4 and up4.1 and up4.0 and up4.0.3 and up4.0 and up4.1 and up4.0.3 and up4.0 and up4.0.3 and up4.1 and up5.0 and up4.0.3 and upVaries with device4.1 and up4.1 and up4.0.3 and up4.0 and up4.1 and upVaries with deviceVaries with device3.0 and up4.0.3 and up4.0 and up4.1 and up4.0.3 and up4.1 and up4.1 and up3.0 and up4.1 and up2.3 and up4.0.3 and up4.1 and up2.1 and up4.0.3 and up4.1 and up2.3 and up4.1 and up2.3 and up4.0 and up4.4 and up4.1 and up2.3 and up4.0 and up4.4 and up4.0.3 and up2.3 and up6.0 and up2.3 and up4.0 and up3.0 and up4.1 and up2.1 and up4.3 and up3.2 and up4.0.3 and up4.1 and up4.0.3 and up4.0.3 and up4.4 and up2.3 and up4.1 and up3.1 and up4.1 and up2.3.3 and up4.1 and up4.1 and up4.1 and up1.6 and up4.4 and up4.1 and up4.1 and up4.0.3 and up4.1 and up2.0.1 and up4.1 and up2.3 and up4.1 and up4.1 and up4.0 and up4.0.3 and up4.1 and up4.4 and up4.0 and upVaries with device2.3 and up4.0.3 and up4.0.3 and up2.3.3 and up4.1 and up4.1 and up4.1 and up4.0 and up4.0.3 and upVaries with device4.4 and up1.6 and upVaries with device4.0.3 and upVaries with deviceVaries with device4.0.3 and up4.1 and up4.0.3 and up4.0 and up4.0.3 and up4.0.3 and up4.2 and up4.2 and up7.0 and up2.3 and up5.0 and up4.4 and up4.0.3 and up4.4 and up4.0 and up4.2 and up4.0.3 and upVaries with device7.0 and up7.0 and up4.1 and upVaries with device5.0 and up4.1 and up4.4 and upVaries with device4.0 and up7.0 and up4.3 and up7.0 and up4.0 and up7.0 and up4.0 and up7.0 and up5.0 and up4.1 and up7.0 and up7.0 and up7.0 and up4.0 and up4.0.3 and up2.1 and up7.0 and up4.0 and up7.0 and up7.0 and up4.1 and up7.0 and up4.2 and up7.0 and up4.4 and up4.1 and up4.1 and up4.1 and upVaries with device4.1 and up4.0 and up4.0 and up2.3 and upVaries with device4.2 and up4.0 and up2.3 and up4.0.3 and up4.0 and up4.2 and upVaries with device4.1 and up4.0.3 and upVaries with deviceVaries with deviceVaries with deviceVaries with device4.0.3 and up5.0 and up2.3.3 and up4.2 and up4.1 and upVaries with deviceVaries with deviceVaries with deviceVaries with device4.1 and up4.1 and upVaries with device2.1 and up4.1 and up4.1 and up4.1 and upVaries with deviceVaries with deviceVaries with device5.0 and up3.0 and up4.0.3 and up2.3 and up2.3 and up4.4 and upVaries with device4.3 and up4.1 and upVaries with device2.3 and up3.0 and up4.4 and up2.3 and up2.3 and up3.0 and up4.0.3 and up2.3 and up4.2 and up4.4 and up4.2 and up4.1 and up2.3 and up4.1 and up4.4 and up4.2 and up4.1 and up2.3 and up4.1 and up4.1 and up2.3 and up2.3 and up2.3.3 and up4.2 and up2.3 and up4.0.3 and up4.0 and upVaries with device4.0.3 and up2.3 and up5.0 and up5.0 and up2.3 and up4.1 and up4.1 and up2.3 and up2.3.3 and up4.4 and up4.1 and up4.1 and upVaries with device4.3 and up4.1 and up4.1 and up4.0 and up4.0 and up4.2 and up4.1 and up5.0 and up4.0.3 and up4.0.3 and up4.0 and up4.0.3 and up4.0 and up4.3 and up4.2 and up4.0.3 and up4.0 and up4.0 and up4.0 and up4.1 and upVaries with deviceVaries with device4.1 and up4.0 and up4.1 and up4.4 and upVaries with device4.1 and up4.1 and up4.3 and up4.1 and up2.3 and up4.0 and up4.3 and up2.3.3 and up4.0 and up4.1 and up2.3.3 and up4.1 and up4.0 and up4.1 and up4.0 and up4.1 and up4.1 and up4.1 and up4.3 and up1.6 and up2.2 and up4.0.3 and up4.2 and up4.1 and up4.0.3 and up3.0 and up2.3.3 and up4.1 and up4.0.3 and up4.0 and up5.0 and up4.1 and upVaries with device2.3 and up4.3 and up4.3 and up5.0 and up4.3 and up4.1 and up2.3 and up4.0.3 and up4.3 and up4.3 and up4.3 and upVaries with device6.0 and up4.3 and up4.3 and upVaries with device4.0 and up2.3 and up4.0.3 and up4.3 and up4.1 and upVaries with device4.1 and up3.0 and up4.0 and upVaries with deviceVaries with device4.3 and up3.0 and up4.1 and up4.3 and upVaries with deviceVaries with device5.0 and up2.3.3 and up4.1 and up2.3.3 and up2.2 and up4.4 and up4.1 and up4.0 and up4.1 and up3.0 and up3.0 and up4.2 and up4.1 and up4.1 and up4.4 and up3.1 and up4.1 and up4.1 and up2.1 and up4.0.3 and up4.3 and up2.3.3 and up4.1 and up2.3 and up4.0.3 and up4.1 and up4.0 and up4.2 and up4.0 and up4.2 and up4.0.3 and up4.0 and up2.3 and up2.3 and up4.1 and up4.1 and up2.1 and up5.0 and up2.3 and up2.3 and up4.0 and upVaries with device2.2 and upVaries with device4.0 and up4.2 and upVaries with device4.1 and up4.2 and up4.1 and up4.0.3 and up4.0 and upVaries with device4.0 and up4.0 and up2.2 and up4.1 and up4.0.3 and up5.0 and up4.4 and up4.0.3 and up5.0 and up4.4 and up5.0 and up4.1 and up5.0 and up4.1 and up2.2 and up4.1 and up4.2 and up4.1 and up3.2 and upVaries with device4.1 and up4.2 and up4.1 and up4.1 and up4.4 and up4.0 and up4.0 and up4.1 and up4.2 and up4.1 and up4.4 and up2.3 and up4.4 and up4.1 and up3.0 and up2.3.3 and up4.1 and up4.0 and up4.1 and up4.0.3 and up4.1 and up4.0.3 and up3.2 and up4.1 and up4.4 and up2.1 and up3.0 and up4.0 and up2.3 and up4.0.3 and up4.0 and up2.3 and up2.3 and up4.0.3 and up4.1 and up2.3 and up2.3 and up2.3 and up4.0.3 and up4.4 and up4.1 and up1.6 and up2.3 and up5.0 and up2.2 and up2.3 and up4.2 and up4.0 and up4.2 and up4.0.3 and up2.3 and up4.1 and up4.0 and up4.1 and up5.0 and up4.0.3 and upVaries with device4.1 and up4.1 and up4.0.3 and up2.3 and up4.0.3 and up4.4 and up2.3 and up4.1 and up2.0 and up4.0.3 and up4.0.3 and upVaries with device2.2 and up4.1 and up4.1 and up4.0 and up4.4W and up3.2 and up4.0 and up4.0.3 and up5.0 and up4.0 and up2.1 and up5.0 and up4.0.3 and up4.0 and upVaries with device4.0 and up4.1 and up4.4 and up4.4 and up4.1 and up4.4 and up4.0 and up4.4 and upVaries with device4.2 and up2.2 and up4.1 and up4.0.3 and up4.1 and up4.1 and up5.0 and up4.0 and upVaries with device4.1 and up4.0 and up4.2 and up4.1 and up4.0 and up4.2 and up4.0.3 and up4.1 and up4.1 and up2.3 and up3.0 and up4.0.3 and up3.0 and up4.3 and up4.1 and up4.1 and up4.0.3 and up4.2 and up4.3 and up4.0.3 and up4.0.3 and up4.0.3 and up4.0 and up4.0 and up2.0 and up4.1 and upVaries with device4.0 and up4.0 and up3.0 and up4.4 and up4.0 and up2.3.3 and up4.3 and up4.1 and up4.3 and up4.3 and up3.2 and up2.0 and up4.0.3 and up4.1 and up4.1 and up4.0.3 and up4.1 and up2.3 and upVaries with device4.4 and up4.0.3 and up4.1 and up4.4 and up4.0.3 and up4.1 and up2.3 and up4.0 and up4.2 and up4.0 and up4.0 and up4.0 and up2.2 and up4.1 and up3.2 and up4.1 and upVaries with device4.0 and up4.0 and up5.0 and up2.3 and up4.0.3 and up2.3 and up4.0.3 and up4.1 and up4.1 and up4.3 and up4.1 and up4.4 and up4.0.3 and up4.3 and up4.0 and up4.0 and up4.4 and up4.0 and up4.0 and up2.3.3 and up2.3.3 and up4.0.3 and up4.0 and up4.0.3 and up4.0.3 and up3.0 and up4.0 and up4.2 and up4.1 and up4.3 and up2.3.3 and up3.0 and up2.3.3 and up4.1 and up2.3 and up4.1 and up2.3 and up3.0 and up3.0 and up4.2 and up2.3 and up2.3 and up3.0 and up3.0 and up2.2 and upVaries with device2.2 and up2.3.3 and up2.3 and up4.0 and up4.4 and up4.0.3 and up4.0.3 and up5.0 and up4.1 and up4.4 and up4.4 and up4.1 and up4.1 and up4.1 and up4.4 and up5.0 and up4.1 and up4.1 and up4.1 and up2.3 and up4.1 and up4.0 and up4.0.3 and upVaries with device4.1 and up4.4 and upVaries with device3.2 and up2.3 and up2.3 and upVaries with device2.3.3 and up4.0.3 and up3.0 and up4.0.3 and up3.0 and up4.1 and up4.0 and up4.0 and up4.1 and up2.3 and up4.2 and up4.0 and up4.1 and up4.0 and up5.0 and up4.1 and upVaries with device4.3 and up2.3.3 and up4.4 and up4.0.3 and up4.0.3 and upVaries with device4.4 and up3.0 and up4.1 and upVaries with device4.4 and up4.1 and up2.1 and up4.1 and up4.0.3 and upVaries with deviceVaries with device4.0.3 and upVaries with device5.0 and up4.0 and up4.4 and up4.1 and up4.0 and up5.0 and up4.0 and up4.4 and up4.2 and up2.3 and up4.0.3 and up4.0 and up4.0.3 and up4.2 and up4.2 and up2.3 and up4.1 and up4.0.3 and up4.0 and up4.0 and up4.4 and up4.1 and up4.4 and up4.0 and up2.2 and up4.0.3 and up4.4 and up2.3 and up5.0 and up4.4 and up4.1 and up5.1 and up4.1 and up4.3 and up4.1 and up4.1 and up4.4 and up3.0 and upVaries with device4.0 and up6.0 and up2.0 and up4.0.3 and up4.3 and up4.1 and up4.0 and up4.0.3 and up4.1 and up4.1 and up4.1 and upVaries with deviceVaries with deviceVaries with device4.1 and up4.1 and up4.1 and up4.2 and upVaries with deviceVaries with device2.3 and up2.3.3 and up4.0.3 and up4.1 and up4.0.3 and upVaries with device4.0 and up4.1 and up4.1 and up4.4 and up4.3 and up4.0 and up4.0 and up4.0 and up2.3.3 and up5.0 and up4.4 and up4.0 and up3.0 and up4.0 and up4.1 and up4.0 and up2.3.3 and up4.0 and up4.0 and up4.0 and up4.3 and up2.3.3 and up4.0.3 and up4.1 and up2.3.3 and up3.0 and up4.1 and up2.3 and up5.0 and up2.3 and up2.2 and up4.0 and up2.3.3 and up4.0.3 and up4.0 and up4.0.3 and up2.3 and up2.3 and up4.1 and upVaries with device4.0.3 and up4.4 and up2.2 and up4.0.3 and up4.1 and up4.4 and up4.0 and up2.3 and up4.0.3 and up5.0 and up4.2 and upVaries with device2.3 and up4.1 and up4.0.3 and up3.0 and up4.0 and up3.0 and up4.1 and up4.0.3 and up2.3 and up4.0 and up4.0 and up2.2 and up4.4 and up2.3 and up4.0 and up4.1 and up4.4 and up2.2 and up4.1 and up2.1 and up4.4 and up4.0.3 and up2.3.3 and up4.1 and up2.2 and up4.0.3 and up4.0 and up2.3.3 and up4.1 and upVaries with device2.3.3 and up4.1 and up4.0.3 and up4.0.3 and up2.3.3 and up4.0.3 and up4.0 and up4.1 and up2.3.3 and up2.3 and up4.0 and up3.0 and up2.3.3 and up4.2 and up2.3 and upVaries with device4.1 and up4.3 and up2.3 and up2.3.3 and up2.1 and up2.1 and up5.0 and up4.0 and upVaries with device4.0.3 and up2.3 and up2.1 and up2.3.3 and up4.0.3 and upVaries with device4.2 and up2.3 and up4.0 and up4.0.3 and up4.0.3 and up4.4 and up4.1 and up5.0 and up6.0 and up4.0 and up4.4 and up4.1 and upVaries with device4.1 and up5.0 and up4.4 and up4.1 and up4.0.3 and up4.1 and up4.1 and up4.1 and up4.0.3 and upVaries with device4.4 and up4.3 and up4.1 and up4.1 and up4.4 and up4.4 and up4.1 and upVaries with device4.4 and up4.1 and up4.1 and up1.5 and up5.0 and up1.6 and up4.0.3 and up1.6 and upVaries with device1.6 and up4.0 and up1.6 and up4.3 and up1.6 and up1.6 and up4.4 and up1.6 and up1.6 and up4.0.3 and up1.6 and up1.6 and up1.6 and up1.6 and up1.6 and up4.0 and up1.6 and upVaries with device1.6 and up4.0 and up1.6 and up1.6 and up1.6 and up4.0 and up1.6 and up1.6 and up1.6 and up4.1 and upVaries with device4.1 and up4.1 and up4.0.3 and up4.0 and up4.0.3 and up4.0.3 and up4.0.3 and up4.1 and up4.1 and up5.0 and up2.3 and up2.1 and up4.1 and up2.3.3 and up4.0 and up4.0.3 and up5.0 and up4.1 and up4.0.3 and up4.0.3 and up4.2 and up4.0.3 and up4.1 and up4.0.3 and up4.0.3 and up4.0 and up4.0.3 and up4.2 and up2.3 and up5.0 and up8.0 and up4.1 and up2.2 and up4.1 and up2.2 and up4.0 and up2.3.3 and up2.3.3 and up4.0.3 and up4.1 and up4.0 and up4.4 and up4.4 and up4.1 and up4.2 and up4.4 and up2.1 and up4.0 and up4.3 and up5.0 and up2.2 and up5.0 and up4.0 and upVaries with device4.0.3 and up3.0 and up4.4 and up3.0 and up4.0 and up4.0.3 and up4.0.3 and up4.1 and upVaries with device4.3 and up4.1 and up4.4 and up5.0 and up4.0 and up4.0.3 and upVaries with deviceVaries with device4.1 and up2.3.3 and up4.0 and up4.0 and up4.0 and up2.3 and up2.3.3 and up4.4 and up4.4 and up2.3.3 and up4.0 and up7.0 and up4.0.3 and up4.0 and up4.0 and upVaries with deviceVaries with device4.1 and up5.0 and up4.0.3 and up2.3 and upVaries with device4.1 and up3.0 and up4.0.3 and upVaries with device4.1 and up2.3 and up4.4 and up2.2 and up5.0 and up4.1 and up4.1 and up3.0 and up4.1 and up5.0 and up4.0 and up5.0 and upVaries with device2.2 and up4.1 and up2.1 and up4.0.3 and up4.1 and up2.3 and up4.1 and up4.1 and up4.0.3 and up4.1 and up2.0 and up2.3 and up4.1 and up4.0.3 and up4.1 and up4.1 and up4.1 and upVaries with device4.1 and up4.1 and up4.0.3 and up4.0 and upVaries with device4.1 and up2.1 and up4.3 and up4.0.3 and up2.3 and up2.2 and upVaries with device4.0.3 and up4.4 and up2.2 and up4.0.3 and up4.0 and up4.0.3 and up2.0 and up4.0 and up4.4 and up4.1 and up4.4 and up4.0.3 and up4.4 and up2.3 and upVaries with device4.1 and up2.3 and up4.1 and up2.2 and up4.0.3 and up4.3 and up4.0 and up4.2 and up4.3 and up4.2 and up6.0 and up1.6 and up2.3.3 and up1.6 and up2.2 and up3.0 and up2.3 and up2.2 and up4.1 and up4.1 and up2.2 and up5.0 and up4.4 and up3.0 and up4.0.3 and up4.4 and up4.2 and up4.1 and up4.0 and up4.1 and up4.1 and up4.3 and up3.0 and up4.1 and up4.3 and up2.3.3 and up1.6 and upVaries with device1.6 and up4.1 and up4.1 and up4.0 and up4.2 and up2.2 and up4.1 and up4.4 and up4.1 and up3.0 and up4.0.3 and up4.1 and up2.3.3 and up4.0.3 and up4.1 and up4.0 and up4.0.3 and up4.0.3 and up4.4 and up4.3 and up3.0 and up4.0 and up4.4 and up4.0 and up4.1 and upVaries with device4.0.3 and up4.2 and up3.0 and up3.0 and up4.0 and up3.0 and up4.1 and up4.0.3 and up4.1 and up4.1 and up5.0 and up2.1 and up4.0.3 and upVaries with device4.1 and up4.1 and up4.1 and up4.0 and up4.1 and up4.3 and up5.0 and up4.0.3 and up4.2 and up2.3 and up4.0 and up4.3 and up2.3 and up4.0 and up4.4 and up4.0.3 and up4.0 and up4.0 and up2.2 and up4.0 and up4.4 and up4.0 and up5.0 and up2.2 and up2.3 and up4.0 and up2.3 and up4.4 and up4.0 and up4.4 and up4.0 and up2.3 and up5.0 and up4.0 and up4.1 and up3.0 and up4.4 and up4.0 and up4.0.3 and up2.1 and up4.0 and up2.3.3 and up4.0 and up2.2 and up7.0 and up7.0 and up4.0.3 and up4.2 and up2.2 and up4.0.3 and up5.0 and up4.0.3 and up4.2 and up4.4 and up4.4 and up4.1 and up5.0 and up2.3 and up4.0.3 and up2.3 and up4.1 and up2.2 and up4.0 and up2.3 and up4.1 and up4.2 and up4.0.3 and up5.0 and up4.0 and up4.1 and up4.1 and up3.0 and up2.3.3 and up4.1 and upVaries with device4.0.3 and up2.3 and up2.3 and up4.1 and upVaries with device4.0 and up4.1 and up2.3 and up4.4 and up4.0 and up4.4 and up4.1 and up4.0.3 and up4.2 and up4.4 and up4.3 and up2.3 and up4.0.3 and up4.1 and up4.1 and up4.1 and up4.1 and up4.0.3 and up4.1 and up4.3 and up4.1 and up4.3 and up4.0 and up4.4 and up5.1 and up4.1 and up2.3 and up3.0 and up4.4 and up2.3 and up4.1 and up4.4 and up4.1 and up4.0 and up4.1 and up5.0 and up4.1 and up4.0.3 and up4.1 and up4.4 and up4.0.3 and up2.3.3 and up2.3 and up4.1 and up4.1 and up4.1 and up4.1 and up4.0 and up4.1 and up4.1 and up2.3.3 and up4.4 and up4.1 and up4.1 and up4.1 and up4.0.3 and up5.0 and up4.1 and up4.1 and up4.4 and up4.1 and up2.3.3 and up4.0.3 and up4.0 and up4.1 and up4.0 and up4.0 and up4.1 and up4.0 and up4.0 and up5.0 and up4.0 and up4.0 and up4.1 and up4.0 and upVaries with device4.1 and upVaries with device1.6 and up5.0 and up2.3.3 and up4.4 and up4.0 and up4.0 and up2.2 and up1.6 and up2.3.3 and up5.0 and up4.1 and up4.1 and up2.2 and up4.4 and up4.0.3 and up3.0 and up4.0 and up4.0.3 and up4.0.3 and up4.0 and upVaries with device4.0.3 and up2.3 and up4.0.3 and up4.1 and up4.0.3 and up4.4 and up3.0 and up2.2 and up3.2 and up4.0 and up4.1 and up4.1 and up4.4 and up4.2 and up4.1 and up4.0 and up4.4 and up4.0 and up4.0.3 and up4.1 and up4.4 and up4.1 and up4.0 and up4.1 and up4.0 and up4.0.3 and up4.0.3 and up5.0 and up4.0.3 and up4.0 and up2.1 and up4.2 and up7.0 and up3.0 and up4.0 and up4.0 and up4.1 and up4.1 and up4.0 and up4.0 and up4.0 and up4.0 and up4.1 and up2.3 and up4.0 and up4.1 and up2.3.3 and up4.0 and up4.4 and up4.1 and up4.0.3 and up5.0 and up2.0.1 and up4.4 and up4.1 and up4.1 and up4.0.3 and up2.3.3 and up2.3 and up4.0.3 and up2.3.3 and up4.4 and up4.0 and up2.3 and up4.1 and up4.0 and up4.1 and up1.6 and up5.0 and up4.0 and up5.0 and up1.6 and up4.4 and up4.1 and upVaries with device2.1 and up4.1 and up4.0.3 and up2.2 and up4.1 and up2.3 and up4.1 and up2.3.3 and up4.0 and up2.3 and up4.0 and up4.0 and up4.0 and up4.3 and up4.0 and up4.1 and up5.0 and up4.1 and up4.1 and up4.0.3 and up2.3 and up4.0.3 and up4.0 and up4.0 and up2.3 and up2.3 and up2.3 and up4.0 and up4.3 and up2.3 and up2.3 and up4.1 and up4.0.3 and up4.0.3 and upVaries with device4.0.3 and up4.0 and up2.3 and up5.0 and up4.1 and up3.0 and up4.1 and up3.0 and up2.3 and up4.4 and up4.0.3 and up4.0.3 and up4.0.3 and up4.2 and up2.3 and up4.1 and up3.0 and up4.1 and up4.0 and up4.4 and upVaries with deviceVaries with device4.1 and up4.0 and up4.4 and up5.0 and up4.0.3 and upVaries with device4.1 and up4.2 and upVaries with device4.2 and up2.0 and up4.0 and up5.0 and up4.1 and up4.0 and upVaries with device4.1 and upVaries with deviceVaries with device2.3 and up4.4 and upVaries with deviceVaries with device4.1 and up4.0 and up5.0 and up4.1 and up4.1 and up4.4 and up4.0 and up5.0 and upVaries with device5.0 and up4.0 and up4.1 and up4.1 and up4.0.3 and up2.3 and up4.1 and up4.0.3 and up4.0 and up4.0.3 and up2.0 and up5.0 and up2.3.3 and up2.3 and up4.4 and up4.0 and up1.6 and up2.3 and up4.4 and up5.0 and up4.2 and up4.1 and up2.0.1 and up2.3 and up3.0 and up3.0 and up4.4 and up2.3.3 and up4.0 and up4.1 and up4.1 and up4.0 and up4.0.3 and up2.3 and up2.1 and up4.1 and up4.1 and up2.3 and up1.6 and up2.3.3 and up4.1 and up4.0.3 and up4.0.3 and up4.0.3 and up4.1 and up4.0.3 and upVaries with device4.0 and up4.0.3 and up4.0.3 and up4.1 and up4.0.3 and up5.0 and up4.4 and up4.1 and up2.3 and up4.0 and upVaries with device2.3.3 and up4.1 and up2.3 and up4.1 and up4.1 and up4.1 and up2.1 and up4.3 and up2.3 and up4.1 and up2.1 and up5.0 and up2.3 and up5.0 and up3.0 and up4.1 and up2.1 and up4.1 and up2.2 and up4.1 and up1.5 and up2.2 and up4.0.3 and up4.0.3 and up4.3 and up2.1 and up4.1 and up4.0 and upVaries with device2.0 and up4.2 and up4.1 and up4.1 and up4.1 and up4.1 and up4.0 and up4.1 and up4.1 and up4.0 and upVaries with device4.1 and up4.1 and up2.3.3 and up5.0 and up4.0.3 and up4.3 and up2.3.3 and up4.0 and up4.1 and up4.1 and up4.1 and up4.1 and up5.0 and up2.3.3 and up4.0 and up4.2 and up4.0.3 and up4.1 and up4.0 and upVaries with device4.0.3 and up4.0 and upVaries with device4.0 and up4.0.3 and up2.3 and up4.0 and up2.3 and up4.2 and up4.0 and up2.3 and up4.0 and up4.0 and up4.0 and up2.3.3 and up2.3 and upVaries with device4.0 and up5.0 and upVaries with device2.2 and up4.0 and up4.2 and up2.2 and up4.0.3 and up4.3 and up4.0 and up4.0 and up2.3 and up4.0 and up4.0 and up4.0 and up4.1 and up4.1 and up5.0 - 6.04.0 and up4.1 and up1.6 and up2.3.3 and up4.0 and upVaries with device1.6 and up4.0 and up5.0 and upVaries with device4.4 and up5.1 and up4.1 and up4.1 and up4.4 and up5.1 and up4.0.3 and up4.3 and up4.0.3 and up4.3 and up4.0 and up2.3 and up2.3.3 and up4.1 and up5.0 and up4.4 and up4.1 and up5.1 and up4.1 and up4.4 and up4.1 and up2.3.3 and up4.1 and up5.0 and up5.0 and up4.1 and up4.4 and up2.3 and up4.0.3 and up5.1 and up4.4 and up2.3.3 and upVaries with device4.4 and up4.0 and up4.1 and up4.0 and up2.3.3 and up4.1 and up4.1 and up4.0 and up5.0 and up5.0 and up2.3 and up4.0 and up4.1 and up4.4 and up4.4 and up4.3 and up4.1 and up4.2 and up4.1 and up4.0.3 and up4.2 and up2.0 and upVaries with device5.0 and up4.1 and up4.4 and up4.1 and up5.0 and up4.0.3 and up2.3 and up6.0 and up2.3 and up5.0 and up4.1 and up4.1 and up5.0 and up4.0.3 and upVaries with device4.0 and up4.0 and up2.3.3 and up1.6 and up4.0.3 and up4.1 and up4.1 and up2.3 and up4.1 and up4.1 and up4.0.3 and up4.1 and up4.2 and up4.0.3 and up4.1 and up4.1 and up4.4 and up4.0.3 and up4.3 and up3.0 and up4.0 and up2.3.3 and up3.0 and up4.0.3 and up5.0 and up4.2 and up4.0 and up4.1 and up4.0.3 and up3.0 and up4.0.3 and up4.1 and up4.0.3 and up4.1 and up4.1 and up5.0 and up4.0 and up4.1 and up4.4 and up5.0 and up4.2 and up3.0 and up4.2 and up5.0 and up4.0 and up4.1 and up4.1 and up4.4 and up4.0.3 and up4.0.3 and up2.3.3 and upVaries with device2.3 and up4.4 and up4.4 and up4.1 and up4.1 and up4.4 and up2.3.3 and up3.0 and up2.1 and up4.0.3 and up2.3 and up4.0.3 and up4.4 and up4.0.3 and up2.3 and upVaries with device2.3.3 and up4.1 and up4.0 and up4.0.3 and up4.3 and up4.0.3 and up5.0 and up4.4 and up4.1 and up4.0 and up4.0 and up2.3 and up4.1 and up4.1 and up4.1 and up4.0.3 and up4.1 and up4.1 and up4.0.3 and up4.1 and up2.3.3 and up4.1 and up4.0 and up3.0 and up4.1 and up4.2 and up4.0.3 and up4.2 and up4.1 and up4.0 and up4.0.3 and up4.1 and up2.3 and up3.0 and up4.0.3 and up4.1 and up4.0 and up3.0 and up2.3.3 and up4.4 and up4.1 and up4.0.3 and up4.1 and up4.4 and up4.1 and up4.1 and up4.0 and up4.0 and up4.1 and up2.3.3 and up2.3 and upVaries with device4.1 and up2.0 and up2.3 and up4.1 and up4.1 and up3.0 and up4.1 and up5.0 and up4.1 and up2.3 and up4.0 and up3.0 and up2.2 and up4.0.3 and up4.1 and up4.0.3 and up2.3 and up2.2 and up4.4 and up2.3.3 and up2.3 and up4.1 and up2.3 and up1.5 and up3.0 and up4.4 and up4.1 and up2.3 and up4.1 and up4.1 and up4.0 and up4.2 and up4.0.3 and up4.1 and up4.2 and up4.4 and up2.2 and up4.0 and up4.0.3 and up4.0.3 and up4.0 and up4.0 and up4.0 and up4.0 and up2.3 and up4.1 and up4.0 and up4.0 and up4.0 and up4.4 and up4.4 and up4.0 and up4.0 and up2.3 and up3.0 and up4.0.3 and up2.2 and up4.0.3 and up4.0 and up2.3.3 and up4.0 and up4.1 and up4.0.3 and up4.0 and up4.0.3 and up4.0.3 and up4.1 and up4.4 and up2.3 and up4.1 and up3.0 and up4.1 and up2.2 and up4.0 and up4.2 and up4.0 and up4.0 and up4.2 and up4.1 and up4.1 and up4.1 and up5.0 and up4.0 and up4.4 and up5.0 and up4.0.3 and up5.0 and up4.4 and up4.0.3 and up4.2 and up4.2 and up5.0 and up5.0 and up4.0 and up4.0.3 and up4.0.3 and up4.4 and up5.0 and up2.3 and up5.0 and up2.3 and up4.0 and up4.0 and up2.2 and up5.0 and upVaries with deviceVaries with device4.0 and up4.3 and up2.2 and up4.1 and up4.0 and up3.0 and up2.1 and up4.1 and upVaries with device5.0 and up4.0.3 and up2.3.3 and up4.1 and up4.4 and up4.0 and up4.4 and up5.0 and up4.0 and up4.0.3 and up4.1 and up4.4 and up4.0.3 and up4.0.3 and up4.0.3 and up4.0.3 and up4.0 and up4.1 and up4.0 and up2.3.3 and up4.0 and up2.3 and up4.4 and upVaries with device2.3 and up4.1 and up4.0.3 and up4.0.3 and up4.0 and up4.0.3 and up3.0 and up4.0 and up4.2 and up4.0 and up4.0.3 and up4.0.3 and up4.0.3 and up4.1 and up4.1 and up4.0.3 and up4.0.3 and up2.3.3 and up4.4 and up4.0.3 and up4.0.3 and up4.4 and up4.4 and up3.2 and up4.0 and up3.2 and up4.3 and up1.6 and up2.3 and up4.4 and up1.6 and up2.1 and up2.3 and up4.0 and up2.3.3 and up4.0.3 and up2.3.3 and up2.1 and up2.3 and up4.1 and upVaries with device2.0 and upVaries with device3.0 and up4.4 and up4.1 and up2.1 and up4.1 and up2.2 and up1.6 and up4.0 and upVaries with device2.1 and up4.4 and up3.0 and up4.3 and up5.0 and up2.2 and up4.4 and up4.0.3 and up4.4 and up2.3 and up5.0 and up4.4 and up4.0 and up4.3 and up2.2 and up4.3 and up4.3 and up5.0 and up2.2 and up2.2 and up2.3 and up4.0 and up4.0 and up4.0 and up3.0 and up5.0 and up4.1 and up4.0 and up4.1 and up4.0 and up4.0 and up4.1 and up4.0 and up4.4 and up4.0 and up2.2 and up2.2 and up2.1 and up4.1 and up2.2 and up2.2 and upVaries with deviceVaries with device1.6 and up4.4 and up4.2 and up5.0 and up2.3 and up4.1 and up3.2 and up4.0 and up4.3 and up2.3.3 and up1.6 and up3.0 and up2.2 and up4.0 and up4.1 and up4.1 and up4.1 and up4.0 and upVaries with deviceVaries with device4.1 and up2.3 and up4.0 and up4.1 and upVaries with device2.2 and up2.2 and up4.0.3 and up2.3 and up4.1 and up4.1 and up2.3 and up4.3 and up4.0.3 and up4.2 and up4.1 and up4.0 and upVaries with device4.0.3 and up4.3 and up4.1 and up4.0.3 and up2.3.3 and up4.1 and up4.1 and up4.4 and up2.2 and up5.0 and up4.2 and upVaries with device3.0 and upVaries with device4.0 and up4.1 and up4.1 and up4.3 and up4.0 and up4.0 and up4.4 and up4.4 and up4.1 and up4.1 and up4.0 and up4.4 and up4.0.3 and up2.2 and up4.0.3 and up4.0.3 and up4.4 and upVaries with device5.0 and up4.4 and up2.3 and upVaries with device4.0 and up2.3 and up4.1 and up4.1 and up4.1 and upVaries with device2.3 and upVaries with device4.1 and up4.1 and up4.0.3 and up4.1 and up4.4 and up4.0.3 and up4.0 and up2.1 and up2.3 and up6.0 and up3.0 and up4.0 and up4.0.3 and up3.0 and up4.1 and up4.0 and up4.3 and up3.0 and up2.2 and up4.4 and up4.4 and up2.1 and up4.0 and up4.1 and up4.0 and up4.0 and up4.1 and up4.1 and up4.4 and up4.1 and up4.0 and up5.0 and up2.2 and up4.1 and up4.0 and up4.2 and up4.0.3 and up4.1 and up2.3 and up4.0 and up4.1 and up4.4 and upVaries with device4.4 and up4.0 and up4.4 and up4.0 and up4.0.3 and up4.0.3 and up4.1 and up4.3 and up4.1 and up4.0.3 and upVaries with device4.1 and up4.0 and up5.0 and up4.0.3 and up4.0.3 and up4.0.3 and up4.4 and up2.3.3 and up1.6 and up4.4 and up4.0.3 and up4.0.3 and up4.0 and up4.0 and up4.0.3 and up4.1 and up4.4 and up4.1 and up4.0 and up4.1 and up4.1 and up1.5 and up4.0.3 and up4.1 and up2.3 and up4.4W and up4.2 and upVaries with deviceVaries with device4.0 and upVaries with deviceVaries with device4.0 and up4.2 and up4.4 and upVaries with device4.0.3 and up2.3.3 and up4.0 and up2.3 and up4.1 and up2.3 and up4.1 and up4.0.3 and upVaries with device4.1 and up2.3.3 and up4.1 and up2.1 and up1.6 and up4.1 and up4.1 and up4.1 and up4.1 and up2.3.3 and upVaries with device2.3.3 and up3.2 and up4.0 and up4.1 and up4.1 and up4.1 and up4.2 and up4.4 and up4.0.3 and up4.4 and up4.0.3 and up4.1 and up4.0 and upVaries with deviceVaries with device4.0 and up4.1 and up4.0 and up4.0.3 and up4.1 and up4.4 and up4.0.3 and up4.0 and up2.3 and up4.0 and upVaries with device4.0.3 and up5.0 and upVaries with device4.4 and up2.2 and up4.4 and up4.0.3 and up4.1 and up4.0.3 and up4.0 and up4.1 and up4.4 and up3.0 and up4.0.3 and up4.1 and up4.4 and up4.0 and up4.0.3 and up4.0 and up4.1 and upVaries with device4.1 and upVaries with device3.0 and up2.1 and up3.0 and up4.1 and up3.0 and up3.0 and up2.3.3 and up2.3 and up4.0.3 and up3.0 and up4.1 and up4.2 and up4.4 and up4.0.3 and up4.0 and up3.0 and up4.0.3 and up2.2 and up2.0 and up2.3 and up4.4 and up2.3.3 and up4.0.3 and up4.0 and upVaries with device4.4 and up4.0.3 and up2.3 and up4.0.3 and up4.1 and up4.0.3 and up2.3 and up4.0.3 and up2.3.3 and up2.3 and up3.0 and upVaries with device4.1 and upVaries with device4.0 and up4.1 and up4.1 and up4.1 and up4.0 and up4.1 and up4.0.3 and up4.0 and up4.1 and up4.1 and up2.3 and up4.1 and upVaries with device4.1 and up4.1 and up4.1 and upVaries with device4.1 and up4.1 and upVaries with device5.0 and up4.1 and up4.1 and up5.0 and up4.1 and up4.1 and up4.0.3 and up4.0.3 and up2.3 and up4.1 and up2.3 and up5.0 and up4.1 and up4.1 and up4.4 and up4.4 and up4.2 and up4.2 and up4.0.3 and up4.1 and up4.0 and up2.2 and up4.1 and up4.0.3 and up3.0 and up4.4 and up3.0 and up2.3 and up4.1 and up2.3 and up3.0 and up4.2 and up4.0.3 and up4.0 and up4.1 and up4.1 and up4.3 and up4.0 and upVaries with device4.0 and upVaries with device4.1 and up4.1 and upVaries with device2.3 and up4.1 and up2.3 and up4.1 and up4.0.3 and up5.0 and up5.0 and up4.1 and up4.0 and up3.0 and up4.4 and up4.0.3 and up4.2 and up4.0 and up4.1 and up4.0 and up4.1 and up4.4 and up2.2 and up4.0 and up2.3.3 and up4.2 and up4.1 and up4.2 and up2.3 and up4.0.3 and up4.0 and up4.4 and up4.4 and up3.0 and up3.0 and up4.3 and up4.1 and up4.0.3 and up4.1 and up2.1 and up2.3 and up4.0.3 and up2.2 and up4.1 and up2.3.3 and up4.1 and up4.3 and up6.0 and up4.0.3 and up4.1 and up2.3.3 and up4.1 and up4.0 and up4.4 and up5.0 and up4.1 and up2.3.3 and up4.0 and up4.4 and up2.1 and up4.0 and up4.4 and up5.0 and up4.1 and up4.4 and up3.0 and up4.0.3 and up4.0 and upVaries with device4.3 and upVaries with device4.1 and up2.3 and up4.0 and up4.0 and up4.1 and up4.0.3 and up4.1 and up4.1 and up3.1 and up4.4 and up4.4 and up4.4 and up4.0 and upVaries with device4.4 and upVaries with deviceVaries with device2.3.3 and up4.0 and up5.0 and up4.1 and upVaries with device4.0 and up2.3 and upVaries with device4.4 and up4.0 and upVaries with deviceVaries with device4.0 and up4.4 and upVaries with device4.1 and up2.1 and up6.0 and up1.5 and up4.0 and up4.1 and up5.0 and upVaries with device4.1 and up4.0 and upVaries with deviceVaries with device4.0 and up4.1 and up4.4 and up4.0 and up2.3 and up5.0 and up4.1 and up2.3 and upVaries with device5.0 and up4.1 and up4.0.3 and up4.0.3 and up4.1 and up4.3 and up4.0 and up4.0.3 and up4.0.3 and up4.1 and up4.1 and up4.0.3 and up4.1 and up4.1 and up4.0.3 and up4.3 and up3.0 and up4.0.3 and up4.0.3 and up2.2 and up4.1 and up4.0 and up4.0.3 and up4.0.3 and up4.1 and up4.1 and up4.2 and up2.3.3 and up4.1 and up4.0.3 and up4.0.3 and up4.0 and up4.1 and up4.0.3 and up4.2 and up4.1 and up4.0.3 and up4.1 and up4.3 and up4.0.3 and up4.4 and up4.0 and up4.1 and up4.1 and up4.1 and up4.1 and up4.0 and up4.1 and up5.0 and up4.0 and up4.1 and up4.0 and up3.2 and up2.3 and up4.0 and up4.4 and up2.3 and up4.4 and up4.2 and up4.3 and up4.2 and up3.2 and up4.2 and up2.2 and up4.2 and up2.3.3 and up4.4 and up4.1 and up2.2 and up2.3 and up2.1 and up4.1 and up4.3 and up4.4 and upVaries with device4.4 and up4.4 and up4.1 and up4.1 and up4.0 and up5.0 and up4.1 and up4.4 and up3.2 and up4.0.3 and up4.0.3 and upVaries with device2.3 and up4.1 and up4.0.3 and upVaries with device4.0 and up4.0 and up4.0 and up4.1 and up4.4 and up4.1 and up4.1 and up4.1 and up4.0.3 and up4.1 and up4.1 and upVaries with device4.1 and up4.0.3 and up4.0 and up4.1 and up4.0 and up4.0 and up4.0 and up4.0.3 and up4.1 and up4.0 and up4.0 and up4.4 and up7.0 and up4.0.3 and up4.0 and up4.0.3 and up4.1 and up2.2 and up4.0.3 and up4.1 and up2.0.1 and up4.0 and up4.1 and up2.3 and up4.1 and up4.0 and up4.0 and up4.1 and up2.3 and up2.3 and up4.0.3 and up4.0.3 and up2.3.3 and up4.0 and up4.1 and up5.0 and up4.1 and up4.0 and upVaries with deviceVaries with device4.4 and up4.1 and up4.1 and up4.1 and up5.0 and up4.0 and up2.3 and upVaries with device2.3 and up4.2 and up2.3.3 and up5.0 and up1.5 and up2.2 and up2.3 and up2.3.3 and up2.0 and up4.1 and up4.0 and up4.1 and up4.1 and up2.3 and up4.0 and up4.1 and up4.1 and up2.2 and up2.2 and up2.3 and up4.2 and up4.1 and up4.0.3 and up4.1 and up2.3 and up2.2 and up2.3.3 and up2.3.3 and up2.3.3 and up5.0 and up4.4 and up2.2 and up4.0 and up2.1 and up4.1 and up4.1 and up2.2 and up4.2 and up4.1 and up4.1 and up4.3 and up4.0 and up4.0.3 and up4.0.3 and up4.0 and up4.2 and up5.0 and up2.3 and up4.1 and up4.1 and up4.0 and up4.2 and up4.0 and up4.0.3 and up4.0 and up4.0 and up4.0 and up4.0 and up4.0.3 and up4.0 and up4.2 and up4.0 and up4.3 and up4.0.3 and up4.3 and upVaries with device2.3.3 and up4.0 and up4.0 and up4.0 and up4.0 and up4.1 and up4.1 and up4.0 and upVaries with device1.0 and up2.3.3 and up4.1 and up2.2 and up4.1 and upVaries with device4.0.3 and up2.3 and upVaries with device4.1 and up4.2 and up4.3 and up4.4 and up4.0 and up4.0 and up4.0 and up4.0 and up4.0.3 and up4.1 and up4.1 and up4.0.3 and up4.0.3 and up2.3 and up4.0 and up4.0.3 and up3.0 and up4.2 and up2.3 and up4.0 and up4.0 and up4.0 and up4.0 and up4.4 and up2.2 and up4.1 and up4.1 and up4.0.3 and up4.2 and up4.1 and up4.0 and up4.0.3 and up4.4 and up4.0.3 and up2.2 and up2.2 and up2.3.3 and up4.0 and up3.0 and up2.2 and up4.1 and up4.2 and up4.4 and upVaries with device4.1 and up4.1 and up2.2 and up4.1 and upVaries with device4.1 and up2.3 and up4.1 and up2.2 and up4.1 and up2.1 and up4.1 and up2.3.3 and up4.1 and up4.1 and up5.0 and up4.0.3 and up4.1 and up4.1 and up4.0 and up4.1 and up5.0 and up1.6 and up2.3 and up2.3 and up2.3.3 and up2.0 and up4.0 and up4.0 and up4.0 and up4.0 and up2.2 and up2.2 and up2.1 and up4.1 and up4.0.3 and up4.0 and up2.3 and up4.1 and up4.0 and up4.0.3 and up3.2 and up2.3 and up4.1 and up4.1 and upVaries with device4.0 and up4.1 and up1.5 and up4.0.3 and up2.2 and up4.0.3 and up4.1 and up4.1 and up6.0 and up2.2 and up3.0 and up2.3.3 and up4.0.3 and up4.4 and up4.1 and up2.0.1 and upVaries with device2.3 and up4.4 and up2.1 and up4.1 and up2.3 and upVaries with device4.1 and up4.1 and up4.1 and up4.0 and up2.2 and up2.3 and up2.3.3 and up4.1 and up4.0.3 and up4.1 and up4.0.3 and up4.0.3 and up4.1 and up4.0 and up4.0.3 and up4.0.3 and up2.3 and up4.2 and up4.0 and up3.0 and up4.0 and upVaries with device4.0 and up2.1 and up2.3 and up4.1 and up4.0.3 and up2.3 and up4.0 and up5.0 and up4.4 and up1.6 and up4.1 and up4.1 and up4.0 and upVaries with device4.1 and up4.0.3 and up4.0.3 and up4.2 and up4.1 and up4.0 and up4.1 and up4.2 and up4.0 and up2.3 and up2.1 and up2.3.3 and up4.0 and up4.1 and up4.1 and up4.0 and up4.4 and up4.0.3 and up4.1 and up4.1 and up4.1 and up3.0 and up3.0 and up4.1 and up2.3 and up4.0.3 and up4.1 and up4.1 and up4.0 and up4.0.3 and up4.0.3 and up2.3.3 and up4.1 and up4.0.3 and up4.4 and up2.3 and up4.0 and up4.1 and up4.1 and up4.4 and up4.1 and up4.3 and up4.3 and up4.3 and up4.0.3 and up4.0 and up4.1 and up4.0 and up4.1 and up4.2 and up5.0 and up4.4 and up4.0.3 and up4.0 and up4.1 and up4.0.3 and upVaries with device4.0 and up4.0 and up4.0 and up4.0.3 and up4.0.3 and up4.1 and up3.0 and up2.2 and up4.0.3 and up2.2 and up5.0 and up4.1 and up2.3 and up1.0 and up5.0 and up4.0 and up4.0 and up4.2 and up4.1 and up4.4 and up2.3 and up1.6 and up4.1 and upVaries with device4.0.3 and up2.3 and up4.4 and up3.0 and up2.3.3 and up3.0 and up2.3 and up2.3 and up4.0 and up4.4 and up2.3.3 and up4.0.3 and up4.0 and up4.1 and up4.0 and up3.0 and up4.1 and up2.3.3 and up2.3.3 and up4.0 and up4.0 and up4.0.3 and up4.4 and up2.3.3 and up4.0 and up2.3.3 and up4.0.3 and up4.4 and up4.0.3 and up4.1 and up4.2 and up4.1 and up4.4 and up4.4 and up4.4 and up5.0 and up5.0 and up4.4 and up4.4 and up4.4 and up4.1 and up4.1 and up4.0 and up4.0 and upVaries with device4.4 and upVaries with device4.0 and up4.3 and up5.0 and up4.3 and up4.4 and up3.0 and up4.4 and up4.4 and up4.1 and up4.1 and up2.1 and up4.1 and upVaries with device4.0.3 and up4.2 and up4.1 and up4.0 and up4.0 and up4.1 and up2.3 and up2.2 and up2.3.3 and up4.0 and up2.3 and up2.3 and up4.1 and up3.2 and up2.2 and up2.2 and up4.0.3 and up4.3 and up2.2 and up4.1 and up2.2 and up4.0.3 and up4.0 and up2.3 and up4.0 and upVaries with device2.3 and up2.3 and up3.0 and up4.0 and up4.0.3 and up4.4 and up2.3 and up4.0.3 and up4.0 and up4.0 and up4.3 and up4.4 and up4.4 and up4.0 and up4.1 and up4.0 and up4.0 and up2.2 and up4.1 and up4.1 and up4.0.3 and up2.3 and up2.2 and up4.1 and up4.0.3 and up4.2 and up4.0.3 and up4.0 and up2.1 and up4.1 and up4.0 and up4.0 and up2.3 and up3.0 and up2.3.3 and up2.3 and up4.1 and up2.0 and up2.3 and up2.3 and up4.0.3 and up4.1 and up4.2 and up2.3 and up4.1 and up4.2 and up4.4 and up4.0.3 and up4.0 and up3.0 and up4.4 and up2.3 and up4.0 and up2.3 and up4.2 and up2.3.3 and up4.0 and upVaries with device4.4 and up2.3 and up4.0 and up2.2 and up1.6 and up2.3.3 and up4.1 and up2.3 and up2.3 and up2.3 and up4.1 and up4.0 and up4.0.3 and up4.4 and up2.1 and up2.3 and up2.3 and up4.1 and up4.0 and up2.3.3 and upVaries with device4.0.3 and upVaries with device2.3 and up4.0 and up4.0.3 and up4.0 and up4.0 and up2.3 and up4.1 and up2.3.3 and up4.0 and up2.3 and up4.1 and up4.0 and up2.3 and up2.3 and up2.3.3 and up5.0 and up4.1 and up2.3.3 and upVaries with device4.0 and up4.0.3 and up4.0 and up2.2 and up2.3.3 and up2.3 and up2.3 and up4.1 and up2.3 and up4.0 and up2.2 and up4.0.3 and up4.1 and up2.1 and up3.0 and up4.1 and up2.3 and up4.0 and up4.0.3 and up4.0.3 and up4.1 and up4.1 and up1.6 and up4.0.3 and up4.1 and up4.1 and up5.0 and up4.0 and up4.4 and up4.0 and up5.1 and up2.2 and up4.0 and up3.0 and up4.3 and up2.2 and up4.1 and up2.1 and up4.0.3 and up5.0 and up4.0 and up5.0 and up5.0 and up4.0 and up4.0.3 and up4.1 and up4.1 and up4.0 and up5.0 and up4.1 and up4.0 and up4.1 and up4.0.3 and up4.0 and up4.0 and up4.0 and up4.1 and up2.2 and up4.0 and up4.4 and up4.1 and up2.3.3 and up4.2 and up4.1 and up2.3 and up4.2 and up4.0 and up2.3.3 and up4.1 and up4.1 and upVaries with device2.3 and up4.1 and up2.3 and up4.0 and up4.0.3 and up4.2 and up4.0 and up4.1 and up4.0.3 and up4.0.3 and up4.0.3 and upVaries with device4.0 and up5.0 and up4.0 and up1.5 and upVaries with device4.4 and upVaries with device1.6 and up4.1 and up4.0 and up5.0 and upVaries with device4.0.3 and up4.0.3 and up4.1 and upVaries with device2.3 and up2.0 and up4.0.3 and up4.1 and up4.0.3 and upVaries with device4.1 and up4.1 and up2.3 and up2.3 and up4.1 and up4.1 and up5.0 and up4.0.3 and up5.0 and up4.0.3 and up4.0.3 and upVaries with device4.1 and up4.1 and up4.1 and up4.1 and up2.0 and upVaries with device3.0 and up4.1 and up4.1 and up4.0.3 and up4.0.3 and up3.0 and up4.1 and upVaries with device5.0 and up4.0.3 and up4.1 and up2.3 and up2.3 and up4.1 and up2.3 and upVaries with deviceVaries with device4.1 and upVaries with deviceVaries with deviceVaries with device2.3 and up4.1 and up4.0.3 and up4.0 and up4.0.3 and up4.1 and upVaries with device2.3 and up5.0 and up5.0 and upVaries with device4.1 and up4.1 and up2.3 and upVaries with device4.1 and up4.1 and upVaries with device4.0.3 and up4.0.3 and up4.4 and up4.1 and up4.1 and up4.1 and up4.1 and up4.0.3 and up4.3 and up4.1 and up4.0 and up4.1 and up4.0 and up4.0.3 and up4.1 and up4.2 and up4.2 and up2.3 and up4.1 and up4.1 and up4.0.3 and up4.1 and up4.1 and up4.1 and up4.1 and upVaries with device4.2 and up4.3 and up4.0 and up4.0.3 and up4.2 and up4.1 and up4.0.3 and up3.0 and up4.1 and up4.1 and up2.3 and up4.1 and up4.1 and up4.0 and up4.1 and up4.3 and up2.3 and up2.2 and up5.0 and up2.3 and up2.3 and up2.3 and up2.2 and up2.3 and up4.4 and up4.0 and up4.1 and up4.1 and up4.1 and up4.1 and up4.1 and up4.0.3 and up4.0.3 and up4.1 and up5.1 and up4.1 and up4.1 and upVaries with device4.4 and up4.0 and up4.0.3 and up4.1 and up4.0.3 and up2.3 and up4.3 and up4.1 and up4.0.3 and up2.3 and up4.1 and up4.3 and up4.0 and up4.0 and up4.1 and up4.1 and up4.1 and up4.0 and up4.0.3 and up4.1 and up2.3 and up4.0 and up4.1 and up4.1 and up4.1 and up4.0.3 and up4.0.3 and up2.3 and up4.0 and up4.1 and up4.1 and upVaries with device1.6 and up2.3 and upVaries with device4.0 and up2.1 and up2.2 and up4.0 and up2.1 and up4.0 and up2.2 and up2.0 and up4.0 and up4.0 and up2.1 and up1.6 and up2.0 and up4.2 and up4.0 and up4.2 and up4.0 and up4.2 and up4.3 and up4.1 and up1.6 and up4.1 and up4.2 and up5.0 and up2.2 and up4.1 and up4.0.3 and up4.3 and upVaries with device4.0 and up4.1 and up4.4 and up4.0.3 and up4.1 and up3.0 and up5.0 and up4.0 and up4.1 and upVaries with device4.1 and upVaries with device4.1 and up5.0 and up4.1 and up4.1 and up2.2 and up4.0 and up4.0.3 and up4.1 and up4.0 and up4.0.3 and upVaries with deviceVaries with deviceVaries with device4.1 and upVaries with deviceVaries with device4.4 and up4.1 and up4.2 and upVaries with deviceVaries with device4.1 and up4.0.3 and upVaries with deviceVaries with device4.0.3 and up5.0 and up4.1 and up4.0.3 and up4.1 and upVaries with device4.0.3 and up4.1 and up4.1 and upVaries with device4.0 and up4.0.3 and up4.0 and up2.1 and up4.0 and up2.2 and up4.2 and up2.3.3 and up4.0.3 and up4.0.3 and up4.1 and up2.1 and up4.1 and up4.0.3 and up4.0.3 and up4.0.3 and up4.1 and up2.2 and up4.4 and up4.4 and upVaries with device4.3 and up4.4 and up4.1 and up4.1 and up2.3.3 and up4.4 and up4.1 and up4.1 and up4.1 and up2.3 and up4.1 and up1.6 and up4.4 and upVaries with device4.3 and up4.0 and up4.0 and up4.1 and up4.1 and up4.1 and up4.0 and up4.0 and upVaries with device4.4 and up4.0.3 and up4.0.3 and up4.1 and up4.4 and up5.0 and up2.3 and up4.1 and up6.0 and up4.1 and up4.0 and up4.1 and up4.1 and up4.4 and up4.1 and up4.0.3 and up5.0 and up4.1 and up4.4 and up2.3 and up4.0.3 and up4.0 and up2.3.3 and up4.1 and up2.3 and up4.4 and up2.1 and up4.4 and upVaries with deviceVaries with device4.0 and up4.1 and up4.0 and up4.1 and upVaries with device4.0 and up2.3 and up4.1 and up4.1 and up4.1 and up4.2 and up4.1 and upVaries with device2.3 and up4.0.3 and up4.1 and up4.4 and up4.0 and upVaries with device4.1 and up4.0.3 and upVaries with device4.1 and up4.4 and up4.0 and up4.0.3 and upVaries with deviceVaries with device5.0 and up4.0.3 and up4.2 and up4.0.3 and upVaries with device2.3 and upVaries with device4.0 and up4.1 and up2.3 and up4.0 and up4.0 and up4.1 and up2.3 and up2.1 and upVaries with device4.2 and up1.6 and upVaries with device2.0 and up2.1 and up2.2 and up1.6 and up1.6 and up3.0 and upVaries with device4.0.3 and up1.6 and up1.6 and upVaries with device5.0 and up1.6 and up1.6 and up1.6 and up2.2 and up5.0 and up2.1 and up1.6 and up2.2 and up2.3 and up4.0.3 and up3.0 and up4.0 and upVaries with device4.1 and up4.1 and up1.6 and up1.6 and up2.3 and up2.3.3 and up4.0.3 and up2.1 and up4.0 and up3.0 and up2.3 and up4.1 and up2.2 and up6.0 and up4.1 and up4.0.3 and up4.1 and up2.1 and up2.1 and up4.0.3 and up4.0.3 and up2.3 and up4.0.3 and up4.1 and up4.0.3 and up4.0 and up2.1 and up4.0.3 and up2.3 and up4.4 and up3.0 and up4.1 and up4.0 and up5.0 and up2.1 and up4.0 and up4.0.3 and upVaries with device4.0.3 and up2.3 and upVaries with deviceVaries with device4.2 and up4.3 and up4.0 and up4.4 and up2.3 and up3.2 and up2.2 and up5.0 and up4.3 and up4.0 and up4.0 and upVaries with device3.0 and up2.1 and up5.0 and up4.3 and up5.0 and up4.3 and up4.0 and up2.1 and up2.3 and upVaries with device4.0 and up4.4 and up2.2 and up4.0.3 and up2.2 and up3.0 and up4.3 and up4.1 and up4.0 and up4.4 and up4.1 and up5.0 and up6.0 and up4.1 and up5.0 and up4.0.3 and up5.0 and up4.1 and up4.1 and up4.0 and up4.1 and up4.0 and up4.0.3 and up4.0 and up4.0 and up4.1 and up4.0.3 and up4.0.3 and up4.1 and up2.3 and up4.4 and up4.0.3 and up4.1 and up4.0.3 and up4.0.3 and up4.0.3 and up4.3 and up4.0.3 and upVaries with device4.4 and upVaries with device4.4 and upVaries with device2.3 and up4.1 and up4.1 and up4.0.3 and up4.1 and upVaries with device4.1 and up4.1 and up4.0.3 and up4.1 and up4.1 and up2.3 and up4.0.3 and up2.2 and up2.3 and up4.2 and up4.4 and up5.0 and up5.0 and up4.3 and up4.2 and up4.0.3 and up4.4 and up3.0 and up4.0 and up4.0.3 and up4.0 and up4.2 and up4.4 and up3.0 and up4.1 and up2.3 and up4.0.3 and up4.0.3 and up4.0 and up4.0.3 and up2.3 and up4.1 and up4.2 and up4.1 and up4.0.3 and up4.1 and up4.1 and up4.1 and up4.0 and up4.0 and up4.1 and up4.1 and up4.4 and up4.1 and up4.0.3 and up2.3 and up5.0 and up4.4 and up4.4 and up4.1 and up4.1 and up4.4 and up5.0 and upVaries with device4.4 and up4.3 and up4.4 and up4.4 and up2.3 and up5.0 and up4.1 and up4.2 and up4.0 and up4.0.3 and up4.1 and up4.2 and up5.0 and up4.1 and up4.0.3 and upVaries with device1.6 and up4.0.3 and up4.4 and up4.0.3 and up4.0.3 and up4.4 and up5.0 and up4.0.3 and up4.4 and up4.4 and up4.4 and up4.4 and up4.4 and up4.0.3 and up4.4 and up1.6 and up5.0 and up4.0 and up4.1 and up4.4 and up4.1 and up4.4 and up4.0.3 and up4.4 and up4.4 and up4.0.3 and up3.0 and up3.0 and up2.3 and up4.1 and up3.0 and up4.0.3 and up4.0.3 and up4.1 and up4.2 and up4.0 and up4.0.3 and up5.0 and up4.1 and up5.0 and up4.1 and up4.1 and up4.0.3 and up4.0 and up4.1 and up4.0 and up4.0 and up5.0 and up4.0 and up4.1 and up2.3.3 and up4.1 and up4.0 and up4.1 and up4.1 and up4.2 and up4.1 and up2.3 and up4.1 and up4.1 and up2.3 and up4.1 and up4.1 and up4.1 and up4.1 and up2.2 and up4.0 and up4.1 and up2.3 and up4.4 and up2.3.3 and up4.0.3 and up2.3 and up2.3 and up4.2 and up2.3 and up4.1 and up2.3 and up4.4 and up2.3 and up4.0.3 and up4.1 and up2.3.3 and up4.1 and up2.3.3 and up4.0 and up4.0 and up4.1 and up4.4 and up4.0.3 and up4.0 and up4.0.3 and up2.3.3 and up2.3.3 and up4.0 and up5.0 and up4.1 and up4.2 and up4.1 and up3.0 and up4.1 and up4.1 and up4.0.3 and up3.0 and up4.0 and up4.1 and up2.3 and up4.1 and up5.0 and up6.0 and up5.1 and up1.6 and up2.2 and upVaries with device2.3 and up4.0.3 and up4.0.3 and up6.0 and up4.0 and upVaries with device4.4 and up4.2 and upVaries with device4.0 and up4.4 and up1.6 and up2.1 and up1.6 and up4.1 and up2.3.3 and up4.0 and up2.3 and up4.1 and up5.0 and up4.0 and up4.2 and up2.3 and up4.0.3 and up4.4 and up2.2 and up2.3 and up2.3.3 and up4.0 and up4.0 and up4.0 and up2.3 and up4.0 and up2.3.3 and up4.3 and up4.1 and up2.3 and up2.3.3 and up2.3.3 and up4.4 and up2.3 and up4.0.3 and up2.3 and up2.3.3 and up4.2 and up2.3 and up4.1 and up4.1 and up4.1 and up4.0 and up2.3 and upVaries with device2.3 and up4.1 and up2.3 and up2.3.3 and up4.1 and up2.2 and up2.3 and up4.0 and up4.2 and up4.1 and up2.3 and up4.0.3 and up4.2 and up4.0 and up5.0 and up3.2 and up4.1 and up4.4 and up2.3 and up4.4 and up4.1 and up4.0 and up4.4 and up2.3 and up4.4 and up2.2 and up4.1 and up4.1 and up4.4 and up4.0 and up4.0.3 and up4.0.3 and up4.1 and up4.0.3 and up4.1 and up4.0.3 and up4.4 and up3.0 and up2.3 and up4.0 and upVaries with device3.0 and up4.1 and up4.1 and up4.1 and up4.4 and up4.2 and up4.4 and up4.1 and up3.0 and up2.1 and up4.0.3 and up4.1 and up2.3.3 and up4.4 and up2.2 and up4.0.3 and up4.1 and up4.0 and up4.1 and up4.4 and up2.3.3 and up2.2 and up4.0.3 and up4.1 and up4.4 and up4.0 and up2.3.3 and up4.1 and up4.0.3 and up5.0 and up4.1 and up4.0.3 and up4.0.3 and up5.0 and up4.1 and up7.0 and up4.1 and up2.3.3 and up4.3 and up4.4 and up2.1 and up4.1 and up4.0 and up5.0 and up4.0 and up5.0 and upVaries with device5.0 and up4.0.3 and up4.1 and up4.0 and upVaries with device4.0.3 and up4.0.3 and up4.2 and up4.0 and up4.1 and up4.0 and up4.0.3 and up4.0 and up2.3 and up2.2 and up4.0 and up4.0.3 and up2.2 and up2.2 and up2.2 and upVaries with device4.1 and up4.4 and up4.0.3 and up2.1 and up4.1 and up4.0.3 and up3.0 and up2.3 and up2.1 and up4.1 and up7.0 and up2.2 and up2.3 and up2.3 and up2.3.3 and upVaries with device4.0.3 and up4.0 and upVaries with deviceVaries with device4.1 and up4.0 and up4.0 and up4.4 and up5.0 and up4.4 and up5.0 and up4.1 and up2.3.3 and up4.1 and up3.0 and up4.4 and up4.2 and up4.4 and up4.0 and up4.0 and up4.4 and up4.0.3 and up2.0 and up1.6 and up4.0 and up2.2 and up4.1 and up2.3 and up6.0 and up4.4 and up4.0.3 and up4.2 and up3.1 and up6.0 and up4.0.3 and up4.4 and up2.3 and up2.3.3 and up4.1 and up4.4 and up4.0 and up4.2 and up1.6 and upVaries with device4.0.3 and up4.2 and up5.0 and up2.3 and up4.0 and up2.3 and up4.0 and up4.1 and up4.4 and up4.1 and up4.1 and up5.0 and up4.1 and up4.0 and up2.3 and up6.0 and up4.1 and up4.1 and up4.1 and up2.2 and up4.0 and up4.0.3 and up4.1 and up4.1 and up5.0 and up4.0.3 and up4.4 and up4.4 and up3.0 and up4.0 and up2.3 and up4.2 and up4.1 and up4.4 and up4.0.3 and up3.0 and up4.2 and up5.0 and up4.1 and up4.1 and upVaries with device4.0.3 and up4.0 and up4.1 and up1.6 and up2.1 and up2.2 and up4.1 and up4.1 and up4.1 and upVaries with deviceVaries with device to numeric",
     "output_type": "error",
     "traceback": [
      "\u001b[1;31m---------------------------------------------------------------------------\u001b[0m",
      "\u001b[1;31mValueError\u001b[0m                                Traceback (most recent call last)",
      "\u001b[1;32m~\\anaconda3\\lib\\site-packages\\pandas\\core\\nanops.py\u001b[0m in \u001b[0;36m_ensure_numeric\u001b[1;34m(x)\u001b[0m\n\u001b[0;32m   1536\u001b[0m         \u001b[1;32mtry\u001b[0m\u001b[1;33m:\u001b[0m\u001b[1;33m\u001b[0m\u001b[1;33m\u001b[0m\u001b[0m\n\u001b[1;32m-> 1537\u001b[1;33m             \u001b[0mx\u001b[0m \u001b[1;33m=\u001b[0m \u001b[0mfloat\u001b[0m\u001b[1;33m(\u001b[0m\u001b[0mx\u001b[0m\u001b[1;33m)\u001b[0m\u001b[1;33m\u001b[0m\u001b[1;33m\u001b[0m\u001b[0m\n\u001b[0m\u001b[0;32m   1538\u001b[0m         \u001b[1;32mexcept\u001b[0m \u001b[0mValueError\u001b[0m\u001b[1;33m:\u001b[0m\u001b[1;33m\u001b[0m\u001b[1;33m\u001b[0m\u001b[0m\n",
      "\u001b[1;31mValueError\u001b[0m: could not convert string to float: '4.0.3 and up4.0.3 and up4.0.3 and up4.2 and up4.4 and up2.3 and up4.0.3 and up4.2 and up3.0 and up4.0.3 and up4.1 and up4.0 and up4.1 and up4.4 and up2.3 and up4.2 and up4.1 and up2.3 and up4.0.3 and up4.1 and up4.1 and up4.0.3 and up4.0.3 and up4.1 and up3.0 and up4.0.3 and up4.0.3 and up2.3 and up2.3 and up4.0.3 and up2.3 and up4.0 and up4.1 and up4.1 and up4.1 and up4.4 and up2.3.3 and up4.0.3 and up4.0 and up4.0.3 and up4.0.3 and upVaries with device4.1 and up4.1 and up4.1 and up4.1 and up4.1 and up2.3 and up4.0.3 and up4.1 and up4.1 and upVaries with device4.1 and up4.1 and up4.0 and up4.4 and up4.1 and up2.2 and up4.4 and up4.0.3 and up4.2 and up4.1 and up4.0 and up4.2 and up4.4 and up2.3 and upVaries with deviceVaries with device4.0.3 and up4.0.3 and up4.2 and up5.0 and up2.3.3 and up4.0 and up4.0 and up4.1 and up4.0 and up4.1 and up4.1 and up6.0 and up4.2 and up5.0 and up4.0.3 and up4.4 and upVaries with device2.3 and up4.0.3 and upVaries with deviceVaries with device4.1 and up4.0.3 and up4.0.3 and up4.0.3 and up4.0.3 and up4.0 and up4.0.3 and up4.0 and up5.0 and up4.1 and up4.1 and up4.0.3 and upVaries with device4.1 and up4.0.3 and up4.0 and up4.2 and up5.0 and up4.0.3 and upVaries with device4.0 and up4.0 and up4.0.3 and up4.0.3 and up4.0.3 and up4.0.3 and upVaries with device4.0 and up4.0 and up4.0.3 and up4.0 and up5.0 and up4.0.3 and up4.0 and up4.1 and up4.0 and up4.0.3 and up4.0.3 and up1.6 and up4.0.3 and up4.0 and up4.0.3 and up4.0.3 and upVaries with device4.4 and up4.0 and upVaries with deviceVaries with device1.5 and upVaries with deviceVaries with device4.1 and up4.0 and upVaries with device4.0 and up4.0.3 and upVaries with device2.3 and up4.0.3 and up4.1 and up4.0.3 and upVaries with device4.1 and up4.1 and up2.3 and up4.1 and upVaries with device4.0 and up4.0 and up4.1 and up4.0.3 and up3.0 and up4.0.3 and up2.1 and up4.4 and upVaries with device7.0 and up4.0 and up4.0.3 and up4.0.3 and up3.0 and up3.0 and upVaries with device4.0 and up4.2 and up4.0.3 and up2.2 and up4.2 and upVaries with deviceVaries with deviceVaries with device5.0 and upVaries with deviceVaries with device4.4 and up4.1 and up4.0.3 and up5.0 and up4.1 and up4.1 and up4.0.3 and up1.5 and upVaries with deviceVaries with device4.3 and upVaries with device4.1 and up4.0 and upVaries with deviceVaries with device2.2 and up4.1 and upVaries with device4.1 and up4.0 and upVaries with device4.1 and up4.0 and up4.1 and up4.2 and up4.0 and up4.0 and up4.0.3 and up4.0.3 and up2.2 and up4.0.3 and up7.0 and upVaries with deviceVaries with device4.0.3 and upVaries with device3.0 and up4.1 and up4.1 and up4.0 and up3.0 and upVaries with device4.1 and up4.0.3 and up4.4 and upVaries with device4.2 and up5.0 and up4.1 and up4.1 and upVaries with device5.0 and up4.0.3 and up5.0 and up4.4 and up4.0 and up4.1 and up4.1 and up4.4 and up4.1 and up4.3 and up4.0 and up5.0 and up4.4 and upVaries with device4.0.3 and up4.4 and up4.0 and up5.0 and upVaries with deviceVaries with device4.1 and up4.0.3 and up4.4 and upVaries with device4.2 and up5.0 and up4.1 and up4.1 and upVaries with device5.0 and up4.0.3 and up5.0 and up4.4 and up4.0 and up4.1 and up4.1 and up4.4 and up4.1 and upVaries with device4.0.3 and upVaries with device3.0 and up4.1 and up4.1 and up4.0 and up3.0 and upVaries with device4.1 and upVaries with device5.0 and up4.1 and upVaries with device4.1 and up4.1 and up4.0.3 and up4.4 and up4.1 and up4.1 and up5.0 and up4.0 and up2.3 and up4.0.3 and up4.2 and up4.0.3 and up4.0.3 and up4.0.3 and up4.0.3 and up4.0.3 and up4.1 and upVaries with device4.2 and up4.4 and up4.4 and up4.0 and upVaries with device4.1 and up4.1 and up5.0 and up4.0.3 and up4.1 and upVaries with device4.0 and up4.0.3 and up2.3 and up4.0.3 and up4.0.3 and up4.0 and up4.4 and upVaries with deviceVaries with device4.1 and upVaries with device2.3 and upVaries with deviceVaries with deviceVaries with device4.4 and upVaries with device4.4 and up4.0 and up4.0 and up5.0 and up4.1 and up4.0.3 - 7.1.1Varies with device4.0.3 - 7.1.1Varies with deviceVaries with device4.1 and upVaries with device4.1 and up5.0 and upVaries with deviceVaries with deviceVaries with device4.0.3 and upVaries with device4.0.3 and upVaries with device4.0 and up4.0.3 and up5.0 and upVaries with deviceVaries with device4.4 and up4.1 and upVaries with device4.1 and upVaries with deviceVaries with device4.0.3 and up4.0 and up4.3 and up4.4 and upVaries with deviceVaries with device4.0 and up4.0.3 and upVaries with deviceVaries with device4.2 and up4.0 and up4.4 and upVaries with deviceVaries with deviceVaries with deviceVaries with deviceVaries with device4.0 and upVaries with device2.3 and up2.3 and upVaries with device4.0.3 and up4.1 and upVaries with deviceVaries with deviceVaries with device4.0.3 and up4.0.3 and upVaries with device5.0 and up4.0 and up4.1 and upVaries with deviceVaries with device4.0 and up4.1 and upVaries with device2.3 and upVaries with deviceVaries with device4.0 and up4.0 and up4.0.3 and upVaries with device4.0 and up4.0 and up4.0 and up3.0 and up4.1 and up4.0.3 and up2.1 and up4.0 and upVaries with device4.0 and up4.0 and up4.0.3 and up5.0 and up4.0.3 and up5.0 and up4.0 and up2.1 and up4.1 and up4.1 and upVaries with deviceVaries with device4.1 and upVaries with device4.0.3 and up4.1 and upVaries with deviceVaries with device2.3 and upVaries with device4.4 and up4.0.3 and upVaries with device4.1 and up4.1 and up5.0 and up2.0 and upVaries with device2.2 and up4.0 and upVaries with deviceVaries with deviceVaries with device4.0 and up4.4 and upVaries with deviceVaries with deviceVaries with device2.3.3 and up4.0.3 and upVaries with deviceVaries with deviceVaries with deviceVaries with device4.1 and up4.0 and up4.0 and upVaries with device4.1 and upVaries with device4.1 and up5.0 and up4.1 and up4.1 and up4.1 and up4.4 and upVaries with device4.1 and up4.0 and up4.4 and up4.1 and up4.4 and up4.1 and up4.1 and up4.1 and upVaries with device4.2 and up4.1 and up4.1 and up4.4 and up4.1 and up4.4 and up4.1 and upVaries with device4.0.3 and up4.2 and up4.0.3 and up4.0.3 and up4.4 and up4.0 and up4.1 and up4.0.3 and up4.1 and up5.0 and up4.4 and up4.0.3 and up4.1 and up5.0 and up4.1 and up4.0 and up4.0.3 and up4.0 and up4.1 and up4.0.3 and up4.0 and up4.0.3 and up4.2 and upVaries with device4.1 and up4.0.3 and up4.0.3 and up5.0 and up4.0 and up4.1 and up4.1 and up4.1 and up4.1 and up4.1 and up4.4 and up4.1 and up5.0 and up4.4 and up4.1 and up4.1 and up4.0.3 and up4.1 and up4.1 and up4.1 and upVaries with device5.0 and up5.0 and up4.1 and up4.0.3 and up4.0.3 and up4.2 and up4.4 and upVaries with device4.1 and up4.2 and up4.1 and up4.1 and up4.1 and up4.3 and up4.1 and up4.0.3 and up4.1 and up4.1 and up4.0.3 and up4.1 and upVaries with device4.0.3 and up4.1 and up4.1 and up4.2 and up4.0.3 and up4.1 and up4.0.3 and up4.1 and up4.2 and up4.1 and up4.1 and up4.0.3 and up4.1 and up4.0.3 and up4.1 and up4.0 and up4.1 and up4.0.3 and up4.1 and up4.1 and up4.0.3 and up4.0.3 and up4.0.3 and up4.2 and up4.0 and up4.1 and up4.0 and up4.4 and up4.3 and up4.0.3 and up4.0.3 and up4.0.3 and up4.0.3 and up4.0.3 and up4.0.3 and up4.4 and up4.0.3 and up4.0.3 and up4.4 and up4.0.3 and up4.0.3 and up4.0.3 and up4.1 and up4.0.3 and up4.0.3 and up4.0.3 and up4.0.3 and up4.0.3 and up4.0.3 and up4.0 and up4.1 and up4.1 and up5.0 and up4.0.3 and up4.0.3 and up4.2 and up5.0 and up4.1 and up4.3 and up4.4 and up4.4 and upVaries with device4.0.3 and up4.0.3 and up4.0.3 and up4.1 and up4.0.3 and up4.4 and up4.1 and up4.4 and up4.1 and up4.0.3 and up4.0.3 and up4.0.3 and up4.1 and up4.0.3 and up4.0.3 and up4.0.3 and up4.0.3 and up4.0.3 and up4.0 and up4.4 and up4.0.3 and up4.0 and up4.1 and up4.1 and up4.2 and up4.0.3 and upVaries with device4.1 and up4.0 and up4.1 and up4.0 and up4.0 and up4.0 and up4.0.3 and up4.0 and up4.0 and up4.1 and up4.1 and up4.2 and upVaries with deviceVaries with device4.0 and up4.0 and up4.4 and up4.0 and up2.3 and up4.1 and up5.0 and up1.6 and up4.4 and upVaries with device4.0.3 and up2.3 and up4.2 and up4.4 and up2.3 and up4.1 and up4.1 and up2.3 and up4.1 and upVaries with device4.0.3 and up4.1 and upVaries with device4.1 and up4.1 and upVaries with device5.0 and upVaries with device4.1 and upVaries with device4.0.3 and upVaries with device5.0 and up4.1 and up4.1 and upVaries with deviceVaries with device4.0 and up2.3 and up2.3 and up2.3 and up5.0 and up5.0 and up4.0 and upVaries with device4.0 and up4.0 and up4.0 and up4.1 and up4.0 and up4.4 and up4.1 and up4.4 and up2.2 and up2.3.3 and up2.1 and upVaries with device2.3.3 and up4.0 and upVaries with device2.1 and up4.1 and upVaries with device4.0 and upVaries with deviceVaries with deviceVaries with device4.1 and up4.1 and upVaries with deviceVaries with deviceVaries with device5.0 and up5.0 and up4.1 and up5.0 and upVaries with device4.1 and upVaries with deviceVaries with device4.4 and up4.4 and upVaries with device4.1 and upVaries with device4.0 and up5.0 and up4.4 and up4.2 and up4.1 and up4.0 and upVaries with device4.0 and up5.0 and upVaries with device2.3 and up4.0.3 and up4.0 and up2.3 and upVaries with device4.0.3 and up2.3 and up4.0 and upVaries with deviceVaries with device4.0.3 and up3.2 and up4.4 and upVaries with deviceVaries with device4.1 and upVaries with device3.0 and up4.0 and up4.1 and up4.2 and up5.0 and upVaries with device4.4 and up3.0 and up5.0 and upVaries with device4.4 and upVaries with deviceVaries with device4.1 and up4.0 and upVaries with device4.1 and up4.1 and upVaries with device5.0 and up5.0 and up4.0.3 and up4.1 and up4.1 and up4.0.3 and up4.1 and up4.4 and up4.4 and upVaries with device4.0.3 and upVaries with device4.1 and up4.1 and up5.0 and upVaries with device6.0 and up4.2 and up4.0.3 and upVaries with deviceVaries with deviceVaries with device4.0 and upVaries with device2.3.3 and up4.0.3 and up4.1 and upVaries with device4.1 and upVaries with device4.2 and up4.2 and upVaries with device4.1 and up4.1 and up4.1 and up4.0.3 and up4.4 and up4.1 and upVaries with device4.1 and up4.4 and upVaries with deviceVaries with device4.3 and up4.1 and up4.1 and up4.1 and upVaries with device4.2 and up5.0 and upVaries with device4.4 and upVaries with device6.0 and up4.1 and up5.0 and upVaries with deviceVaries with deviceVaries with deviceVaries with device4.1 and upVaries with device4.4 and upVaries with device4.1 and upVaries with device4.1 and upVaries with device4.4 and up4.4 and up4.4 and up4.4 and up4.4 and up4.4 and up4.4 and up4.4 and up5.0 and upVaries with deviceVaries with deviceVaries with device4.4 and up4.0.3 and up4.4 and upVaries with deviceVaries with device4.1 and upVaries with deviceVaries with deviceVaries with device4.1 and up4.4 and up5.0 and up4.4 and up4.4 and up4.4 and up4.1 and up4.4 and upVaries with device4.1 and up4.4 and up4.4 and up4.4 and up4.4 and up4.4 and up4.4 and up5.0 and up4.1 and upVaries with deviceVaries with device4.4 and up4.4 and upVaries with device4.1 and upVaries with deviceVaries with deviceVaries with device4.4 and upVaries with device5.0 and upVaries with device4.4 and up4.4 and upVaries with device4.4 and upVaries with device4.4 and up5.0 and upVaries with deviceVaries with device4.3 and up4.4 and up4.4 and upVaries with device4.4 and up4.4 and up4.4 and up4.4 and up4.4 and up4.4 and up4.4 and up4.2 and upVaries with deviceVaries with device6.0 and up4.0.3 and up4.4 and upVaries with device5.0 and upVaries with deviceVaries with device4.0 and up2.3.3 and up2.3 and up5.0 and up4.1 and up4.0.3 and upVaries with device4.0.3 and upVaries with device4.1 and up4.1 and upVaries with device4.1 and up4.0 and up5.0 and up4.2 and up5.0 and upVaries with device4.2 and up4.1 and up4.0 and up4.0 and up5.0 and up4.2 and upVaries with device2.3.3 and upVaries with device2.3.3 and up4.4 and up4.1 and up2.0 and up4.1 and upVaries with device4.2 and up4.0 and up4.4 and up4.0.3 and up5.0 and up4.1 and up4.2 and up4.2 and upVaries with device5.0 and upVaries with device4.2 and up4.0.3 and up4.2 and up4.1 and upVaries with device4.0 and upVaries with device4.2 and upVaries with deviceVaries with device4.1 and up5.0 and up4.0.3 and up4.0.3 and upVaries with deviceVaries with deviceVaries with device4.0.3 and up4.0.3 and up4.2 and up4.4 and up5.0 and upVaries with device4.1 and up4.4 and up5.0 and up4.0 and up4.2 and up4.0 and up4.1 and up4.1 and upVaries with device4.0 and up4.4 and upVaries with deviceVaries with device4.1 and up4.4W and upVaries with device5.0 and up5.0 and up4.1 and up4.4 and upVaries with deviceVaries with deviceVaries with device4.0 and upVaries with device5.0 and up4.1 and up4.0 and up5.0 and up5.0 and upVaries with device4.1 and up4.4 and up4.4 and up4.2 and up4.0 and up4.4 and up4.4 and up4.4 and upVaries with device5.0 and up4.1 and upVaries with device4.0.3 and up6.0 and up4.0.3 and up4.4 and up4.4 and up5.0 and up2.3.3 and upVaries with deviceVaries with device4.0 and upVaries with device4.1 and upVaries with deviceVaries with deviceVaries with device2.3 and upVaries with device4.4 and upVaries with device4.2 and upVaries with device2.1 and upVaries with device4.0 and up4.1 and upVaries with deviceVaries with device4.4 and upVaries with device4.4 and upVaries with deviceVaries with device5.0 and up4.1 and up4.1 and up4.4 and up4.4 and up5.0 and up4.4 and up4.1 and up4.4 and up4.4 and up4.0.3 and up4.2 and up5.0 and upVaries with device5.0 and up4.4 and up5.0 and up4.1 and up5.0 and up5.0 and up5.0 and up4.4 and up4.1 and up5.0 and upVaries with device5.0 and up4.4 and up5.0 and up4.1 and up4.0.3 and upVaries with device4.0.3 and upVaries with device4.4 and up4.0.3 and up4.0.3 and up4.1 and up4.4 and up4.4 and up4.2 and up4.0 and up5.0 and up5.0 and up5.0 and up4.0.3 and up4.4 and up4.0.3 and upVaries with device4.1 and upVaries with device4.0.3 and upVaries with deviceVaries with device4.0.3 and up4.4 and up4.4 and upVaries with device4.1 and up4.0.3 and up4.1 and up4.1 and up4.4 and up4.1 and up4.0 and up4.0.3 and up4.4 and upVaries with device4.0.3 and upVaries with device5.1 and up4.1 and upVaries with device2.3.3 and up4.0 and upVaries with deviceVaries with device4.0 and up4.4 and up5.0 and up4.2 and up5.0 and up5.0 and up5.0 and up5.0 and upVaries with deviceVaries with device4.4 and up5.0 and upVaries with device5.0 and upVaries with deviceVaries with deviceVaries with device5.0 and up4.1 and up6.0 and upVaries with device5.0 and up5.0 and up5.0 and upVaries with device4.1 and up4.2 and upVaries with deviceVaries with device4.4 and up4.2 and up4.1 and up4.2 and up4.0 and up4.0 and up4.4 and up4.1 and up4.1 and up4.4 and up4.0 and up4.0 and up4.1 and up4.0.3 and up4.1 and up4.1 and up5.0 and up4.0.3 and upVaries with device4.1 and upVaries with device4.1 and up4.1 and up4.1 and up4.4 and up3.0 and upVaries with device5.0 and up4.2 and upVaries with device4.1 and up4.1 and upVaries with device5.0 and up4.4 and upVaries with device2.3 and up2.3.3 and up4.4 and up5.0 and upVaries with device5.0 and up4.1 and up4.4 and up5.0 and up4.1 and upVaries with deviceVaries with deviceVaries with device4.1 and upVaries with device5.0 and upVaries with device4.1 and up5.0 and up5.0 and up4.4 and up4.0.3 and up5.0 and upVaries with deviceVaries with device4.1 and up4.4 and up4.0.3 and up5.0 and upVaries with deviceVaries with device5.0 and upVaries with device4.0 and upVaries with device4.0.3 and up2.3.3 and up4.0 and up4.0.3 and up2.3.3 and upVaries with device4.0.3 and up4.3 and up4.2 and up4.1 and up2.3.3 and upVaries with deviceVaries with deviceVaries with deviceVaries with device4.4 and up4.2 and up4.1 and up4.0 and upVaries with deviceVaries with device4.0.3 and up4.0.3 and up4.3 and upVaries with device5.0 and up4.1 and up4.4 and up4.0.3 and upVaries with device4.2 and upVaries with deviceVaries with device4.1 and upVaries with device4.0.3 and upVaries with device5.0 and upVaries with device4.4 and up4.4 and upVaries with deviceVaries with device4.0.3 and up4.1 and up4.4 and upVaries with deviceVaries with device4.1 and up4.1 and upVaries with device4.1 and up5.0 and upVaries with deviceVaries with device5.0 and up5.0 and up4.4 and upVaries with deviceVaries with deviceVaries with device4.4 and upVaries with deviceVaries with device5.0 and up2.3.3 and up4.1 and up4.0.3 and up5.0 and upVaries with device4.1 and up4.4 and up4.0.3 and up4.0 and upVaries with device4.0 and upVaries with deviceVaries with device5.0 and up2.3.3 and up4.0 and up4.1 and up4.1 and upVaries with device2.3 and up5.0 and up4.0.3 and up4.4 and up4.1 and upVaries with device4.0.3 and up4.0 and up4.0 and upVaries with deviceVaries with device4.0.3 and up4.0.3 and up4.4 and upVaries with deviceVaries with device4.1 and up4.4 and up4.0.3 and upVaries with device4.0.3 and up4.4 and up4.1 and up4.0 and up4.1 and upVaries with deviceVaries with deviceVaries with device4.1 and upVaries with deviceVaries with device4.4 and up4.2 and up4.0 and up4.4 and up5.0 and upVaries with device4.0.3 and up4.0.3 and up4.0.3 and up4.1 and up4.4 and upVaries with deviceVaries with device4.0 and upVaries with device4.2 and up5.0 and up4.0.3 and up4.0.3 and upVaries with device4.0 and upVaries with device5.0 and upVaries with deviceVaries with device4.1 and up4.1 and up4.4 and up4.0 and upVaries with device4.0.3 and up5.0 and up4.0.3 and up4.4 and up4.1 and upVaries with deviceVaries with device4.1 and up4.0.3 and up4.0 and up4.0.3 and up4.0 and up4.0 and up4.0.3 and up3.0 and up3.0 and up3.0 and up3.0 and upVaries with device3.0 and up3.0 and up3.0 and up5.0 and up4.1 and up4.0 and up5.0 and up5.0 and up4.0.3 and upVaries with device4.4 and up4.2 and upVaries with deviceVaries with device4.4 and upVaries with device4.4 and upVaries with device4.0.3 and up5.0 and up2.3 and up2.2 and up4.0.3 and up2.2 and up4.0 and up4.0.3 and up4.0 and up2.2 and upVaries with device2.3 and up4.0.3 and up7.1 and up2.3 and up4.1 and up4.0.3 and up4.0.3 and up1.5 and up4.0.3 and up1.6 and up4.2 and upVaries with device1.6 and up4.1 and up5.0 and up2.3 and up4.0 and up1.5 and up2.3 and up2.3 and up4.0.3 and up3.2 and up4.0 and up4.4 and up4.1 and up5.0 and up2.3 and up4.0 and up4.0 and up4.0 and up4.0.3 and up2.3 and up4.0.3 and up4.0.3 and up7.0 - 7.1.12.3 and up4.1 and up7.0 and up2.3.3 and up4.4 and up4.1 and up4.4 and up5.0 and up4.0 and up4.1 and up4.4 and up4.4 and up4.1 and up2.3 and up2.3 and up5.0 and up2.3 and up4.0.3 and up4.4 and up4.0.3 and up5.0 and up4.0 and up4.0.3 and up4.4 and up2.3 and up4.0 and up4.1 and up4.0 and up4.3 and up4.2 and up4.1 and up4.3 and upVaries with device4.0.3 and up4.1 and up4.1 and up4.4 and up4.0.3 and up4.1 and upVaries with device5.0 and upVaries with device4.4 and up4.0.3 and up4.0 and up4.0 and up4.0 and up4.1 and up4.3 and up4.1 and upVaries with device2.2 and up2.3 and up4.3 and up4.1 and up4.1 and upVaries with device2.2 and up2.3 and up4.3 and up4.1 and up4.0.3 and up5.0 and up4.2 and up2.2 and up4.1 and up4.4 and up4.0.3 and upVaries with device4.0 and up4.0.3 and upVaries with deviceVaries with device4.0 and up4.0.3 and upVaries with device4.1 and upVaries with deviceVaries with device4.0.3 and up4.1 and up4.1 and up4.1 and up4.1 and up4.0.3 and up4.1 and up2.3 and up4.1 and up4.0 and up4.0 and up4.1 and up2.3 and up4.1 and up4.1 and up4.1 and up4.1 and up2.3 and up4.1 and up4.4 and up2.3.3 and up4.1 and up4.0 and up4.0.3 and up4.1 and up3.0 and up3.0 and up4.0 and up4.1 and up4.1 and up4.0.3 and up4.0.3 and up4.1 and upVaries with device4.1 and up4.1 and up4.0 and up4.2 and up4.0.3 and up4.0.3 and up4.0.3 and up4.1 and upVaries with device2.3 and up4.0 and up4.1 and up4.1 and upVaries with device4.1 and up4.1 and up4.0 and up4.0.3 and up4.1 and up4.1 and up4.1 and up4.0.3 and up4.1 and up4.4 and up4.1 and up4.0.3 and up4.1 and up4.4 and up4.1 and up3.0 and up4.1 and up4.0.3 and up4.0.3 and up2.3 and up4.1 and up4.1 and up4.1 and upVaries with device4.0 and up4.1 and up4.1 and up4.1 and up2.3 and up4.0 and upVaries with device4.0.3 and up4.0.3 and up2.3 and up4.0 and up2.3 and up4.1 and up4.1 and up4.3 and up4.4 and up4.1 and up4.0.3 and up4.1 and up4.2 and up4.1 and up4.0.3 and up4.0.3 and up4.0.3 and up4.1 and up4.1 and up4.1 and up4.1 and up4.1 and up4.1 and up4.0 and up4.0.3 and upVaries with device2.3 and up4.1 and up4.0 and up4.4 and up4.1 and up4.1 and up4.1 and up4.4 and up4.1 and up5.0 and up4.1 and up4.1 and up4.4 and up4.1 and up4.1 and up4.1 and up4.0 and up4.1 and up4.1 and up4.1 and up4.1 and up4.0.3 and up4.3 and up4.1 and up4.1 and up4.4 and up5.0 and up4.1 and up4.3 and upVaries with device4.1 and up4.1 and up5.0 and up4.1 and up4.1 and up4.1 and up4.0.3 and up4.3 and up5.0 and up4.1 and up4.1 and up5.0 and up4.1 and up4.1 and up4.4 and up5.0 and up4.4 and up4.1 and up4.1 and up6.0 and upVaries with device4.0.3 and up4.1 and up4.0.3 and up4.2 and up4.4 and up4.1 and up4.1 and upVaries with device4.1 and up6.0 and up4.0 and up2.3 and up4.4 and up4.1 and up4.3 and up4.0.3 and up4.0.3 and up4.4 and up4.1 and up4.0.3 and up4.3 and up4.3 and up4.4 and up4.4 and up5.0 and up4.4 and up2.3 and up4.4 and up4.0.3 and up2.3.3 and up4.1 and up4.4 and up6.0 and up4.1 and up4.1 and up4.1 and up4.0.3 and up4.1 and up4.4 and up4.3 and up4.0.3 and up4.4 and upVaries with device4.0.3 and up4.4 and up4.0.3 and up4.0.3 and up4.1 and up4.0.3 and up4.1 and up4.4 and up6.0 and up4.0.3 and up4.0.3 and up4.0.3 and up2.3 and up4.0 and up4.3 and up2.3 and up4.0.3 and up4.0.3 and up4.1 and up4.1 and up4.0.3 and up4.1 and up4.1 and up2.3 and up4.0.3 and up4.1 and up4.1 and up4.1 and up4.1 and up2.3 and up4.1 and up3.0 and up2.3 and up4.0 and up4.0 and up4.0 and up4.1 and up4.0.3 and up4.1 and up4.1 and up2.3 and up4.0.3 and up4.0.3 and up4.0.3 and up4.0.3 and up4.1 and up4.4 and up4.1 and up4.1 and up4.0 and up4.0 and up4.4 and up4.1 and up4.0.3 and up4.1 and up4.1 and up4.1 and up4.1 and up4.2 and upVaries with device4.3 and up4.0.3 and up4.0.3 and upVaries with device4.0.3 and upVaries with device4.1 and up4.1 and up5.0 and up4.0 and up2.3 and up4.1 and up4.1 and up4.1 and upVaries with device4.1 and up2.3.3 and up4.4 and up4.4 and up4.2 and up4.0.3 and up3.0 and up4.0 and up3.0 and up6.0 and upVaries with device4.1 and up2.3 and up4.1 and up4.1 and up4.0 and up3.0 and up2.3 and up4.1 and up4.1 and up2.3.3 and up4.0.3 and up2.3 and up4.0.3 and up4.1 and up4.1 and up5.0 and up4.0.3 and up4.0.3 and upVaries with device4.1 and up4.0.3 and up4.0 and upVaries with device4.1 and up4.0 and up4.1 and up4.2 and up4.0.3 and up4.0.3 and up4.1 and up4.1 and up2.3 and up4.1 and up4.0.3 and up4.0.3 and up4.0.3 and upVaries with device4.0.3 and up4.0.3 and up4.1 and up4.2 and up2.3.3 and up4.1 and up4.0.3 and up4.1 and up4.1 and up4.0 and up4.1 and up4.0 and up4.1 and up4.0 and up4.1 and up4.1 and up4.1 and upVaries with device4.2 and up4.0 and up4.1 and up2.3 and up4.1 and up4.1 and up4.4 and up4.1 and up4.1 and up2.3.3 and up4.1 and up4.3 and up4.4 and up2.3 and up4.0 and up4.1 and upVaries with deviceVaries with deviceVaries with device2.3 and up2.3.3 and up4.1 and up4.1 and up4.0.3 and up4.1 and up4.0.3 and up4.0.3 and up4.0.3 and up4.1 and up4.0.3 and up4.1 and up2.3 and up4.1 and up4.0 and up4.1 and up4.0.3 and up4.0.3 and up4.1 and up2.3 and up4.1 and up4.1 and up4.0.3 and up4.0.3 and up2.3 and upVaries with device4.1 and up4.0.3 and up4.0.3 and upVaries with device2.3 and up4.0.3 and up4.0.3 and up4.0.3 and up4.1 and up4.0 and up4.0.3 and up4.0 and up4.1 and upVaries with device4.0.3 and up2.3.3 and up4.0 and up4.1 and up4.0.3 and upVaries with device4.4 and up4.4 and up4.1 and up4.1 and up5.0 and up4.4 and up4.4 and up4.2 and up4.1 and up4.1 and up4.0.3 and up4.1 and up4.1 and up4.1 and up4.4 and up4.4 and up5.0 and up4.1 and up4.0.3 and upVaries with deviceVaries with device4.1 and up4.0.3 and upVaries with device4.1 and up4.1 and up4.1 and up4.1 and up4.1 and up4.4 and up4.1 and up4.1 and up4.0.3 and upVaries with device4.1 and up4.0 and up4.4 and up4.1 and up2.3.3 and up4.1 and up4.1 and up4.1 and up4.0.3 and up4.0.3 and up4.4 and up4.2 and up4.2 and up4.1 and up4.1 and up4.1 and up4.0.3 and up4.0 and up4.1 and up4.1 and up4.1 and up2.3 and up4.1 and up2.3 and up4.3 and up2.3 and up4.0.3 and up2.3.3 and up4.1 and up4.1 and up4.2 and up4.0 and up4.0 and up4.4 and up2.3.3 and up4.1 and up4.1 and up4.1 and up4.0 and up4.2 and up4.0 and up2.3 and up4.0.3 and up4.0.3 and up4.1 and up2.3 and up4.2 and up4.0.3 and up4.1 and up4.1 and up2.3 and up5.1 and up4.2 and up4.0 and up4.1 and up4.1 and up4.0 and up4.1 and upVaries with device4.4 and up4.0.3 and up2.3 and up2.3 and up4.0.3 and up2.3 and up2.3 and up4.1 and up4.1 and up3.0 and up4.1 and up2.3 and up4.0.3 and up4.1 and up4.4 and up4.0 and up2.3 and upVaries with device4.0 and up4.0 and up4.0 and up5.1 and up2.3.3 and up4.1 and up4.1 and up4.1 and up2.3 and up4.0 and up2.3 and up4.0.3 and up4.0 and up2.3 and up4.0.3 and up4.2 and up4.0.3 and up2.2 and up4.4 and up4.3 and up4.0.3 and up2.3 and up4.0.3 and up4.0 and up4.0.3 and up4.0 and up2.3 and up4.0.3 and up4.2 and up4.0.3 and up2.2 and up4.4 and up4.3 and up4.0.3 and up2.3 and up4.0.3 and up4.0 and up4.1 and upVaries with device4.1 and up4.2 and up4.1 and up4.0.3 and up4.2 and up4.4 and up4.1 and up4.1 and upVaries with device4.4 and up4.1 and up4.1 and up4.4 and up4.0.3 and up4.0 and up4.2 and up2.3 and up4.2 and up4.4 and up4.4 and up6.0 and up4.0.3 and up4.4 and up2.3 and up4.0.3 and up2.3 and upVaries with device4.0 and up4.0 and up4.1 and up4.3 and up4.1 and up5.0 and upVaries with device2.3.3 and up4.0 and up2.2 and up4.1 and up2.2 and upVaries with device4.1 and up6.0 and up5.0 and up5.0 and up4.0.3 and up4.0.3 and up4.4W and up4.0.3 and up4.0.3 and up4.1 and up4.0 and up5.0 and upVaries with device4.0 and up4.1 and up4.0.3 and up4.0.3 and up4.0 and up2.1 and up4.1 and up3.0 and up4.0 and up4.0 and up3.0 and up3.0 and up4.4 and up4.1 and upVaries with device4.4 and up2.1 and up1.6 and up3.0 and upVaries with device2.3 and up4.1 and up2.3.3 and up4.1 and upVaries with device4.1 and up4.4W and upVaries with deviceVaries with device4.2 and up4.1 and up2.3.3 and up2.1 and up4.1 and up2.2 and up4.0.3 and up2.3.3 and up4.0 and up3.2 and up4.1 and upVaries with device4.4 and upVaries with device4.3 and up4.3 and up5.0 and up4.1 and up4.1 and up4.4 and up4.4 and up5.1 and upVaries with device4.3 and up4.4 and up4.1 and up4.1 and up6.0 and up4.3 and up5.0 and up4.0 and up4.1 and up4.3 and up4.0 and up4.0.3 and up4.4 and up4.0 and up4.4 and up5.0 and up4.1 and up4.1 and up4.0.3 and up5.0 and up4.4 and up5.0 and up4.4 and up5.0 and up4.1 and up4.4 and up4.1 and up4.0.3 and up4.1 and up4.1 and up4.1 and up4.1 and up4.4 and up4.1 and up4.1 and up4.4 and upVaries with device5.0 and up4.0 and up4.4 and up4.0 and up4.1 and up4.0 and up6.0 and up4.4 and up5.0 and up4.1 and up4.4 and up4.0.3 and up4.0 and up5.0 and up4.1 and up4.4 and up4.4 and up4.4 and up5.0 and up4.1 and upVaries with device4.1 and up4.4 and up4.1 and up2.2 and up4.4 and up4.1 and up4.2 and up7.0 and up4.1 and up2.2 and up4.0.3 and up4.0.3 and up4.0 and up4.1 and up4.0 and up7.0 and up3.0 and upVaries with device4.0.3 and up4.4W and up4.4 and up4.4 and upVaries with device4.1 and up3.0 and up5.0 and up4.0 and up4.2 and up4.4 and up4.1 and up2.2 and up4.4 and up4.1 and up3.0 and up4.4 and up4.0 and up4.1 and up5.0 and up4.1 and up4.1 and up5.0 and up4.4 and up4.0 and up4.1 and upVaries with device4.0.3 and up5.0 and up4.4 and up5.0 and up4.1 and up4.2 and up4.1 and up4.1 and up4.1 and up4.0.3 and up4.0.3 and up4.1 and up5.0 and up4.0 and up4.1 and up4.4 and up4.0.3 and up4.0.3 and up4.1 and up4.1 and up4.4 and up8.0 and up4.3 and up4.4 and up4.4 and up4.3 and up4.0.3 and up5.0 and up3.0 and up6.0 and up5.0 and up4.1 and up4.2 and up3.0 and up4.4 and up4.0.3 and up4.0.3 and up4.0.3 and up3.0 and up4.4 and up3.0 and up4.0.3 and up4.0.3 and up4.3 and up4.0.3 and up5.0 and up5.0 and up4.4 and up5.0 and up5.0 and upVaries with device4.0 and up4.1 and up2.2 and up4.0 and up4.4 and up4.3 and up4.4 and up5.0 and up4.0.3 and up2.3.3 and up4.0.3 and up4.1 and up4.0 and up4.0.3 and up4.0.3 and up4.0 and up4.1 and up3.0 and up4.0.3 and up4.0.3 and up5.0 and upVaries with deviceVaries with deviceVaries with device4.1 and upVaries with device4.0 and upVaries with device4.0 and upVaries with deviceVaries with deviceVaries with device4.1 and up4.1 and up4.3 and upVaries with device4.1 and up5.0 and up4.0.3 and up4.1 and up4.0 and up4.0.3 and upVaries with device4.1 and up2.3 and up4.0.3 and up4.3 and up4.1 and up4.0.3 and up4.1 and up4.3 and upVaries with device4.0.3 and up4.0 and up4.4 and up4.4 and upVaries with device2.2 and up4.0.3 and up5.0 and up4.4 and upVaries with device4.4 and upVaries with deviceVaries with deviceVaries with deviceVaries with device4.1 and up4.1 and upVaries with device4.1 and upVaries with device4.3 and upVaries with deviceVaries with deviceVaries with deviceVaries with device2.1 and upVaries with device4.0.3 and upVaries with deviceVaries with deviceVaries with deviceVaries with device4.1 and up4.4 and up4.1 and upVaries with deviceVaries with deviceVaries with device5.0 and upVaries with device2.3 and upVaries with device4.1 and up4.3 and up4.1 and up4.0.3 and up5.0 and upVaries with deviceVaries with deviceVaries with deviceVaries with device2.3 and upVaries with device5.0 and upVaries with device4.1 and up4.2 and up4.1 and up5.0 and up4.4 and upVaries with deviceVaries with device4.1 and up2.3 and upVaries with device4.4 and up4.4 and upVaries with device4.1 and upVaries with device4.2 and upVaries with deviceVaries with device4.1 and up4.3 and upVaries with deviceVaries with device2.3 and up4.4 and up4.4 and up4.1 and upVaries with device4.1 and up4.1 and up5.0 and upVaries with deviceVaries with deviceVaries with device4.1 and up4.4 and up4.2 and up4.1 and up4.1 and upVaries with device4.1 and up4.0.3 and up4.0 and up4.0.3 and up4.1 and upVaries with device4.1 and up4.1 and up4.1 and up4.1 and up4.1 and up4.0.3 and up4.0.3 and up4.1 and up4.4 and upVaries with deviceVaries with device4.2 and up4.3 and upVaries with device4.1 and up4.1 and up4.2 and up4.1 and up4.1 and up4.0 and up4.0.3 and up4.0.3 and up5.0 and upVaries with deviceVaries with device4.2 and up4.0.3 and up4.0 and up4.3 and upVaries with device4.3 and upVaries with device4.0.3 and up4.4 and up4.0 and upVaries with device4.4 and up4.1 and up4.1 and up4.1 and upVaries with deviceVaries with device4.4 and up4.1 and up4.4 and up4.4 and up5.0 and up4.4 and up4.3 and upVaries with deviceVaries with deviceVaries with deviceVaries with device4.4 and upVaries with device4.4 and upVaries with deviceVaries with deviceVaries with device4.1 and up4.1 and up4.4 and upVaries with deviceVaries with deviceVaries with device4.4 and up4.1 and up4.0 and up4.4 and up2.3 and up4.4 and up4.0.3 and upVaries with deviceVaries with device4.1 and upVaries with device4.1 and upVaries with device4.4 and up4.0.3 and up4.1 and upVaries with device4.4 and upVaries with deviceVaries with device4.4 and up4.0.3 and up4.4 and up4.4 and up4.4 and up4.4 and up4.4 and upVaries with device4.1 and up4.4 and up5.0 and up4.4 and upVaries with device4.1 and upVaries with device4.0 and up4.1 and up4.4 and up4.0.3 and up4.4 and up4.4 and up4.4 and up4.1 and upVaries with deviceVaries with device4.1 and up4.1 and up4.0.3 and up2.3.3 and up4.0.3 and upVaries with device4.4 and up4.1 and up4.4 and up5.0 and up4.4 and up4.1 and up4.0 and upVaries with device5.0 and up4.4 and up4.4 and up5.0 and up4.1 and up4.0.3 and up4.1 and up4.1 and up4.4 and upVaries with deviceVaries with device4.2 and up4.4 and up4.1 and up4.0.3 and up4.4 and up4.2 and up4.3 and up2.3 and up4.0.3 and up5.0 and up4.0 and up4.2 and up4.1 and up4.0 and up7.0 and up4.0.3 and up4.0.3 and up4.0 and up4.1 and upVaries with device4.0.3 and up4.2 and up4.0.3 and upVaries with device4.4 and up4.1 and upVaries with device2.3 and up4.0.3 and up4.1 and up4.1 and up5.0 - 8.04.0.3 and up2.3 and upVaries with device4.4 and up4.0 and up4.0.3 and up4.0.3 and upVaries with device4.0.3 and up4.0 and up4.1 and upVaries with device4.0 and up4.0 and up4.4 and up5.0 and up4.0.3 and up4.3 and up4.0 and upVaries with device4.1 and up2.3.3 and upVaries with deviceVaries with device2.3 and upVaries with device4.0.3 and upVaries with device4.4 and up4.0 and up4.0.3 and up4.0.3 and up4.0 and up2.3 and up4.0 and up4.0.3 and up4.0.3 and up4.1 and up3.0 and up4.1 and up4.0.3 and up4.1 and upVaries with device4.0 and up4.0 and up4.4 and up5.0 and upVaries with device4.0 and upVaries with device4.0 and up2.3 and up2.1 and up4.2 and up5.0 and upVaries with device4.0.3 and up4.0 and upVaries with device4.2 and up4.0 and up4.0.3 and upVaries with deviceVaries with device2.2 and up4.0.3 and upVaries with device4.0.3 and up4.4 and up4.0.3 and up4.1 and upVaries with device4.2 and up3.1 and upVaries with device4.0 and up2.3.3 and up4.2 and up4.0 and upVaries with deviceVaries with device4.0 and upVaries with device4.0 and upVaries with device5.1 and upVaries with deviceVaries with device4.1 and upVaries with device4.0.3 and up4.1 and upVaries with deviceVaries with device4.4 and up4.1 and up4.0.3 and upVaries with device4.1 and up4.4 and up4.1 and upVaries with device4.0.3 and upVaries with device4.3 and upVaries with device4.4 and up4.0.3 and up4.1 and up4.0 and up2.3 and up4.0.3 and up2.3.3 and up5.0 and up4.0 and up4.1 and up4.3 and up5.0 and up4.0.3 and up4.1 and upVaries with deviceVaries with device4.4 and up4.4 and up4.1 and up4.4 and upVaries with device5.0 and up4.0 and up4.0.3 and upVaries with deviceVaries with deviceVaries with deviceVaries with device5.0 and upVaries with device4.1 and upVaries with deviceVaries with device4.1 and up4.1 and up4.1 and upVaries with device4.1 and up4.4 and up4.1 and up4.2 and up4.1 and upVaries with deviceVaries with device4.1 and up2.3 and up4.1 and up4.0 and up4.0.3 and up4.0.3 and up4.1 and up4.0.3 and up4.4 and upVaries with device4.4 and upVaries with device4.1 and up4.2 and up4.1 and up5.0 and upVaries with deviceVaries with device5.0 and upVaries with deviceVaries with device4.4 and up4.4 and up5.0 and up4.4 and up5.0 and up5.0 and upVaries with device5.0 and up4.1 and up4.4 and up4.1 and upVaries with device4.1 and up4.1 and up4.1 and up4.1 and upVaries with device4.4 and up5.0 and up4.0 and up4.1 and up4.2 and upVaries with device2.3 and upVaries with device4.0.3 and up4.1 and up5.0 and up5.0 and upVaries with device4.4 and up4.1 and up4.4 and up5.0 and up5.0 and up5.0 and up5.0 and upVaries with device4.0.3 and up2.3 and upVaries with device4.4 and up4.4 and up5.0 and up4.1 and up5.1 and up4.1 and up5.0 and upVaries with deviceVaries with device4.4 and up5.0 and up4.2 and up5.1 and up4.4 and up5.0 and upVaries with deviceVaries with deviceVaries with device5.0 and up5.0 and upVaries with device4.0.3 and up2.3 and up4.1 and upVaries with device5.0 and upVaries with deviceVaries with device4.4 and up4.1 and upVaries with device4.4 and up2.3.3 and up4.4 and up4.1 and upVaries with device5.0 and up5.1 and up4.2 and up4.4 and up4.4 and up4.2 and upVaries with device5.0 and up5.0 and up5.0 and upVaries with deviceVaries with device5.0 and upVaries with device5.0 and up5.0 and upVaries with device5.0 and upVaries with device4.4 and up4.0.3 and upVaries with deviceVaries with device4.1 and up4.1 and upVaries with deviceVaries with deviceVaries with deviceVaries with device4.0 and up4.0.3 and up4.1 and up4.4 and up6.0 and up4.1 and up4.2 and upVaries with deviceVaries with device4.4 and up5.0 and up4.3 and up4.4 and up5.0 and up4.0.3 and up4.1 and up4.2 and upVaries with device5.0 and upVaries with device4.2 and up4.4 and up5.0 and upVaries with device5.0 and upVaries with device4.1 and upVaries with device5.0 and up4.4 and up4.1 and up4.1 and upVaries with device4.1 and up4.0 and up4.4 and upVaries with deviceVaries with device4.1 and upVaries with device4.4 and up5.0 and up4.1 and up4.0.3 and up4.4 and upVaries with deviceVaries with device4.0.3 and up4.1 and up4.0.3 and upVaries with deviceVaries with device4.1 and up5.0 and up4.4 and up5.0 and up5.0 and upVaries with device4.4 and up4.4 and up6.0 and up4.4 and upVaries with device4.4 and up5.0 and up4.1 and up5.0 and up5.0 and upVaries with deviceVaries with deviceVaries with device4.1 and upVaries with device4.4 and up4.1 and up4.2 and up4.0.3 and up4.1 and upVaries with deviceVaries with deviceVaries with device4.4 and up4.1 and upVaries with device5.0 and upVaries with deviceVaries with deviceVaries with device4.4 and up4.4 and up4.4 and upVaries with deviceVaries with deviceVaries with device4.1 and upVaries with deviceVaries with device4.1 and upVaries with device5.0 and up4.4 and upVaries with device4.4 and upVaries with deviceVaries with device4.0 and up4.0 and up4.0.3 and up4.1 and upVaries with device5.0 and upVaries with device4.0 and upVaries with device5.0 and upVaries with deviceVaries with deviceVaries with device4.4 and upVaries with device4.0 and up8.0 and upVaries with deviceVaries with deviceVaries with deviceVaries with device4.0 and upVaries with device4.1 and up4.2 and upVaries with deviceVaries with deviceVaries with deviceVaries with device4.2 and up4.1 and upVaries with device5.0 and up7.0 and up5.0 and up7.0 and up4.1 and upVaries with deviceVaries with deviceVaries with device7.1 and up4.1 and upVaries with device5.0 and upVaries with deviceVaries with deviceVaries with deviceVaries with device4.0.3 and up8.0 and up4.2 and up6.0 and up4.1 and up4.1 and up4.1 and up4.4 and up4.0 and up4.4 and upVaries with device4.0 and upVaries with device4.0.3 and up3.0 and upVaries with deviceVaries with deviceVaries with deviceVaries with device2.3 and upVaries with device4.1 and up3.0 and upVaries with device4.2 and upVaries with deviceVaries with device4.1 and upVaries with device4.1 and up2.3 and up4.0 and up4.4 and upVaries with device4.2 and upVaries with device3.0 and upVaries with device2.3 and up4.0.3 and up5.0 and up4.0.3 and up4.0 and up4.1 and up4.1 and up4.1 and up4.1 and up4.1 and up4.0.3 and up4.0.3 and up4.1 and up4.1 and upVaries with device2.3 and up4.1 and upVaries with deviceVaries with device6.0 and up4.2 and upVaries with device4.4 and up4.2 and up4.0.3 and upVaries with device2.3 and upVaries with device2.2 and up4.0 and up4.0 and upVaries with device4.2 and up3.2 and up4.0 and up2.3 and upVaries with deviceVaries with device2.2 and up4.0 and upVaries with device4.0 and upVaries with device4.4 and up4.0.3 and up4.4 and up4.2 and up5.0 and up4.0.3 and up4.0.3 and upVaries with device4.0 and up4.0.3 and upVaries with device4.0 and up4.2 and up4.1 and up4.1 and up4.0.3 and up4.0 and upVaries with device4.2 and up4.0.3 and up5.0 and up4.0 and up4.0.3 and upVaries with device4.2 and up4.1 and up4.0 and upVaries with device4.0.3 and up5.0 and up4.0 and up5.0 and up4.0.3 and up4.0.3 and up4.4 and up4.0 and up4.0 and up4.0.3 and up5.0 and up2.3 and up4.0.3 and up4.0 and up4.1 and upVaries with device4.1 and upVaries with deviceVaries with device3.2 and up2.3 and up2.3 and up4.4 and up4.2 and up1.6 and up4.0.3 and upVaries with deviceVaries with device4.0.3 and up4.0.3 and up4.1 and up2.3.3 and up2.1 and up4.1 and up4.2 and up2.1 and up4.0.3 and up4.4 and up4.0 and up3.0 and up4.0 and upVaries with deviceVaries with device4.1 and up4.1 and up2.1 and up4.1 and up4.1 and up4.1 and up4.1 and up4.1 and up4.1 and upVaries with deviceVaries with deviceVaries with device4.0.3 and upVaries with deviceVaries with device2.1 and upVaries with device4.1 and up4.0.3 and upVaries with deviceVaries with device4.0.3 and up4.1 and up4.0 and up4.4 and upVaries with deviceVaries with device4.1 and upVaries with device4.4 and upVaries with device4.4 and upVaries with device4.4 and up4.4 and up4.1 and up5.0 and upVaries with deviceVaries with device4.4 and upVaries with deviceVaries with device4.1 and up4.0 and upVaries with deviceVaries with device4.0 and upVaries with device5.0 - 8.0Varies with deviceVaries with deviceVaries with deviceVaries with device4.4 and upVaries with device4.0.3 and upVaries with deviceVaries with device2.3.3 and upVaries with device4.4 and up4.3 and up4.2 and upVaries with deviceVaries with device4.4 and up5.0 and upVaries with device2.2 and upVaries with device4.1 and up4.1 and up4.0.3 and upVaries with device4.4 and up4.1 and upVaries with device4.0 and up4.4 and up4.1 and upVaries with deviceVaries with deviceVaries with device5.0 and upVaries with device4.1 and up5.0 and upVaries with device4.0 and up2.3 and up4.0 and up2.2 and up2.3 and upVaries with device4.1 and up4.0 and up4.4 and upVaries with deviceVaries with deviceVaries with deviceVaries with device4.4 and upVaries with device4.1 and up4.4 and up4.0 and up4.4 and upVaries with deviceVaries with deviceVaries with deviceVaries with device2.3 and up2.3.3 and up4.0 and up2.3 and up4.0 and upVaries with device2.3.3 and up4.2 and upVaries with deviceVaries with deviceVaries with deviceVaries with device4.4 and up4.4 and upVaries with device4.0.3 and up4.1 and upVaries with device4.0.3 and up4.0 and up4.0.3 and upVaries with deviceVaries with deviceVaries with device4.1 and upVaries with deviceVaries with deviceVaries with deviceVaries with deviceVaries with deviceVaries with device4.1 and upVaries with device4.2 and up2.3.3 and upVaries with device4.1 and upVaries with device4.0.3 and upVaries with device4.0 and up4.1 and up4.2 and up4.0.3 and up4.2 and up4.1 and up4.0 and up4.0.3 and up4.0 and up4.0 and up4.1 and up4.0.3 and up4.1 and up4.4 and upVaries with device4.2 and up4.0 and up5.0 and up4.1 and up2.3 and up4.0.3 and up4.0.3 and up5.0 and up4.4 and up4.0.3 and up4.0.3 and up4.0.3 and up4.0.3 and up4.0.3 and up4.1 and up4.2 and up4.1 and up4.0.3 and up4.1 and up4.4 and up4.0.3 and up4.4 and up4.0 and up4.1 and upVaries with device4.4 and upVaries with device4.4 and upVaries with device4.0 and upVaries with deviceVaries with device4.1 and up3.0 and up5.0 and up4.1 and up4.0 and upVaries with device5.0 and up4.1 and up5.0 and up4.1 and up4.4 and upVaries with deviceVaries with deviceVaries with device4.4 and upVaries with device4.4 and upVaries with deviceVaries with deviceVaries with deviceVaries with device4.2 and up4.1 and up4.4 and up4.4 and up2.3 and up4.1 and up4.1 and upVaries with device4.1 and up4.1 and upVaries with device4.4 and up4.4 and up4.1 and up4.0 and upVaries with device4.3 and upVaries with device4.0.3 and up4.0.3 and up2.3 and up5.0 and up4.0.3 and up4.0.3 and up4.0 and up4.0.3 and up4.0.3 and up4.3 and up4.4 and upVaries with device2.3 and up4.0.3 and upVaries with device5.0 and upVaries with deviceVaries with device7.0 and up7.1 and up4.0 and up5.0 and up4.1 and upVaries with device4.1 and upVaries with device4.3 and up4.4 and up4.3 and upVaries with deviceVaries with device4.1 and upVaries with deviceVaries with device3.0 and up2.3 and up4.1 and upVaries with device4.3 and up4.3 and up4.4 and upVaries with deviceVaries with device4.0 and up4.1 and upVaries with device4.1 and upVaries with deviceVaries with device4.4 and up4.4 and upVaries with device4.0 and up4.0.3 and up4.1 and upVaries with device4.0 and up4.1 and up4.1 and up4.1 and upVaries with device4.0.3 and up4.4 and upVaries with device4.0 and upVaries with device4.1 and up4.0.3 and up4.1 and upVaries with device4.1 and up5.0 and upVaries with device4.0.3 and up4.1 and up4.1 and up4.4 and up4.0 and up4.1 and up4.4 and upVaries with deviceVaries with device4.1 and upVaries with device4.1 and upVaries with device4.0 and up4.4 and upVaries with device4.2 and up4.0.3 and up4.4 and up4.4 and upVaries with deviceVaries with device4.2 and upVaries with device4.1 and upVaries with device4.1 and up4.1 and up4.4 and up4.1 and up4.4 and upVaries with deviceVaries with deviceVaries with device4.0.3 and upVaries with device4.1 and up4.4 and upVaries with deviceVaries with device5.0 and upVaries with device4.1 and upVaries with device4.0 and up4.4 and up4.4 and up4.0 and upVaries with deviceVaries with device2.2 and upVaries with device4.1 and upVaries with deviceVaries with deviceVaries with device4.1 and upVaries with device5.0 and up5.0 and upVaries with deviceVaries with device4.1 and up4.1 and up4.4 and up4.0.3 and upVaries with device4.4 and upVaries with device4.4 and upVaries with device4.4 and upVaries with deviceVaries with deviceVaries with deviceVaries with device4.0 and upVaries with deviceVaries with device4.1 and upVaries with device4.0.3 and up4.1 and up4.1 and up5.0 and up4.0.3 and upVaries with device2.3 and upVaries with device4.1 and upVaries with deviceVaries with deviceVaries with device4.4 and up4.0.3 and up5.0 and up4.4 and up4.0 and upVaries with device4.1 and up4.0.3 and up4.1 and up4.0.3 and up4.1 and up4.0.3 and up4.1 and upVaries with device4.0 and up4.0 and up4.2 and up4.1 and up4.1 and up4.0 and up4.0 and up4.1 and upVaries with deviceVaries with device4.2 and upVaries with device4.0 and up4.0.3 and up4.0.3 and upVaries with deviceVaries with device4.0 and up4.1 and up4.0.3 and up2.3 and up4.0 and up4.0 and up4.4 and up4.0 and up4.0 and up4.0.3 and up4.1 and up4.4 and up4.1 and up4.1 and upVaries with device4.1 and up4.4 and up4.1 and upVaries with device4.1 and up2.3 and upVaries with deviceVaries with device2.3 and upVaries with device4.1 and up4.2 and up2.1 and up4.0.3 and up4.0.3 and up4.0 and up4.1 and up4.2 and upVaries with deviceVaries with device4.1 and upVaries with device4.4 and upVaries with device4.1 and up4.1 and up4.0.3 and up4.1 and up4.0.3 and upVaries with device4.1 and up3.2 and up4.0.3 and up4.1 and up4.1 and up4.0.3 and up4.4 and up4.1 and upVaries with device4.1 and up5.0 and up1.5 and upVaries with device4.1 and up4.1 and up5.0 and up4.4 and up4.0 and up4.4 and up4.0 and up4.0 and up4.4 and up4.0.3 and up3.0 and upVaries with deviceVaries with device4.0 and upVaries with device2.3 and up4.1 and up4.3 and up4.2 and up2.3 and up4.1 and up4.4 and up4.0 and up4.0.3 and up4.0.3 and up5.0 and up4.0 and up4.1 and up4.4 and up4.0 and up4.1 and up4.1 and upVaries with device5.0 and up2.0 and up2.1 and up2.2 and up4.0.3 and up2.3 and up2.1 and up4.4 and up4.0 and up4.4 and up4.1 and upVaries with device4.0.3 and up4.1 and up3.2 and up4.0.3 and up4.3 and up4.1 and up4.0 and up4.0 and up4.0.3 and up4.0.3 and up4.1 and up4.1 and up2.3 and upVaries with device4.0 and up4.0.3 and up4.4 and upVaries with device4.1 and up4.1 and upVaries with device4.1 and up2.1 and up4.0 and upVaries with device4.0.3 and up4.1 and up4.0.3 and up4.1 and upVaries with device4.3 and up4.1 and up4.0 and up4.1 and up6.0 and up4.4 and up4.4 and up4.0 and up4.1 and up4.0.3 and up5.0 and up4.2 and up4.0.3 and up4.4 and up4.0 and up4.0 and up4.0.3 and up4.1 and up3.0 and up4.1 and up4.0.3 and up3.0 and up4.0 and up3.0 and up4.0 and upVaries with device4.1 and up4.1 and up4.1 and up2.1 and upVaries with device4.1 and up5.0 and up4.4 and up5.0 and up4.0 and up4.0.3 and up4.0 and up4.0.3 and up4.1 and up4.0 and up2.2 and upVaries with device4.1 and up4.0 and upVaries with device4.2 and up4.1 and up2.0.1 and up4.1 and up4.4 and up2.3 and up4.0.3 and up2.3 and up4.1 and up4.0 and up4.0 and up2.3.3 and upVaries with device4.0 and up4.4 and up4.4 and upVaries with device5.0 and up4.3 and up5.0 and up4.0 and up4.0 and upVaries with device4.4 and up4.1 and up2.3 and up4.2 and upVaries with device4.4 and up4.1 and upVaries with deviceVaries with deviceVaries with deviceVaries with device4.4 and up4.4 and upVaries with device4.1 and upVaries with device4.1 and up4.0 and up3.0 and upVaries with device4.0 and upVaries with deviceVaries with deviceVaries with deviceVaries with device4.0 and upVaries with device4.1 and up2.2 and upVaries with deviceVaries with device2.3 and up4.0 and up2.2 and up2.3 and up4.1 and up4.1 and up5.0 and up5.0 and up4.2 and upVaries with device4.0 and up5.0 and up4.0.3 and up5.0 and up3.2 and up4.0.3 and upVaries with device4.0 and up5.0 and up4.0 and upVaries with device2.3.3 and up4.4 and up4.0 and up2.3 and upVaries with deviceVaries with device4.4 and up4.0.3 and up4.0.3 and up4.4 and up4.0 and up4.0 and up4.0 and upVaries with device4.3 and upVaries with deviceVaries with device4.0 and up2.3.3 and upVaries with device4.1 - 7.1.12.3.3 and upVaries with device2.3 and up3.0 and up2.2 and up4.0.3 and up2.2 and up4.0 and upVaries with device4.0.3 and up2.3 and up4.1 and upVaries with device3.2 and up2.3.3 and up4.1 and up5.0 and up4.0.3 and upVaries with device4.0 and up4.0 and up7.0 and up2.3 and up4.3 and up4.1 and up4.0 and up4.0.3 and up4.0 and up4.0 and up4.1 and up2.3 and up2.3 and up4.4 and up4.0 and up4.4 and up4.0 and up4.0 and up4.0.3 and up4.4 and up2.2 and up4.0.3 and up4.4 and up5.0 and up4.4 and up7.0 and up2.3 and up4.1 and up2.3.3 and up4.4 and up4.0 and up4.1 and upVaries with device4.4 and up4.0 and up4.1 and up4.1 and up4.0.3 and up4.1 and up4.0 and up2.3 and up5.0 and up4.0 and upVaries with device4.1 and up2.3.3 and up4.0 and up4.0 and up4.0 and up3.1 and up4.4 and up4.1 and up4.0 and up2.3 and up4.3 and up4.1 and up3.0 and up4.1 and upVaries with device2.3 and upVaries with device4.1 and up4.1 and up2.3.3 and upVaries with device4.2 and up4.4 and upVaries with device4.1 and up4.1 and up4.1 and up4.1 and up2.3.3 and up4.1 and up2.1 and up4.1 and up4.1 and up4.1 and up2.3 and up4.3 and up4.0 and up4.1 and up4.1 and up4.1 and up4.0.3 and up4.1 and up2.3.3 and up4.2 and up4.1 and up4.0.3 and up4.0.3 and up4.1 and up4.4 and up2.2 and up2.3.3 and up4.0.3 and up6.0 and up4.0 and up4.0.3 and upVaries with device4.1 and up4.4 and upVaries with deviceVaries with device4.4 and up4.0 and up4.1 and up4.2 and up7.0 and up4.0.3 and up4.1 and up4.1 and up4.0.3 and up4.2 and up4.1 and up4.0 and up4.1 and up4.1 and up4.1 and up2.2 and up4.3 and up4.1 and upVaries with device4.1 and up4.0 and up2.2 and up4.4 and up4.0.3 and up4.0 and up5.0 and up4.0.3 and up4.0 and up4.0.3 and up2.3 and up2.3 and up4.1 and upVaries with device4.1 and up4.1 and up4.1 and up4.1 and up4.1 and up2.3.3 and up4.1 and up2.3 and up4.1 and up2.2 and up4.0.3 and up4.0.3 and up4.3 and up4.1 and up4.0 and up2.3 and up4.0.3 and up4.0.3 and up4.1 and up4.0 and up4.0.3 and up4.4 and up4.4 and up4.1 and up4.0.3 and up4.4 and upVaries with deviceVaries with device4.4 and up4.4 and up4.1 and up4.4 and up4.0.3 and up4.0 and upVaries with device4.0.3 and up4.1 and up2.2 and up5.0 and up4.0.3 and up4.0 and up4.4 and up2.3 and up1.6 and upVaries with device2.2 and up4.1 and up4.0.3 and up4.1 and up4.0 and up3.0 and up4.0.3 and up3.0 and upVaries with device4.4 and up6.0 and up2.3 and up4.1 and up4.1 and up4.1 and up4.1 and up4.1 and up4.1 and up4.1 and up4.1 and up4.4 and up2.3 and up4.1 and up2.3.3 and up4.4 and up4.0.3 and up4.1 and up4.1 and up4.1 and up2.3.3 and up4.1 and up2.3.3 and up4.0 and up4.0 and up4.1 and up4.1 and up2.3 and up7.0 and up4.0.3 and upVaries with device4.0 and up4.0.3 and up4.0.3 and up2.3.3 and up4.0.3 and up1.5 and up4.1 and up4.0 and up4.1 and up4.3 and up4.1 and up4.1 and up2.1 and up5.0 and up4.0.3 and upVaries with deviceVaries with device4.1 and up4.3 and up4.4 and upVaries with device2.3.3 and up4.1 and up5.0 and up4.0.3 and up4.2 and up3.0 and up4.0.3 and up2.1 and up5.0 and up5.1 and up4.0 and up2.1 and up5.0 and up4.3 and up4.1 and up2.1 and up4.0.3 and up4.1 and up2.3 and upVaries with device4.0.3 and up4.1 and up6.0 and up5.0 and up4.1 and up4.0 and up4.4 and up7.0 and up7.0 and up8.0 and up4.1 and up5.0 and upVaries with device7.0 and up4.0 and up7.0 and up4.1 and up4.0.3 and up4.0.3 and up4.4 and up4.0.3 and up4.1 and up4.1 and up5.0 and up4.4 and up4.4 and up4.4 and up5.0 and up5.0 and up5.0 and up4.0.3 and up5.0 and up4.1 and up4.1 and up5.0 and up4.4 and up4.0 and upVaries with device2.3.3 and upVaries with device4.4 and up2.3.3 and up4.4 and upVaries with device2.3 and up3.0 and up4.4 and up2.3 and up4.0.3 and up2.3 and up4.0.3 and up4.1 and up4.0.3 and up4.0 and up2.3 and up4.3 and up4.0.3 and up4.0.3 and up2.3.3 and up4.4 and up4.3 and up4.3 and up4.4 and up5.0 and up2.3 and up4.0.3 and up5.0 and up4.1 and up4.1 and up4.0 and up2.2 and up4.2 and up4.3 and up3.0 and up2.3 and up2.3 and up4.1 and up4.0.3 and up1.5 and up2.3.3 and up4.0 and up4.0.3 and up4.0 and up3.1 and up4.4 and up2.3.3 and up4.0.3 and up4.0.3 and up4.0.3 and up5.0 and up4.1 and up4.3 and up4.0.3 and up2.1 and up4.1 and up4.1 and upVaries with device2.3 and up2.3 and up4.1 and up4.3 and up6.0 and up4.1 and up4.2 and up4.2 and up7.0 and up4.0 and up4.1 and up2.3 and up2.3 and up4.0.3 and up4.1 and up4.1 and up4.1 and upVaries with device4.4 and up4.0 and upVaries with deviceVaries with device4.1 and upVaries with device5.0 and up4.1 and upVaries with device4.0 and up4.4 and up4.3 and up6.0 and upVaries with device5.0 and upVaries with device4.4 and up4.0 and upVaries with device4.0 and up4.0.3 and up4.4 and up2.3 and upVaries with device5.0 and up5.0 and up2.3 and up4.1 and up4.2 and up4.4 and upVaries with device2.3 and up5.0 and up2.3.3 and up2.0.1 and up5.0 and up4.1 and up4.1 and up6.0 and up4.1 and up4.4 and up4.0.3 and up4.1 and up4.0.3 and up4.0.3 and up4.1 and up4.0 and upVaries with device2.1 and up4.1 and up4.0.3 and up4.4 and up4.0 and up2.1 and up2.2 and up4.3 and up4.1 and up4.1 and up4.1 and up1.6 and up5.0 and up4.0 and up4.0 and up2.3 and up2.3 and up4.1 and up5.0 and up4.1 and up2.3 and up5.0 and up4.1 and up2.3 and up4.4 and up4.0.3 and up4.0.3 and up4.0.3 and upVaries with device2.3 and up4.1 and up4.2 and up4.0.3 and up5.0 and up4.2 and up4.2 and upVaries with device4.1 and up4.0.3 and up4.0.3 and up3.0 and upVaries with device6.0 and up4.0.3 and up4.1 and upVaries with device2.3 and up4.0 and upVaries with device4.1 and up4.1 and up4.0.3 and up4.0 and up4.1 and up4.0.3 and up5.0 and up2.3 and up4.1 and up4.4 and up4.0 and up4.0.3 and upVaries with device4.0.3 and up2.3 and upVaries with device4.0.3 and up2.1 and up4.0 and up2.1 and up4.4 and up3.0 and up4.2 and up4.2 and up4.1 and up4.0 and up2.3 and upVaries with device2.1 and up4.0 and upVaries with device4.1 and upVaries with deviceVaries with device4.1 and up4.0 and up7.0 and upVaries with device4.1 and upVaries with device4.0.3 and up2.3.3 and up4.0.3 and up3.0 and up5.0 and up4.0 and up2.2 and upVaries with device5.0 and up2.3.3 and up4.1 and up4.0.3 and up4.4 and up4.1 and up4.0 and upVaries with device2.3.3 and upVaries with device2.1 and upVaries with device4.4 and up4.1 and upVaries with deviceVaries with device4.1 and up4.1 and up4.3 and up4.1 and up4.4 and up4.0 and up4.1 and up4.3 and up4.0 and up4.1 and up4.1 and up4.1 and up4.0.3 and up4.0 and up2.3 and up4.1 and up5.0 and up2.3.3 and up4.0 and up4.1 and up4.1 and upVaries with device4.1 and up4.0 and up4.4 and up4.4 and up4.1 and up2.2 and up4.0 and up4.1 and up3.0 and up4.1 and upVaries with device2.3 and up4.1 and up4.4 and up4.1 and up2.1 and up2.3 and up4.3 and up4.3 and up1.6 and up5.0 and upVaries with device4.0.3 and up4.0 and upVaries with device4.1 and up4.1 and up4.1 and up4.4 and up4.0 and up4.0 and up4.0 and upVaries with device4.1 and up2.3 and up2.3 and up4.1 and upVaries with deviceVaries with deviceVaries with deviceVaries with device2.2 and upVaries with device4.0.3 and up4.1 and up2.3.3 and up4.0.3 and up4.0.3 and up4.0 and upVaries with device2.2 and up4.0 and up4.1 and up4.0.3 and up4.0.3 and up4.0.3 and up5.0 and up4.0.3 and up4.1 and up4.4 and up4.4 and up4.0 and up4.0.3 and up4.4 and up4.2 and up4.0 and up4.0 and up4.4 and up4.0.3 and up4.0 and up2.3 and up4.0 and upVaries with device1.6 and up4.0 and up2.3 and up4.4 and up5.0 and up4.0 and up2.3 and up4.2 and up4.0 and up4.4 and up4.0 and up4.0 and up5.0 and up5.0 and up4.1 and up4.2 and upVaries with device4.1 and up4.4 and up4.1 and up4.0.3 and upVaries with device4.1 and up4.4 and up3.0 and upVaries with deviceVaries with device4.1 and upVaries with device4.1 and up4.1 and up4.0.3 and up2.3 and up4.0.3 and up4.1 and up4.0.3 and up4.1 and up4.1 and up4.1 and up5.0 and up3.0 and up4.1 and up4.0.3 and up4.0 and up4.1 and up4.1 and up2.1 and up4.1 and up4.0.3 and upVaries with device2.2 and up4.1 and up4.1 and up2.3 and up2.2 and up2.2 and up4.4 and up2.3 and up3.0 and up2.2 and up4.0 and up3.0 and up4.0.3 and up4.3 and up4.0.3 and up4.0 and up4.2 and up2.3.3 and up4.2 and up3.0 and up4.2 and up4.0 and up4.0 and up4.2 and up2.3 and up4.1 and up4.0.3 and up4.1 and up4.1 and up4.0.3 and up4.2 and up4.1 and up2.2 and up4.0 and up4.0 and up4.4 and up4.2 and up4.2 and up4.1 and up4.2 and up4.0.3 and up4.0.3 and upVaries with device2.3 and up4.1 and upVaries with deviceVaries with device5.0 and up4.1 and up4.0 and upVaries with device4.1 and up4.4 and up2.3 and up5.0 and up4.0.3 and up4.0 and up5.0 and up3.0 and up4.0.3 and up4.1 and up4.1 and up4.4 and up4.1 and up4.4 and up4.0 and up4.2 and up5.0 and up4.1 and up4.0 and up2.2 and up4.1 and up3.2 and up2.2 and up4.1 and up4.1 and up4.1 and up2.2 and up2.3 and up4.0.3 and up4.1 and up3.0 and up4.1 and upVaries with device4.0.3 and up5.0 and up1.6 and upVaries with device4.0 and upVaries with device4.4 and up4.4 and up4.4 and up2.3 and up2.2 and up3.0 and up2.3 and upVaries with deviceVaries with device2.3.3 and up3.0 and upVaries with device4.0.3 and up2.3 and up2.0 and up2.0 and up2.3 and up2.3 and up4.0.3 and upVaries with device2.3 and up2.2 and up2.3 and up4.4 and upVaries with device4.1 and up4.0.3 and upVaries with device2.3 and up2.3 and up4.0 and up2.1 and up2.1 and up4.2 and up4.0.3 and up2.1 and up2.3 and up3.1 and up2.2 and upVaries with device3.0 and up4.3 and up2.3 and up4.1 and up4.0.3 and up4.4 and up4.4 and up2.3.3 and up4.1 and up4.0 and up4.0 and up3.0 and up4.0.3 and up2.1 and up4.1 and up5.0 and upVaries with device4.0 and up4.0.3 and up4.0 and upVaries with deviceVaries with device2.2 and up4.0.3 and up4.0 and up4.0 and up4.0 and up4.1 and up3.2 and up4.0 and up4.0.3 and upVaries with device5.0 and up2.3 and up4.1 and up4.4 and upVaries with device4.0.3 and up4.0 and up4.0.3 and up4.3 and up4.4 and up4.0.3 and up2.3 and up2.3.3 and up4.0.3 and up4.1 and up4.0.3 and up5.0 and up4.1 and up4.1 and up3.0 and up4.4 and up5.0 and up4.1 and up4.0.3 and up4.1 and up4.4 and up4.0.3 and up4.0.3 and up4.0 and up4.0.3 and up4.0 and up4.2 and up4.4 and upVaries with device4.4 and up4.0.3 and up4.0 and up1.5 and up4.0.3 and up4.0 and up4.0.3 and up2.3 and up5.0 and up4.0.3 and up4.0.3 and up4.0.3 and up4.3 and up4.3 and up4.0.3 and up2.3 and up4.4 and up5.0 and up4.0 and up2.3 and up4.0 and up4.0 and up4.0 and up4.1 and up4.1 and up4.0.3 and upVaries with device6.0 and up1.6 and up5.0 and up4.1 and up4.1 and up4.1 and up4.1 and up4.4 and up4.0.3 and up4.0.3 and up4.1 and up4.0 and up5.0 and up6.0 and up4.0 and up4.0.3 and up2.3 and up4.0.3 and up4.1 and up5.0 and up4.4 and up5.0 and up2.2 and up4.1 and up5.0 and up4.0.3 and up4.0.3 and up2.3 and up4.0 and up2.1 and up4.1 and up4.0 and up4.1 and up4.3 and up4.0.3 and up4.1 and up4.1 and up4.4 and up2.3 and up4.4 and up2.2 and up3.2 and up2.3 and up2.3.3 and up4.1 and up5.0 and up2.2 and up2.3 and up2.2 and up4.1 and up4.3 and up4.1 and up4.1 and up4.0 and up4.1 and up4.0.3 and up4.1 and up4.0.3 and up4.1 and up4.0.3 and up3.0 and up2.3.3 and up4.1 and up4.4 and up4.0 and up4.0 and up4.1 and up2.3 and up4.0.3 and up4.1 and up2.3 and up4.0.3 and up4.1 and up4.0.3 and up4.1 and up2.3 and up4.0 and up2.2 and up4.1 and up4.0.3 and up2.2 and up4.4 and up2.3 and up4.0 and up4.1 and up2.3 and up2.3.3 and up4.0 and up4.1 and up4.1 and up4.2 and up4.1 and up4.0 and up4.4 and up4.0 and up4.4 and up4.0 and upVaries with device4.0 and up2.3 and up2.2 and up4.0.3 and upVaries with device4.1 and up2.3 and up4.0 and up3.0 and up4.0 and up2.2 and upVaries with device4.1 and up2.2 and upVaries with device2.3 and up4.0.3 and up4.0.3 and up2.2 and up4.1 and up2.3.3 and up4.1 and upVaries with device2.2 and up2.3.3 and up2.3.3 and upVaries with device4.1 and up4.0.3 and up2.3 and up4.4 and up4.4 and up4.3 and up4.0 and up4.0 and up4.1 and up4.4 and up4.0.3 and up4.0.3 and up1.6 and up4.0.3 and up4.0.3 and up4.0 and up4.2 and up4.4 and up4.1 and up4.2 and up4.0.3 and up4.1 and up4.4 and up4.1 and upVaries with device4.1 and up4.0.3 and up4.0.3 and up4.1 and up4.1 and up4.3 and up4.1 and up4.1 and upVaries with device4.0.3 and up4.1 and up4.1 and up2.3.3 and up2.3.3 and up4.1 and up4.4 and up4.0.3 and upVaries with device4.0.3 and up4.2 and upVaries with deviceVaries with device4.2 and up4.4 and upVaries with device4.0.3 and up4.0 and up4.0 and up5.0 and up4.4 and up4.1 and up4.0 and up4.0.3 and up4.0 and up4.1 and up4.0.3 and up4.0 and up4.0.3 and up4.1 and up5.0 and up4.0.3 and upVaries with device4.1 and up4.1 and up4.0.3 and up4.0 and up4.1 and upVaries with deviceVaries with device3.0 and up4.0.3 and up4.0 and up4.1 and up4.0.3 and up4.1 and up4.1 and up3.0 and up4.1 and up2.3 and up4.0.3 and up4.1 and up2.1 and up4.0.3 and up4.1 and up2.3 and up4.1 and up2.3 and up4.0 and up4.4 and up4.1 and up2.3 and up4.0 and up4.4 and up4.0.3 and up2.3 and up6.0 and up2.3 and up4.0 and up3.0 and up4.1 and up2.1 and up4.3 and up3.2 and up4.0.3 and up4.1 and up4.0.3 and up4.0.3 and up4.4 and up2.3 and up4.1 and up3.1 and up4.1 and up2.3.3 and up4.1 and up4.1 and up4.1 and up1.6 and up4.4 and up4.1 and up4.1 and up4.0.3 and up4.1 and up2.0.1 and up4.1 and up2.3 and up4.1 and up4.1 and up4.0 and up4.0.3 and up4.1 and up4.4 and up4.0 and upVaries with device2.3 and up4.0.3 and up4.0.3 and up2.3.3 and up4.1 and up4.1 and up4.1 and up4.0 and up4.0.3 and upVaries with device4.4 and up1.6 and upVaries with device4.0.3 and upVaries with deviceVaries with device4.0.3 and up4.1 and up4.0.3 and up4.0 and up4.0.3 and up4.0.3 and up4.2 and up4.2 and up7.0 and up2.3 and up5.0 and up4.4 and up4.0.3 and up4.4 and up4.0 and up4.2 and up4.0.3 and upVaries with device7.0 and up7.0 and up4.1 and upVaries with device5.0 and up4.1 and up4.4 and upVaries with device4.0 and up7.0 and up4.3 and up7.0 and up4.0 and up7.0 and up4.0 and up7.0 and up5.0 and up4.1 and up7.0 and up7.0 and up7.0 and up4.0 and up4.0.3 and up2.1 and up7.0 and up4.0 and up7.0 and up7.0 and up4.1 and up7.0 and up4.2 and up7.0 and up4.4 and up4.1 and up4.1 and up4.1 and upVaries with device4.1 and up4.0 and up4.0 and up2.3 and upVaries with device4.2 and up4.0 and up2.3 and up4.0.3 and up4.0 and up4.2 and upVaries with device4.1 and up4.0.3 and upVaries with deviceVaries with deviceVaries with deviceVaries with device4.0.3 and up5.0 and up2.3.3 and up4.2 and up4.1 and upVaries with deviceVaries with deviceVaries with deviceVaries with device4.1 and up4.1 and upVaries with device2.1 and up4.1 and up4.1 and up4.1 and upVaries with deviceVaries with deviceVaries with device5.0 and up3.0 and up4.0.3 and up2.3 and up2.3 and up4.4 and upVaries with device4.3 and up4.1 and upVaries with device2.3 and up3.0 and up4.4 and up2.3 and up2.3 and up3.0 and up4.0.3 and up2.3 and up4.2 and up4.4 and up4.2 and up4.1 and up2.3 and up4.1 and up4.4 and up4.2 and up4.1 and up2.3 and up4.1 and up4.1 and up2.3 and up2.3 and up2.3.3 and up4.2 and up2.3 and up4.0.3 and up4.0 and upVaries with device4.0.3 and up2.3 and up5.0 and up5.0 and up2.3 and up4.1 and up4.1 and up2.3 and up2.3.3 and up4.4 and up4.1 and up4.1 and upVaries with device4.3 and up4.1 and up4.1 and up4.0 and up4.0 and up4.2 and up4.1 and up5.0 and up4.0.3 and up4.0.3 and up4.0 and up4.0.3 and up4.0 and up4.3 and up4.2 and up4.0.3 and up4.0 and up4.0 and up4.0 and up4.1 and upVaries with deviceVaries with device4.1 and up4.0 and up4.1 and up4.4 and upVaries with device4.1 and up4.1 and up4.3 and up4.1 and up2.3 and up4.0 and up4.3 and up2.3.3 and up4.0 and up4.1 and up2.3.3 and up4.1 and up4.0 and up4.1 and up4.0 and up4.1 and up4.1 and up4.1 and up4.3 and up1.6 and up2.2 and up4.0.3 and up4.2 and up4.1 and up4.0.3 and up3.0 and up2.3.3 and up4.1 and up4.0.3 and up4.0 and up5.0 and up4.1 and upVaries with device2.3 and up4.3 and up4.3 and up5.0 and up4.3 and up4.1 and up2.3 and up4.0.3 and up4.3 and up4.3 and up4.3 and upVaries with device6.0 and up4.3 and up4.3 and upVaries with device4.0 and up2.3 and up4.0.3 and up4.3 and up4.1 and upVaries with device4.1 and up3.0 and up4.0 and upVaries with deviceVaries with device4.3 and up3.0 and up4.1 and up4.3 and upVaries with deviceVaries with device5.0 and up2.3.3 and up4.1 and up2.3.3 and up2.2 and up4.4 and up4.1 and up4.0 and up4.1 and up3.0 and up3.0 and up4.2 and up4.1 and up4.1 and up4.4 and up3.1 and up4.1 and up4.1 and up2.1 and up4.0.3 and up4.3 and up2.3.3 and up4.1 and up2.3 and up4.0.3 and up4.1 and up4.0 and up4.2 and up4.0 and up4.2 and up4.0.3 and up4.0 and up2.3 and up2.3 and up4.1 and up4.1 and up2.1 and up5.0 and up2.3 and up2.3 and up4.0 and upVaries with device2.2 and upVaries with device4.0 and up4.2 and upVaries with device4.1 and up4.2 and up4.1 and up4.0.3 and up4.0 and upVaries with device4.0 and up4.0 and up2.2 and up4.1 and up4.0.3 and up5.0 and up4.4 and up4.0.3 and up5.0 and up4.4 and up5.0 and up4.1 and up5.0 and up4.1 and up2.2 and up4.1 and up4.2 and up4.1 and up3.2 and upVaries with device4.1 and up4.2 and up4.1 and up4.1 and up4.4 and up4.0 and up4.0 and up4.1 and up4.2 and up4.1 and up4.4 and up2.3 and up4.4 and up4.1 and up3.0 and up2.3.3 and up4.1 and up4.0 and up4.1 and up4.0.3 and up4.1 and up4.0.3 and up3.2 and up4.1 and up4.4 and up2.1 and up3.0 and up4.0 and up2.3 and up4.0.3 and up4.0 and up2.3 and up2.3 and up4.0.3 and up4.1 and up2.3 and up2.3 and up2.3 and up4.0.3 and up4.4 and up4.1 and up1.6 and up2.3 and up5.0 and up2.2 and up2.3 and up4.2 and up4.0 and up4.2 and up4.0.3 and up2.3 and up4.1 and up4.0 and up4.1 and up5.0 and up4.0.3 and upVaries with device4.1 and up4.1 and up4.0.3 and up2.3 and up4.0.3 and up4.4 and up2.3 and up4.1 and up2.0 and up4.0.3 and up4.0.3 and upVaries with device2.2 and up4.1 and up4.1 and up4.0 and up4.4W and up3.2 and up4.0 and up4.0.3 and up5.0 and up4.0 and up2.1 and up5.0 and up4.0.3 and up4.0 and upVaries with device4.0 and up4.1 and up4.4 and up4.4 and up4.1 and up4.4 and up4.0 and up4.4 and upVaries with device4.2 and up2.2 and up4.1 and up4.0.3 and up4.1 and up4.1 and up5.0 and up4.0 and upVaries with device4.1 and up4.0 and up4.2 and up4.1 and up4.0 and up4.2 and up4.0.3 and up4.1 and up4.1 and up2.3 and up3.0 and up4.0.3 and up3.0 and up4.3 and up4.1 and up4.1 and up4.0.3 and up4.2 and up4.3 and up4.0.3 and up4.0.3 and up4.0.3 and up4.0 and up4.0 and up2.0 and up4.1 and upVaries with device4.0 and up4.0 and up3.0 and up4.4 and up4.0 and up2.3.3 and up4.3 and up4.1 and up4.3 and up4.3 and up3.2 and up2.0 and up4.0.3 and up4.1 and up4.1 and up4.0.3 and up4.1 and up2.3 and upVaries with device4.4 and up4.0.3 and up4.1 and up4.4 and up4.0.3 and up4.1 and up2.3 and up4.0 and up4.2 and up4.0 and up4.0 and up4.0 and up2.2 and up4.1 and up3.2 and up4.1 and upVaries with device4.0 and up4.0 and up5.0 and up2.3 and up4.0.3 and up2.3 and up4.0.3 and up4.1 and up4.1 and up4.3 and up4.1 and up4.4 and up4.0.3 and up4.3 and up4.0 and up4.0 and up4.4 and up4.0 and up4.0 and up2.3.3 and up2.3.3 and up4.0.3 and up4.0 and up4.0.3 and up4.0.3 and up3.0 and up4.0 and up4.2 and up4.1 and up4.3 and up2.3.3 and up3.0 and up2.3.3 and up4.1 and up2.3 and up4.1 and up2.3 and up3.0 and up3.0 and up4.2 and up2.3 and up2.3 and up3.0 and up3.0 and up2.2 and upVaries with device2.2 and up2.3.3 and up2.3 and up4.0 and up4.4 and up4.0.3 and up4.0.3 and up5.0 and up4.1 and up4.4 and up4.4 and up4.1 and up4.1 and up4.1 and up4.4 and up5.0 and up4.1 and up4.1 and up4.1 and up2.3 and up4.1 and up4.0 and up4.0.3 and upVaries with device4.1 and up4.4 and upVaries with device3.2 and up2.3 and up2.3 and upVaries with device2.3.3 and up4.0.3 and up3.0 and up4.0.3 and up3.0 and up4.1 and up4.0 and up4.0 and up4.1 and up2.3 and up4.2 and up4.0 and up4.1 and up4.0 and up5.0 and up4.1 and upVaries with device4.3 and up2.3.3 and up4.4 and up4.0.3 and up4.0.3 and upVaries with device4.4 and up3.0 and up4.1 and upVaries with device4.4 and up4.1 and up2.1 and up4.1 and up4.0.3 and upVaries with deviceVaries with device4.0.3 and upVaries with device5.0 and up4.0 and up4.4 and up4.1 and up4.0 and up5.0 and up4.0 and up4.4 and up4.2 and up2.3 and up4.0.3 and up4.0 and up4.0.3 and up4.2 and up4.2 and up2.3 and up4.1 and up4.0.3 and up4.0 and up4.0 and up4.4 and up4.1 and up4.4 and up4.0 and up2.2 and up4.0.3 and up4.4 and up2.3 and up5.0 and up4.4 and up4.1 and up5.1 and up4.1 and up4.3 and up4.1 and up4.1 and up4.4 and up3.0 and upVaries with device4.0 and up6.0 and up2.0 and up4.0.3 and up4.3 and up4.1 and up4.0 and up4.0.3 and up4.1 and up4.1 and up4.1 and upVaries with deviceVaries with deviceVaries with device4.1 and up4.1 and up4.1 and up4.2 and upVaries with deviceVaries with device2.3 and up2.3.3 and up4.0.3 and up4.1 and up4.0.3 and upVaries with device4.0 and up4.1 and up4.1 and up4.4 and up4.3 and up4.0 and up4.0 and up4.0 and up2.3.3 and up5.0 and up4.4 and up4.0 and up3.0 and up4.0 and up4.1 and up4.0 and up2.3.3 and up4.0 and up4.0 and up4.0 and up4.3 and up2.3.3 and up4.0.3 and up4.1 and up2.3.3 and up3.0 and up4.1 and up2.3 and up5.0 and up2.3 and up2.2 and up4.0 and up2.3.3 and up4.0.3 and up4.0 and up4.0.3 and up2.3 and up2.3 and up4.1 and upVaries with device4.0.3 and up4.4 and up2.2 and up4.0.3 and up4.1 and up4.4 and up4.0 and up2.3 and up4.0.3 and up5.0 and up4.2 and upVaries with device2.3 and up4.1 and up4.0.3 and up3.0 and up4.0 and up3.0 and up4.1 and up4.0.3 and up2.3 and up4.0 and up4.0 and up2.2 and up4.4 and up2.3 and up4.0 and up4.1 and up4.4 and up2.2 and up4.1 and up2.1 and up4.4 and up4.0.3 and up2.3.3 and up4.1 and up2.2 and up4.0.3 and up4.0 and up2.3.3 and up4.1 and upVaries with device2.3.3 and up4.1 and up4.0.3 and up4.0.3 and up2.3.3 and up4.0.3 and up4.0 and up4.1 and up2.3.3 and up2.3 and up4.0 and up3.0 and up2.3.3 and up4.2 and up2.3 and upVaries with device4.1 and up4.3 and up2.3 and up2.3.3 and up2.1 and up2.1 and up5.0 and up4.0 and upVaries with device4.0.3 and up2.3 and up2.1 and up2.3.3 and up4.0.3 and upVaries with device4.2 and up2.3 and up4.0 and up4.0.3 and up4.0.3 and up4.4 and up4.1 and up5.0 and up6.0 and up4.0 and up4.4 and up4.1 and upVaries with device4.1 and up5.0 and up4.4 and up4.1 and up4.0.3 and up4.1 and up4.1 and up4.1 and up4.0.3 and upVaries with device4.4 and up4.3 and up4.1 and up4.1 and up4.4 and up4.4 and up4.1 and upVaries with device4.4 and up4.1 and up4.1 and up1.5 and up5.0 and up1.6 and up4.0.3 and up1.6 and upVaries with device1.6 and up4.0 and up1.6 and up4.3 and up1.6 and up1.6 and up4.4 and up1.6 and up1.6 and up4.0.3 and up1.6 and up1.6 and up1.6 and up1.6 and up1.6 and up4.0 and up1.6 and upVaries with device1.6 and up4.0 and up1.6 and up1.6 and up1.6 and up4.0 and up1.6 and up1.6 and up1.6 and up4.1 and upVaries with device4.1 and up4.1 and up4.0.3 and up4.0 and up4.0.3 and up4.0.3 and up4.0.3 and up4.1 and up4.1 and up5.0 and up2.3 and up2.1 and up4.1 and up2.3.3 and up4.0 and up4.0.3 and up5.0 and up4.1 and up4.0.3 and up4.0.3 and up4.2 and up4.0.3 and up4.1 and up4.0.3 and up4.0.3 and up4.0 and up4.0.3 and up4.2 and up2.3 and up5.0 and up8.0 and up4.1 and up2.2 and up4.1 and up2.2 and up4.0 and up2.3.3 and up2.3.3 and up4.0.3 and up4.1 and up4.0 and up4.4 and up4.4 and up4.1 and up4.2 and up4.4 and up2.1 and up4.0 and up4.3 and up5.0 and up2.2 and up5.0 and up4.0 and upVaries with device4.0.3 and up3.0 and up4.4 and up3.0 and up4.0 and up4.0.3 and up4.0.3 and up4.1 and upVaries with device4.3 and up4.1 and up4.4 and up5.0 and up4.0 and up4.0.3 and upVaries with deviceVaries with device4.1 and up2.3.3 and up4.0 and up4.0 and up4.0 and up2.3 and up2.3.3 and up4.4 and up4.4 and up2.3.3 and up4.0 and up7.0 and up4.0.3 and up4.0 and up4.0 and upVaries with deviceVaries with device4.1 and up5.0 and up4.0.3 and up2.3 and upVaries with device4.1 and up3.0 and up4.0.3 and upVaries with device4.1 and up2.3 and up4.4 and up2.2 and up5.0 and up4.1 and up4.1 and up3.0 and up4.1 and up5.0 and up4.0 and up5.0 and upVaries with device2.2 and up4.1 and up2.1 and up4.0.3 and up4.1 and up2.3 and up4.1 and up4.1 and up4.0.3 and up4.1 and up2.0 and up2.3 and up4.1 and up4.0.3 and up4.1 and up4.1 and up4.1 and upVaries with device4.1 and up4.1 and up4.0.3 and up4.0 and upVaries with device4.1 and up2.1 and up4.3 and up4.0.3 and up2.3 and up2.2 and upVaries with device4.0.3 and up4.4 and up2.2 and up4.0.3 and up4.0 and up4.0.3 and up2.0 and up4.0 and up4.4 and up4.1 and up4.4 and up4.0.3 and up4.4 and up2.3 and upVaries with device4.1 and up2.3 and up4.1 and up2.2 and up4.0.3 and up4.3 and up4.0 and up4.2 and up4.3 and up4.2 and up6.0 and up1.6 and up2.3.3 and up1.6 and up2.2 and up3.0 and up2.3 and up2.2 and up4.1 and up4.1 and up2.2 and up5.0 and up4.4 and up3.0 and up4.0.3 and up4.4 and up4.2 and up4.1 and up4.0 and up4.1 and up4.1 and up4.3 and up3.0 and up4.1 and up4.3 and up2.3.3 and up1.6 and upVaries with device1.6 and up4.1 and up4.1 and up4.0 and up4.2 and up2.2 and up4.1 and up4.4 and up4.1 and up3.0 and up4.0.3 and up4.1 and up2.3.3 and up4.0.3 and up4.1 and up4.0 and up4.0.3 and up4.0.3 and up4.4 and up4.3 and up3.0 and up4.0 and up4.4 and up4.0 and up4.1 and upVaries with device4.0.3 and up4.2 and up3.0 and up3.0 and up4.0 and up3.0 and up4.1 and up4.0.3 and up4.1 and up4.1 and up5.0 and up2.1 and up4.0.3 and upVaries with device4.1 and up4.1 and up4.1 and up4.0 and up4.1 and up4.3 and up5.0 and up4.0.3 and up4.2 and up2.3 and up4.0 and up4.3 and up2.3 and up4.0 and up4.4 and up4.0.3 and up4.0 and up4.0 and up2.2 and up4.0 and up4.4 and up4.0 and up5.0 and up2.2 and up2.3 and up4.0 and up2.3 and up4.4 and up4.0 and up4.4 and up4.0 and up2.3 and up5.0 and up4.0 and up4.1 and up3.0 and up4.4 and up4.0 and up4.0.3 and up2.1 and up4.0 and up2.3.3 and up4.0 and up2.2 and up7.0 and up7.0 and up4.0.3 and up4.2 and up2.2 and up4.0.3 and up5.0 and up4.0.3 and up4.2 and up4.4 and up4.4 and up4.1 and up5.0 and up2.3 and up4.0.3 and up2.3 and up4.1 and up2.2 and up4.0 and up2.3 and up4.1 and up4.2 and up4.0.3 and up5.0 and up4.0 and up4.1 and up4.1 and up3.0 and up2.3.3 and up4.1 and upVaries with device4.0.3 and up2.3 and up2.3 and up4.1 and upVaries with device4.0 and up4.1 and up2.3 and up4.4 and up4.0 and up4.4 and up4.1 and up4.0.3 and up4.2 and up4.4 and up4.3 and up2.3 and up4.0.3 and up4.1 and up4.1 and up4.1 and up4.1 and up4.0.3 and up4.1 and up4.3 and up4.1 and up4.3 and up4.0 and up4.4 and up5.1 and up4.1 and up2.3 and up3.0 and up4.4 and up2.3 and up4.1 and up4.4 and up4.1 and up4.0 and up4.1 and up5.0 and up4.1 and up4.0.3 and up4.1 and up4.4 and up4.0.3 and up2.3.3 and up2.3 and up4.1 and up4.1 and up4.1 and up4.1 and up4.0 and up4.1 and up4.1 and up2.3.3 and up4.4 and up4.1 and up4.1 and up4.1 and up4.0.3 and up5.0 and up4.1 and up4.1 and up4.4 and up4.1 and up2.3.3 and up4.0.3 and up4.0 and up4.1 and up4.0 and up4.0 and up4.1 and up4.0 and up4.0 and up5.0 and up4.0 and up4.0 and up4.1 and up4.0 and upVaries with device4.1 and upVaries with device1.6 and up5.0 and up2.3.3 and up4.4 and up4.0 and up4.0 and up2.2 and up1.6 and up2.3.3 and up5.0 and up4.1 and up4.1 and up2.2 and up4.4 and up4.0.3 and up3.0 and up4.0 and up4.0.3 and up4.0.3 and up4.0 and upVaries with device4.0.3 and up2.3 and up4.0.3 and up4.1 and up4.0.3 and up4.4 and up3.0 and up2.2 and up3.2 and up4.0 and up4.1 and up4.1 and up4.4 and up4.2 and up4.1 and up4.0 and up4.4 and up4.0 and up4.0.3 and up4.1 and up4.4 and up4.1 and up4.0 and up4.1 and up4.0 and up4.0.3 and up4.0.3 and up5.0 and up4.0.3 and up4.0 and up2.1 and up4.2 and up7.0 and up3.0 and up4.0 and up4.0 and up4.1 and up4.1 and up4.0 and up4.0 and up4.0 and up4.0 and up4.1 and up2.3 and up4.0 and up4.1 and up2.3.3 and up4.0 and up4.4 and up4.1 and up4.0.3 and up5.0 and up2.0.1 and up4.4 and up4.1 and up4.1 and up4.0.3 and up2.3.3 and up2.3 and up4.0.3 and up2.3.3 and up4.4 and up4.0 and up2.3 and up4.1 and up4.0 and up4.1 and up1.6 and up5.0 and up4.0 and up5.0 and up1.6 and up4.4 and up4.1 and upVaries with device2.1 and up4.1 and up4.0.3 and up2.2 and up4.1 and up2.3 and up4.1 and up2.3.3 and up4.0 and up2.3 and up4.0 and up4.0 and up4.0 and up4.3 and up4.0 and up4.1 and up5.0 and up4.1 and up4.1 and up4.0.3 and up2.3 and up4.0.3 and up4.0 and up4.0 and up2.3 and up2.3 and up2.3 and up4.0 and up4.3 and up2.3 and up2.3 and up4.1 and up4.0.3 and up4.0.3 and upVaries with device4.0.3 and up4.0 and up2.3 and up5.0 and up4.1 and up3.0 and up4.1 and up3.0 and up2.3 and up4.4 and up4.0.3 and up4.0.3 and up4.0.3 and up4.2 and up2.3 and up4.1 and up3.0 and up4.1 and up4.0 and up4.4 and upVaries with deviceVaries with device4.1 and up4.0 and up4.4 and up5.0 and up4.0.3 and upVaries with device4.1 and up4.2 and upVaries with device4.2 and up2.0 and up4.0 and up5.0 and up4.1 and up4.0 and upVaries with device4.1 and upVaries with deviceVaries with device2.3 and up4.4 and upVaries with deviceVaries with device4.1 and up4.0 and up5.0 and up4.1 and up4.1 and up4.4 and up4.0 and up5.0 and upVaries with device5.0 and up4.0 and up4.1 and up4.1 and up4.0.3 and up2.3 and up4.1 and up4.0.3 and up4.0 and up4.0.3 and up2.0 and up5.0 and up2.3.3 and up2.3 and up4.4 and up4.0 and up1.6 and up2.3 and up4.4 and up5.0 and up4.2 and up4.1 and up2.0.1 and up2.3 and up3.0 and up3.0 and up4.4 and up2.3.3 and up4.0 and up4.1 and up4.1 and up4.0 and up4.0.3 and up2.3 and up2.1 and up4.1 and up4.1 and up2.3 and up1.6 and up2.3.3 and up4.1 and up4.0.3 and up4.0.3 and up4.0.3 and up4.1 and up4.0.3 and upVaries with device4.0 and up4.0.3 and up4.0.3 and up4.1 and up4.0.3 and up5.0 and up4.4 and up4.1 and up2.3 and up4.0 and upVaries with device2.3.3 and up4.1 and up2.3 and up4.1 and up4.1 and up4.1 and up2.1 and up4.3 and up2.3 and up4.1 and up2.1 and up5.0 and up2.3 and up5.0 and up3.0 and up4.1 and up2.1 and up4.1 and up2.2 and up4.1 and up1.5 and up2.2 and up4.0.3 and up4.0.3 and up4.3 and up2.1 and up4.1 and up4.0 and upVaries with device2.0 and up4.2 and up4.1 and up4.1 and up4.1 and up4.1 and up4.0 and up4.1 and up4.1 and up4.0 and upVaries with device4.1 and up4.1 and up2.3.3 and up5.0 and up4.0.3 and up4.3 and up2.3.3 and up4.0 and up4.1 and up4.1 and up4.1 and up4.1 and up5.0 and up2.3.3 and up4.0 and up4.2 and up4.0.3 and up4.1 and up4.0 and upVaries with device4.0.3 and up4.0 and upVaries with device4.0 and up4.0.3 and up2.3 and up4.0 and up2.3 and up4.2 and up4.0 and up2.3 and up4.0 and up4.0 and up4.0 and up2.3.3 and up2.3 and upVaries with device4.0 and up5.0 and upVaries with device2.2 and up4.0 and up4.2 and up2.2 and up4.0.3 and up4.3 and up4.0 and up4.0 and up2.3 and up4.0 and up4.0 and up4.0 and up4.1 and up4.1 and up5.0 - 6.04.0 and up4.1 and up1.6 and up2.3.3 and up4.0 and upVaries with device1.6 and up4.0 and up5.0 and upVaries with device4.4 and up5.1 and up4.1 and up4.1 and up4.4 and up5.1 and up4.0.3 and up4.3 and up4.0.3 and up4.3 and up4.0 and up2.3 and up2.3.3 and up4.1 and up5.0 and up4.4 and up4.1 and up5.1 and up4.1 and up4.4 and up4.1 and up2.3.3 and up4.1 and up5.0 and up5.0 and up4.1 and up4.4 and up2.3 and up4.0.3 and up5.1 and up4.4 and up2.3.3 and upVaries with device4.4 and up4.0 and up4.1 and up4.0 and up2.3.3 and up4.1 and up4.1 and up4.0 and up5.0 and up5.0 and up2.3 and up4.0 and up4.1 and up4.4 and up4.4 and up4.3 and up4.1 and up4.2 and up4.1 and up4.0.3 and up4.2 and up2.0 and upVaries with device5.0 and up4.1 and up4.4 and up4.1 and up5.0 and up4.0.3 and up2.3 and up6.0 and up2.3 and up5.0 and up4.1 and up4.1 and up5.0 and up4.0.3 and upVaries with device4.0 and up4.0 and up2.3.3 and up1.6 and up4.0.3 and up4.1 and up4.1 and up2.3 and up4.1 and up4.1 and up4.0.3 and up4.1 and up4.2 and up4.0.3 and up4.1 and up4.1 and up4.4 and up4.0.3 and up4.3 and up3.0 and up4.0 and up2.3.3 and up3.0 and up4.0.3 and up5.0 and up4.2 and up4.0 and up4.1 and up4.0.3 and up3.0 and up4.0.3 and up4.1 and up4.0.3 and up4.1 and up4.1 and up5.0 and up4.0 and up4.1 and up4.4 and up5.0 and up4.2 and up3.0 and up4.2 and up5.0 and up4.0 and up4.1 and up4.1 and up4.4 and up4.0.3 and up4.0.3 and up2.3.3 and upVaries with device2.3 and up4.4 and up4.4 and up4.1 and up4.1 and up4.4 and up2.3.3 and up3.0 and up2.1 and up4.0.3 and up2.3 and up4.0.3 and up4.4 and up4.0.3 and up2.3 and upVaries with device2.3.3 and up4.1 and up4.0 and up4.0.3 and up4.3 and up4.0.3 and up5.0 and up4.4 and up4.1 and up4.0 and up4.0 and up2.3 and up4.1 and up4.1 and up4.1 and up4.0.3 and up4.1 and up4.1 and up4.0.3 and up4.1 and up2.3.3 and up4.1 and up4.0 and up3.0 and up4.1 and up4.2 and up4.0.3 and up4.2 and up4.1 and up4.0 and up4.0.3 and up4.1 and up2.3 and up3.0 and up4.0.3 and up4.1 and up4.0 and up3.0 and up2.3.3 and up4.4 and up4.1 and up4.0.3 and up4.1 and up4.4 and up4.1 and up4.1 and up4.0 and up4.0 and up4.1 and up2.3.3 and up2.3 and upVaries with device4.1 and up2.0 and up2.3 and up4.1 and up4.1 and up3.0 and up4.1 and up5.0 and up4.1 and up2.3 and up4.0 and up3.0 and up2.2 and up4.0.3 and up4.1 and up4.0.3 and up2.3 and up2.2 and up4.4 and up2.3.3 and up2.3 and up4.1 and up2.3 and up1.5 and up3.0 and up4.4 and up4.1 and up2.3 and up4.1 and up4.1 and up4.0 and up4.2 and up4.0.3 and up4.1 and up4.2 and up4.4 and up2.2 and up4.0 and up4.0.3 and up4.0.3 and up4.0 and up4.0 and up4.0 and up4.0 and up2.3 and up4.1 and up4.0 and up4.0 and up4.0 and up4.4 and up4.4 and up4.0 and up4.0 and up2.3 and up3.0 and up4.0.3 and up2.2 and up4.0.3 and up4.0 and up2.3.3 and up4.0 and up4.1 and up4.0.3 and up4.0 and up4.0.3 and up4.0.3 and up4.1 and up4.4 and up2.3 and up4.1 and up3.0 and up4.1 and up2.2 and up4.0 and up4.2 and up4.0 and up4.0 and up4.2 and up4.1 and up4.1 and up4.1 and up5.0 and up4.0 and up4.4 and up5.0 and up4.0.3 and up5.0 and up4.4 and up4.0.3 and up4.2 and up4.2 and up5.0 and up5.0 and up4.0 and up4.0.3 and up4.0.3 and up4.4 and up5.0 and up2.3 and up5.0 and up2.3 and up4.0 and up4.0 and up2.2 and up5.0 and upVaries with deviceVaries with device4.0 and up4.3 and up2.2 and up4.1 and up4.0 and up3.0 and up2.1 and up4.1 and upVaries with device5.0 and up4.0.3 and up2.3.3 and up4.1 and up4.4 and up4.0 and up4.4 and up5.0 and up4.0 and up4.0.3 and up4.1 and up4.4 and up4.0.3 and up4.0.3 and up4.0.3 and up4.0.3 and up4.0 and up4.1 and up4.0 and up2.3.3 and up4.0 and up2.3 and up4.4 and upVaries with device2.3 and up4.1 and up4.0.3 and up4.0.3 and up4.0 and up4.0.3 and up3.0 and up4.0 and up4.2 and up4.0 and up4.0.3 and up4.0.3 and up4.0.3 and up4.1 and up4.1 and up4.0.3 and up4.0.3 and up2.3.3 and up4.4 and up4.0.3 and up4.0.3 and up4.4 and up4.4 and up3.2 and up4.0 and up3.2 and up4.3 and up1.6 and up2.3 and up4.4 and up1.6 and up2.1 and up2.3 and up4.0 and up2.3.3 and up4.0.3 and up2.3.3 and up2.1 and up2.3 and up4.1 and upVaries with device2.0 and upVaries with device3.0 and up4.4 and up4.1 and up2.1 and up4.1 and up2.2 and up1.6 and up4.0 and upVaries with device2.1 and up4.4 and up3.0 and up4.3 and up5.0 and up2.2 and up4.4 and up4.0.3 and up4.4 and up2.3 and up5.0 and up4.4 and up4.0 and up4.3 and up2.2 and up4.3 and up4.3 and up5.0 and up2.2 and up2.2 and up2.3 and up4.0 and up4.0 and up4.0 and up3.0 and up5.0 and up4.1 and up4.0 and up4.1 and up4.0 and up4.0 and up4.1 and up4.0 and up4.4 and up4.0 and up2.2 and up2.2 and up2.1 and up4.1 and up2.2 and up2.2 and upVaries with deviceVaries with device1.6 and up4.4 and up4.2 and up5.0 and up2.3 and up4.1 and up3.2 and up4.0 and up4.3 and up2.3.3 and up1.6 and up3.0 and up2.2 and up4.0 and up4.1 and up4.1 and up4.1 and up4.0 and upVaries with deviceVaries with device4.1 and up2.3 and up4.0 and up4.1 and upVaries with device2.2 and up2.2 and up4.0.3 and up2.3 and up4.1 and up4.1 and up2.3 and up4.3 and up4.0.3 and up4.2 and up4.1 and up4.0 and upVaries with device4.0.3 and up4.3 and up4.1 and up4.0.3 and up2.3.3 and up4.1 and up4.1 and up4.4 and up2.2 and up5.0 and up4.2 and upVaries with device3.0 and upVaries with device4.0 and up4.1 and up4.1 and up4.3 and up4.0 and up4.0 and up4.4 and up4.4 and up4.1 and up4.1 and up4.0 and up4.4 and up4.0.3 and up2.2 and up4.0.3 and up4.0.3 and up4.4 and upVaries with device5.0 and up4.4 and up2.3 and upVaries with device4.0 and up2.3 and up4.1 and up4.1 and up4.1 and upVaries with device2.3 and upVaries with device4.1 and up4.1 and up4.0.3 and up4.1 and up4.4 and up4.0.3 and up4.0 and up2.1 and up2.3 and up6.0 and up3.0 and up4.0 and up4.0.3 and up3.0 and up4.1 and up4.0 and up4.3 and up3.0 and up2.2 and up4.4 and up4.4 and up2.1 and up4.0 and up4.1 and up4.0 and up4.0 and up4.1 and up4.1 and up4.4 and up4.1 and up4.0 and up5.0 and up2.2 and up4.1 and up4.0 and up4.2 and up4.0.3 and up4.1 and up2.3 and up4.0 and up4.1 and up4.4 and upVaries with device4.4 and up4.0 and up4.4 and up4.0 and up4.0.3 and up4.0.3 and up4.1 and up4.3 and up4.1 and up4.0.3 and upVaries with device4.1 and up4.0 and up5.0 and up4.0.3 and up4.0.3 and up4.0.3 and up4.4 and up2.3.3 and up1.6 and up4.4 and up4.0.3 and up4.0.3 and up4.0 and up4.0 and up4.0.3 and up4.1 and up4.4 and up4.1 and up4.0 and up4.1 and up4.1 and up1.5 and up4.0.3 and up4.1 and up2.3 and up4.4W and up4.2 and upVaries with deviceVaries with device4.0 and upVaries with deviceVaries with device4.0 and up4.2 and up4.4 and upVaries with device4.0.3 and up2.3.3 and up4.0 and up2.3 and up4.1 and up2.3 and up4.1 and up4.0.3 and upVaries with device4.1 and up2.3.3 and up4.1 and up2.1 and up1.6 and up4.1 and up4.1 and up4.1 and up4.1 and up2.3.3 and upVaries with device2.3.3 and up3.2 and up4.0 and up4.1 and up4.1 and up4.1 and up4.2 and up4.4 and up4.0.3 and up4.4 and up4.0.3 and up4.1 and up4.0 and upVaries with deviceVaries with device4.0 and up4.1 and up4.0 and up4.0.3 and up4.1 and up4.4 and up4.0.3 and up4.0 and up2.3 and up4.0 and upVaries with device4.0.3 and up5.0 and upVaries with device4.4 and up2.2 and up4.4 and up4.0.3 and up4.1 and up4.0.3 and up4.0 and up4.1 and up4.4 and up3.0 and up4.0.3 and up4.1 and up4.4 and up4.0 and up4.0.3 and up4.0 and up4.1 and upVaries with device4.1 and upVaries with device3.0 and up2.1 and up3.0 and up4.1 and up3.0 and up3.0 and up2.3.3 and up2.3 and up4.0.3 and up3.0 and up4.1 and up4.2 and up4.4 and up4.0.3 and up4.0 and up3.0 and up4.0.3 and up2.2 and up2.0 and up2.3 and up4.4 and up2.3.3 and up4.0.3 and up4.0 and upVaries with device4.4 and up4.0.3 and up2.3 and up4.0.3 and up4.1 and up4.0.3 and up2.3 and up4.0.3 and up2.3.3 and up2.3 and up3.0 and upVaries with device4.1 and upVaries with device4.0 and up4.1 and up4.1 and up4.1 and up4.0 and up4.1 and up4.0.3 and up4.0 and up4.1 and up4.1 and up2.3 and up4.1 and upVaries with device4.1 and up4.1 and up4.1 and upVaries with device4.1 and up4.1 and upVaries with device5.0 and up4.1 and up4.1 and up5.0 and up4.1 and up4.1 and up4.0.3 and up4.0.3 and up2.3 and up4.1 and up2.3 and up5.0 and up4.1 and up4.1 and up4.4 and up4.4 and up4.2 and up4.2 and up4.0.3 and up4.1 and up4.0 and up2.2 and up4.1 and up4.0.3 and up3.0 and up4.4 and up3.0 and up2.3 and up4.1 and up2.3 and up3.0 and up4.2 and up4.0.3 and up4.0 and up4.1 and up4.1 and up4.3 and up4.0 and upVaries with device4.0 and upVaries with device4.1 and up4.1 and upVaries with device2.3 and up4.1 and up2.3 and up4.1 and up4.0.3 and up5.0 and up5.0 and up4.1 and up4.0 and up3.0 and up4.4 and up4.0.3 and up4.2 and up4.0 and up4.1 and up4.0 and up4.1 and up4.4 and up2.2 and up4.0 and up2.3.3 and up4.2 and up4.1 and up4.2 and up2.3 and up4.0.3 and up4.0 and up4.4 and up4.4 and up3.0 and up3.0 and up4.3 and up4.1 and up4.0.3 and up4.1 and up2.1 and up2.3 and up4.0.3 and up2.2 and up4.1 and up2.3.3 and up4.1 and up4.3 and up6.0 and up4.0.3 and up4.1 and up2.3.3 and up4.1 and up4.0 and up4.4 and up5.0 and up4.1 and up2.3.3 and up4.0 and up4.4 and up2.1 and up4.0 and up4.4 and up5.0 and up4.1 and up4.4 and up3.0 and up4.0.3 and up4.0 and upVaries with device4.3 and upVaries with device4.1 and up2.3 and up4.0 and up4.0 and up4.1 and up4.0.3 and up4.1 and up4.1 and up3.1 and up4.4 and up4.4 and up4.4 and up4.0 and upVaries with device4.4 and upVaries with deviceVaries with device2.3.3 and up4.0 and up5.0 and up4.1 and upVaries with device4.0 and up2.3 and upVaries with device4.4 and up4.0 and upVaries with deviceVaries with device4.0 and up4.4 and upVaries with device4.1 and up2.1 and up6.0 and up1.5 and up4.0 and up4.1 and up5.0 and upVaries with device4.1 and up4.0 and upVaries with deviceVaries with device4.0 and up4.1 and up4.4 and up4.0 and up2.3 and up5.0 and up4.1 and up2.3 and upVaries with device5.0 and up4.1 and up4.0.3 and up4.0.3 and up4.1 and up4.3 and up4.0 and up4.0.3 and up4.0.3 and up4.1 and up4.1 and up4.0.3 and up4.1 and up4.1 and up4.0.3 and up4.3 and up3.0 and up4.0.3 and up4.0.3 and up2.2 and up4.1 and up4.0 and up4.0.3 and up4.0.3 and up4.1 and up4.1 and up4.2 and up2.3.3 and up4.1 and up4.0.3 and up4.0.3 and up4.0 and up4.1 and up4.0.3 and up4.2 and up4.1 and up4.0.3 and up4.1 and up4.3 and up4.0.3 and up4.4 and up4.0 and up4.1 and up4.1 and up4.1 and up4.1 and up4.0 and up4.1 and up5.0 and up4.0 and up4.1 and up4.0 and up3.2 and up2.3 and up4.0 and up4.4 and up2.3 and up4.4 and up4.2 and up4.3 and up4.2 and up3.2 and up4.2 and up2.2 and up4.2 and up2.3.3 and up4.4 and up4.1 and up2.2 and up2.3 and up2.1 and up4.1 and up4.3 and up4.4 and upVaries with device4.4 and up4.4 and up4.1 and up4.1 and up4.0 and up5.0 and up4.1 and up4.4 and up3.2 and up4.0.3 and up4.0.3 and upVaries with device2.3 and up4.1 and up4.0.3 and upVaries with device4.0 and up4.0 and up4.0 and up4.1 and up4.4 and up4.1 and up4.1 and up4.1 and up4.0.3 and up4.1 and up4.1 and upVaries with device4.1 and up4.0.3 and up4.0 and up4.1 and up4.0 and up4.0 and up4.0 and up4.0.3 and up4.1 and up4.0 and up4.0 and up4.4 and up7.0 and up4.0.3 and up4.0 and up4.0.3 and up4.1 and up2.2 and up4.0.3 and up4.1 and up2.0.1 and up4.0 and up4.1 and up2.3 and up4.1 and up4.0 and up4.0 and up4.1 and up2.3 and up2.3 and up4.0.3 and up4.0.3 and up2.3.3 and up4.0 and up4.1 and up5.0 and up4.1 and up4.0 and upVaries with deviceVaries with device4.4 and up4.1 and up4.1 and up4.1 and up5.0 and up4.0 and up2.3 and upVaries with device2.3 and up4.2 and up2.3.3 and up5.0 and up1.5 and up2.2 and up2.3 and up2.3.3 and up2.0 and up4.1 and up4.0 and up4.1 and up4.1 and up2.3 and up4.0 and up4.1 and up4.1 and up2.2 and up2.2 and up2.3 and up4.2 and up4.1 and up4.0.3 and up4.1 and up2.3 and up2.2 and up2.3.3 and up2.3.3 and up2.3.3 and up5.0 and up4.4 and up2.2 and up4.0 and up2.1 and up4.1 and up4.1 and up2.2 and up4.2 and up4.1 and up4.1 and up4.3 and up4.0 and up4.0.3 and up4.0.3 and up4.0 and up4.2 and up5.0 and up2.3 and up4.1 and up4.1 and up4.0 and up4.2 and up4.0 and up4.0.3 and up4.0 and up4.0 and up4.0 and up4.0 and up4.0.3 and up4.0 and up4.2 and up4.0 and up4.3 and up4.0.3 and up4.3 and upVaries with device2.3.3 and up4.0 and up4.0 and up4.0 and up4.0 and up4.1 and up4.1 and up4.0 and upVaries with device1.0 and up2.3.3 and up4.1 and up2.2 and up4.1 and upVaries with device4.0.3 and up2.3 and upVaries with device4.1 and up4.2 and up4.3 and up4.4 and up4.0 and up4.0 and up4.0 and up4.0 and up4.0.3 and up4.1 and up4.1 and up4.0.3 and up4.0.3 and up2.3 and up4.0 and up4.0.3 and up3.0 and up4.2 and up2.3 and up4.0 and up4.0 and up4.0 and up4.0 and up4.4 and up2.2 and up4.1 and up4.1 and up4.0.3 and up4.2 and up4.1 and up4.0 and up4.0.3 and up4.4 and up4.0.3 and up2.2 and up2.2 and up2.3.3 and up4.0 and up3.0 and up2.2 and up4.1 and up4.2 and up4.4 and upVaries with device4.1 and up4.1 and up2.2 and up4.1 and upVaries with device4.1 and up2.3 and up4.1 and up2.2 and up4.1 and up2.1 and up4.1 and up2.3.3 and up4.1 and up4.1 and up5.0 and up4.0.3 and up4.1 and up4.1 and up4.0 and up4.1 and up5.0 and up1.6 and up2.3 and up2.3 and up2.3.3 and up2.0 and up4.0 and up4.0 and up4.0 and up4.0 and up2.2 and up2.2 and up2.1 and up4.1 and up4.0.3 and up4.0 and up2.3 and up4.1 and up4.0 and up4.0.3 and up3.2 and up2.3 and up4.1 and up4.1 and upVaries with device4.0 and up4.1 and up1.5 and up4.0.3 and up2.2 and up4.0.3 and up4.1 and up4.1 and up6.0 and up2.2 and up3.0 and up2.3.3 and up4.0.3 and up4.4 and up4.1 and up2.0.1 and upVaries with device2.3 and up4.4 and up2.1 and up4.1 and up2.3 and upVaries with device4.1 and up4.1 and up4.1 and up4.0 and up2.2 and up2.3 and up2.3.3 and up4.1 and up4.0.3 and up4.1 and up4.0.3 and up4.0.3 and up4.1 and up4.0 and up4.0.3 and up4.0.3 and up2.3 and up4.2 and up4.0 and up3.0 and up4.0 and upVaries with device4.0 and up2.1 and up2.3 and up4.1 and up4.0.3 and up2.3 and up4.0 and up5.0 and up4.4 and up1.6 and up4.1 and up4.1 and up4.0 and upVaries with device4.1 and up4.0.3 and up4.0.3 and up4.2 and up4.1 and up4.0 and up4.1 and up4.2 and up4.0 and up2.3 and up2.1 and up2.3.3 and up4.0 and up4.1 and up4.1 and up4.0 and up4.4 and up4.0.3 and up4.1 and up4.1 and up4.1 and up3.0 and up3.0 and up4.1 and up2.3 and up4.0.3 and up4.1 and up4.1 and up4.0 and up4.0.3 and up4.0.3 and up2.3.3 and up4.1 and up4.0.3 and up4.4 and up2.3 and up4.0 and up4.1 and up4.1 and up4.4 and up4.1 and up4.3 and up4.3 and up4.3 and up4.0.3 and up4.0 and up4.1 and up4.0 and up4.1 and up4.2 and up5.0 and up4.4 and up4.0.3 and up4.0 and up4.1 and up4.0.3 and upVaries with device4.0 and up4.0 and up4.0 and up4.0.3 and up4.0.3 and up4.1 and up3.0 and up2.2 and up4.0.3 and up2.2 and up5.0 and up4.1 and up2.3 and up1.0 and up5.0 and up4.0 and up4.0 and up4.2 and up4.1 and up4.4 and up2.3 and up1.6 and up4.1 and upVaries with device4.0.3 and up2.3 and up4.4 and up3.0 and up2.3.3 and up3.0 and up2.3 and up2.3 and up4.0 and up4.4 and up2.3.3 and up4.0.3 and up4.0 and up4.1 and up4.0 and up3.0 and up4.1 and up2.3.3 and up2.3.3 and up4.0 and up4.0 and up4.0.3 and up4.4 and up2.3.3 and up4.0 and up2.3.3 and up4.0.3 and up4.4 and up4.0.3 and up4.1 and up4.2 and up4.1 and up4.4 and up4.4 and up4.4 and up5.0 and up5.0 and up4.4 and up4.4 and up4.4 and up4.1 and up4.1 and up4.0 and up4.0 and upVaries with device4.4 and upVaries with device4.0 and up4.3 and up5.0 and up4.3 and up4.4 and up3.0 and up4.4 and up4.4 and up4.1 and up4.1 and up2.1 and up4.1 and upVaries with device4.0.3 and up4.2 and up4.1 and up4.0 and up4.0 and up4.1 and up2.3 and up2.2 and up2.3.3 and up4.0 and up2.3 and up2.3 and up4.1 and up3.2 and up2.2 and up2.2 and up4.0.3 and up4.3 and up2.2 and up4.1 and up2.2 and up4.0.3 and up4.0 and up2.3 and up4.0 and upVaries with device2.3 and up2.3 and up3.0 and up4.0 and up4.0.3 and up4.4 and up2.3 and up4.0.3 and up4.0 and up4.0 and up4.3 and up4.4 and up4.4 and up4.0 and up4.1 and up4.0 and up4.0 and up2.2 and up4.1 and up4.1 and up4.0.3 and up2.3 and up2.2 and up4.1 and up4.0.3 and up4.2 and up4.0.3 and up4.0 and up2.1 and up4.1 and up4.0 and up4.0 and up2.3 and up3.0 and up2.3.3 and up2.3 and up4.1 and up2.0 and up2.3 and up2.3 and up4.0.3 and up4.1 and up4.2 and up2.3 and up4.1 and up4.2 and up4.4 and up4.0.3 and up4.0 and up3.0 and up4.4 and up2.3 and up4.0 and up2.3 and up4.2 and up2.3.3 and up4.0 and upVaries with device4.4 and up2.3 and up4.0 and up2.2 and up1.6 and up2.3.3 and up4.1 and up2.3 and up2.3 and up2.3 and up4.1 and up4.0 and up4.0.3 and up4.4 and up2.1 and up2.3 and up2.3 and up4.1 and up4.0 and up2.3.3 and upVaries with device4.0.3 and upVaries with device2.3 and up4.0 and up4.0.3 and up4.0 and up4.0 and up2.3 and up4.1 and up2.3.3 and up4.0 and up2.3 and up4.1 and up4.0 and up2.3 and up2.3 and up2.3.3 and up5.0 and up4.1 and up2.3.3 and upVaries with device4.0 and up4.0.3 and up4.0 and up2.2 and up2.3.3 and up2.3 and up2.3 and up4.1 and up2.3 and up4.0 and up2.2 and up4.0.3 and up4.1 and up2.1 and up3.0 and up4.1 and up2.3 and up4.0 and up4.0.3 and up4.0.3 and up4.1 and up4.1 and up1.6 and up4.0.3 and up4.1 and up4.1 and up5.0 and up4.0 and up4.4 and up4.0 and up5.1 and up2.2 and up4.0 and up3.0 and up4.3 and up2.2 and up4.1 and up2.1 and up4.0.3 and up5.0 and up4.0 and up5.0 and up5.0 and up4.0 and up4.0.3 and up4.1 and up4.1 and up4.0 and up5.0 and up4.1 and up4.0 and up4.1 and up4.0.3 and up4.0 and up4.0 and up4.0 and up4.1 and up2.2 and up4.0 and up4.4 and up4.1 and up2.3.3 and up4.2 and up4.1 and up2.3 and up4.2 and up4.0 and up2.3.3 and up4.1 and up4.1 and upVaries with device2.3 and up4.1 and up2.3 and up4.0 and up4.0.3 and up4.2 and up4.0 and up4.1 and up4.0.3 and up4.0.3 and up4.0.3 and upVaries with device4.0 and up5.0 and up4.0 and up1.5 and upVaries with device4.4 and upVaries with device1.6 and up4.1 and up4.0 and up5.0 and upVaries with device4.0.3 and up4.0.3 and up4.1 and upVaries with device2.3 and up2.0 and up4.0.3 and up4.1 and up4.0.3 and upVaries with device4.1 and up4.1 and up2.3 and up2.3 and up4.1 and up4.1 and up5.0 and up4.0.3 and up5.0 and up4.0.3 and up4.0.3 and upVaries with device4.1 and up4.1 and up4.1 and up4.1 and up2.0 and upVaries with device3.0 and up4.1 and up4.1 and up4.0.3 and up4.0.3 and up3.0 and up4.1 and upVaries with device5.0 and up4.0.3 and up4.1 and up2.3 and up2.3 and up4.1 and up2.3 and upVaries with deviceVaries with device4.1 and upVaries with deviceVaries with deviceVaries with device2.3 and up4.1 and up4.0.3 and up4.0 and up4.0.3 and up4.1 and upVaries with device2.3 and up5.0 and up5.0 and upVaries with device4.1 and up4.1 and up2.3 and upVaries with device4.1 and up4.1 and upVaries with device4.0.3 and up4.0.3 and up4.4 and up4.1 and up4.1 and up4.1 and up4.1 and up4.0.3 and up4.3 and up4.1 and up4.0 and up4.1 and up4.0 and up4.0.3 and up4.1 and up4.2 and up4.2 and up2.3 and up4.1 and up4.1 and up4.0.3 and up4.1 and up4.1 and up4.1 and up4.1 and upVaries with device4.2 and up4.3 and up4.0 and up4.0.3 and up4.2 and up4.1 and up4.0.3 and up3.0 and up4.1 and up4.1 and up2.3 and up4.1 and up4.1 and up4.0 and up4.1 and up4.3 and up2.3 and up2.2 and up5.0 and up2.3 and up2.3 and up2.3 and up2.2 and up2.3 and up4.4 and up4.0 and up4.1 and up4.1 and up4.1 and up4.1 and up4.1 and up4.0.3 and up4.0.3 and up4.1 and up5.1 and up4.1 and up4.1 and upVaries with device4.4 and up4.0 and up4.0.3 and up4.1 and up4.0.3 and up2.3 and up4.3 and up4.1 and up4.0.3 and up2.3 and up4.1 and up4.3 and up4.0 and up4.0 and up4.1 and up4.1 and up4.1 and up4.0 and up4.0.3 and up4.1 and up2.3 and up4.0 and up4.1 and up4.1 and up4.1 and up4.0.3 and up4.0.3 and up2.3 and up4.0 and up4.1 and up4.1 and upVaries with device1.6 and up2.3 and upVaries with device4.0 and up2.1 and up2.2 and up4.0 and up2.1 and up4.0 and up2.2 and up2.0 and up4.0 and up4.0 and up2.1 and up1.6 and up2.0 and up4.2 and up4.0 and up4.2 and up4.0 and up4.2 and up4.3 and up4.1 and up1.6 and up4.1 and up4.2 and up5.0 and up2.2 and up4.1 and up4.0.3 and up4.3 and upVaries with device4.0 and up4.1 and up4.4 and up4.0.3 and up4.1 and up3.0 and up5.0 and up4.0 and up4.1 and upVaries with device4.1 and upVaries with device4.1 and up5.0 and up4.1 and up4.1 and up2.2 and up4.0 and up4.0.3 and up4.1 and up4.0 and up4.0.3 and upVaries with deviceVaries with deviceVaries with device4.1 and upVaries with deviceVaries with device4.4 and up4.1 and up4.2 and upVaries with deviceVaries with device4.1 and up4.0.3 and upVaries with deviceVaries with device4.0.3 and up5.0 and up4.1 and up4.0.3 and up4.1 and upVaries with device4.0.3 and up4.1 and up4.1 and upVaries with device4.0 and up4.0.3 and up4.0 and up2.1 and up4.0 and up2.2 and up4.2 and up2.3.3 and up4.0.3 and up4.0.3 and up4.1 and up2.1 and up4.1 and up4.0.3 and up4.0.3 and up4.0.3 and up4.1 and up2.2 and up4.4 and up4.4 and upVaries with device4.3 and up4.4 and up4.1 and up4.1 and up2.3.3 and up4.4 and up4.1 and up4.1 and up4.1 and up2.3 and up4.1 and up1.6 and up4.4 and upVaries with device4.3 and up4.0 and up4.0 and up4.1 and up4.1 and up4.1 and up4.0 and up4.0 and upVaries with device4.4 and up4.0.3 and up4.0.3 and up4.1 and up4.4 and up5.0 and up2.3 and up4.1 and up6.0 and up4.1 and up4.0 and up4.1 and up4.1 and up4.4 and up4.1 and up4.0.3 and up5.0 and up4.1 and up4.4 and up2.3 and up4.0.3 and up4.0 and up2.3.3 and up4.1 and up2.3 and up4.4 and up2.1 and up4.4 and upVaries with deviceVaries with device4.0 and up4.1 and up4.0 and up4.1 and upVaries with device4.0 and up2.3 and up4.1 and up4.1 and up4.1 and up4.2 and up4.1 and upVaries with device2.3 and up4.0.3 and up4.1 and up4.4 and up4.0 and upVaries with device4.1 and up4.0.3 and upVaries with device4.1 and up4.4 and up4.0 and up4.0.3 and upVaries with deviceVaries with device5.0 and up4.0.3 and up4.2 and up4.0.3 and upVaries with device2.3 and upVaries with device4.0 and up4.1 and up2.3 and up4.0 and up4.0 and up4.1 and up2.3 and up2.1 and upVaries with device4.2 and up1.6 and upVaries with device2.0 and up2.1 and up2.2 and up1.6 and up1.6 and up3.0 and upVaries with device4.0.3 and up1.6 and up1.6 and upVaries with device5.0 and up1.6 and up1.6 and up1.6 and up2.2 and up5.0 and up2.1 and up1.6 and up2.2 and up2.3 and up4.0.3 and up3.0 and up4.0 and upVaries with device4.1 and up4.1 and up1.6 and up1.6 and up2.3 and up2.3.3 and up4.0.3 and up2.1 and up4.0 and up3.0 and up2.3 and up4.1 and up2.2 and up6.0 and up4.1 and up4.0.3 and up4.1 and up2.1 and up2.1 and up4.0.3 and up4.0.3 and up2.3 and up4.0.3 and up4.1 and up4.0.3 and up4.0 and up2.1 and up4.0.3 and up2.3 and up4.4 and up3.0 and up4.1 and up4.0 and up5.0 and up2.1 and up4.0 and up4.0.3 and upVaries with device4.0.3 and up2.3 and upVaries with deviceVaries with device4.2 and up4.3 and up4.0 and up4.4 and up2.3 and up3.2 and up2.2 and up5.0 and up4.3 and up4.0 and up4.0 and upVaries with device3.0 and up2.1 and up5.0 and up4.3 and up5.0 and up4.3 and up4.0 and up2.1 and up2.3 and upVaries with device4.0 and up4.4 and up2.2 and up4.0.3 and up2.2 and up3.0 and up4.3 and up4.1 and up4.0 and up4.4 and up4.1 and up5.0 and up6.0 and up4.1 and up5.0 and up4.0.3 and up5.0 and up4.1 and up4.1 and up4.0 and up4.1 and up4.0 and up4.0.3 and up4.0 and up4.0 and up4.1 and up4.0.3 and up4.0.3 and up4.1 and up2.3 and up4.4 and up4.0.3 and up4.1 and up4.0.3 and up4.0.3 and up4.0.3 and up4.3 and up4.0.3 and upVaries with device4.4 and upVaries with device4.4 and upVaries with device2.3 and up4.1 and up4.1 and up4.0.3 and up4.1 and upVaries with device4.1 and up4.1 and up4.0.3 and up4.1 and up4.1 and up2.3 and up4.0.3 and up2.2 and up2.3 and up4.2 and up4.4 and up5.0 and up5.0 and up4.3 and up4.2 and up4.0.3 and up4.4 and up3.0 and up4.0 and up4.0.3 and up4.0 and up4.2 and up4.4 and up3.0 and up4.1 and up2.3 and up4.0.3 and up4.0.3 and up4.0 and up4.0.3 and up2.3 and up4.1 and up4.2 and up4.1 and up4.0.3 and up4.1 and up4.1 and up4.1 and up4.0 and up4.0 and up4.1 and up4.1 and up4.4 and up4.1 and up4.0.3 and up2.3 and up5.0 and up4.4 and up4.4 and up4.1 and up4.1 and up4.4 and up5.0 and upVaries with device4.4 and up4.3 and up4.4 and up4.4 and up2.3 and up5.0 and up4.1 and up4.2 and up4.0 and up4.0.3 and up4.1 and up4.2 and up5.0 and up4.1 and up4.0.3 and upVaries with device1.6 and up4.0.3 and up4.4 and up4.0.3 and up4.0.3 and up4.4 and up5.0 and up4.0.3 and up4.4 and up4.4 and up4.4 and up4.4 and up4.4 and up4.0.3 and up4.4 and up1.6 and up5.0 and up4.0 and up4.1 and up4.4 and up4.1 and up4.4 and up4.0.3 and up4.4 and up4.4 and up4.0.3 and up3.0 and up3.0 and up2.3 and up4.1 and up3.0 and up4.0.3 and up4.0.3 and up4.1 and up4.2 and up4.0 and up4.0.3 and up5.0 and up4.1 and up5.0 and up4.1 and up4.1 and up4.0.3 and up4.0 and up4.1 and up4.0 and up4.0 and up5.0 and up4.0 and up4.1 and up2.3.3 and up4.1 and up4.0 and up4.1 and up4.1 and up4.2 and up4.1 and up2.3 and up4.1 and up4.1 and up2.3 and up4.1 and up4.1 and up4.1 and up4.1 and up2.2 and up4.0 and up4.1 and up2.3 and up4.4 and up2.3.3 and up4.0.3 and up2.3 and up2.3 and up4.2 and up2.3 and up4.1 and up2.3 and up4.4 and up2.3 and up4.0.3 and up4.1 and up2.3.3 and up4.1 and up2.3.3 and up4.0 and up4.0 and up4.1 and up4.4 and up4.0.3 and up4.0 and up4.0.3 and up2.3.3 and up2.3.3 and up4.0 and up5.0 and up4.1 and up4.2 and up4.1 and up3.0 and up4.1 and up4.1 and up4.0.3 and up3.0 and up4.0 and up4.1 and up2.3 and up4.1 and up5.0 and up6.0 and up5.1 and up1.6 and up2.2 and upVaries with device2.3 and up4.0.3 and up4.0.3 and up6.0 and up4.0 and upVaries with device4.4 and up4.2 and upVaries with device4.0 and up4.4 and up1.6 and up2.1 and up1.6 and up4.1 and up2.3.3 and up4.0 and up2.3 and up4.1 and up5.0 and up4.0 and up4.2 and up2.3 and up4.0.3 and up4.4 and up2.2 and up2.3 and up2.3.3 and up4.0 and up4.0 and up4.0 and up2.3 and up4.0 and up2.3.3 and up4.3 and up4.1 and up2.3 and up2.3.3 and up2.3.3 and up4.4 and up2.3 and up4.0.3 and up2.3 and up2.3.3 and up4.2 and up2.3 and up4.1 and up4.1 and up4.1 and up4.0 and up2.3 and upVaries with device2.3 and up4.1 and up2.3 and up2.3.3 and up4.1 and up2.2 and up2.3 and up4.0 and up4.2 and up4.1 and up2.3 and up4.0.3 and up4.2 and up4.0 and up5.0 and up3.2 and up4.1 and up4.4 and up2.3 and up4.4 and up4.1 and up4.0 and up4.4 and up2.3 and up4.4 and up2.2 and up4.1 and up4.1 and up4.4 and up4.0 and up4.0.3 and up4.0.3 and up4.1 and up4.0.3 and up4.1 and up4.0.3 and up4.4 and up3.0 and up2.3 and up4.0 and upVaries with device3.0 and up4.1 and up4.1 and up4.1 and up4.4 and up4.2 and up4.4 and up4.1 and up3.0 and up2.1 and up4.0.3 and up4.1 and up2.3.3 and up4.4 and up2.2 and up4.0.3 and up4.1 and up4.0 and up4.1 and up4.4 and up2.3.3 and up2.2 and up4.0.3 and up4.1 and up4.4 and up4.0 and up2.3.3 and up4.1 and up4.0.3 and up5.0 and up4.1 and up4.0.3 and up4.0.3 and up5.0 and up4.1 and up7.0 and up4.1 and up2.3.3 and up4.3 and up4.4 and up2.1 and up4.1 and up4.0 and up5.0 and up4.0 and up5.0 and upVaries with device5.0 and up4.0.3 and up4.1 and up4.0 and upVaries with device4.0.3 and up4.0.3 and up4.2 and up4.0 and up4.1 and up4.0 and up4.0.3 and up4.0 and up2.3 and up2.2 and up4.0 and up4.0.3 and up2.2 and up2.2 and up2.2 and upVaries with device4.1 and up4.4 and up4.0.3 and up2.1 and up4.1 and up4.0.3 and up3.0 and up2.3 and up2.1 and up4.1 and up7.0 and up2.2 and up2.3 and up2.3 and up2.3.3 and upVaries with device4.0.3 and up4.0 and upVaries with deviceVaries with device4.1 and up4.0 and up4.0 and up4.4 and up5.0 and up4.4 and up5.0 and up4.1 and up2.3.3 and up4.1 and up3.0 and up4.4 and up4.2 and up4.4 and up4.0 and up4.0 and up4.4 and up4.0.3 and up2.0 and up1.6 and up4.0 and up2.2 and up4.1 and up2.3 and up6.0 and up4.4 and up4.0.3 and up4.2 and up3.1 and up6.0 and up4.0.3 and up4.4 and up2.3 and up2.3.3 and up4.1 and up4.4 and up4.0 and up4.2 and up1.6 and upVaries with device4.0.3 and up4.2 and up5.0 and up2.3 and up4.0 and up2.3 and up4.0 and up4.1 and up4.4 and up4.1 and up4.1 and up5.0 and up4.1 and up4.0 and up2.3 and up6.0 and up4.1 and up4.1 and up4.1 and up2.2 and up4.0 and up4.0.3 and up4.1 and up4.1 and up5.0 and up4.0.3 and up4.4 and up4.4 and up3.0 and up4.0 and up2.3 and up4.2 and up4.1 and up4.4 and up4.0.3 and up3.0 and up4.2 and up5.0 and up4.1 and up4.1 and upVaries with device4.0.3 and up4.0 and up4.1 and up1.6 and up2.1 and up2.2 and up4.1 and up4.1 and up4.1 and upVaries with deviceVaries with device'",
      "\nDuring handling of the above exception, another exception occurred:\n",
      "\u001b[1;31mValueError\u001b[0m                                Traceback (most recent call last)",
      "\u001b[1;32m~\\anaconda3\\lib\\site-packages\\pandas\\core\\nanops.py\u001b[0m in \u001b[0;36m_ensure_numeric\u001b[1;34m(x)\u001b[0m\n\u001b[0;32m   1540\u001b[0m             \u001b[1;32mtry\u001b[0m\u001b[1;33m:\u001b[0m\u001b[1;33m\u001b[0m\u001b[1;33m\u001b[0m\u001b[0m\n\u001b[1;32m-> 1541\u001b[1;33m                 \u001b[0mx\u001b[0m \u001b[1;33m=\u001b[0m \u001b[0mcomplex\u001b[0m\u001b[1;33m(\u001b[0m\u001b[0mx\u001b[0m\u001b[1;33m)\u001b[0m\u001b[1;33m\u001b[0m\u001b[1;33m\u001b[0m\u001b[0m\n\u001b[0m\u001b[0;32m   1542\u001b[0m             \u001b[1;32mexcept\u001b[0m \u001b[0mValueError\u001b[0m \u001b[1;32mas\u001b[0m \u001b[0merr\u001b[0m\u001b[1;33m:\u001b[0m\u001b[1;33m\u001b[0m\u001b[1;33m\u001b[0m\u001b[0m\n",
      "\u001b[1;31mValueError\u001b[0m: complex() arg is a malformed string",
      "\nThe above exception was the direct cause of the following exception:\n",
      "\u001b[1;31mTypeError\u001b[0m                                 Traceback (most recent call last)",
      "\u001b[1;32m<ipython-input-53-1ad382df03e2>\u001b[0m in \u001b[0;36m<module>\u001b[1;34m\u001b[0m\n\u001b[0;32m      1\u001b[0m \u001b[1;31m#Question - Try calculating the average price of all apps having the Android version as \"4.1 and up\"\u001b[0m\u001b[1;33m\u001b[0m\u001b[1;33m\u001b[0m\u001b[1;33m\u001b[0m\u001b[0m\n\u001b[1;32m----> 2\u001b[1;33m \u001b[0maverage_price\u001b[0m \u001b[1;33m=\u001b[0m \u001b[0minp1\u001b[0m\u001b[1;33m[\u001b[0m\u001b[1;34m'Android Ver'\u001b[0m\u001b[1;33m]\u001b[0m\u001b[1;33m.\u001b[0m\u001b[0mmean\u001b[0m\u001b[1;33m(\u001b[0m\u001b[1;33m)\u001b[0m\u001b[1;33m\u001b[0m\u001b[1;33m\u001b[0m\u001b[0m\n\u001b[0m",
      "\u001b[1;32m~\\anaconda3\\lib\\site-packages\\pandas\\core\\generic.py\u001b[0m in \u001b[0;36mmean\u001b[1;34m(self, axis, skipna, level, numeric_only, **kwargs)\u001b[0m\n\u001b[0;32m  11116\u001b[0m         )\n\u001b[0;32m  11117\u001b[0m         \u001b[1;32mdef\u001b[0m \u001b[0mmean\u001b[0m\u001b[1;33m(\u001b[0m\u001b[0mself\u001b[0m\u001b[1;33m,\u001b[0m \u001b[0maxis\u001b[0m\u001b[1;33m=\u001b[0m\u001b[1;32mNone\u001b[0m\u001b[1;33m,\u001b[0m \u001b[0mskipna\u001b[0m\u001b[1;33m=\u001b[0m\u001b[1;32mNone\u001b[0m\u001b[1;33m,\u001b[0m \u001b[0mlevel\u001b[0m\u001b[1;33m=\u001b[0m\u001b[1;32mNone\u001b[0m\u001b[1;33m,\u001b[0m \u001b[0mnumeric_only\u001b[0m\u001b[1;33m=\u001b[0m\u001b[1;32mNone\u001b[0m\u001b[1;33m,\u001b[0m \u001b[1;33m**\u001b[0m\u001b[0mkwargs\u001b[0m\u001b[1;33m)\u001b[0m\u001b[1;33m:\u001b[0m\u001b[1;33m\u001b[0m\u001b[1;33m\u001b[0m\u001b[0m\n\u001b[1;32m> 11118\u001b[1;33m             \u001b[1;32mreturn\u001b[0m \u001b[0mNDFrame\u001b[0m\u001b[1;33m.\u001b[0m\u001b[0mmean\u001b[0m\u001b[1;33m(\u001b[0m\u001b[0mself\u001b[0m\u001b[1;33m,\u001b[0m \u001b[0maxis\u001b[0m\u001b[1;33m,\u001b[0m \u001b[0mskipna\u001b[0m\u001b[1;33m,\u001b[0m \u001b[0mlevel\u001b[0m\u001b[1;33m,\u001b[0m \u001b[0mnumeric_only\u001b[0m\u001b[1;33m,\u001b[0m \u001b[1;33m**\u001b[0m\u001b[0mkwargs\u001b[0m\u001b[1;33m)\u001b[0m\u001b[1;33m\u001b[0m\u001b[1;33m\u001b[0m\u001b[0m\n\u001b[0m\u001b[0;32m  11119\u001b[0m \u001b[1;33m\u001b[0m\u001b[0m\n\u001b[0;32m  11120\u001b[0m         \u001b[1;31m# pandas\\core\\generic.py:10924: error: Cannot assign to a method\u001b[0m\u001b[1;33m\u001b[0m\u001b[1;33m\u001b[0m\u001b[1;33m\u001b[0m\u001b[0m\n",
      "\u001b[1;32m~\\anaconda3\\lib\\site-packages\\pandas\\core\\generic.py\u001b[0m in \u001b[0;36mmean\u001b[1;34m(self, axis, skipna, level, numeric_only, **kwargs)\u001b[0m\n\u001b[0;32m  10724\u001b[0m \u001b[1;33m\u001b[0m\u001b[0m\n\u001b[0;32m  10725\u001b[0m     \u001b[1;32mdef\u001b[0m \u001b[0mmean\u001b[0m\u001b[1;33m(\u001b[0m\u001b[0mself\u001b[0m\u001b[1;33m,\u001b[0m \u001b[0maxis\u001b[0m\u001b[1;33m=\u001b[0m\u001b[1;32mNone\u001b[0m\u001b[1;33m,\u001b[0m \u001b[0mskipna\u001b[0m\u001b[1;33m=\u001b[0m\u001b[1;32mNone\u001b[0m\u001b[1;33m,\u001b[0m \u001b[0mlevel\u001b[0m\u001b[1;33m=\u001b[0m\u001b[1;32mNone\u001b[0m\u001b[1;33m,\u001b[0m \u001b[0mnumeric_only\u001b[0m\u001b[1;33m=\u001b[0m\u001b[1;32mNone\u001b[0m\u001b[1;33m,\u001b[0m \u001b[1;33m**\u001b[0m\u001b[0mkwargs\u001b[0m\u001b[1;33m)\u001b[0m\u001b[1;33m:\u001b[0m\u001b[1;33m\u001b[0m\u001b[1;33m\u001b[0m\u001b[0m\n\u001b[1;32m> 10726\u001b[1;33m         return self._stat_function(\n\u001b[0m\u001b[0;32m  10727\u001b[0m             \u001b[1;34m\"mean\"\u001b[0m\u001b[1;33m,\u001b[0m \u001b[0mnanops\u001b[0m\u001b[1;33m.\u001b[0m\u001b[0mnanmean\u001b[0m\u001b[1;33m,\u001b[0m \u001b[0maxis\u001b[0m\u001b[1;33m,\u001b[0m \u001b[0mskipna\u001b[0m\u001b[1;33m,\u001b[0m \u001b[0mlevel\u001b[0m\u001b[1;33m,\u001b[0m \u001b[0mnumeric_only\u001b[0m\u001b[1;33m,\u001b[0m \u001b[1;33m**\u001b[0m\u001b[0mkwargs\u001b[0m\u001b[1;33m\u001b[0m\u001b[1;33m\u001b[0m\u001b[0m\n\u001b[0;32m  10728\u001b[0m         )\n",
      "\u001b[1;32m~\\anaconda3\\lib\\site-packages\\pandas\\core\\generic.py\u001b[0m in \u001b[0;36m_stat_function\u001b[1;34m(self, name, func, axis, skipna, level, numeric_only, **kwargs)\u001b[0m\n\u001b[0;32m  10709\u001b[0m         \u001b[1;32mif\u001b[0m \u001b[0mlevel\u001b[0m \u001b[1;32mis\u001b[0m \u001b[1;32mnot\u001b[0m \u001b[1;32mNone\u001b[0m\u001b[1;33m:\u001b[0m\u001b[1;33m\u001b[0m\u001b[1;33m\u001b[0m\u001b[0m\n\u001b[0;32m  10710\u001b[0m             \u001b[1;32mreturn\u001b[0m \u001b[0mself\u001b[0m\u001b[1;33m.\u001b[0m\u001b[0m_agg_by_level\u001b[0m\u001b[1;33m(\u001b[0m\u001b[0mname\u001b[0m\u001b[1;33m,\u001b[0m \u001b[0maxis\u001b[0m\u001b[1;33m=\u001b[0m\u001b[0maxis\u001b[0m\u001b[1;33m,\u001b[0m \u001b[0mlevel\u001b[0m\u001b[1;33m=\u001b[0m\u001b[0mlevel\u001b[0m\u001b[1;33m,\u001b[0m \u001b[0mskipna\u001b[0m\u001b[1;33m=\u001b[0m\u001b[0mskipna\u001b[0m\u001b[1;33m)\u001b[0m\u001b[1;33m\u001b[0m\u001b[1;33m\u001b[0m\u001b[0m\n\u001b[1;32m> 10711\u001b[1;33m         return self._reduce(\n\u001b[0m\u001b[0;32m  10712\u001b[0m             \u001b[0mfunc\u001b[0m\u001b[1;33m,\u001b[0m \u001b[0mname\u001b[0m\u001b[1;33m=\u001b[0m\u001b[0mname\u001b[0m\u001b[1;33m,\u001b[0m \u001b[0maxis\u001b[0m\u001b[1;33m=\u001b[0m\u001b[0maxis\u001b[0m\u001b[1;33m,\u001b[0m \u001b[0mskipna\u001b[0m\u001b[1;33m=\u001b[0m\u001b[0mskipna\u001b[0m\u001b[1;33m,\u001b[0m \u001b[0mnumeric_only\u001b[0m\u001b[1;33m=\u001b[0m\u001b[0mnumeric_only\u001b[0m\u001b[1;33m\u001b[0m\u001b[1;33m\u001b[0m\u001b[0m\n\u001b[0;32m  10713\u001b[0m         )\n",
      "\u001b[1;32m~\\anaconda3\\lib\\site-packages\\pandas\\core\\series.py\u001b[0m in \u001b[0;36m_reduce\u001b[1;34m(self, op, name, axis, skipna, numeric_only, filter_type, **kwds)\u001b[0m\n\u001b[0;32m   4180\u001b[0m                 )\n\u001b[0;32m   4181\u001b[0m             \u001b[1;32mwith\u001b[0m \u001b[0mnp\u001b[0m\u001b[1;33m.\u001b[0m\u001b[0merrstate\u001b[0m\u001b[1;33m(\u001b[0m\u001b[0mall\u001b[0m\u001b[1;33m=\u001b[0m\u001b[1;34m\"ignore\"\u001b[0m\u001b[1;33m)\u001b[0m\u001b[1;33m:\u001b[0m\u001b[1;33m\u001b[0m\u001b[1;33m\u001b[0m\u001b[0m\n\u001b[1;32m-> 4182\u001b[1;33m                 \u001b[1;32mreturn\u001b[0m \u001b[0mop\u001b[0m\u001b[1;33m(\u001b[0m\u001b[0mdelegate\u001b[0m\u001b[1;33m,\u001b[0m \u001b[0mskipna\u001b[0m\u001b[1;33m=\u001b[0m\u001b[0mskipna\u001b[0m\u001b[1;33m,\u001b[0m \u001b[1;33m**\u001b[0m\u001b[0mkwds\u001b[0m\u001b[1;33m)\u001b[0m\u001b[1;33m\u001b[0m\u001b[1;33m\u001b[0m\u001b[0m\n\u001b[0m\u001b[0;32m   4183\u001b[0m \u001b[1;33m\u001b[0m\u001b[0m\n\u001b[0;32m   4184\u001b[0m     \u001b[1;32mdef\u001b[0m \u001b[0m_reindex_indexer\u001b[0m\u001b[1;33m(\u001b[0m\u001b[0mself\u001b[0m\u001b[1;33m,\u001b[0m \u001b[0mnew_index\u001b[0m\u001b[1;33m,\u001b[0m \u001b[0mindexer\u001b[0m\u001b[1;33m,\u001b[0m \u001b[0mcopy\u001b[0m\u001b[1;33m)\u001b[0m\u001b[1;33m:\u001b[0m\u001b[1;33m\u001b[0m\u001b[1;33m\u001b[0m\u001b[0m\n",
      "\u001b[1;32m~\\anaconda3\\lib\\site-packages\\pandas\\core\\nanops.py\u001b[0m in \u001b[0;36m_f\u001b[1;34m(*args, **kwargs)\u001b[0m\n\u001b[0;32m     71\u001b[0m             \u001b[1;32mtry\u001b[0m\u001b[1;33m:\u001b[0m\u001b[1;33m\u001b[0m\u001b[1;33m\u001b[0m\u001b[0m\n\u001b[0;32m     72\u001b[0m                 \u001b[1;32mwith\u001b[0m \u001b[0mnp\u001b[0m\u001b[1;33m.\u001b[0m\u001b[0merrstate\u001b[0m\u001b[1;33m(\u001b[0m\u001b[0minvalid\u001b[0m\u001b[1;33m=\u001b[0m\u001b[1;34m\"ignore\"\u001b[0m\u001b[1;33m)\u001b[0m\u001b[1;33m:\u001b[0m\u001b[1;33m\u001b[0m\u001b[1;33m\u001b[0m\u001b[0m\n\u001b[1;32m---> 73\u001b[1;33m                     \u001b[1;32mreturn\u001b[0m \u001b[0mf\u001b[0m\u001b[1;33m(\u001b[0m\u001b[1;33m*\u001b[0m\u001b[0margs\u001b[0m\u001b[1;33m,\u001b[0m \u001b[1;33m**\u001b[0m\u001b[0mkwargs\u001b[0m\u001b[1;33m)\u001b[0m\u001b[1;33m\u001b[0m\u001b[1;33m\u001b[0m\u001b[0m\n\u001b[0m\u001b[0;32m     74\u001b[0m             \u001b[1;32mexcept\u001b[0m \u001b[0mValueError\u001b[0m \u001b[1;32mas\u001b[0m \u001b[0me\u001b[0m\u001b[1;33m:\u001b[0m\u001b[1;33m\u001b[0m\u001b[1;33m\u001b[0m\u001b[0m\n\u001b[0;32m     75\u001b[0m                 \u001b[1;31m# we want to transform an object array\u001b[0m\u001b[1;33m\u001b[0m\u001b[1;33m\u001b[0m\u001b[1;33m\u001b[0m\u001b[0m\n",
      "\u001b[1;32m~\\anaconda3\\lib\\site-packages\\pandas\\core\\nanops.py\u001b[0m in \u001b[0;36mf\u001b[1;34m(values, axis, skipna, **kwds)\u001b[0m\n\u001b[0;32m    133\u001b[0m                     \u001b[0mresult\u001b[0m \u001b[1;33m=\u001b[0m \u001b[0malt\u001b[0m\u001b[1;33m(\u001b[0m\u001b[0mvalues\u001b[0m\u001b[1;33m,\u001b[0m \u001b[0maxis\u001b[0m\u001b[1;33m=\u001b[0m\u001b[0maxis\u001b[0m\u001b[1;33m,\u001b[0m \u001b[0mskipna\u001b[0m\u001b[1;33m=\u001b[0m\u001b[0mskipna\u001b[0m\u001b[1;33m,\u001b[0m \u001b[1;33m**\u001b[0m\u001b[0mkwds\u001b[0m\u001b[1;33m)\u001b[0m\u001b[1;33m\u001b[0m\u001b[1;33m\u001b[0m\u001b[0m\n\u001b[0;32m    134\u001b[0m             \u001b[1;32melse\u001b[0m\u001b[1;33m:\u001b[0m\u001b[1;33m\u001b[0m\u001b[1;33m\u001b[0m\u001b[0m\n\u001b[1;32m--> 135\u001b[1;33m                 \u001b[0mresult\u001b[0m \u001b[1;33m=\u001b[0m \u001b[0malt\u001b[0m\u001b[1;33m(\u001b[0m\u001b[0mvalues\u001b[0m\u001b[1;33m,\u001b[0m \u001b[0maxis\u001b[0m\u001b[1;33m=\u001b[0m\u001b[0maxis\u001b[0m\u001b[1;33m,\u001b[0m \u001b[0mskipna\u001b[0m\u001b[1;33m=\u001b[0m\u001b[0mskipna\u001b[0m\u001b[1;33m,\u001b[0m \u001b[1;33m**\u001b[0m\u001b[0mkwds\u001b[0m\u001b[1;33m)\u001b[0m\u001b[1;33m\u001b[0m\u001b[1;33m\u001b[0m\u001b[0m\n\u001b[0m\u001b[0;32m    136\u001b[0m \u001b[1;33m\u001b[0m\u001b[0m\n\u001b[0;32m    137\u001b[0m             \u001b[1;32mreturn\u001b[0m \u001b[0mresult\u001b[0m\u001b[1;33m\u001b[0m\u001b[1;33m\u001b[0m\u001b[0m\n",
      "\u001b[1;32m~\\anaconda3\\lib\\site-packages\\pandas\\core\\nanops.py\u001b[0m in \u001b[0;36mnew_func\u001b[1;34m(values, axis, skipna, mask, **kwargs)\u001b[0m\n\u001b[0;32m    392\u001b[0m             \u001b[0mmask\u001b[0m \u001b[1;33m=\u001b[0m \u001b[0misna\u001b[0m\u001b[1;33m(\u001b[0m\u001b[0mvalues\u001b[0m\u001b[1;33m)\u001b[0m\u001b[1;33m\u001b[0m\u001b[1;33m\u001b[0m\u001b[0m\n\u001b[0;32m    393\u001b[0m \u001b[1;33m\u001b[0m\u001b[0m\n\u001b[1;32m--> 394\u001b[1;33m         \u001b[0mresult\u001b[0m \u001b[1;33m=\u001b[0m \u001b[0mfunc\u001b[0m\u001b[1;33m(\u001b[0m\u001b[0mvalues\u001b[0m\u001b[1;33m,\u001b[0m \u001b[0maxis\u001b[0m\u001b[1;33m=\u001b[0m\u001b[0maxis\u001b[0m\u001b[1;33m,\u001b[0m \u001b[0mskipna\u001b[0m\u001b[1;33m=\u001b[0m\u001b[0mskipna\u001b[0m\u001b[1;33m,\u001b[0m \u001b[0mmask\u001b[0m\u001b[1;33m=\u001b[0m\u001b[0mmask\u001b[0m\u001b[1;33m,\u001b[0m \u001b[1;33m**\u001b[0m\u001b[0mkwargs\u001b[0m\u001b[1;33m)\u001b[0m\u001b[1;33m\u001b[0m\u001b[1;33m\u001b[0m\u001b[0m\n\u001b[0m\u001b[0;32m    395\u001b[0m \u001b[1;33m\u001b[0m\u001b[0m\n\u001b[0;32m    396\u001b[0m         \u001b[1;32mif\u001b[0m \u001b[0mdatetimelike\u001b[0m\u001b[1;33m:\u001b[0m\u001b[1;33m\u001b[0m\u001b[1;33m\u001b[0m\u001b[0m\n",
      "\u001b[1;32m~\\anaconda3\\lib\\site-packages\\pandas\\core\\nanops.py\u001b[0m in \u001b[0;36mnanmean\u001b[1;34m(values, axis, skipna, mask)\u001b[0m\n\u001b[0;32m    631\u001b[0m \u001b[1;33m\u001b[0m\u001b[0m\n\u001b[0;32m    632\u001b[0m     \u001b[0mcount\u001b[0m \u001b[1;33m=\u001b[0m \u001b[0m_get_counts\u001b[0m\u001b[1;33m(\u001b[0m\u001b[0mvalues\u001b[0m\u001b[1;33m.\u001b[0m\u001b[0mshape\u001b[0m\u001b[1;33m,\u001b[0m \u001b[0mmask\u001b[0m\u001b[1;33m,\u001b[0m \u001b[0maxis\u001b[0m\u001b[1;33m,\u001b[0m \u001b[0mdtype\u001b[0m\u001b[1;33m=\u001b[0m\u001b[0mdtype_count\u001b[0m\u001b[1;33m)\u001b[0m\u001b[1;33m\u001b[0m\u001b[1;33m\u001b[0m\u001b[0m\n\u001b[1;32m--> 633\u001b[1;33m     \u001b[0mthe_sum\u001b[0m \u001b[1;33m=\u001b[0m \u001b[0m_ensure_numeric\u001b[0m\u001b[1;33m(\u001b[0m\u001b[0mvalues\u001b[0m\u001b[1;33m.\u001b[0m\u001b[0msum\u001b[0m\u001b[1;33m(\u001b[0m\u001b[0maxis\u001b[0m\u001b[1;33m,\u001b[0m \u001b[0mdtype\u001b[0m\u001b[1;33m=\u001b[0m\u001b[0mdtype_sum\u001b[0m\u001b[1;33m)\u001b[0m\u001b[1;33m)\u001b[0m\u001b[1;33m\u001b[0m\u001b[1;33m\u001b[0m\u001b[0m\n\u001b[0m\u001b[0;32m    634\u001b[0m \u001b[1;33m\u001b[0m\u001b[0m\n\u001b[0;32m    635\u001b[0m     \u001b[1;32mif\u001b[0m \u001b[0maxis\u001b[0m \u001b[1;32mis\u001b[0m \u001b[1;32mnot\u001b[0m \u001b[1;32mNone\u001b[0m \u001b[1;32mand\u001b[0m \u001b[0mgetattr\u001b[0m\u001b[1;33m(\u001b[0m\u001b[0mthe_sum\u001b[0m\u001b[1;33m,\u001b[0m \u001b[1;34m\"ndim\"\u001b[0m\u001b[1;33m,\u001b[0m \u001b[1;32mFalse\u001b[0m\u001b[1;33m)\u001b[0m\u001b[1;33m:\u001b[0m\u001b[1;33m\u001b[0m\u001b[1;33m\u001b[0m\u001b[0m\n",
      "\u001b[1;32m~\\anaconda3\\lib\\site-packages\\pandas\\core\\nanops.py\u001b[0m in \u001b[0;36m_ensure_numeric\u001b[1;34m(x)\u001b[0m\n\u001b[0;32m   1542\u001b[0m             \u001b[1;32mexcept\u001b[0m \u001b[0mValueError\u001b[0m \u001b[1;32mas\u001b[0m \u001b[0merr\u001b[0m\u001b[1;33m:\u001b[0m\u001b[1;33m\u001b[0m\u001b[1;33m\u001b[0m\u001b[0m\n\u001b[0;32m   1543\u001b[0m                 \u001b[1;31m# e.g. \"foo\"\u001b[0m\u001b[1;33m\u001b[0m\u001b[1;33m\u001b[0m\u001b[1;33m\u001b[0m\u001b[0m\n\u001b[1;32m-> 1544\u001b[1;33m                 \u001b[1;32mraise\u001b[0m \u001b[0mTypeError\u001b[0m\u001b[1;33m(\u001b[0m\u001b[1;34mf\"Could not convert {x} to numeric\"\u001b[0m\u001b[1;33m)\u001b[0m \u001b[1;32mfrom\u001b[0m \u001b[0merr\u001b[0m\u001b[1;33m\u001b[0m\u001b[1;33m\u001b[0m\u001b[0m\n\u001b[0m\u001b[0;32m   1545\u001b[0m     \u001b[1;32mreturn\u001b[0m \u001b[0mx\u001b[0m\u001b[1;33m\u001b[0m\u001b[1;33m\u001b[0m\u001b[0m\n\u001b[0;32m   1546\u001b[0m \u001b[1;33m\u001b[0m\u001b[0m\n",
      "\u001b[1;31mTypeError\u001b[0m: Could not convert 4.0.3 and up4.0.3 and up4.0.3 and up4.2 and up4.4 and up2.3 and up4.0.3 and up4.2 and up3.0 and up4.0.3 and up4.1 and up4.0 and up4.1 and up4.4 and up2.3 and up4.2 and up4.1 and up2.3 and up4.0.3 and up4.1 and up4.1 and up4.0.3 and up4.0.3 and up4.1 and up3.0 and up4.0.3 and up4.0.3 and up2.3 and up2.3 and up4.0.3 and up2.3 and up4.0 and up4.1 and up4.1 and up4.1 and up4.4 and up2.3.3 and up4.0.3 and up4.0 and up4.0.3 and up4.0.3 and upVaries with device4.1 and up4.1 and up4.1 and up4.1 and up4.1 and up2.3 and up4.0.3 and up4.1 and up4.1 and upVaries with device4.1 and up4.1 and up4.0 and up4.4 and up4.1 and up2.2 and up4.4 and up4.0.3 and up4.2 and up4.1 and up4.0 and up4.2 and up4.4 and up2.3 and upVaries with deviceVaries with device4.0.3 and up4.0.3 and up4.2 and up5.0 and up2.3.3 and up4.0 and up4.0 and up4.1 and up4.0 and up4.1 and up4.1 and up6.0 and up4.2 and up5.0 and up4.0.3 and up4.4 and upVaries with device2.3 and up4.0.3 and upVaries with deviceVaries with device4.1 and up4.0.3 and up4.0.3 and up4.0.3 and up4.0.3 and up4.0 and up4.0.3 and up4.0 and up5.0 and up4.1 and up4.1 and up4.0.3 and upVaries with device4.1 and up4.0.3 and up4.0 and up4.2 and up5.0 and up4.0.3 and upVaries with device4.0 and up4.0 and up4.0.3 and up4.0.3 and up4.0.3 and up4.0.3 and upVaries with device4.0 and up4.0 and up4.0.3 and up4.0 and up5.0 and up4.0.3 and up4.0 and up4.1 and up4.0 and up4.0.3 and up4.0.3 and up1.6 and up4.0.3 and up4.0 and up4.0.3 and up4.0.3 and upVaries with device4.4 and up4.0 and upVaries with deviceVaries with device1.5 and upVaries with deviceVaries with device4.1 and up4.0 and upVaries with device4.0 and up4.0.3 and upVaries with device2.3 and up4.0.3 and up4.1 and up4.0.3 and upVaries with device4.1 and up4.1 and up2.3 and up4.1 and upVaries with device4.0 and up4.0 and up4.1 and up4.0.3 and up3.0 and up4.0.3 and up2.1 and up4.4 and upVaries with device7.0 and up4.0 and up4.0.3 and up4.0.3 and up3.0 and up3.0 and upVaries with device4.0 and up4.2 and up4.0.3 and up2.2 and up4.2 and upVaries with deviceVaries with deviceVaries with device5.0 and upVaries with deviceVaries with device4.4 and up4.1 and up4.0.3 and up5.0 and up4.1 and up4.1 and up4.0.3 and up1.5 and upVaries with deviceVaries with device4.3 and upVaries with device4.1 and up4.0 and upVaries with deviceVaries with device2.2 and up4.1 and upVaries with device4.1 and up4.0 and upVaries with device4.1 and up4.0 and up4.1 and up4.2 and up4.0 and up4.0 and up4.0.3 and up4.0.3 and up2.2 and up4.0.3 and up7.0 and upVaries with deviceVaries with device4.0.3 and upVaries with device3.0 and up4.1 and up4.1 and up4.0 and up3.0 and upVaries with device4.1 and up4.0.3 and up4.4 and upVaries with device4.2 and up5.0 and up4.1 and up4.1 and upVaries with device5.0 and up4.0.3 and up5.0 and up4.4 and up4.0 and up4.1 and up4.1 and up4.4 and up4.1 and up4.3 and up4.0 and up5.0 and up4.4 and upVaries with device4.0.3 and up4.4 and up4.0 and up5.0 and upVaries with deviceVaries with device4.1 and up4.0.3 and up4.4 and upVaries with device4.2 and up5.0 and up4.1 and up4.1 and upVaries with device5.0 and up4.0.3 and up5.0 and up4.4 and up4.0 and up4.1 and up4.1 and up4.4 and up4.1 and upVaries with device4.0.3 and upVaries with device3.0 and up4.1 and up4.1 and up4.0 and up3.0 and upVaries with device4.1 and upVaries with device5.0 and up4.1 and upVaries with device4.1 and up4.1 and up4.0.3 and up4.4 and up4.1 and up4.1 and up5.0 and up4.0 and up2.3 and up4.0.3 and up4.2 and up4.0.3 and up4.0.3 and up4.0.3 and up4.0.3 and up4.0.3 and up4.1 and upVaries with device4.2 and up4.4 and up4.4 and up4.0 and upVaries with device4.1 and up4.1 and up5.0 and up4.0.3 and up4.1 and upVaries with device4.0 and up4.0.3 and up2.3 and up4.0.3 and up4.0.3 and up4.0 and up4.4 and upVaries with deviceVaries with device4.1 and upVaries with device2.3 and upVaries with deviceVaries with deviceVaries with device4.4 and upVaries with device4.4 and up4.0 and up4.0 and up5.0 and up4.1 and up4.0.3 - 7.1.1Varies with device4.0.3 - 7.1.1Varies with deviceVaries with device4.1 and upVaries with device4.1 and up5.0 and upVaries with deviceVaries with deviceVaries with device4.0.3 and upVaries with device4.0.3 and upVaries with device4.0 and up4.0.3 and up5.0 and upVaries with deviceVaries with device4.4 and up4.1 and upVaries with device4.1 and upVaries with deviceVaries with device4.0.3 and up4.0 and up4.3 and up4.4 and upVaries with deviceVaries with device4.0 and up4.0.3 and upVaries with deviceVaries with device4.2 and up4.0 and up4.4 and upVaries with deviceVaries with deviceVaries with deviceVaries with deviceVaries with device4.0 and upVaries with device2.3 and up2.3 and upVaries with device4.0.3 and up4.1 and upVaries with deviceVaries with deviceVaries with device4.0.3 and up4.0.3 and upVaries with device5.0 and up4.0 and up4.1 and upVaries with deviceVaries with device4.0 and up4.1 and upVaries with device2.3 and upVaries with deviceVaries with device4.0 and up4.0 and up4.0.3 and upVaries with device4.0 and up4.0 and up4.0 and up3.0 and up4.1 and up4.0.3 and up2.1 and up4.0 and upVaries with device4.0 and up4.0 and up4.0.3 and up5.0 and up4.0.3 and up5.0 and up4.0 and up2.1 and up4.1 and up4.1 and upVaries with deviceVaries with device4.1 and upVaries with device4.0.3 and up4.1 and upVaries with deviceVaries with device2.3 and upVaries with device4.4 and up4.0.3 and upVaries with device4.1 and up4.1 and up5.0 and up2.0 and upVaries with device2.2 and up4.0 and upVaries with deviceVaries with deviceVaries with device4.0 and up4.4 and upVaries with deviceVaries with deviceVaries with device2.3.3 and up4.0.3 and upVaries with deviceVaries with deviceVaries with deviceVaries with device4.1 and up4.0 and up4.0 and upVaries with device4.1 and upVaries with device4.1 and up5.0 and up4.1 and up4.1 and up4.1 and up4.4 and upVaries with device4.1 and up4.0 and up4.4 and up4.1 and up4.4 and up4.1 and up4.1 and up4.1 and upVaries with device4.2 and up4.1 and up4.1 and up4.4 and up4.1 and up4.4 and up4.1 and upVaries with device4.0.3 and up4.2 and up4.0.3 and up4.0.3 and up4.4 and up4.0 and up4.1 and up4.0.3 and up4.1 and up5.0 and up4.4 and up4.0.3 and up4.1 and up5.0 and up4.1 and up4.0 and up4.0.3 and up4.0 and up4.1 and up4.0.3 and up4.0 and up4.0.3 and up4.2 and upVaries with device4.1 and up4.0.3 and up4.0.3 and up5.0 and up4.0 and up4.1 and up4.1 and up4.1 and up4.1 and up4.1 and up4.4 and up4.1 and up5.0 and up4.4 and up4.1 and up4.1 and up4.0.3 and up4.1 and up4.1 and up4.1 and upVaries with device5.0 and up5.0 and up4.1 and up4.0.3 and up4.0.3 and up4.2 and up4.4 and upVaries with device4.1 and up4.2 and up4.1 and up4.1 and up4.1 and up4.3 and up4.1 and up4.0.3 and up4.1 and up4.1 and up4.0.3 and up4.1 and upVaries with device4.0.3 and up4.1 and up4.1 and up4.2 and up4.0.3 and up4.1 and up4.0.3 and up4.1 and up4.2 and up4.1 and up4.1 and up4.0.3 and up4.1 and up4.0.3 and up4.1 and up4.0 and up4.1 and up4.0.3 and up4.1 and up4.1 and up4.0.3 and up4.0.3 and up4.0.3 and up4.2 and up4.0 and up4.1 and up4.0 and up4.4 and up4.3 and up4.0.3 and up4.0.3 and up4.0.3 and up4.0.3 and up4.0.3 and up4.0.3 and up4.4 and up4.0.3 and up4.0.3 and up4.4 and up4.0.3 and up4.0.3 and up4.0.3 and up4.1 and up4.0.3 and up4.0.3 and up4.0.3 and up4.0.3 and up4.0.3 and up4.0.3 and up4.0 and up4.1 and up4.1 and up5.0 and up4.0.3 and up4.0.3 and up4.2 and up5.0 and up4.1 and up4.3 and up4.4 and up4.4 and upVaries with device4.0.3 and up4.0.3 and up4.0.3 and up4.1 and up4.0.3 and up4.4 and up4.1 and up4.4 and up4.1 and up4.0.3 and up4.0.3 and up4.0.3 and up4.1 and up4.0.3 and up4.0.3 and up4.0.3 and up4.0.3 and up4.0.3 and up4.0 and up4.4 and up4.0.3 and up4.0 and up4.1 and up4.1 and up4.2 and up4.0.3 and upVaries with device4.1 and up4.0 and up4.1 and up4.0 and up4.0 and up4.0 and up4.0.3 and up4.0 and up4.0 and up4.1 and up4.1 and up4.2 and upVaries with deviceVaries with device4.0 and up4.0 and up4.4 and up4.0 and up2.3 and up4.1 and up5.0 and up1.6 and up4.4 and upVaries with device4.0.3 and up2.3 and up4.2 and up4.4 and up2.3 and up4.1 and up4.1 and up2.3 and up4.1 and upVaries with device4.0.3 and up4.1 and upVaries with device4.1 and up4.1 and upVaries with device5.0 and upVaries with device4.1 and upVaries with device4.0.3 and upVaries with device5.0 and up4.1 and up4.1 and upVaries with deviceVaries with device4.0 and up2.3 and up2.3 and up2.3 and up5.0 and up5.0 and up4.0 and upVaries with device4.0 and up4.0 and up4.0 and up4.1 and up4.0 and up4.4 and up4.1 and up4.4 and up2.2 and up2.3.3 and up2.1 and upVaries with device2.3.3 and up4.0 and upVaries with device2.1 and up4.1 and upVaries with device4.0 and upVaries with deviceVaries with deviceVaries with device4.1 and up4.1 and upVaries with deviceVaries with deviceVaries with device5.0 and up5.0 and up4.1 and up5.0 and upVaries with device4.1 and upVaries with deviceVaries with device4.4 and up4.4 and upVaries with device4.1 and upVaries with device4.0 and up5.0 and up4.4 and up4.2 and up4.1 and up4.0 and upVaries with device4.0 and up5.0 and upVaries with device2.3 and up4.0.3 and up4.0 and up2.3 and upVaries with device4.0.3 and up2.3 and up4.0 and upVaries with deviceVaries with device4.0.3 and up3.2 and up4.4 and upVaries with deviceVaries with device4.1 and upVaries with device3.0 and up4.0 and up4.1 and up4.2 and up5.0 and upVaries with device4.4 and up3.0 and up5.0 and upVaries with device4.4 and upVaries with deviceVaries with device4.1 and up4.0 and upVaries with device4.1 and up4.1 and upVaries with device5.0 and up5.0 and up4.0.3 and up4.1 and up4.1 and up4.0.3 and up4.1 and up4.4 and up4.4 and upVaries with device4.0.3 and upVaries with device4.1 and up4.1 and up5.0 and upVaries with device6.0 and up4.2 and up4.0.3 and upVaries with deviceVaries with deviceVaries with device4.0 and upVaries with device2.3.3 and up4.0.3 and up4.1 and upVaries with device4.1 and upVaries with device4.2 and up4.2 and upVaries with device4.1 and up4.1 and up4.1 and up4.0.3 and up4.4 and up4.1 and upVaries with device4.1 and up4.4 and upVaries with deviceVaries with device4.3 and up4.1 and up4.1 and up4.1 and upVaries with device4.2 and up5.0 and upVaries with device4.4 and upVaries with device6.0 and up4.1 and up5.0 and upVaries with deviceVaries with deviceVaries with deviceVaries with device4.1 and upVaries with device4.4 and upVaries with device4.1 and upVaries with device4.1 and upVaries with device4.4 and up4.4 and up4.4 and up4.4 and up4.4 and up4.4 and up4.4 and up4.4 and up5.0 and upVaries with deviceVaries with deviceVaries with device4.4 and up4.0.3 and up4.4 and upVaries with deviceVaries with device4.1 and upVaries with deviceVaries with deviceVaries with device4.1 and up4.4 and up5.0 and up4.4 and up4.4 and up4.4 and up4.1 and up4.4 and upVaries with device4.1 and up4.4 and up4.4 and up4.4 and up4.4 and up4.4 and up4.4 and up5.0 and up4.1 and upVaries with deviceVaries with device4.4 and up4.4 and upVaries with device4.1 and upVaries with deviceVaries with deviceVaries with device4.4 and upVaries with device5.0 and upVaries with device4.4 and up4.4 and upVaries with device4.4 and upVaries with device4.4 and up5.0 and upVaries with deviceVaries with device4.3 and up4.4 and up4.4 and upVaries with device4.4 and up4.4 and up4.4 and up4.4 and up4.4 and up4.4 and up4.4 and up4.2 and upVaries with deviceVaries with device6.0 and up4.0.3 and up4.4 and upVaries with device5.0 and upVaries with deviceVaries with device4.0 and up2.3.3 and up2.3 and up5.0 and up4.1 and up4.0.3 and upVaries with device4.0.3 and upVaries with device4.1 and up4.1 and upVaries with device4.1 and up4.0 and up5.0 and up4.2 and up5.0 and upVaries with device4.2 and up4.1 and up4.0 and up4.0 and up5.0 and up4.2 and upVaries with device2.3.3 and upVaries with device2.3.3 and up4.4 and up4.1 and up2.0 and up4.1 and upVaries with device4.2 and up4.0 and up4.4 and up4.0.3 and up5.0 and up4.1 and up4.2 and up4.2 and upVaries with device5.0 and upVaries with device4.2 and up4.0.3 and up4.2 and up4.1 and upVaries with device4.0 and upVaries with device4.2 and upVaries with deviceVaries with device4.1 and up5.0 and up4.0.3 and up4.0.3 and upVaries with deviceVaries with deviceVaries with device4.0.3 and up4.0.3 and up4.2 and up4.4 and up5.0 and upVaries with device4.1 and up4.4 and up5.0 and up4.0 and up4.2 and up4.0 and up4.1 and up4.1 and upVaries with device4.0 and up4.4 and upVaries with deviceVaries with device4.1 and up4.4W and upVaries with device5.0 and up5.0 and up4.1 and up4.4 and upVaries with deviceVaries with deviceVaries with device4.0 and upVaries with device5.0 and up4.1 and up4.0 and up5.0 and up5.0 and upVaries with device4.1 and up4.4 and up4.4 and up4.2 and up4.0 and up4.4 and up4.4 and up4.4 and upVaries with device5.0 and up4.1 and upVaries with device4.0.3 and up6.0 and up4.0.3 and up4.4 and up4.4 and up5.0 and up2.3.3 and upVaries with deviceVaries with device4.0 and upVaries with device4.1 and upVaries with deviceVaries with deviceVaries with device2.3 and upVaries with device4.4 and upVaries with device4.2 and upVaries with device2.1 and upVaries with device4.0 and up4.1 and upVaries with deviceVaries with device4.4 and upVaries with device4.4 and upVaries with deviceVaries with device5.0 and up4.1 and up4.1 and up4.4 and up4.4 and up5.0 and up4.4 and up4.1 and up4.4 and up4.4 and up4.0.3 and up4.2 and up5.0 and upVaries with device5.0 and up4.4 and up5.0 and up4.1 and up5.0 and up5.0 and up5.0 and up4.4 and up4.1 and up5.0 and upVaries with device5.0 and up4.4 and up5.0 and up4.1 and up4.0.3 and upVaries with device4.0.3 and upVaries with device4.4 and up4.0.3 and up4.0.3 and up4.1 and up4.4 and up4.4 and up4.2 and up4.0 and up5.0 and up5.0 and up5.0 and up4.0.3 and up4.4 and up4.0.3 and upVaries with device4.1 and upVaries with device4.0.3 and upVaries with deviceVaries with device4.0.3 and up4.4 and up4.4 and upVaries with device4.1 and up4.0.3 and up4.1 and up4.1 and up4.4 and up4.1 and up4.0 and up4.0.3 and up4.4 and upVaries with device4.0.3 and upVaries with device5.1 and up4.1 and upVaries with device2.3.3 and up4.0 and upVaries with deviceVaries with device4.0 and up4.4 and up5.0 and up4.2 and up5.0 and up5.0 and up5.0 and up5.0 and upVaries with deviceVaries with device4.4 and up5.0 and upVaries with device5.0 and upVaries with deviceVaries with deviceVaries with device5.0 and up4.1 and up6.0 and upVaries with device5.0 and up5.0 and up5.0 and upVaries with device4.1 and up4.2 and upVaries with deviceVaries with device4.4 and up4.2 and up4.1 and up4.2 and up4.0 and up4.0 and up4.4 and up4.1 and up4.1 and up4.4 and up4.0 and up4.0 and up4.1 and up4.0.3 and up4.1 and up4.1 and up5.0 and up4.0.3 and upVaries with device4.1 and upVaries with device4.1 and up4.1 and up4.1 and up4.4 and up3.0 and upVaries with device5.0 and up4.2 and upVaries with device4.1 and up4.1 and upVaries with device5.0 and up4.4 and upVaries with device2.3 and up2.3.3 and up4.4 and up5.0 and upVaries with device5.0 and up4.1 and up4.4 and up5.0 and up4.1 and upVaries with deviceVaries with deviceVaries with device4.1 and upVaries with device5.0 and upVaries with device4.1 and up5.0 and up5.0 and up4.4 and up4.0.3 and up5.0 and upVaries with deviceVaries with device4.1 and up4.4 and up4.0.3 and up5.0 and upVaries with deviceVaries with device5.0 and upVaries with device4.0 and upVaries with device4.0.3 and up2.3.3 and up4.0 and up4.0.3 and up2.3.3 and upVaries with device4.0.3 and up4.3 and up4.2 and up4.1 and up2.3.3 and upVaries with deviceVaries with deviceVaries with deviceVaries with device4.4 and up4.2 and up4.1 and up4.0 and upVaries with deviceVaries with device4.0.3 and up4.0.3 and up4.3 and upVaries with device5.0 and up4.1 and up4.4 and up4.0.3 and upVaries with device4.2 and upVaries with deviceVaries with device4.1 and upVaries with device4.0.3 and upVaries with device5.0 and upVaries with device4.4 and up4.4 and upVaries with deviceVaries with device4.0.3 and up4.1 and up4.4 and upVaries with deviceVaries with device4.1 and up4.1 and upVaries with device4.1 and up5.0 and upVaries with deviceVaries with device5.0 and up5.0 and up4.4 and upVaries with deviceVaries with deviceVaries with device4.4 and upVaries with deviceVaries with device5.0 and up2.3.3 and up4.1 and up4.0.3 and up5.0 and upVaries with device4.1 and up4.4 and up4.0.3 and up4.0 and upVaries with device4.0 and upVaries with deviceVaries with device5.0 and up2.3.3 and up4.0 and up4.1 and up4.1 and upVaries with device2.3 and up5.0 and up4.0.3 and up4.4 and up4.1 and upVaries with device4.0.3 and up4.0 and up4.0 and upVaries with deviceVaries with device4.0.3 and up4.0.3 and up4.4 and upVaries with deviceVaries with device4.1 and up4.4 and up4.0.3 and upVaries with device4.0.3 and up4.4 and up4.1 and up4.0 and up4.1 and upVaries with deviceVaries with deviceVaries with device4.1 and upVaries with deviceVaries with device4.4 and up4.2 and up4.0 and up4.4 and up5.0 and upVaries with device4.0.3 and up4.0.3 and up4.0.3 and up4.1 and up4.4 and upVaries with deviceVaries with device4.0 and upVaries with device4.2 and up5.0 and up4.0.3 and up4.0.3 and upVaries with device4.0 and upVaries with device5.0 and upVaries with deviceVaries with device4.1 and up4.1 and up4.4 and up4.0 and upVaries with device4.0.3 and up5.0 and up4.0.3 and up4.4 and up4.1 and upVaries with deviceVaries with device4.1 and up4.0.3 and up4.0 and up4.0.3 and up4.0 and up4.0 and up4.0.3 and up3.0 and up3.0 and up3.0 and up3.0 and upVaries with device3.0 and up3.0 and up3.0 and up5.0 and up4.1 and up4.0 and up5.0 and up5.0 and up4.0.3 and upVaries with device4.4 and up4.2 and upVaries with deviceVaries with device4.4 and upVaries with device4.4 and upVaries with device4.0.3 and up5.0 and up2.3 and up2.2 and up4.0.3 and up2.2 and up4.0 and up4.0.3 and up4.0 and up2.2 and upVaries with device2.3 and up4.0.3 and up7.1 and up2.3 and up4.1 and up4.0.3 and up4.0.3 and up1.5 and up4.0.3 and up1.6 and up4.2 and upVaries with device1.6 and up4.1 and up5.0 and up2.3 and up4.0 and up1.5 and up2.3 and up2.3 and up4.0.3 and up3.2 and up4.0 and up4.4 and up4.1 and up5.0 and up2.3 and up4.0 and up4.0 and up4.0 and up4.0.3 and up2.3 and up4.0.3 and up4.0.3 and up7.0 - 7.1.12.3 and up4.1 and up7.0 and up2.3.3 and up4.4 and up4.1 and up4.4 and up5.0 and up4.0 and up4.1 and up4.4 and up4.4 and up4.1 and up2.3 and up2.3 and up5.0 and up2.3 and up4.0.3 and up4.4 and up4.0.3 and up5.0 and up4.0 and up4.0.3 and up4.4 and up2.3 and up4.0 and up4.1 and up4.0 and up4.3 and up4.2 and up4.1 and up4.3 and upVaries with device4.0.3 and up4.1 and up4.1 and up4.4 and up4.0.3 and up4.1 and upVaries with device5.0 and upVaries with device4.4 and up4.0.3 and up4.0 and up4.0 and up4.0 and up4.1 and up4.3 and up4.1 and upVaries with device2.2 and up2.3 and up4.3 and up4.1 and up4.1 and upVaries with device2.2 and up2.3 and up4.3 and up4.1 and up4.0.3 and up5.0 and up4.2 and up2.2 and up4.1 and up4.4 and up4.0.3 and upVaries with device4.0 and up4.0.3 and upVaries with deviceVaries with device4.0 and up4.0.3 and upVaries with device4.1 and upVaries with deviceVaries with device4.0.3 and up4.1 and up4.1 and up4.1 and up4.1 and up4.0.3 and up4.1 and up2.3 and up4.1 and up4.0 and up4.0 and up4.1 and up2.3 and up4.1 and up4.1 and up4.1 and up4.1 and up2.3 and up4.1 and up4.4 and up2.3.3 and up4.1 and up4.0 and up4.0.3 and up4.1 and up3.0 and up3.0 and up4.0 and up4.1 and up4.1 and up4.0.3 and up4.0.3 and up4.1 and upVaries with device4.1 and up4.1 and up4.0 and up4.2 and up4.0.3 and up4.0.3 and up4.0.3 and up4.1 and upVaries with device2.3 and up4.0 and up4.1 and up4.1 and upVaries with device4.1 and up4.1 and up4.0 and up4.0.3 and up4.1 and up4.1 and up4.1 and up4.0.3 and up4.1 and up4.4 and up4.1 and up4.0.3 and up4.1 and up4.4 and up4.1 and up3.0 and up4.1 and up4.0.3 and up4.0.3 and up2.3 and up4.1 and up4.1 and up4.1 and upVaries with device4.0 and up4.1 and up4.1 and up4.1 and up2.3 and up4.0 and upVaries with device4.0.3 and up4.0.3 and up2.3 and up4.0 and up2.3 and up4.1 and up4.1 and up4.3 and up4.4 and up4.1 and up4.0.3 and up4.1 and up4.2 and up4.1 and up4.0.3 and up4.0.3 and up4.0.3 and up4.1 and up4.1 and up4.1 and up4.1 and up4.1 and up4.1 and up4.0 and up4.0.3 and upVaries with device2.3 and up4.1 and up4.0 and up4.4 and up4.1 and up4.1 and up4.1 and up4.4 and up4.1 and up5.0 and up4.1 and up4.1 and up4.4 and up4.1 and up4.1 and up4.1 and up4.0 and up4.1 and up4.1 and up4.1 and up4.1 and up4.0.3 and up4.3 and up4.1 and up4.1 and up4.4 and up5.0 and up4.1 and up4.3 and upVaries with device4.1 and up4.1 and up5.0 and up4.1 and up4.1 and up4.1 and up4.0.3 and up4.3 and up5.0 and up4.1 and up4.1 and up5.0 and up4.1 and up4.1 and up4.4 and up5.0 and up4.4 and up4.1 and up4.1 and up6.0 and upVaries with device4.0.3 and up4.1 and up4.0.3 and up4.2 and up4.4 and up4.1 and up4.1 and upVaries with device4.1 and up6.0 and up4.0 and up2.3 and up4.4 and up4.1 and up4.3 and up4.0.3 and up4.0.3 and up4.4 and up4.1 and up4.0.3 and up4.3 and up4.3 and up4.4 and up4.4 and up5.0 and up4.4 and up2.3 and up4.4 and up4.0.3 and up2.3.3 and up4.1 and up4.4 and up6.0 and up4.1 and up4.1 and up4.1 and up4.0.3 and up4.1 and up4.4 and up4.3 and up4.0.3 and up4.4 and upVaries with device4.0.3 and up4.4 and up4.0.3 and up4.0.3 and up4.1 and up4.0.3 and up4.1 and up4.4 and up6.0 and up4.0.3 and up4.0.3 and up4.0.3 and up2.3 and up4.0 and up4.3 and up2.3 and up4.0.3 and up4.0.3 and up4.1 and up4.1 and up4.0.3 and up4.1 and up4.1 and up2.3 and up4.0.3 and up4.1 and up4.1 and up4.1 and up4.1 and up2.3 and up4.1 and up3.0 and up2.3 and up4.0 and up4.0 and up4.0 and up4.1 and up4.0.3 and up4.1 and up4.1 and up2.3 and up4.0.3 and up4.0.3 and up4.0.3 and up4.0.3 and up4.1 and up4.4 and up4.1 and up4.1 and up4.0 and up4.0 and up4.4 and up4.1 and up4.0.3 and up4.1 and up4.1 and up4.1 and up4.1 and up4.2 and upVaries with device4.3 and up4.0.3 and up4.0.3 and upVaries with device4.0.3 and upVaries with device4.1 and up4.1 and up5.0 and up4.0 and up2.3 and up4.1 and up4.1 and up4.1 and upVaries with device4.1 and up2.3.3 and up4.4 and up4.4 and up4.2 and up4.0.3 and up3.0 and up4.0 and up3.0 and up6.0 and upVaries with device4.1 and up2.3 and up4.1 and up4.1 and up4.0 and up3.0 and up2.3 and up4.1 and up4.1 and up2.3.3 and up4.0.3 and up2.3 and up4.0.3 and up4.1 and up4.1 and up5.0 and up4.0.3 and up4.0.3 and upVaries with device4.1 and up4.0.3 and up4.0 and upVaries with device4.1 and up4.0 and up4.1 and up4.2 and up4.0.3 and up4.0.3 and up4.1 and up4.1 and up2.3 and up4.1 and up4.0.3 and up4.0.3 and up4.0.3 and upVaries with device4.0.3 and up4.0.3 and up4.1 and up4.2 and up2.3.3 and up4.1 and up4.0.3 and up4.1 and up4.1 and up4.0 and up4.1 and up4.0 and up4.1 and up4.0 and up4.1 and up4.1 and up4.1 and upVaries with device4.2 and up4.0 and up4.1 and up2.3 and up4.1 and up4.1 and up4.4 and up4.1 and up4.1 and up2.3.3 and up4.1 and up4.3 and up4.4 and up2.3 and up4.0 and up4.1 and upVaries with deviceVaries with deviceVaries with device2.3 and up2.3.3 and up4.1 and up4.1 and up4.0.3 and up4.1 and up4.0.3 and up4.0.3 and up4.0.3 and up4.1 and up4.0.3 and up4.1 and up2.3 and up4.1 and up4.0 and up4.1 and up4.0.3 and up4.0.3 and up4.1 and up2.3 and up4.1 and up4.1 and up4.0.3 and up4.0.3 and up2.3 and upVaries with device4.1 and up4.0.3 and up4.0.3 and upVaries with device2.3 and up4.0.3 and up4.0.3 and up4.0.3 and up4.1 and up4.0 and up4.0.3 and up4.0 and up4.1 and upVaries with device4.0.3 and up2.3.3 and up4.0 and up4.1 and up4.0.3 and upVaries with device4.4 and up4.4 and up4.1 and up4.1 and up5.0 and up4.4 and up4.4 and up4.2 and up4.1 and up4.1 and up4.0.3 and up4.1 and up4.1 and up4.1 and up4.4 and up4.4 and up5.0 and up4.1 and up4.0.3 and upVaries with deviceVaries with device4.1 and up4.0.3 and upVaries with device4.1 and up4.1 and up4.1 and up4.1 and up4.1 and up4.4 and up4.1 and up4.1 and up4.0.3 and upVaries with device4.1 and up4.0 and up4.4 and up4.1 and up2.3.3 and up4.1 and up4.1 and up4.1 and up4.0.3 and up4.0.3 and up4.4 and up4.2 and up4.2 and up4.1 and up4.1 and up4.1 and up4.0.3 and up4.0 and up4.1 and up4.1 and up4.1 and up2.3 and up4.1 and up2.3 and up4.3 and up2.3 and up4.0.3 and up2.3.3 and up4.1 and up4.1 and up4.2 and up4.0 and up4.0 and up4.4 and up2.3.3 and up4.1 and up4.1 and up4.1 and up4.0 and up4.2 and up4.0 and up2.3 and up4.0.3 and up4.0.3 and up4.1 and up2.3 and up4.2 and up4.0.3 and up4.1 and up4.1 and up2.3 and up5.1 and up4.2 and up4.0 and up4.1 and up4.1 and up4.0 and up4.1 and upVaries with device4.4 and up4.0.3 and up2.3 and up2.3 and up4.0.3 and up2.3 and up2.3 and up4.1 and up4.1 and up3.0 and up4.1 and up2.3 and up4.0.3 and up4.1 and up4.4 and up4.0 and up2.3 and upVaries with device4.0 and up4.0 and up4.0 and up5.1 and up2.3.3 and up4.1 and up4.1 and up4.1 and up2.3 and up4.0 and up2.3 and up4.0.3 and up4.0 and up2.3 and up4.0.3 and up4.2 and up4.0.3 and up2.2 and up4.4 and up4.3 and up4.0.3 and up2.3 and up4.0.3 and up4.0 and up4.0.3 and up4.0 and up2.3 and up4.0.3 and up4.2 and up4.0.3 and up2.2 and up4.4 and up4.3 and up4.0.3 and up2.3 and up4.0.3 and up4.0 and up4.1 and upVaries with device4.1 and up4.2 and up4.1 and up4.0.3 and up4.2 and up4.4 and up4.1 and up4.1 and upVaries with device4.4 and up4.1 and up4.1 and up4.4 and up4.0.3 and up4.0 and up4.2 and up2.3 and up4.2 and up4.4 and up4.4 and up6.0 and up4.0.3 and up4.4 and up2.3 and up4.0.3 and up2.3 and upVaries with device4.0 and up4.0 and up4.1 and up4.3 and up4.1 and up5.0 and upVaries with device2.3.3 and up4.0 and up2.2 and up4.1 and up2.2 and upVaries with device4.1 and up6.0 and up5.0 and up5.0 and up4.0.3 and up4.0.3 and up4.4W and up4.0.3 and up4.0.3 and up4.1 and up4.0 and up5.0 and upVaries with device4.0 and up4.1 and up4.0.3 and up4.0.3 and up4.0 and up2.1 and up4.1 and up3.0 and up4.0 and up4.0 and up3.0 and up3.0 and up4.4 and up4.1 and upVaries with device4.4 and up2.1 and up1.6 and up3.0 and upVaries with device2.3 and up4.1 and up2.3.3 and up4.1 and upVaries with device4.1 and up4.4W and upVaries with deviceVaries with device4.2 and up4.1 and up2.3.3 and up2.1 and up4.1 and up2.2 and up4.0.3 and up2.3.3 and up4.0 and up3.2 and up4.1 and upVaries with device4.4 and upVaries with device4.3 and up4.3 and up5.0 and up4.1 and up4.1 and up4.4 and up4.4 and up5.1 and upVaries with device4.3 and up4.4 and up4.1 and up4.1 and up6.0 and up4.3 and up5.0 and up4.0 and up4.1 and up4.3 and up4.0 and up4.0.3 and up4.4 and up4.0 and up4.4 and up5.0 and up4.1 and up4.1 and up4.0.3 and up5.0 and up4.4 and up5.0 and up4.4 and up5.0 and up4.1 and up4.4 and up4.1 and up4.0.3 and up4.1 and up4.1 and up4.1 and up4.1 and up4.4 and up4.1 and up4.1 and up4.4 and upVaries with device5.0 and up4.0 and up4.4 and up4.0 and up4.1 and up4.0 and up6.0 and up4.4 and up5.0 and up4.1 and up4.4 and up4.0.3 and up4.0 and up5.0 and up4.1 and up4.4 and up4.4 and up4.4 and up5.0 and up4.1 and upVaries with device4.1 and up4.4 and up4.1 and up2.2 and up4.4 and up4.1 and up4.2 and up7.0 and up4.1 and up2.2 and up4.0.3 and up4.0.3 and up4.0 and up4.1 and up4.0 and up7.0 and up3.0 and upVaries with device4.0.3 and up4.4W and up4.4 and up4.4 and upVaries with device4.1 and up3.0 and up5.0 and up4.0 and up4.2 and up4.4 and up4.1 and up2.2 and up4.4 and up4.1 and up3.0 and up4.4 and up4.0 and up4.1 and up5.0 and up4.1 and up4.1 and up5.0 and up4.4 and up4.0 and up4.1 and upVaries with device4.0.3 and up5.0 and up4.4 and up5.0 and up4.1 and up4.2 and up4.1 and up4.1 and up4.1 and up4.0.3 and up4.0.3 and up4.1 and up5.0 and up4.0 and up4.1 and up4.4 and up4.0.3 and up4.0.3 and up4.1 and up4.1 and up4.4 and up8.0 and up4.3 and up4.4 and up4.4 and up4.3 and up4.0.3 and up5.0 and up3.0 and up6.0 and up5.0 and up4.1 and up4.2 and up3.0 and up4.4 and up4.0.3 and up4.0.3 and up4.0.3 and up3.0 and up4.4 and up3.0 and up4.0.3 and up4.0.3 and up4.3 and up4.0.3 and up5.0 and up5.0 and up4.4 and up5.0 and up5.0 and upVaries with device4.0 and up4.1 and up2.2 and up4.0 and up4.4 and up4.3 and up4.4 and up5.0 and up4.0.3 and up2.3.3 and up4.0.3 and up4.1 and up4.0 and up4.0.3 and up4.0.3 and up4.0 and up4.1 and up3.0 and up4.0.3 and up4.0.3 and up5.0 and upVaries with deviceVaries with deviceVaries with device4.1 and upVaries with device4.0 and upVaries with device4.0 and upVaries with deviceVaries with deviceVaries with device4.1 and up4.1 and up4.3 and upVaries with device4.1 and up5.0 and up4.0.3 and up4.1 and up4.0 and up4.0.3 and upVaries with device4.1 and up2.3 and up4.0.3 and up4.3 and up4.1 and up4.0.3 and up4.1 and up4.3 and upVaries with device4.0.3 and up4.0 and up4.4 and up4.4 and upVaries with device2.2 and up4.0.3 and up5.0 and up4.4 and upVaries with device4.4 and upVaries with deviceVaries with deviceVaries with deviceVaries with device4.1 and up4.1 and upVaries with device4.1 and upVaries with device4.3 and upVaries with deviceVaries with deviceVaries with deviceVaries with device2.1 and upVaries with device4.0.3 and upVaries with deviceVaries with deviceVaries with deviceVaries with device4.1 and up4.4 and up4.1 and upVaries with deviceVaries with deviceVaries with device5.0 and upVaries with device2.3 and upVaries with device4.1 and up4.3 and up4.1 and up4.0.3 and up5.0 and upVaries with deviceVaries with deviceVaries with deviceVaries with device2.3 and upVaries with device5.0 and upVaries with device4.1 and up4.2 and up4.1 and up5.0 and up4.4 and upVaries with deviceVaries with device4.1 and up2.3 and upVaries with device4.4 and up4.4 and upVaries with device4.1 and upVaries with device4.2 and upVaries with deviceVaries with device4.1 and up4.3 and upVaries with deviceVaries with device2.3 and up4.4 and up4.4 and up4.1 and upVaries with device4.1 and up4.1 and up5.0 and upVaries with deviceVaries with deviceVaries with device4.1 and up4.4 and up4.2 and up4.1 and up4.1 and upVaries with device4.1 and up4.0.3 and up4.0 and up4.0.3 and up4.1 and upVaries with device4.1 and up4.1 and up4.1 and up4.1 and up4.1 and up4.0.3 and up4.0.3 and up4.1 and up4.4 and upVaries with deviceVaries with device4.2 and up4.3 and upVaries with device4.1 and up4.1 and up4.2 and up4.1 and up4.1 and up4.0 and up4.0.3 and up4.0.3 and up5.0 and upVaries with deviceVaries with device4.2 and up4.0.3 and up4.0 and up4.3 and upVaries with device4.3 and upVaries with device4.0.3 and up4.4 and up4.0 and upVaries with device4.4 and up4.1 and up4.1 and up4.1 and upVaries with deviceVaries with device4.4 and up4.1 and up4.4 and up4.4 and up5.0 and up4.4 and up4.3 and upVaries with deviceVaries with deviceVaries with deviceVaries with device4.4 and upVaries with device4.4 and upVaries with deviceVaries with deviceVaries with device4.1 and up4.1 and up4.4 and upVaries with deviceVaries with deviceVaries with device4.4 and up4.1 and up4.0 and up4.4 and up2.3 and up4.4 and up4.0.3 and upVaries with deviceVaries with device4.1 and upVaries with device4.1 and upVaries with device4.4 and up4.0.3 and up4.1 and upVaries with device4.4 and upVaries with deviceVaries with device4.4 and up4.0.3 and up4.4 and up4.4 and up4.4 and up4.4 and up4.4 and upVaries with device4.1 and up4.4 and up5.0 and up4.4 and upVaries with device4.1 and upVaries with device4.0 and up4.1 and up4.4 and up4.0.3 and up4.4 and up4.4 and up4.4 and up4.1 and upVaries with deviceVaries with device4.1 and up4.1 and up4.0.3 and up2.3.3 and up4.0.3 and upVaries with device4.4 and up4.1 and up4.4 and up5.0 and up4.4 and up4.1 and up4.0 and upVaries with device5.0 and up4.4 and up4.4 and up5.0 and up4.1 and up4.0.3 and up4.1 and up4.1 and up4.4 and upVaries with deviceVaries with device4.2 and up4.4 and up4.1 and up4.0.3 and up4.4 and up4.2 and up4.3 and up2.3 and up4.0.3 and up5.0 and up4.0 and up4.2 and up4.1 and up4.0 and up7.0 and up4.0.3 and up4.0.3 and up4.0 and up4.1 and upVaries with device4.0.3 and up4.2 and up4.0.3 and upVaries with device4.4 and up4.1 and upVaries with device2.3 and up4.0.3 and up4.1 and up4.1 and up5.0 - 8.04.0.3 and up2.3 and upVaries with device4.4 and up4.0 and up4.0.3 and up4.0.3 and upVaries with device4.0.3 and up4.0 and up4.1 and upVaries with device4.0 and up4.0 and up4.4 and up5.0 and up4.0.3 and up4.3 and up4.0 and upVaries with device4.1 and up2.3.3 and upVaries with deviceVaries with device2.3 and upVaries with device4.0.3 and upVaries with device4.4 and up4.0 and up4.0.3 and up4.0.3 and up4.0 and up2.3 and up4.0 and up4.0.3 and up4.0.3 and up4.1 and up3.0 and up4.1 and up4.0.3 and up4.1 and upVaries with device4.0 and up4.0 and up4.4 and up5.0 and upVaries with device4.0 and upVaries with device4.0 and up2.3 and up2.1 and up4.2 and up5.0 and upVaries with device4.0.3 and up4.0 and upVaries with device4.2 and up4.0 and up4.0.3 and upVaries with deviceVaries with device2.2 and up4.0.3 and upVaries with device4.0.3 and up4.4 and up4.0.3 and up4.1 and upVaries with device4.2 and up3.1 and upVaries with device4.0 and up2.3.3 and up4.2 and up4.0 and upVaries with deviceVaries with device4.0 and upVaries with device4.0 and upVaries with device5.1 and upVaries with deviceVaries with device4.1 and upVaries with device4.0.3 and up4.1 and upVaries with deviceVaries with device4.4 and up4.1 and up4.0.3 and upVaries with device4.1 and up4.4 and up4.1 and upVaries with device4.0.3 and upVaries with device4.3 and upVaries with device4.4 and up4.0.3 and up4.1 and up4.0 and up2.3 and up4.0.3 and up2.3.3 and up5.0 and up4.0 and up4.1 and up4.3 and up5.0 and up4.0.3 and up4.1 and upVaries with deviceVaries with device4.4 and up4.4 and up4.1 and up4.4 and upVaries with device5.0 and up4.0 and up4.0.3 and upVaries with deviceVaries with deviceVaries with deviceVaries with device5.0 and upVaries with device4.1 and upVaries with deviceVaries with device4.1 and up4.1 and up4.1 and upVaries with device4.1 and up4.4 and up4.1 and up4.2 and up4.1 and upVaries with deviceVaries with device4.1 and up2.3 and up4.1 and up4.0 and up4.0.3 and up4.0.3 and up4.1 and up4.0.3 and up4.4 and upVaries with device4.4 and upVaries with device4.1 and up4.2 and up4.1 and up5.0 and upVaries with deviceVaries with device5.0 and upVaries with deviceVaries with device4.4 and up4.4 and up5.0 and up4.4 and up5.0 and up5.0 and upVaries with device5.0 and up4.1 and up4.4 and up4.1 and upVaries with device4.1 and up4.1 and up4.1 and up4.1 and upVaries with device4.4 and up5.0 and up4.0 and up4.1 and up4.2 and upVaries with device2.3 and upVaries with device4.0.3 and up4.1 and up5.0 and up5.0 and upVaries with device4.4 and up4.1 and up4.4 and up5.0 and up5.0 and up5.0 and up5.0 and upVaries with device4.0.3 and up2.3 and upVaries with device4.4 and up4.4 and up5.0 and up4.1 and up5.1 and up4.1 and up5.0 and upVaries with deviceVaries with device4.4 and up5.0 and up4.2 and up5.1 and up4.4 and up5.0 and upVaries with deviceVaries with deviceVaries with device5.0 and up5.0 and upVaries with device4.0.3 and up2.3 and up4.1 and upVaries with device5.0 and upVaries with deviceVaries with device4.4 and up4.1 and upVaries with device4.4 and up2.3.3 and up4.4 and up4.1 and upVaries with device5.0 and up5.1 and up4.2 and up4.4 and up4.4 and up4.2 and upVaries with device5.0 and up5.0 and up5.0 and upVaries with deviceVaries with device5.0 and upVaries with device5.0 and up5.0 and upVaries with device5.0 and upVaries with device4.4 and up4.0.3 and upVaries with deviceVaries with device4.1 and up4.1 and upVaries with deviceVaries with deviceVaries with deviceVaries with device4.0 and up4.0.3 and up4.1 and up4.4 and up6.0 and up4.1 and up4.2 and upVaries with deviceVaries with device4.4 and up5.0 and up4.3 and up4.4 and up5.0 and up4.0.3 and up4.1 and up4.2 and upVaries with device5.0 and upVaries with device4.2 and up4.4 and up5.0 and upVaries with device5.0 and upVaries with device4.1 and upVaries with device5.0 and up4.4 and up4.1 and up4.1 and upVaries with device4.1 and up4.0 and up4.4 and upVaries with deviceVaries with device4.1 and upVaries with device4.4 and up5.0 and up4.1 and up4.0.3 and up4.4 and upVaries with deviceVaries with device4.0.3 and up4.1 and up4.0.3 and upVaries with deviceVaries with device4.1 and up5.0 and up4.4 and up5.0 and up5.0 and upVaries with device4.4 and up4.4 and up6.0 and up4.4 and upVaries with device4.4 and up5.0 and up4.1 and up5.0 and up5.0 and upVaries with deviceVaries with deviceVaries with device4.1 and upVaries with device4.4 and up4.1 and up4.2 and up4.0.3 and up4.1 and upVaries with deviceVaries with deviceVaries with device4.4 and up4.1 and upVaries with device5.0 and upVaries with deviceVaries with deviceVaries with device4.4 and up4.4 and up4.4 and upVaries with deviceVaries with deviceVaries with device4.1 and upVaries with deviceVaries with device4.1 and upVaries with device5.0 and up4.4 and upVaries with device4.4 and upVaries with deviceVaries with device4.0 and up4.0 and up4.0.3 and up4.1 and upVaries with device5.0 and upVaries with device4.0 and upVaries with device5.0 and upVaries with deviceVaries with deviceVaries with device4.4 and upVaries with device4.0 and up8.0 and upVaries with deviceVaries with deviceVaries with deviceVaries with device4.0 and upVaries with device4.1 and up4.2 and upVaries with deviceVaries with deviceVaries with deviceVaries with device4.2 and up4.1 and upVaries with device5.0 and up7.0 and up5.0 and up7.0 and up4.1 and upVaries with deviceVaries with deviceVaries with device7.1 and up4.1 and upVaries with device5.0 and upVaries with deviceVaries with deviceVaries with deviceVaries with device4.0.3 and up8.0 and up4.2 and up6.0 and up4.1 and up4.1 and up4.1 and up4.4 and up4.0 and up4.4 and upVaries with device4.0 and upVaries with device4.0.3 and up3.0 and upVaries with deviceVaries with deviceVaries with deviceVaries with device2.3 and upVaries with device4.1 and up3.0 and upVaries with device4.2 and upVaries with deviceVaries with device4.1 and upVaries with device4.1 and up2.3 and up4.0 and up4.4 and upVaries with device4.2 and upVaries with device3.0 and upVaries with device2.3 and up4.0.3 and up5.0 and up4.0.3 and up4.0 and up4.1 and up4.1 and up4.1 and up4.1 and up4.1 and up4.0.3 and up4.0.3 and up4.1 and up4.1 and upVaries with device2.3 and up4.1 and upVaries with deviceVaries with device6.0 and up4.2 and upVaries with device4.4 and up4.2 and up4.0.3 and upVaries with device2.3 and upVaries with device2.2 and up4.0 and up4.0 and upVaries with device4.2 and up3.2 and up4.0 and up2.3 and upVaries with deviceVaries with device2.2 and up4.0 and upVaries with device4.0 and upVaries with device4.4 and up4.0.3 and up4.4 and up4.2 and up5.0 and up4.0.3 and up4.0.3 and upVaries with device4.0 and up4.0.3 and upVaries with device4.0 and up4.2 and up4.1 and up4.1 and up4.0.3 and up4.0 and upVaries with device4.2 and up4.0.3 and up5.0 and up4.0 and up4.0.3 and upVaries with device4.2 and up4.1 and up4.0 and upVaries with device4.0.3 and up5.0 and up4.0 and up5.0 and up4.0.3 and up4.0.3 and up4.4 and up4.0 and up4.0 and up4.0.3 and up5.0 and up2.3 and up4.0.3 and up4.0 and up4.1 and upVaries with device4.1 and upVaries with deviceVaries with device3.2 and up2.3 and up2.3 and up4.4 and up4.2 and up1.6 and up4.0.3 and upVaries with deviceVaries with device4.0.3 and up4.0.3 and up4.1 and up2.3.3 and up2.1 and up4.1 and up4.2 and up2.1 and up4.0.3 and up4.4 and up4.0 and up3.0 and up4.0 and upVaries with deviceVaries with device4.1 and up4.1 and up2.1 and up4.1 and up4.1 and up4.1 and up4.1 and up4.1 and up4.1 and upVaries with deviceVaries with deviceVaries with device4.0.3 and upVaries with deviceVaries with device2.1 and upVaries with device4.1 and up4.0.3 and upVaries with deviceVaries with device4.0.3 and up4.1 and up4.0 and up4.4 and upVaries with deviceVaries with device4.1 and upVaries with device4.4 and upVaries with device4.4 and upVaries with device4.4 and up4.4 and up4.1 and up5.0 and upVaries with deviceVaries with device4.4 and upVaries with deviceVaries with device4.1 and up4.0 and upVaries with deviceVaries with device4.0 and upVaries with device5.0 - 8.0Varies with deviceVaries with deviceVaries with deviceVaries with device4.4 and upVaries with device4.0.3 and upVaries with deviceVaries with device2.3.3 and upVaries with device4.4 and up4.3 and up4.2 and upVaries with deviceVaries with device4.4 and up5.0 and upVaries with device2.2 and upVaries with device4.1 and up4.1 and up4.0.3 and upVaries with device4.4 and up4.1 and upVaries with device4.0 and up4.4 and up4.1 and upVaries with deviceVaries with deviceVaries with device5.0 and upVaries with device4.1 and up5.0 and upVaries with device4.0 and up2.3 and up4.0 and up2.2 and up2.3 and upVaries with device4.1 and up4.0 and up4.4 and upVaries with deviceVaries with deviceVaries with deviceVaries with device4.4 and upVaries with device4.1 and up4.4 and up4.0 and up4.4 and upVaries with deviceVaries with deviceVaries with deviceVaries with device2.3 and up2.3.3 and up4.0 and up2.3 and up4.0 and upVaries with device2.3.3 and up4.2 and upVaries with deviceVaries with deviceVaries with deviceVaries with device4.4 and up4.4 and upVaries with device4.0.3 and up4.1 and upVaries with device4.0.3 and up4.0 and up4.0.3 and upVaries with deviceVaries with deviceVaries with device4.1 and upVaries with deviceVaries with deviceVaries with deviceVaries with deviceVaries with deviceVaries with device4.1 and upVaries with device4.2 and up2.3.3 and upVaries with device4.1 and upVaries with device4.0.3 and upVaries with device4.0 and up4.1 and up4.2 and up4.0.3 and up4.2 and up4.1 and up4.0 and up4.0.3 and up4.0 and up4.0 and up4.1 and up4.0.3 and up4.1 and up4.4 and upVaries with device4.2 and up4.0 and up5.0 and up4.1 and up2.3 and up4.0.3 and up4.0.3 and up5.0 and up4.4 and up4.0.3 and up4.0.3 and up4.0.3 and up4.0.3 and up4.0.3 and up4.1 and up4.2 and up4.1 and up4.0.3 and up4.1 and up4.4 and up4.0.3 and up4.4 and up4.0 and up4.1 and upVaries with device4.4 and upVaries with device4.4 and upVaries with device4.0 and upVaries with deviceVaries with device4.1 and up3.0 and up5.0 and up4.1 and up4.0 and upVaries with device5.0 and up4.1 and up5.0 and up4.1 and up4.4 and upVaries with deviceVaries with deviceVaries with device4.4 and upVaries with device4.4 and upVaries with deviceVaries with deviceVaries with deviceVaries with device4.2 and up4.1 and up4.4 and up4.4 and up2.3 and up4.1 and up4.1 and upVaries with device4.1 and up4.1 and upVaries with device4.4 and up4.4 and up4.1 and up4.0 and upVaries with device4.3 and upVaries with device4.0.3 and up4.0.3 and up2.3 and up5.0 and up4.0.3 and up4.0.3 and up4.0 and up4.0.3 and up4.0.3 and up4.3 and up4.4 and upVaries with device2.3 and up4.0.3 and upVaries with device5.0 and upVaries with deviceVaries with device7.0 and up7.1 and up4.0 and up5.0 and up4.1 and upVaries with device4.1 and upVaries with device4.3 and up4.4 and up4.3 and upVaries with deviceVaries with device4.1 and upVaries with deviceVaries with device3.0 and up2.3 and up4.1 and upVaries with device4.3 and up4.3 and up4.4 and upVaries with deviceVaries with device4.0 and up4.1 and upVaries with device4.1 and upVaries with deviceVaries with device4.4 and up4.4 and upVaries with device4.0 and up4.0.3 and up4.1 and upVaries with device4.0 and up4.1 and up4.1 and up4.1 and upVaries with device4.0.3 and up4.4 and upVaries with device4.0 and upVaries with device4.1 and up4.0.3 and up4.1 and upVaries with device4.1 and up5.0 and upVaries with device4.0.3 and up4.1 and up4.1 and up4.4 and up4.0 and up4.1 and up4.4 and upVaries with deviceVaries with device4.1 and upVaries with device4.1 and upVaries with device4.0 and up4.4 and upVaries with device4.2 and up4.0.3 and up4.4 and up4.4 and upVaries with deviceVaries with device4.2 and upVaries with device4.1 and upVaries with device4.1 and up4.1 and up4.4 and up4.1 and up4.4 and upVaries with deviceVaries with deviceVaries with device4.0.3 and upVaries with device4.1 and up4.4 and upVaries with deviceVaries with device5.0 and upVaries with device4.1 and upVaries with device4.0 and up4.4 and up4.4 and up4.0 and upVaries with deviceVaries with device2.2 and upVaries with device4.1 and upVaries with deviceVaries with deviceVaries with device4.1 and upVaries with device5.0 and up5.0 and upVaries with deviceVaries with device4.1 and up4.1 and up4.4 and up4.0.3 and upVaries with device4.4 and upVaries with device4.4 and upVaries with device4.4 and upVaries with deviceVaries with deviceVaries with deviceVaries with device4.0 and upVaries with deviceVaries with device4.1 and upVaries with device4.0.3 and up4.1 and up4.1 and up5.0 and up4.0.3 and upVaries with device2.3 and upVaries with device4.1 and upVaries with deviceVaries with deviceVaries with device4.4 and up4.0.3 and up5.0 and up4.4 and up4.0 and upVaries with device4.1 and up4.0.3 and up4.1 and up4.0.3 and up4.1 and up4.0.3 and up4.1 and upVaries with device4.0 and up4.0 and up4.2 and up4.1 and up4.1 and up4.0 and up4.0 and up4.1 and upVaries with deviceVaries with device4.2 and upVaries with device4.0 and up4.0.3 and up4.0.3 and upVaries with deviceVaries with device4.0 and up4.1 and up4.0.3 and up2.3 and up4.0 and up4.0 and up4.4 and up4.0 and up4.0 and up4.0.3 and up4.1 and up4.4 and up4.1 and up4.1 and upVaries with device4.1 and up4.4 and up4.1 and upVaries with device4.1 and up2.3 and upVaries with deviceVaries with device2.3 and upVaries with device4.1 and up4.2 and up2.1 and up4.0.3 and up4.0.3 and up4.0 and up4.1 and up4.2 and upVaries with deviceVaries with device4.1 and upVaries with device4.4 and upVaries with device4.1 and up4.1 and up4.0.3 and up4.1 and up4.0.3 and upVaries with device4.1 and up3.2 and up4.0.3 and up4.1 and up4.1 and up4.0.3 and up4.4 and up4.1 and upVaries with device4.1 and up5.0 and up1.5 and upVaries with device4.1 and up4.1 and up5.0 and up4.4 and up4.0 and up4.4 and up4.0 and up4.0 and up4.4 and up4.0.3 and up3.0 and upVaries with deviceVaries with device4.0 and upVaries with device2.3 and up4.1 and up4.3 and up4.2 and up2.3 and up4.1 and up4.4 and up4.0 and up4.0.3 and up4.0.3 and up5.0 and up4.0 and up4.1 and up4.4 and up4.0 and up4.1 and up4.1 and upVaries with device5.0 and up2.0 and up2.1 and up2.2 and up4.0.3 and up2.3 and up2.1 and up4.4 and up4.0 and up4.4 and up4.1 and upVaries with device4.0.3 and up4.1 and up3.2 and up4.0.3 and up4.3 and up4.1 and up4.0 and up4.0 and up4.0.3 and up4.0.3 and up4.1 and up4.1 and up2.3 and upVaries with device4.0 and up4.0.3 and up4.4 and upVaries with device4.1 and up4.1 and upVaries with device4.1 and up2.1 and up4.0 and upVaries with device4.0.3 and up4.1 and up4.0.3 and up4.1 and upVaries with device4.3 and up4.1 and up4.0 and up4.1 and up6.0 and up4.4 and up4.4 and up4.0 and up4.1 and up4.0.3 and up5.0 and up4.2 and up4.0.3 and up4.4 and up4.0 and up4.0 and up4.0.3 and up4.1 and up3.0 and up4.1 and up4.0.3 and up3.0 and up4.0 and up3.0 and up4.0 and upVaries with device4.1 and up4.1 and up4.1 and up2.1 and upVaries with device4.1 and up5.0 and up4.4 and up5.0 and up4.0 and up4.0.3 and up4.0 and up4.0.3 and up4.1 and up4.0 and up2.2 and upVaries with device4.1 and up4.0 and upVaries with device4.2 and up4.1 and up2.0.1 and up4.1 and up4.4 and up2.3 and up4.0.3 and up2.3 and up4.1 and up4.0 and up4.0 and up2.3.3 and upVaries with device4.0 and up4.4 and up4.4 and upVaries with device5.0 and up4.3 and up5.0 and up4.0 and up4.0 and upVaries with device4.4 and up4.1 and up2.3 and up4.2 and upVaries with device4.4 and up4.1 and upVaries with deviceVaries with deviceVaries with deviceVaries with device4.4 and up4.4 and upVaries with device4.1 and upVaries with device4.1 and up4.0 and up3.0 and upVaries with device4.0 and upVaries with deviceVaries with deviceVaries with deviceVaries with device4.0 and upVaries with device4.1 and up2.2 and upVaries with deviceVaries with device2.3 and up4.0 and up2.2 and up2.3 and up4.1 and up4.1 and up5.0 and up5.0 and up4.2 and upVaries with device4.0 and up5.0 and up4.0.3 and up5.0 and up3.2 and up4.0.3 and upVaries with device4.0 and up5.0 and up4.0 and upVaries with device2.3.3 and up4.4 and up4.0 and up2.3 and upVaries with deviceVaries with device4.4 and up4.0.3 and up4.0.3 and up4.4 and up4.0 and up4.0 and up4.0 and upVaries with device4.3 and upVaries with deviceVaries with device4.0 and up2.3.3 and upVaries with device4.1 - 7.1.12.3.3 and upVaries with device2.3 and up3.0 and up2.2 and up4.0.3 and up2.2 and up4.0 and upVaries with device4.0.3 and up2.3 and up4.1 and upVaries with device3.2 and up2.3.3 and up4.1 and up5.0 and up4.0.3 and upVaries with device4.0 and up4.0 and up7.0 and up2.3 and up4.3 and up4.1 and up4.0 and up4.0.3 and up4.0 and up4.0 and up4.1 and up2.3 and up2.3 and up4.4 and up4.0 and up4.4 and up4.0 and up4.0 and up4.0.3 and up4.4 and up2.2 and up4.0.3 and up4.4 and up5.0 and up4.4 and up7.0 and up2.3 and up4.1 and up2.3.3 and up4.4 and up4.0 and up4.1 and upVaries with device4.4 and up4.0 and up4.1 and up4.1 and up4.0.3 and up4.1 and up4.0 and up2.3 and up5.0 and up4.0 and upVaries with device4.1 and up2.3.3 and up4.0 and up4.0 and up4.0 and up3.1 and up4.4 and up4.1 and up4.0 and up2.3 and up4.3 and up4.1 and up3.0 and up4.1 and upVaries with device2.3 and upVaries with device4.1 and up4.1 and up2.3.3 and upVaries with device4.2 and up4.4 and upVaries with device4.1 and up4.1 and up4.1 and up4.1 and up2.3.3 and up4.1 and up2.1 and up4.1 and up4.1 and up4.1 and up2.3 and up4.3 and up4.0 and up4.1 and up4.1 and up4.1 and up4.0.3 and up4.1 and up2.3.3 and up4.2 and up4.1 and up4.0.3 and up4.0.3 and up4.1 and up4.4 and up2.2 and up2.3.3 and up4.0.3 and up6.0 and up4.0 and up4.0.3 and upVaries with device4.1 and up4.4 and upVaries with deviceVaries with device4.4 and up4.0 and up4.1 and up4.2 and up7.0 and up4.0.3 and up4.1 and up4.1 and up4.0.3 and up4.2 and up4.1 and up4.0 and up4.1 and up4.1 and up4.1 and up2.2 and up4.3 and up4.1 and upVaries with device4.1 and up4.0 and up2.2 and up4.4 and up4.0.3 and up4.0 and up5.0 and up4.0.3 and up4.0 and up4.0.3 and up2.3 and up2.3 and up4.1 and upVaries with device4.1 and up4.1 and up4.1 and up4.1 and up4.1 and up2.3.3 and up4.1 and up2.3 and up4.1 and up2.2 and up4.0.3 and up4.0.3 and up4.3 and up4.1 and up4.0 and up2.3 and up4.0.3 and up4.0.3 and up4.1 and up4.0 and up4.0.3 and up4.4 and up4.4 and up4.1 and up4.0.3 and up4.4 and upVaries with deviceVaries with device4.4 and up4.4 and up4.1 and up4.4 and up4.0.3 and up4.0 and upVaries with device4.0.3 and up4.1 and up2.2 and up5.0 and up4.0.3 and up4.0 and up4.4 and up2.3 and up1.6 and upVaries with device2.2 and up4.1 and up4.0.3 and up4.1 and up4.0 and up3.0 and up4.0.3 and up3.0 and upVaries with device4.4 and up6.0 and up2.3 and up4.1 and up4.1 and up4.1 and up4.1 and up4.1 and up4.1 and up4.1 and up4.1 and up4.4 and up2.3 and up4.1 and up2.3.3 and up4.4 and up4.0.3 and up4.1 and up4.1 and up4.1 and up2.3.3 and up4.1 and up2.3.3 and up4.0 and up4.0 and up4.1 and up4.1 and up2.3 and up7.0 and up4.0.3 and upVaries with device4.0 and up4.0.3 and up4.0.3 and up2.3.3 and up4.0.3 and up1.5 and up4.1 and up4.0 and up4.1 and up4.3 and up4.1 and up4.1 and up2.1 and up5.0 and up4.0.3 and upVaries with deviceVaries with device4.1 and up4.3 and up4.4 and upVaries with device2.3.3 and up4.1 and up5.0 and up4.0.3 and up4.2 and up3.0 and up4.0.3 and up2.1 and up5.0 and up5.1 and up4.0 and up2.1 and up5.0 and up4.3 and up4.1 and up2.1 and up4.0.3 and up4.1 and up2.3 and upVaries with device4.0.3 and up4.1 and up6.0 and up5.0 and up4.1 and up4.0 and up4.4 and up7.0 and up7.0 and up8.0 and up4.1 and up5.0 and upVaries with device7.0 and up4.0 and up7.0 and up4.1 and up4.0.3 and up4.0.3 and up4.4 and up4.0.3 and up4.1 and up4.1 and up5.0 and up4.4 and up4.4 and up4.4 and up5.0 and up5.0 and up5.0 and up4.0.3 and up5.0 and up4.1 and up4.1 and up5.0 and up4.4 and up4.0 and upVaries with device2.3.3 and upVaries with device4.4 and up2.3.3 and up4.4 and upVaries with device2.3 and up3.0 and up4.4 and up2.3 and up4.0.3 and up2.3 and up4.0.3 and up4.1 and up4.0.3 and up4.0 and up2.3 and up4.3 and up4.0.3 and up4.0.3 and up2.3.3 and up4.4 and up4.3 and up4.3 and up4.4 and up5.0 and up2.3 and up4.0.3 and up5.0 and up4.1 and up4.1 and up4.0 and up2.2 and up4.2 and up4.3 and up3.0 and up2.3 and up2.3 and up4.1 and up4.0.3 and up1.5 and up2.3.3 and up4.0 and up4.0.3 and up4.0 and up3.1 and up4.4 and up2.3.3 and up4.0.3 and up4.0.3 and up4.0.3 and up5.0 and up4.1 and up4.3 and up4.0.3 and up2.1 and up4.1 and up4.1 and upVaries with device2.3 and up2.3 and up4.1 and up4.3 and up6.0 and up4.1 and up4.2 and up4.2 and up7.0 and up4.0 and up4.1 and up2.3 and up2.3 and up4.0.3 and up4.1 and up4.1 and up4.1 and upVaries with device4.4 and up4.0 and upVaries with deviceVaries with device4.1 and upVaries with device5.0 and up4.1 and upVaries with device4.0 and up4.4 and up4.3 and up6.0 and upVaries with device5.0 and upVaries with device4.4 and up4.0 and upVaries with device4.0 and up4.0.3 and up4.4 and up2.3 and upVaries with device5.0 and up5.0 and up2.3 and up4.1 and up4.2 and up4.4 and upVaries with device2.3 and up5.0 and up2.3.3 and up2.0.1 and up5.0 and up4.1 and up4.1 and up6.0 and up4.1 and up4.4 and up4.0.3 and up4.1 and up4.0.3 and up4.0.3 and up4.1 and up4.0 and upVaries with device2.1 and up4.1 and up4.0.3 and up4.4 and up4.0 and up2.1 and up2.2 and up4.3 and up4.1 and up4.1 and up4.1 and up1.6 and up5.0 and up4.0 and up4.0 and up2.3 and up2.3 and up4.1 and up5.0 and up4.1 and up2.3 and up5.0 and up4.1 and up2.3 and up4.4 and up4.0.3 and up4.0.3 and up4.0.3 and upVaries with device2.3 and up4.1 and up4.2 and up4.0.3 and up5.0 and up4.2 and up4.2 and upVaries with device4.1 and up4.0.3 and up4.0.3 and up3.0 and upVaries with device6.0 and up4.0.3 and up4.1 and upVaries with device2.3 and up4.0 and upVaries with device4.1 and up4.1 and up4.0.3 and up4.0 and up4.1 and up4.0.3 and up5.0 and up2.3 and up4.1 and up4.4 and up4.0 and up4.0.3 and upVaries with device4.0.3 and up2.3 and upVaries with device4.0.3 and up2.1 and up4.0 and up2.1 and up4.4 and up3.0 and up4.2 and up4.2 and up4.1 and up4.0 and up2.3 and upVaries with device2.1 and up4.0 and upVaries with device4.1 and upVaries with deviceVaries with device4.1 and up4.0 and up7.0 and upVaries with device4.1 and upVaries with device4.0.3 and up2.3.3 and up4.0.3 and up3.0 and up5.0 and up4.0 and up2.2 and upVaries with device5.0 and up2.3.3 and up4.1 and up4.0.3 and up4.4 and up4.1 and up4.0 and upVaries with device2.3.3 and upVaries with device2.1 and upVaries with device4.4 and up4.1 and upVaries with deviceVaries with device4.1 and up4.1 and up4.3 and up4.1 and up4.4 and up4.0 and up4.1 and up4.3 and up4.0 and up4.1 and up4.1 and up4.1 and up4.0.3 and up4.0 and up2.3 and up4.1 and up5.0 and up2.3.3 and up4.0 and up4.1 and up4.1 and upVaries with device4.1 and up4.0 and up4.4 and up4.4 and up4.1 and up2.2 and up4.0 and up4.1 and up3.0 and up4.1 and upVaries with device2.3 and up4.1 and up4.4 and up4.1 and up2.1 and up2.3 and up4.3 and up4.3 and up1.6 and up5.0 and upVaries with device4.0.3 and up4.0 and upVaries with device4.1 and up4.1 and up4.1 and up4.4 and up4.0 and up4.0 and up4.0 and upVaries with device4.1 and up2.3 and up2.3 and up4.1 and upVaries with deviceVaries with deviceVaries with deviceVaries with device2.2 and upVaries with device4.0.3 and up4.1 and up2.3.3 and up4.0.3 and up4.0.3 and up4.0 and upVaries with device2.2 and up4.0 and up4.1 and up4.0.3 and up4.0.3 and up4.0.3 and up5.0 and up4.0.3 and up4.1 and up4.4 and up4.4 and up4.0 and up4.0.3 and up4.4 and up4.2 and up4.0 and up4.0 and up4.4 and up4.0.3 and up4.0 and up2.3 and up4.0 and upVaries with device1.6 and up4.0 and up2.3 and up4.4 and up5.0 and up4.0 and up2.3 and up4.2 and up4.0 and up4.4 and up4.0 and up4.0 and up5.0 and up5.0 and up4.1 and up4.2 and upVaries with device4.1 and up4.4 and up4.1 and up4.0.3 and upVaries with device4.1 and up4.4 and up3.0 and upVaries with deviceVaries with device4.1 and upVaries with device4.1 and up4.1 and up4.0.3 and up2.3 and up4.0.3 and up4.1 and up4.0.3 and up4.1 and up4.1 and up4.1 and up5.0 and up3.0 and up4.1 and up4.0.3 and up4.0 and up4.1 and up4.1 and up2.1 and up4.1 and up4.0.3 and upVaries with device2.2 and up4.1 and up4.1 and up2.3 and up2.2 and up2.2 and up4.4 and up2.3 and up3.0 and up2.2 and up4.0 and up3.0 and up4.0.3 and up4.3 and up4.0.3 and up4.0 and up4.2 and up2.3.3 and up4.2 and up3.0 and up4.2 and up4.0 and up4.0 and up4.2 and up2.3 and up4.1 and up4.0.3 and up4.1 and up4.1 and up4.0.3 and up4.2 and up4.1 and up2.2 and up4.0 and up4.0 and up4.4 and up4.2 and up4.2 and up4.1 and up4.2 and up4.0.3 and up4.0.3 and upVaries with device2.3 and up4.1 and upVaries with deviceVaries with device5.0 and up4.1 and up4.0 and upVaries with device4.1 and up4.4 and up2.3 and up5.0 and up4.0.3 and up4.0 and up5.0 and up3.0 and up4.0.3 and up4.1 and up4.1 and up4.4 and up4.1 and up4.4 and up4.0 and up4.2 and up5.0 and up4.1 and up4.0 and up2.2 and up4.1 and up3.2 and up2.2 and up4.1 and up4.1 and up4.1 and up2.2 and up2.3 and up4.0.3 and up4.1 and up3.0 and up4.1 and upVaries with device4.0.3 and up5.0 and up1.6 and upVaries with device4.0 and upVaries with device4.4 and up4.4 and up4.4 and up2.3 and up2.2 and up3.0 and up2.3 and upVaries with deviceVaries with device2.3.3 and up3.0 and upVaries with device4.0.3 and up2.3 and up2.0 and up2.0 and up2.3 and up2.3 and up4.0.3 and upVaries with device2.3 and up2.2 and up2.3 and up4.4 and upVaries with device4.1 and up4.0.3 and upVaries with device2.3 and up2.3 and up4.0 and up2.1 and up2.1 and up4.2 and up4.0.3 and up2.1 and up2.3 and up3.1 and up2.2 and upVaries with device3.0 and up4.3 and up2.3 and up4.1 and up4.0.3 and up4.4 and up4.4 and up2.3.3 and up4.1 and up4.0 and up4.0 and up3.0 and up4.0.3 and up2.1 and up4.1 and up5.0 and upVaries with device4.0 and up4.0.3 and up4.0 and upVaries with deviceVaries with device2.2 and up4.0.3 and up4.0 and up4.0 and up4.0 and up4.1 and up3.2 and up4.0 and up4.0.3 and upVaries with device5.0 and up2.3 and up4.1 and up4.4 and upVaries with device4.0.3 and up4.0 and up4.0.3 and up4.3 and up4.4 and up4.0.3 and up2.3 and up2.3.3 and up4.0.3 and up4.1 and up4.0.3 and up5.0 and up4.1 and up4.1 and up3.0 and up4.4 and up5.0 and up4.1 and up4.0.3 and up4.1 and up4.4 and up4.0.3 and up4.0.3 and up4.0 and up4.0.3 and up4.0 and up4.2 and up4.4 and upVaries with device4.4 and up4.0.3 and up4.0 and up1.5 and up4.0.3 and up4.0 and up4.0.3 and up2.3 and up5.0 and up4.0.3 and up4.0.3 and up4.0.3 and up4.3 and up4.3 and up4.0.3 and up2.3 and up4.4 and up5.0 and up4.0 and up2.3 and up4.0 and up4.0 and up4.0 and up4.1 and up4.1 and up4.0.3 and upVaries with device6.0 and up1.6 and up5.0 and up4.1 and up4.1 and up4.1 and up4.1 and up4.4 and up4.0.3 and up4.0.3 and up4.1 and up4.0 and up5.0 and up6.0 and up4.0 and up4.0.3 and up2.3 and up4.0.3 and up4.1 and up5.0 and up4.4 and up5.0 and up2.2 and up4.1 and up5.0 and up4.0.3 and up4.0.3 and up2.3 and up4.0 and up2.1 and up4.1 and up4.0 and up4.1 and up4.3 and up4.0.3 and up4.1 and up4.1 and up4.4 and up2.3 and up4.4 and up2.2 and up3.2 and up2.3 and up2.3.3 and up4.1 and up5.0 and up2.2 and up2.3 and up2.2 and up4.1 and up4.3 and up4.1 and up4.1 and up4.0 and up4.1 and up4.0.3 and up4.1 and up4.0.3 and up4.1 and up4.0.3 and up3.0 and up2.3.3 and up4.1 and up4.4 and up4.0 and up4.0 and up4.1 and up2.3 and up4.0.3 and up4.1 and up2.3 and up4.0.3 and up4.1 and up4.0.3 and up4.1 and up2.3 and up4.0 and up2.2 and up4.1 and up4.0.3 and up2.2 and up4.4 and up2.3 and up4.0 and up4.1 and up2.3 and up2.3.3 and up4.0 and up4.1 and up4.1 and up4.2 and up4.1 and up4.0 and up4.4 and up4.0 and up4.4 and up4.0 and upVaries with device4.0 and up2.3 and up2.2 and up4.0.3 and upVaries with device4.1 and up2.3 and up4.0 and up3.0 and up4.0 and up2.2 and upVaries with device4.1 and up2.2 and upVaries with device2.3 and up4.0.3 and up4.0.3 and up2.2 and up4.1 and up2.3.3 and up4.1 and upVaries with device2.2 and up2.3.3 and up2.3.3 and upVaries with device4.1 and up4.0.3 and up2.3 and up4.4 and up4.4 and up4.3 and up4.0 and up4.0 and up4.1 and up4.4 and up4.0.3 and up4.0.3 and up1.6 and up4.0.3 and up4.0.3 and up4.0 and up4.2 and up4.4 and up4.1 and up4.2 and up4.0.3 and up4.1 and up4.4 and up4.1 and upVaries with device4.1 and up4.0.3 and up4.0.3 and up4.1 and up4.1 and up4.3 and up4.1 and up4.1 and upVaries with device4.0.3 and up4.1 and up4.1 and up2.3.3 and up2.3.3 and up4.1 and up4.4 and up4.0.3 and upVaries with device4.0.3 and up4.2 and upVaries with deviceVaries with device4.2 and up4.4 and upVaries with device4.0.3 and up4.0 and up4.0 and up5.0 and up4.4 and up4.1 and up4.0 and up4.0.3 and up4.0 and up4.1 and up4.0.3 and up4.0 and up4.0.3 and up4.1 and up5.0 and up4.0.3 and upVaries with device4.1 and up4.1 and up4.0.3 and up4.0 and up4.1 and upVaries with deviceVaries with device3.0 and up4.0.3 and up4.0 and up4.1 and up4.0.3 and up4.1 and up4.1 and up3.0 and up4.1 and up2.3 and up4.0.3 and up4.1 and up2.1 and up4.0.3 and up4.1 and up2.3 and up4.1 and up2.3 and up4.0 and up4.4 and up4.1 and up2.3 and up4.0 and up4.4 and up4.0.3 and up2.3 and up6.0 and up2.3 and up4.0 and up3.0 and up4.1 and up2.1 and up4.3 and up3.2 and up4.0.3 and up4.1 and up4.0.3 and up4.0.3 and up4.4 and up2.3 and up4.1 and up3.1 and up4.1 and up2.3.3 and up4.1 and up4.1 and up4.1 and up1.6 and up4.4 and up4.1 and up4.1 and up4.0.3 and up4.1 and up2.0.1 and up4.1 and up2.3 and up4.1 and up4.1 and up4.0 and up4.0.3 and up4.1 and up4.4 and up4.0 and upVaries with device2.3 and up4.0.3 and up4.0.3 and up2.3.3 and up4.1 and up4.1 and up4.1 and up4.0 and up4.0.3 and upVaries with device4.4 and up1.6 and upVaries with device4.0.3 and upVaries with deviceVaries with device4.0.3 and up4.1 and up4.0.3 and up4.0 and up4.0.3 and up4.0.3 and up4.2 and up4.2 and up7.0 and up2.3 and up5.0 and up4.4 and up4.0.3 and up4.4 and up4.0 and up4.2 and up4.0.3 and upVaries with device7.0 and up7.0 and up4.1 and upVaries with device5.0 and up4.1 and up4.4 and upVaries with device4.0 and up7.0 and up4.3 and up7.0 and up4.0 and up7.0 and up4.0 and up7.0 and up5.0 and up4.1 and up7.0 and up7.0 and up7.0 and up4.0 and up4.0.3 and up2.1 and up7.0 and up4.0 and up7.0 and up7.0 and up4.1 and up7.0 and up4.2 and up7.0 and up4.4 and up4.1 and up4.1 and up4.1 and upVaries with device4.1 and up4.0 and up4.0 and up2.3 and upVaries with device4.2 and up4.0 and up2.3 and up4.0.3 and up4.0 and up4.2 and upVaries with device4.1 and up4.0.3 and upVaries with deviceVaries with deviceVaries with deviceVaries with device4.0.3 and up5.0 and up2.3.3 and up4.2 and up4.1 and upVaries with deviceVaries with deviceVaries with deviceVaries with device4.1 and up4.1 and upVaries with device2.1 and up4.1 and up4.1 and up4.1 and upVaries with deviceVaries with deviceVaries with device5.0 and up3.0 and up4.0.3 and up2.3 and up2.3 and up4.4 and upVaries with device4.3 and up4.1 and upVaries with device2.3 and up3.0 and up4.4 and up2.3 and up2.3 and up3.0 and up4.0.3 and up2.3 and up4.2 and up4.4 and up4.2 and up4.1 and up2.3 and up4.1 and up4.4 and up4.2 and up4.1 and up2.3 and up4.1 and up4.1 and up2.3 and up2.3 and up2.3.3 and up4.2 and up2.3 and up4.0.3 and up4.0 and upVaries with device4.0.3 and up2.3 and up5.0 and up5.0 and up2.3 and up4.1 and up4.1 and up2.3 and up2.3.3 and up4.4 and up4.1 and up4.1 and upVaries with device4.3 and up4.1 and up4.1 and up4.0 and up4.0 and up4.2 and up4.1 and up5.0 and up4.0.3 and up4.0.3 and up4.0 and up4.0.3 and up4.0 and up4.3 and up4.2 and up4.0.3 and up4.0 and up4.0 and up4.0 and up4.1 and upVaries with deviceVaries with device4.1 and up4.0 and up4.1 and up4.4 and upVaries with device4.1 and up4.1 and up4.3 and up4.1 and up2.3 and up4.0 and up4.3 and up2.3.3 and up4.0 and up4.1 and up2.3.3 and up4.1 and up4.0 and up4.1 and up4.0 and up4.1 and up4.1 and up4.1 and up4.3 and up1.6 and up2.2 and up4.0.3 and up4.2 and up4.1 and up4.0.3 and up3.0 and up2.3.3 and up4.1 and up4.0.3 and up4.0 and up5.0 and up4.1 and upVaries with device2.3 and up4.3 and up4.3 and up5.0 and up4.3 and up4.1 and up2.3 and up4.0.3 and up4.3 and up4.3 and up4.3 and upVaries with device6.0 and up4.3 and up4.3 and upVaries with device4.0 and up2.3 and up4.0.3 and up4.3 and up4.1 and upVaries with device4.1 and up3.0 and up4.0 and upVaries with deviceVaries with device4.3 and up3.0 and up4.1 and up4.3 and upVaries with deviceVaries with device5.0 and up2.3.3 and up4.1 and up2.3.3 and up2.2 and up4.4 and up4.1 and up4.0 and up4.1 and up3.0 and up3.0 and up4.2 and up4.1 and up4.1 and up4.4 and up3.1 and up4.1 and up4.1 and up2.1 and up4.0.3 and up4.3 and up2.3.3 and up4.1 and up2.3 and up4.0.3 and up4.1 and up4.0 and up4.2 and up4.0 and up4.2 and up4.0.3 and up4.0 and up2.3 and up2.3 and up4.1 and up4.1 and up2.1 and up5.0 and up2.3 and up2.3 and up4.0 and upVaries with device2.2 and upVaries with device4.0 and up4.2 and upVaries with device4.1 and up4.2 and up4.1 and up4.0.3 and up4.0 and upVaries with device4.0 and up4.0 and up2.2 and up4.1 and up4.0.3 and up5.0 and up4.4 and up4.0.3 and up5.0 and up4.4 and up5.0 and up4.1 and up5.0 and up4.1 and up2.2 and up4.1 and up4.2 and up4.1 and up3.2 and upVaries with device4.1 and up4.2 and up4.1 and up4.1 and up4.4 and up4.0 and up4.0 and up4.1 and up4.2 and up4.1 and up4.4 and up2.3 and up4.4 and up4.1 and up3.0 and up2.3.3 and up4.1 and up4.0 and up4.1 and up4.0.3 and up4.1 and up4.0.3 and up3.2 and up4.1 and up4.4 and up2.1 and up3.0 and up4.0 and up2.3 and up4.0.3 and up4.0 and up2.3 and up2.3 and up4.0.3 and up4.1 and up2.3 and up2.3 and up2.3 and up4.0.3 and up4.4 and up4.1 and up1.6 and up2.3 and up5.0 and up2.2 and up2.3 and up4.2 and up4.0 and up4.2 and up4.0.3 and up2.3 and up4.1 and up4.0 and up4.1 and up5.0 and up4.0.3 and upVaries with device4.1 and up4.1 and up4.0.3 and up2.3 and up4.0.3 and up4.4 and up2.3 and up4.1 and up2.0 and up4.0.3 and up4.0.3 and upVaries with device2.2 and up4.1 and up4.1 and up4.0 and up4.4W and up3.2 and up4.0 and up4.0.3 and up5.0 and up4.0 and up2.1 and up5.0 and up4.0.3 and up4.0 and upVaries with device4.0 and up4.1 and up4.4 and up4.4 and up4.1 and up4.4 and up4.0 and up4.4 and upVaries with device4.2 and up2.2 and up4.1 and up4.0.3 and up4.1 and up4.1 and up5.0 and up4.0 and upVaries with device4.1 and up4.0 and up4.2 and up4.1 and up4.0 and up4.2 and up4.0.3 and up4.1 and up4.1 and up2.3 and up3.0 and up4.0.3 and up3.0 and up4.3 and up4.1 and up4.1 and up4.0.3 and up4.2 and up4.3 and up4.0.3 and up4.0.3 and up4.0.3 and up4.0 and up4.0 and up2.0 and up4.1 and upVaries with device4.0 and up4.0 and up3.0 and up4.4 and up4.0 and up2.3.3 and up4.3 and up4.1 and up4.3 and up4.3 and up3.2 and up2.0 and up4.0.3 and up4.1 and up4.1 and up4.0.3 and up4.1 and up2.3 and upVaries with device4.4 and up4.0.3 and up4.1 and up4.4 and up4.0.3 and up4.1 and up2.3 and up4.0 and up4.2 and up4.0 and up4.0 and up4.0 and up2.2 and up4.1 and up3.2 and up4.1 and upVaries with device4.0 and up4.0 and up5.0 and up2.3 and up4.0.3 and up2.3 and up4.0.3 and up4.1 and up4.1 and up4.3 and up4.1 and up4.4 and up4.0.3 and up4.3 and up4.0 and up4.0 and up4.4 and up4.0 and up4.0 and up2.3.3 and up2.3.3 and up4.0.3 and up4.0 and up4.0.3 and up4.0.3 and up3.0 and up4.0 and up4.2 and up4.1 and up4.3 and up2.3.3 and up3.0 and up2.3.3 and up4.1 and up2.3 and up4.1 and up2.3 and up3.0 and up3.0 and up4.2 and up2.3 and up2.3 and up3.0 and up3.0 and up2.2 and upVaries with device2.2 and up2.3.3 and up2.3 and up4.0 and up4.4 and up4.0.3 and up4.0.3 and up5.0 and up4.1 and up4.4 and up4.4 and up4.1 and up4.1 and up4.1 and up4.4 and up5.0 and up4.1 and up4.1 and up4.1 and up2.3 and up4.1 and up4.0 and up4.0.3 and upVaries with device4.1 and up4.4 and upVaries with device3.2 and up2.3 and up2.3 and upVaries with device2.3.3 and up4.0.3 and up3.0 and up4.0.3 and up3.0 and up4.1 and up4.0 and up4.0 and up4.1 and up2.3 and up4.2 and up4.0 and up4.1 and up4.0 and up5.0 and up4.1 and upVaries with device4.3 and up2.3.3 and up4.4 and up4.0.3 and up4.0.3 and upVaries with device4.4 and up3.0 and up4.1 and upVaries with device4.4 and up4.1 and up2.1 and up4.1 and up4.0.3 and upVaries with deviceVaries with device4.0.3 and upVaries with device5.0 and up4.0 and up4.4 and up4.1 and up4.0 and up5.0 and up4.0 and up4.4 and up4.2 and up2.3 and up4.0.3 and up4.0 and up4.0.3 and up4.2 and up4.2 and up2.3 and up4.1 and up4.0.3 and up4.0 and up4.0 and up4.4 and up4.1 and up4.4 and up4.0 and up2.2 and up4.0.3 and up4.4 and up2.3 and up5.0 and up4.4 and up4.1 and up5.1 and up4.1 and up4.3 and up4.1 and up4.1 and up4.4 and up3.0 and upVaries with device4.0 and up6.0 and up2.0 and up4.0.3 and up4.3 and up4.1 and up4.0 and up4.0.3 and up4.1 and up4.1 and up4.1 and upVaries with deviceVaries with deviceVaries with device4.1 and up4.1 and up4.1 and up4.2 and upVaries with deviceVaries with device2.3 and up2.3.3 and up4.0.3 and up4.1 and up4.0.3 and upVaries with device4.0 and up4.1 and up4.1 and up4.4 and up4.3 and up4.0 and up4.0 and up4.0 and up2.3.3 and up5.0 and up4.4 and up4.0 and up3.0 and up4.0 and up4.1 and up4.0 and up2.3.3 and up4.0 and up4.0 and up4.0 and up4.3 and up2.3.3 and up4.0.3 and up4.1 and up2.3.3 and up3.0 and up4.1 and up2.3 and up5.0 and up2.3 and up2.2 and up4.0 and up2.3.3 and up4.0.3 and up4.0 and up4.0.3 and up2.3 and up2.3 and up4.1 and upVaries with device4.0.3 and up4.4 and up2.2 and up4.0.3 and up4.1 and up4.4 and up4.0 and up2.3 and up4.0.3 and up5.0 and up4.2 and upVaries with device2.3 and up4.1 and up4.0.3 and up3.0 and up4.0 and up3.0 and up4.1 and up4.0.3 and up2.3 and up4.0 and up4.0 and up2.2 and up4.4 and up2.3 and up4.0 and up4.1 and up4.4 and up2.2 and up4.1 and up2.1 and up4.4 and up4.0.3 and up2.3.3 and up4.1 and up2.2 and up4.0.3 and up4.0 and up2.3.3 and up4.1 and upVaries with device2.3.3 and up4.1 and up4.0.3 and up4.0.3 and up2.3.3 and up4.0.3 and up4.0 and up4.1 and up2.3.3 and up2.3 and up4.0 and up3.0 and up2.3.3 and up4.2 and up2.3 and upVaries with device4.1 and up4.3 and up2.3 and up2.3.3 and up2.1 and up2.1 and up5.0 and up4.0 and upVaries with device4.0.3 and up2.3 and up2.1 and up2.3.3 and up4.0.3 and upVaries with device4.2 and up2.3 and up4.0 and up4.0.3 and up4.0.3 and up4.4 and up4.1 and up5.0 and up6.0 and up4.0 and up4.4 and up4.1 and upVaries with device4.1 and up5.0 and up4.4 and up4.1 and up4.0.3 and up4.1 and up4.1 and up4.1 and up4.0.3 and upVaries with device4.4 and up4.3 and up4.1 and up4.1 and up4.4 and up4.4 and up4.1 and upVaries with device4.4 and up4.1 and up4.1 and up1.5 and up5.0 and up1.6 and up4.0.3 and up1.6 and upVaries with device1.6 and up4.0 and up1.6 and up4.3 and up1.6 and up1.6 and up4.4 and up1.6 and up1.6 and up4.0.3 and up1.6 and up1.6 and up1.6 and up1.6 and up1.6 and up4.0 and up1.6 and upVaries with device1.6 and up4.0 and up1.6 and up1.6 and up1.6 and up4.0 and up1.6 and up1.6 and up1.6 and up4.1 and upVaries with device4.1 and up4.1 and up4.0.3 and up4.0 and up4.0.3 and up4.0.3 and up4.0.3 and up4.1 and up4.1 and up5.0 and up2.3 and up2.1 and up4.1 and up2.3.3 and up4.0 and up4.0.3 and up5.0 and up4.1 and up4.0.3 and up4.0.3 and up4.2 and up4.0.3 and up4.1 and up4.0.3 and up4.0.3 and up4.0 and up4.0.3 and up4.2 and up2.3 and up5.0 and up8.0 and up4.1 and up2.2 and up4.1 and up2.2 and up4.0 and up2.3.3 and up2.3.3 and up4.0.3 and up4.1 and up4.0 and up4.4 and up4.4 and up4.1 and up4.2 and up4.4 and up2.1 and up4.0 and up4.3 and up5.0 and up2.2 and up5.0 and up4.0 and upVaries with device4.0.3 and up3.0 and up4.4 and up3.0 and up4.0 and up4.0.3 and up4.0.3 and up4.1 and upVaries with device4.3 and up4.1 and up4.4 and up5.0 and up4.0 and up4.0.3 and upVaries with deviceVaries with device4.1 and up2.3.3 and up4.0 and up4.0 and up4.0 and up2.3 and up2.3.3 and up4.4 and up4.4 and up2.3.3 and up4.0 and up7.0 and up4.0.3 and up4.0 and up4.0 and upVaries with deviceVaries with device4.1 and up5.0 and up4.0.3 and up2.3 and upVaries with device4.1 and up3.0 and up4.0.3 and upVaries with device4.1 and up2.3 and up4.4 and up2.2 and up5.0 and up4.1 and up4.1 and up3.0 and up4.1 and up5.0 and up4.0 and up5.0 and upVaries with device2.2 and up4.1 and up2.1 and up4.0.3 and up4.1 and up2.3 and up4.1 and up4.1 and up4.0.3 and up4.1 and up2.0 and up2.3 and up4.1 and up4.0.3 and up4.1 and up4.1 and up4.1 and upVaries with device4.1 and up4.1 and up4.0.3 and up4.0 and upVaries with device4.1 and up2.1 and up4.3 and up4.0.3 and up2.3 and up2.2 and upVaries with device4.0.3 and up4.4 and up2.2 and up4.0.3 and up4.0 and up4.0.3 and up2.0 and up4.0 and up4.4 and up4.1 and up4.4 and up4.0.3 and up4.4 and up2.3 and upVaries with device4.1 and up2.3 and up4.1 and up2.2 and up4.0.3 and up4.3 and up4.0 and up4.2 and up4.3 and up4.2 and up6.0 and up1.6 and up2.3.3 and up1.6 and up2.2 and up3.0 and up2.3 and up2.2 and up4.1 and up4.1 and up2.2 and up5.0 and up4.4 and up3.0 and up4.0.3 and up4.4 and up4.2 and up4.1 and up4.0 and up4.1 and up4.1 and up4.3 and up3.0 and up4.1 and up4.3 and up2.3.3 and up1.6 and upVaries with device1.6 and up4.1 and up4.1 and up4.0 and up4.2 and up2.2 and up4.1 and up4.4 and up4.1 and up3.0 and up4.0.3 and up4.1 and up2.3.3 and up4.0.3 and up4.1 and up4.0 and up4.0.3 and up4.0.3 and up4.4 and up4.3 and up3.0 and up4.0 and up4.4 and up4.0 and up4.1 and upVaries with device4.0.3 and up4.2 and up3.0 and up3.0 and up4.0 and up3.0 and up4.1 and up4.0.3 and up4.1 and up4.1 and up5.0 and up2.1 and up4.0.3 and upVaries with device4.1 and up4.1 and up4.1 and up4.0 and up4.1 and up4.3 and up5.0 and up4.0.3 and up4.2 and up2.3 and up4.0 and up4.3 and up2.3 and up4.0 and up4.4 and up4.0.3 and up4.0 and up4.0 and up2.2 and up4.0 and up4.4 and up4.0 and up5.0 and up2.2 and up2.3 and up4.0 and up2.3 and up4.4 and up4.0 and up4.4 and up4.0 and up2.3 and up5.0 and up4.0 and up4.1 and up3.0 and up4.4 and up4.0 and up4.0.3 and up2.1 and up4.0 and up2.3.3 and up4.0 and up2.2 and up7.0 and up7.0 and up4.0.3 and up4.2 and up2.2 and up4.0.3 and up5.0 and up4.0.3 and up4.2 and up4.4 and up4.4 and up4.1 and up5.0 and up2.3 and up4.0.3 and up2.3 and up4.1 and up2.2 and up4.0 and up2.3 and up4.1 and up4.2 and up4.0.3 and up5.0 and up4.0 and up4.1 and up4.1 and up3.0 and up2.3.3 and up4.1 and upVaries with device4.0.3 and up2.3 and up2.3 and up4.1 and upVaries with device4.0 and up4.1 and up2.3 and up4.4 and up4.0 and up4.4 and up4.1 and up4.0.3 and up4.2 and up4.4 and up4.3 and up2.3 and up4.0.3 and up4.1 and up4.1 and up4.1 and up4.1 and up4.0.3 and up4.1 and up4.3 and up4.1 and up4.3 and up4.0 and up4.4 and up5.1 and up4.1 and up2.3 and up3.0 and up4.4 and up2.3 and up4.1 and up4.4 and up4.1 and up4.0 and up4.1 and up5.0 and up4.1 and up4.0.3 and up4.1 and up4.4 and up4.0.3 and up2.3.3 and up2.3 and up4.1 and up4.1 and up4.1 and up4.1 and up4.0 and up4.1 and up4.1 and up2.3.3 and up4.4 and up4.1 and up4.1 and up4.1 and up4.0.3 and up5.0 and up4.1 and up4.1 and up4.4 and up4.1 and up2.3.3 and up4.0.3 and up4.0 and up4.1 and up4.0 and up4.0 and up4.1 and up4.0 and up4.0 and up5.0 and up4.0 and up4.0 and up4.1 and up4.0 and upVaries with device4.1 and upVaries with device1.6 and up5.0 and up2.3.3 and up4.4 and up4.0 and up4.0 and up2.2 and up1.6 and up2.3.3 and up5.0 and up4.1 and up4.1 and up2.2 and up4.4 and up4.0.3 and up3.0 and up4.0 and up4.0.3 and up4.0.3 and up4.0 and upVaries with device4.0.3 and up2.3 and up4.0.3 and up4.1 and up4.0.3 and up4.4 and up3.0 and up2.2 and up3.2 and up4.0 and up4.1 and up4.1 and up4.4 and up4.2 and up4.1 and up4.0 and up4.4 and up4.0 and up4.0.3 and up4.1 and up4.4 and up4.1 and up4.0 and up4.1 and up4.0 and up4.0.3 and up4.0.3 and up5.0 and up4.0.3 and up4.0 and up2.1 and up4.2 and up7.0 and up3.0 and up4.0 and up4.0 and up4.1 and up4.1 and up4.0 and up4.0 and up4.0 and up4.0 and up4.1 and up2.3 and up4.0 and up4.1 and up2.3.3 and up4.0 and up4.4 and up4.1 and up4.0.3 and up5.0 and up2.0.1 and up4.4 and up4.1 and up4.1 and up4.0.3 and up2.3.3 and up2.3 and up4.0.3 and up2.3.3 and up4.4 and up4.0 and up2.3 and up4.1 and up4.0 and up4.1 and up1.6 and up5.0 and up4.0 and up5.0 and up1.6 and up4.4 and up4.1 and upVaries with device2.1 and up4.1 and up4.0.3 and up2.2 and up4.1 and up2.3 and up4.1 and up2.3.3 and up4.0 and up2.3 and up4.0 and up4.0 and up4.0 and up4.3 and up4.0 and up4.1 and up5.0 and up4.1 and up4.1 and up4.0.3 and up2.3 and up4.0.3 and up4.0 and up4.0 and up2.3 and up2.3 and up2.3 and up4.0 and up4.3 and up2.3 and up2.3 and up4.1 and up4.0.3 and up4.0.3 and upVaries with device4.0.3 and up4.0 and up2.3 and up5.0 and up4.1 and up3.0 and up4.1 and up3.0 and up2.3 and up4.4 and up4.0.3 and up4.0.3 and up4.0.3 and up4.2 and up2.3 and up4.1 and up3.0 and up4.1 and up4.0 and up4.4 and upVaries with deviceVaries with device4.1 and up4.0 and up4.4 and up5.0 and up4.0.3 and upVaries with device4.1 and up4.2 and upVaries with device4.2 and up2.0 and up4.0 and up5.0 and up4.1 and up4.0 and upVaries with device4.1 and upVaries with deviceVaries with device2.3 and up4.4 and upVaries with deviceVaries with device4.1 and up4.0 and up5.0 and up4.1 and up4.1 and up4.4 and up4.0 and up5.0 and upVaries with device5.0 and up4.0 and up4.1 and up4.1 and up4.0.3 and up2.3 and up4.1 and up4.0.3 and up4.0 and up4.0.3 and up2.0 and up5.0 and up2.3.3 and up2.3 and up4.4 and up4.0 and up1.6 and up2.3 and up4.4 and up5.0 and up4.2 and up4.1 and up2.0.1 and up2.3 and up3.0 and up3.0 and up4.4 and up2.3.3 and up4.0 and up4.1 and up4.1 and up4.0 and up4.0.3 and up2.3 and up2.1 and up4.1 and up4.1 and up2.3 and up1.6 and up2.3.3 and up4.1 and up4.0.3 and up4.0.3 and up4.0.3 and up4.1 and up4.0.3 and upVaries with device4.0 and up4.0.3 and up4.0.3 and up4.1 and up4.0.3 and up5.0 and up4.4 and up4.1 and up2.3 and up4.0 and upVaries with device2.3.3 and up4.1 and up2.3 and up4.1 and up4.1 and up4.1 and up2.1 and up4.3 and up2.3 and up4.1 and up2.1 and up5.0 and up2.3 and up5.0 and up3.0 and up4.1 and up2.1 and up4.1 and up2.2 and up4.1 and up1.5 and up2.2 and up4.0.3 and up4.0.3 and up4.3 and up2.1 and up4.1 and up4.0 and upVaries with device2.0 and up4.2 and up4.1 and up4.1 and up4.1 and up4.1 and up4.0 and up4.1 and up4.1 and up4.0 and upVaries with device4.1 and up4.1 and up2.3.3 and up5.0 and up4.0.3 and up4.3 and up2.3.3 and up4.0 and up4.1 and up4.1 and up4.1 and up4.1 and up5.0 and up2.3.3 and up4.0 and up4.2 and up4.0.3 and up4.1 and up4.0 and upVaries with device4.0.3 and up4.0 and upVaries with device4.0 and up4.0.3 and up2.3 and up4.0 and up2.3 and up4.2 and up4.0 and up2.3 and up4.0 and up4.0 and up4.0 and up2.3.3 and up2.3 and upVaries with device4.0 and up5.0 and upVaries with device2.2 and up4.0 and up4.2 and up2.2 and up4.0.3 and up4.3 and up4.0 and up4.0 and up2.3 and up4.0 and up4.0 and up4.0 and up4.1 and up4.1 and up5.0 - 6.04.0 and up4.1 and up1.6 and up2.3.3 and up4.0 and upVaries with device1.6 and up4.0 and up5.0 and upVaries with device4.4 and up5.1 and up4.1 and up4.1 and up4.4 and up5.1 and up4.0.3 and up4.3 and up4.0.3 and up4.3 and up4.0 and up2.3 and up2.3.3 and up4.1 and up5.0 and up4.4 and up4.1 and up5.1 and up4.1 and up4.4 and up4.1 and up2.3.3 and up4.1 and up5.0 and up5.0 and up4.1 and up4.4 and up2.3 and up4.0.3 and up5.1 and up4.4 and up2.3.3 and upVaries with device4.4 and up4.0 and up4.1 and up4.0 and up2.3.3 and up4.1 and up4.1 and up4.0 and up5.0 and up5.0 and up2.3 and up4.0 and up4.1 and up4.4 and up4.4 and up4.3 and up4.1 and up4.2 and up4.1 and up4.0.3 and up4.2 and up2.0 and upVaries with device5.0 and up4.1 and up4.4 and up4.1 and up5.0 and up4.0.3 and up2.3 and up6.0 and up2.3 and up5.0 and up4.1 and up4.1 and up5.0 and up4.0.3 and upVaries with device4.0 and up4.0 and up2.3.3 and up1.6 and up4.0.3 and up4.1 and up4.1 and up2.3 and up4.1 and up4.1 and up4.0.3 and up4.1 and up4.2 and up4.0.3 and up4.1 and up4.1 and up4.4 and up4.0.3 and up4.3 and up3.0 and up4.0 and up2.3.3 and up3.0 and up4.0.3 and up5.0 and up4.2 and up4.0 and up4.1 and up4.0.3 and up3.0 and up4.0.3 and up4.1 and up4.0.3 and up4.1 and up4.1 and up5.0 and up4.0 and up4.1 and up4.4 and up5.0 and up4.2 and up3.0 and up4.2 and up5.0 and up4.0 and up4.1 and up4.1 and up4.4 and up4.0.3 and up4.0.3 and up2.3.3 and upVaries with device2.3 and up4.4 and up4.4 and up4.1 and up4.1 and up4.4 and up2.3.3 and up3.0 and up2.1 and up4.0.3 and up2.3 and up4.0.3 and up4.4 and up4.0.3 and up2.3 and upVaries with device2.3.3 and up4.1 and up4.0 and up4.0.3 and up4.3 and up4.0.3 and up5.0 and up4.4 and up4.1 and up4.0 and up4.0 and up2.3 and up4.1 and up4.1 and up4.1 and up4.0.3 and up4.1 and up4.1 and up4.0.3 and up4.1 and up2.3.3 and up4.1 and up4.0 and up3.0 and up4.1 and up4.2 and up4.0.3 and up4.2 and up4.1 and up4.0 and up4.0.3 and up4.1 and up2.3 and up3.0 and up4.0.3 and up4.1 and up4.0 and up3.0 and up2.3.3 and up4.4 and up4.1 and up4.0.3 and up4.1 and up4.4 and up4.1 and up4.1 and up4.0 and up4.0 and up4.1 and up2.3.3 and up2.3 and upVaries with device4.1 and up2.0 and up2.3 and up4.1 and up4.1 and up3.0 and up4.1 and up5.0 and up4.1 and up2.3 and up4.0 and up3.0 and up2.2 and up4.0.3 and up4.1 and up4.0.3 and up2.3 and up2.2 and up4.4 and up2.3.3 and up2.3 and up4.1 and up2.3 and up1.5 and up3.0 and up4.4 and up4.1 and up2.3 and up4.1 and up4.1 and up4.0 and up4.2 and up4.0.3 and up4.1 and up4.2 and up4.4 and up2.2 and up4.0 and up4.0.3 and up4.0.3 and up4.0 and up4.0 and up4.0 and up4.0 and up2.3 and up4.1 and up4.0 and up4.0 and up4.0 and up4.4 and up4.4 and up4.0 and up4.0 and up2.3 and up3.0 and up4.0.3 and up2.2 and up4.0.3 and up4.0 and up2.3.3 and up4.0 and up4.1 and up4.0.3 and up4.0 and up4.0.3 and up4.0.3 and up4.1 and up4.4 and up2.3 and up4.1 and up3.0 and up4.1 and up2.2 and up4.0 and up4.2 and up4.0 and up4.0 and up4.2 and up4.1 and up4.1 and up4.1 and up5.0 and up4.0 and up4.4 and up5.0 and up4.0.3 and up5.0 and up4.4 and up4.0.3 and up4.2 and up4.2 and up5.0 and up5.0 and up4.0 and up4.0.3 and up4.0.3 and up4.4 and up5.0 and up2.3 and up5.0 and up2.3 and up4.0 and up4.0 and up2.2 and up5.0 and upVaries with deviceVaries with device4.0 and up4.3 and up2.2 and up4.1 and up4.0 and up3.0 and up2.1 and up4.1 and upVaries with device5.0 and up4.0.3 and up2.3.3 and up4.1 and up4.4 and up4.0 and up4.4 and up5.0 and up4.0 and up4.0.3 and up4.1 and up4.4 and up4.0.3 and up4.0.3 and up4.0.3 and up4.0.3 and up4.0 and up4.1 and up4.0 and up2.3.3 and up4.0 and up2.3 and up4.4 and upVaries with device2.3 and up4.1 and up4.0.3 and up4.0.3 and up4.0 and up4.0.3 and up3.0 and up4.0 and up4.2 and up4.0 and up4.0.3 and up4.0.3 and up4.0.3 and up4.1 and up4.1 and up4.0.3 and up4.0.3 and up2.3.3 and up4.4 and up4.0.3 and up4.0.3 and up4.4 and up4.4 and up3.2 and up4.0 and up3.2 and up4.3 and up1.6 and up2.3 and up4.4 and up1.6 and up2.1 and up2.3 and up4.0 and up2.3.3 and up4.0.3 and up2.3.3 and up2.1 and up2.3 and up4.1 and upVaries with device2.0 and upVaries with device3.0 and up4.4 and up4.1 and up2.1 and up4.1 and up2.2 and up1.6 and up4.0 and upVaries with device2.1 and up4.4 and up3.0 and up4.3 and up5.0 and up2.2 and up4.4 and up4.0.3 and up4.4 and up2.3 and up5.0 and up4.4 and up4.0 and up4.3 and up2.2 and up4.3 and up4.3 and up5.0 and up2.2 and up2.2 and up2.3 and up4.0 and up4.0 and up4.0 and up3.0 and up5.0 and up4.1 and up4.0 and up4.1 and up4.0 and up4.0 and up4.1 and up4.0 and up4.4 and up4.0 and up2.2 and up2.2 and up2.1 and up4.1 and up2.2 and up2.2 and upVaries with deviceVaries with device1.6 and up4.4 and up4.2 and up5.0 and up2.3 and up4.1 and up3.2 and up4.0 and up4.3 and up2.3.3 and up1.6 and up3.0 and up2.2 and up4.0 and up4.1 and up4.1 and up4.1 and up4.0 and upVaries with deviceVaries with device4.1 and up2.3 and up4.0 and up4.1 and upVaries with device2.2 and up2.2 and up4.0.3 and up2.3 and up4.1 and up4.1 and up2.3 and up4.3 and up4.0.3 and up4.2 and up4.1 and up4.0 and upVaries with device4.0.3 and up4.3 and up4.1 and up4.0.3 and up2.3.3 and up4.1 and up4.1 and up4.4 and up2.2 and up5.0 and up4.2 and upVaries with device3.0 and upVaries with device4.0 and up4.1 and up4.1 and up4.3 and up4.0 and up4.0 and up4.4 and up4.4 and up4.1 and up4.1 and up4.0 and up4.4 and up4.0.3 and up2.2 and up4.0.3 and up4.0.3 and up4.4 and upVaries with device5.0 and up4.4 and up2.3 and upVaries with device4.0 and up2.3 and up4.1 and up4.1 and up4.1 and upVaries with device2.3 and upVaries with device4.1 and up4.1 and up4.0.3 and up4.1 and up4.4 and up4.0.3 and up4.0 and up2.1 and up2.3 and up6.0 and up3.0 and up4.0 and up4.0.3 and up3.0 and up4.1 and up4.0 and up4.3 and up3.0 and up2.2 and up4.4 and up4.4 and up2.1 and up4.0 and up4.1 and up4.0 and up4.0 and up4.1 and up4.1 and up4.4 and up4.1 and up4.0 and up5.0 and up2.2 and up4.1 and up4.0 and up4.2 and up4.0.3 and up4.1 and up2.3 and up4.0 and up4.1 and up4.4 and upVaries with device4.4 and up4.0 and up4.4 and up4.0 and up4.0.3 and up4.0.3 and up4.1 and up4.3 and up4.1 and up4.0.3 and upVaries with device4.1 and up4.0 and up5.0 and up4.0.3 and up4.0.3 and up4.0.3 and up4.4 and up2.3.3 and up1.6 and up4.4 and up4.0.3 and up4.0.3 and up4.0 and up4.0 and up4.0.3 and up4.1 and up4.4 and up4.1 and up4.0 and up4.1 and up4.1 and up1.5 and up4.0.3 and up4.1 and up2.3 and up4.4W and up4.2 and upVaries with deviceVaries with device4.0 and upVaries with deviceVaries with device4.0 and up4.2 and up4.4 and upVaries with device4.0.3 and up2.3.3 and up4.0 and up2.3 and up4.1 and up2.3 and up4.1 and up4.0.3 and upVaries with device4.1 and up2.3.3 and up4.1 and up2.1 and up1.6 and up4.1 and up4.1 and up4.1 and up4.1 and up2.3.3 and upVaries with device2.3.3 and up3.2 and up4.0 and up4.1 and up4.1 and up4.1 and up4.2 and up4.4 and up4.0.3 and up4.4 and up4.0.3 and up4.1 and up4.0 and upVaries with deviceVaries with device4.0 and up4.1 and up4.0 and up4.0.3 and up4.1 and up4.4 and up4.0.3 and up4.0 and up2.3 and up4.0 and upVaries with device4.0.3 and up5.0 and upVaries with device4.4 and up2.2 and up4.4 and up4.0.3 and up4.1 and up4.0.3 and up4.0 and up4.1 and up4.4 and up3.0 and up4.0.3 and up4.1 and up4.4 and up4.0 and up4.0.3 and up4.0 and up4.1 and upVaries with device4.1 and upVaries with device3.0 and up2.1 and up3.0 and up4.1 and up3.0 and up3.0 and up2.3.3 and up2.3 and up4.0.3 and up3.0 and up4.1 and up4.2 and up4.4 and up4.0.3 and up4.0 and up3.0 and up4.0.3 and up2.2 and up2.0 and up2.3 and up4.4 and up2.3.3 and up4.0.3 and up4.0 and upVaries with device4.4 and up4.0.3 and up2.3 and up4.0.3 and up4.1 and up4.0.3 and up2.3 and up4.0.3 and up2.3.3 and up2.3 and up3.0 and upVaries with device4.1 and upVaries with device4.0 and up4.1 and up4.1 and up4.1 and up4.0 and up4.1 and up4.0.3 and up4.0 and up4.1 and up4.1 and up2.3 and up4.1 and upVaries with device4.1 and up4.1 and up4.1 and upVaries with device4.1 and up4.1 and upVaries with device5.0 and up4.1 and up4.1 and up5.0 and up4.1 and up4.1 and up4.0.3 and up4.0.3 and up2.3 and up4.1 and up2.3 and up5.0 and up4.1 and up4.1 and up4.4 and up4.4 and up4.2 and up4.2 and up4.0.3 and up4.1 and up4.0 and up2.2 and up4.1 and up4.0.3 and up3.0 and up4.4 and up3.0 and up2.3 and up4.1 and up2.3 and up3.0 and up4.2 and up4.0.3 and up4.0 and up4.1 and up4.1 and up4.3 and up4.0 and upVaries with device4.0 and upVaries with device4.1 and up4.1 and upVaries with device2.3 and up4.1 and up2.3 and up4.1 and up4.0.3 and up5.0 and up5.0 and up4.1 and up4.0 and up3.0 and up4.4 and up4.0.3 and up4.2 and up4.0 and up4.1 and up4.0 and up4.1 and up4.4 and up2.2 and up4.0 and up2.3.3 and up4.2 and up4.1 and up4.2 and up2.3 and up4.0.3 and up4.0 and up4.4 and up4.4 and up3.0 and up3.0 and up4.3 and up4.1 and up4.0.3 and up4.1 and up2.1 and up2.3 and up4.0.3 and up2.2 and up4.1 and up2.3.3 and up4.1 and up4.3 and up6.0 and up4.0.3 and up4.1 and up2.3.3 and up4.1 and up4.0 and up4.4 and up5.0 and up4.1 and up2.3.3 and up4.0 and up4.4 and up2.1 and up4.0 and up4.4 and up5.0 and up4.1 and up4.4 and up3.0 and up4.0.3 and up4.0 and upVaries with device4.3 and upVaries with device4.1 and up2.3 and up4.0 and up4.0 and up4.1 and up4.0.3 and up4.1 and up4.1 and up3.1 and up4.4 and up4.4 and up4.4 and up4.0 and upVaries with device4.4 and upVaries with deviceVaries with device2.3.3 and up4.0 and up5.0 and up4.1 and upVaries with device4.0 and up2.3 and upVaries with device4.4 and up4.0 and upVaries with deviceVaries with device4.0 and up4.4 and upVaries with device4.1 and up2.1 and up6.0 and up1.5 and up4.0 and up4.1 and up5.0 and upVaries with device4.1 and up4.0 and upVaries with deviceVaries with device4.0 and up4.1 and up4.4 and up4.0 and up2.3 and up5.0 and up4.1 and up2.3 and upVaries with device5.0 and up4.1 and up4.0.3 and up4.0.3 and up4.1 and up4.3 and up4.0 and up4.0.3 and up4.0.3 and up4.1 and up4.1 and up4.0.3 and up4.1 and up4.1 and up4.0.3 and up4.3 and up3.0 and up4.0.3 and up4.0.3 and up2.2 and up4.1 and up4.0 and up4.0.3 and up4.0.3 and up4.1 and up4.1 and up4.2 and up2.3.3 and up4.1 and up4.0.3 and up4.0.3 and up4.0 and up4.1 and up4.0.3 and up4.2 and up4.1 and up4.0.3 and up4.1 and up4.3 and up4.0.3 and up4.4 and up4.0 and up4.1 and up4.1 and up4.1 and up4.1 and up4.0 and up4.1 and up5.0 and up4.0 and up4.1 and up4.0 and up3.2 and up2.3 and up4.0 and up4.4 and up2.3 and up4.4 and up4.2 and up4.3 and up4.2 and up3.2 and up4.2 and up2.2 and up4.2 and up2.3.3 and up4.4 and up4.1 and up2.2 and up2.3 and up2.1 and up4.1 and up4.3 and up4.4 and upVaries with device4.4 and up4.4 and up4.1 and up4.1 and up4.0 and up5.0 and up4.1 and up4.4 and up3.2 and up4.0.3 and up4.0.3 and upVaries with device2.3 and up4.1 and up4.0.3 and upVaries with device4.0 and up4.0 and up4.0 and up4.1 and up4.4 and up4.1 and up4.1 and up4.1 and up4.0.3 and up4.1 and up4.1 and upVaries with device4.1 and up4.0.3 and up4.0 and up4.1 and up4.0 and up4.0 and up4.0 and up4.0.3 and up4.1 and up4.0 and up4.0 and up4.4 and up7.0 and up4.0.3 and up4.0 and up4.0.3 and up4.1 and up2.2 and up4.0.3 and up4.1 and up2.0.1 and up4.0 and up4.1 and up2.3 and up4.1 and up4.0 and up4.0 and up4.1 and up2.3 and up2.3 and up4.0.3 and up4.0.3 and up2.3.3 and up4.0 and up4.1 and up5.0 and up4.1 and up4.0 and upVaries with deviceVaries with device4.4 and up4.1 and up4.1 and up4.1 and up5.0 and up4.0 and up2.3 and upVaries with device2.3 and up4.2 and up2.3.3 and up5.0 and up1.5 and up2.2 and up2.3 and up2.3.3 and up2.0 and up4.1 and up4.0 and up4.1 and up4.1 and up2.3 and up4.0 and up4.1 and up4.1 and up2.2 and up2.2 and up2.3 and up4.2 and up4.1 and up4.0.3 and up4.1 and up2.3 and up2.2 and up2.3.3 and up2.3.3 and up2.3.3 and up5.0 and up4.4 and up2.2 and up4.0 and up2.1 and up4.1 and up4.1 and up2.2 and up4.2 and up4.1 and up4.1 and up4.3 and up4.0 and up4.0.3 and up4.0.3 and up4.0 and up4.2 and up5.0 and up2.3 and up4.1 and up4.1 and up4.0 and up4.2 and up4.0 and up4.0.3 and up4.0 and up4.0 and up4.0 and up4.0 and up4.0.3 and up4.0 and up4.2 and up4.0 and up4.3 and up4.0.3 and up4.3 and upVaries with device2.3.3 and up4.0 and up4.0 and up4.0 and up4.0 and up4.1 and up4.1 and up4.0 and upVaries with device1.0 and up2.3.3 and up4.1 and up2.2 and up4.1 and upVaries with device4.0.3 and up2.3 and upVaries with device4.1 and up4.2 and up4.3 and up4.4 and up4.0 and up4.0 and up4.0 and up4.0 and up4.0.3 and up4.1 and up4.1 and up4.0.3 and up4.0.3 and up2.3 and up4.0 and up4.0.3 and up3.0 and up4.2 and up2.3 and up4.0 and up4.0 and up4.0 and up4.0 and up4.4 and up2.2 and up4.1 and up4.1 and up4.0.3 and up4.2 and up4.1 and up4.0 and up4.0.3 and up4.4 and up4.0.3 and up2.2 and up2.2 and up2.3.3 and up4.0 and up3.0 and up2.2 and up4.1 and up4.2 and up4.4 and upVaries with device4.1 and up4.1 and up2.2 and up4.1 and upVaries with device4.1 and up2.3 and up4.1 and up2.2 and up4.1 and up2.1 and up4.1 and up2.3.3 and up4.1 and up4.1 and up5.0 and up4.0.3 and up4.1 and up4.1 and up4.0 and up4.1 and up5.0 and up1.6 and up2.3 and up2.3 and up2.3.3 and up2.0 and up4.0 and up4.0 and up4.0 and up4.0 and up2.2 and up2.2 and up2.1 and up4.1 and up4.0.3 and up4.0 and up2.3 and up4.1 and up4.0 and up4.0.3 and up3.2 and up2.3 and up4.1 and up4.1 and upVaries with device4.0 and up4.1 and up1.5 and up4.0.3 and up2.2 and up4.0.3 and up4.1 and up4.1 and up6.0 and up2.2 and up3.0 and up2.3.3 and up4.0.3 and up4.4 and up4.1 and up2.0.1 and upVaries with device2.3 and up4.4 and up2.1 and up4.1 and up2.3 and upVaries with device4.1 and up4.1 and up4.1 and up4.0 and up2.2 and up2.3 and up2.3.3 and up4.1 and up4.0.3 and up4.1 and up4.0.3 and up4.0.3 and up4.1 and up4.0 and up4.0.3 and up4.0.3 and up2.3 and up4.2 and up4.0 and up3.0 and up4.0 and upVaries with device4.0 and up2.1 and up2.3 and up4.1 and up4.0.3 and up2.3 and up4.0 and up5.0 and up4.4 and up1.6 and up4.1 and up4.1 and up4.0 and upVaries with device4.1 and up4.0.3 and up4.0.3 and up4.2 and up4.1 and up4.0 and up4.1 and up4.2 and up4.0 and up2.3 and up2.1 and up2.3.3 and up4.0 and up4.1 and up4.1 and up4.0 and up4.4 and up4.0.3 and up4.1 and up4.1 and up4.1 and up3.0 and up3.0 and up4.1 and up2.3 and up4.0.3 and up4.1 and up4.1 and up4.0 and up4.0.3 and up4.0.3 and up2.3.3 and up4.1 and up4.0.3 and up4.4 and up2.3 and up4.0 and up4.1 and up4.1 and up4.4 and up4.1 and up4.3 and up4.3 and up4.3 and up4.0.3 and up4.0 and up4.1 and up4.0 and up4.1 and up4.2 and up5.0 and up4.4 and up4.0.3 and up4.0 and up4.1 and up4.0.3 and upVaries with device4.0 and up4.0 and up4.0 and up4.0.3 and up4.0.3 and up4.1 and up3.0 and up2.2 and up4.0.3 and up2.2 and up5.0 and up4.1 and up2.3 and up1.0 and up5.0 and up4.0 and up4.0 and up4.2 and up4.1 and up4.4 and up2.3 and up1.6 and up4.1 and upVaries with device4.0.3 and up2.3 and up4.4 and up3.0 and up2.3.3 and up3.0 and up2.3 and up2.3 and up4.0 and up4.4 and up2.3.3 and up4.0.3 and up4.0 and up4.1 and up4.0 and up3.0 and up4.1 and up2.3.3 and up2.3.3 and up4.0 and up4.0 and up4.0.3 and up4.4 and up2.3.3 and up4.0 and up2.3.3 and up4.0.3 and up4.4 and up4.0.3 and up4.1 and up4.2 and up4.1 and up4.4 and up4.4 and up4.4 and up5.0 and up5.0 and up4.4 and up4.4 and up4.4 and up4.1 and up4.1 and up4.0 and up4.0 and upVaries with device4.4 and upVaries with device4.0 and up4.3 and up5.0 and up4.3 and up4.4 and up3.0 and up4.4 and up4.4 and up4.1 and up4.1 and up2.1 and up4.1 and upVaries with device4.0.3 and up4.2 and up4.1 and up4.0 and up4.0 and up4.1 and up2.3 and up2.2 and up2.3.3 and up4.0 and up2.3 and up2.3 and up4.1 and up3.2 and up2.2 and up2.2 and up4.0.3 and up4.3 and up2.2 and up4.1 and up2.2 and up4.0.3 and up4.0 and up2.3 and up4.0 and upVaries with device2.3 and up2.3 and up3.0 and up4.0 and up4.0.3 and up4.4 and up2.3 and up4.0.3 and up4.0 and up4.0 and up4.3 and up4.4 and up4.4 and up4.0 and up4.1 and up4.0 and up4.0 and up2.2 and up4.1 and up4.1 and up4.0.3 and up2.3 and up2.2 and up4.1 and up4.0.3 and up4.2 and up4.0.3 and up4.0 and up2.1 and up4.1 and up4.0 and up4.0 and up2.3 and up3.0 and up2.3.3 and up2.3 and up4.1 and up2.0 and up2.3 and up2.3 and up4.0.3 and up4.1 and up4.2 and up2.3 and up4.1 and up4.2 and up4.4 and up4.0.3 and up4.0 and up3.0 and up4.4 and up2.3 and up4.0 and up2.3 and up4.2 and up2.3.3 and up4.0 and upVaries with device4.4 and up2.3 and up4.0 and up2.2 and up1.6 and up2.3.3 and up4.1 and up2.3 and up2.3 and up2.3 and up4.1 and up4.0 and up4.0.3 and up4.4 and up2.1 and up2.3 and up2.3 and up4.1 and up4.0 and up2.3.3 and upVaries with device4.0.3 and upVaries with device2.3 and up4.0 and up4.0.3 and up4.0 and up4.0 and up2.3 and up4.1 and up2.3.3 and up4.0 and up2.3 and up4.1 and up4.0 and up2.3 and up2.3 and up2.3.3 and up5.0 and up4.1 and up2.3.3 and upVaries with device4.0 and up4.0.3 and up4.0 and up2.2 and up2.3.3 and up2.3 and up2.3 and up4.1 and up2.3 and up4.0 and up2.2 and up4.0.3 and up4.1 and up2.1 and up3.0 and up4.1 and up2.3 and up4.0 and up4.0.3 and up4.0.3 and up4.1 and up4.1 and up1.6 and up4.0.3 and up4.1 and up4.1 and up5.0 and up4.0 and up4.4 and up4.0 and up5.1 and up2.2 and up4.0 and up3.0 and up4.3 and up2.2 and up4.1 and up2.1 and up4.0.3 and up5.0 and up4.0 and up5.0 and up5.0 and up4.0 and up4.0.3 and up4.1 and up4.1 and up4.0 and up5.0 and up4.1 and up4.0 and up4.1 and up4.0.3 and up4.0 and up4.0 and up4.0 and up4.1 and up2.2 and up4.0 and up4.4 and up4.1 and up2.3.3 and up4.2 and up4.1 and up2.3 and up4.2 and up4.0 and up2.3.3 and up4.1 and up4.1 and upVaries with device2.3 and up4.1 and up2.3 and up4.0 and up4.0.3 and up4.2 and up4.0 and up4.1 and up4.0.3 and up4.0.3 and up4.0.3 and upVaries with device4.0 and up5.0 and up4.0 and up1.5 and upVaries with device4.4 and upVaries with device1.6 and up4.1 and up4.0 and up5.0 and upVaries with device4.0.3 and up4.0.3 and up4.1 and upVaries with device2.3 and up2.0 and up4.0.3 and up4.1 and up4.0.3 and upVaries with device4.1 and up4.1 and up2.3 and up2.3 and up4.1 and up4.1 and up5.0 and up4.0.3 and up5.0 and up4.0.3 and up4.0.3 and upVaries with device4.1 and up4.1 and up4.1 and up4.1 and up2.0 and upVaries with device3.0 and up4.1 and up4.1 and up4.0.3 and up4.0.3 and up3.0 and up4.1 and upVaries with device5.0 and up4.0.3 and up4.1 and up2.3 and up2.3 and up4.1 and up2.3 and upVaries with deviceVaries with device4.1 and upVaries with deviceVaries with deviceVaries with device2.3 and up4.1 and up4.0.3 and up4.0 and up4.0.3 and up4.1 and upVaries with device2.3 and up5.0 and up5.0 and upVaries with device4.1 and up4.1 and up2.3 and upVaries with device4.1 and up4.1 and upVaries with device4.0.3 and up4.0.3 and up4.4 and up4.1 and up4.1 and up4.1 and up4.1 and up4.0.3 and up4.3 and up4.1 and up4.0 and up4.1 and up4.0 and up4.0.3 and up4.1 and up4.2 and up4.2 and up2.3 and up4.1 and up4.1 and up4.0.3 and up4.1 and up4.1 and up4.1 and up4.1 and upVaries with device4.2 and up4.3 and up4.0 and up4.0.3 and up4.2 and up4.1 and up4.0.3 and up3.0 and up4.1 and up4.1 and up2.3 and up4.1 and up4.1 and up4.0 and up4.1 and up4.3 and up2.3 and up2.2 and up5.0 and up2.3 and up2.3 and up2.3 and up2.2 and up2.3 and up4.4 and up4.0 and up4.1 and up4.1 and up4.1 and up4.1 and up4.1 and up4.0.3 and up4.0.3 and up4.1 and up5.1 and up4.1 and up4.1 and upVaries with device4.4 and up4.0 and up4.0.3 and up4.1 and up4.0.3 and up2.3 and up4.3 and up4.1 and up4.0.3 and up2.3 and up4.1 and up4.3 and up4.0 and up4.0 and up4.1 and up4.1 and up4.1 and up4.0 and up4.0.3 and up4.1 and up2.3 and up4.0 and up4.1 and up4.1 and up4.1 and up4.0.3 and up4.0.3 and up2.3 and up4.0 and up4.1 and up4.1 and upVaries with device1.6 and up2.3 and upVaries with device4.0 and up2.1 and up2.2 and up4.0 and up2.1 and up4.0 and up2.2 and up2.0 and up4.0 and up4.0 and up2.1 and up1.6 and up2.0 and up4.2 and up4.0 and up4.2 and up4.0 and up4.2 and up4.3 and up4.1 and up1.6 and up4.1 and up4.2 and up5.0 and up2.2 and up4.1 and up4.0.3 and up4.3 and upVaries with device4.0 and up4.1 and up4.4 and up4.0.3 and up4.1 and up3.0 and up5.0 and up4.0 and up4.1 and upVaries with device4.1 and upVaries with device4.1 and up5.0 and up4.1 and up4.1 and up2.2 and up4.0 and up4.0.3 and up4.1 and up4.0 and up4.0.3 and upVaries with deviceVaries with deviceVaries with device4.1 and upVaries with deviceVaries with device4.4 and up4.1 and up4.2 and upVaries with deviceVaries with device4.1 and up4.0.3 and upVaries with deviceVaries with device4.0.3 and up5.0 and up4.1 and up4.0.3 and up4.1 and upVaries with device4.0.3 and up4.1 and up4.1 and upVaries with device4.0 and up4.0.3 and up4.0 and up2.1 and up4.0 and up2.2 and up4.2 and up2.3.3 and up4.0.3 and up4.0.3 and up4.1 and up2.1 and up4.1 and up4.0.3 and up4.0.3 and up4.0.3 and up4.1 and up2.2 and up4.4 and up4.4 and upVaries with device4.3 and up4.4 and up4.1 and up4.1 and up2.3.3 and up4.4 and up4.1 and up4.1 and up4.1 and up2.3 and up4.1 and up1.6 and up4.4 and upVaries with device4.3 and up4.0 and up4.0 and up4.1 and up4.1 and up4.1 and up4.0 and up4.0 and upVaries with device4.4 and up4.0.3 and up4.0.3 and up4.1 and up4.4 and up5.0 and up2.3 and up4.1 and up6.0 and up4.1 and up4.0 and up4.1 and up4.1 and up4.4 and up4.1 and up4.0.3 and up5.0 and up4.1 and up4.4 and up2.3 and up4.0.3 and up4.0 and up2.3.3 and up4.1 and up2.3 and up4.4 and up2.1 and up4.4 and upVaries with deviceVaries with device4.0 and up4.1 and up4.0 and up4.1 and upVaries with device4.0 and up2.3 and up4.1 and up4.1 and up4.1 and up4.2 and up4.1 and upVaries with device2.3 and up4.0.3 and up4.1 and up4.4 and up4.0 and upVaries with device4.1 and up4.0.3 and upVaries with device4.1 and up4.4 and up4.0 and up4.0.3 and upVaries with deviceVaries with device5.0 and up4.0.3 and up4.2 and up4.0.3 and upVaries with device2.3 and upVaries with device4.0 and up4.1 and up2.3 and up4.0 and up4.0 and up4.1 and up2.3 and up2.1 and upVaries with device4.2 and up1.6 and upVaries with device2.0 and up2.1 and up2.2 and up1.6 and up1.6 and up3.0 and upVaries with device4.0.3 and up1.6 and up1.6 and upVaries with device5.0 and up1.6 and up1.6 and up1.6 and up2.2 and up5.0 and up2.1 and up1.6 and up2.2 and up2.3 and up4.0.3 and up3.0 and up4.0 and upVaries with device4.1 and up4.1 and up1.6 and up1.6 and up2.3 and up2.3.3 and up4.0.3 and up2.1 and up4.0 and up3.0 and up2.3 and up4.1 and up2.2 and up6.0 and up4.1 and up4.0.3 and up4.1 and up2.1 and up2.1 and up4.0.3 and up4.0.3 and up2.3 and up4.0.3 and up4.1 and up4.0.3 and up4.0 and up2.1 and up4.0.3 and up2.3 and up4.4 and up3.0 and up4.1 and up4.0 and up5.0 and up2.1 and up4.0 and up4.0.3 and upVaries with device4.0.3 and up2.3 and upVaries with deviceVaries with device4.2 and up4.3 and up4.0 and up4.4 and up2.3 and up3.2 and up2.2 and up5.0 and up4.3 and up4.0 and up4.0 and upVaries with device3.0 and up2.1 and up5.0 and up4.3 and up5.0 and up4.3 and up4.0 and up2.1 and up2.3 and upVaries with device4.0 and up4.4 and up2.2 and up4.0.3 and up2.2 and up3.0 and up4.3 and up4.1 and up4.0 and up4.4 and up4.1 and up5.0 and up6.0 and up4.1 and up5.0 and up4.0.3 and up5.0 and up4.1 and up4.1 and up4.0 and up4.1 and up4.0 and up4.0.3 and up4.0 and up4.0 and up4.1 and up4.0.3 and up4.0.3 and up4.1 and up2.3 and up4.4 and up4.0.3 and up4.1 and up4.0.3 and up4.0.3 and up4.0.3 and up4.3 and up4.0.3 and upVaries with device4.4 and upVaries with device4.4 and upVaries with device2.3 and up4.1 and up4.1 and up4.0.3 and up4.1 and upVaries with device4.1 and up4.1 and up4.0.3 and up4.1 and up4.1 and up2.3 and up4.0.3 and up2.2 and up2.3 and up4.2 and up4.4 and up5.0 and up5.0 and up4.3 and up4.2 and up4.0.3 and up4.4 and up3.0 and up4.0 and up4.0.3 and up4.0 and up4.2 and up4.4 and up3.0 and up4.1 and up2.3 and up4.0.3 and up4.0.3 and up4.0 and up4.0.3 and up2.3 and up4.1 and up4.2 and up4.1 and up4.0.3 and up4.1 and up4.1 and up4.1 and up4.0 and up4.0 and up4.1 and up4.1 and up4.4 and up4.1 and up4.0.3 and up2.3 and up5.0 and up4.4 and up4.4 and up4.1 and up4.1 and up4.4 and up5.0 and upVaries with device4.4 and up4.3 and up4.4 and up4.4 and up2.3 and up5.0 and up4.1 and up4.2 and up4.0 and up4.0.3 and up4.1 and up4.2 and up5.0 and up4.1 and up4.0.3 and upVaries with device1.6 and up4.0.3 and up4.4 and up4.0.3 and up4.0.3 and up4.4 and up5.0 and up4.0.3 and up4.4 and up4.4 and up4.4 and up4.4 and up4.4 and up4.0.3 and up4.4 and up1.6 and up5.0 and up4.0 and up4.1 and up4.4 and up4.1 and up4.4 and up4.0.3 and up4.4 and up4.4 and up4.0.3 and up3.0 and up3.0 and up2.3 and up4.1 and up3.0 and up4.0.3 and up4.0.3 and up4.1 and up4.2 and up4.0 and up4.0.3 and up5.0 and up4.1 and up5.0 and up4.1 and up4.1 and up4.0.3 and up4.0 and up4.1 and up4.0 and up4.0 and up5.0 and up4.0 and up4.1 and up2.3.3 and up4.1 and up4.0 and up4.1 and up4.1 and up4.2 and up4.1 and up2.3 and up4.1 and up4.1 and up2.3 and up4.1 and up4.1 and up4.1 and up4.1 and up2.2 and up4.0 and up4.1 and up2.3 and up4.4 and up2.3.3 and up4.0.3 and up2.3 and up2.3 and up4.2 and up2.3 and up4.1 and up2.3 and up4.4 and up2.3 and up4.0.3 and up4.1 and up2.3.3 and up4.1 and up2.3.3 and up4.0 and up4.0 and up4.1 and up4.4 and up4.0.3 and up4.0 and up4.0.3 and up2.3.3 and up2.3.3 and up4.0 and up5.0 and up4.1 and up4.2 and up4.1 and up3.0 and up4.1 and up4.1 and up4.0.3 and up3.0 and up4.0 and up4.1 and up2.3 and up4.1 and up5.0 and up6.0 and up5.1 and up1.6 and up2.2 and upVaries with device2.3 and up4.0.3 and up4.0.3 and up6.0 and up4.0 and upVaries with device4.4 and up4.2 and upVaries with device4.0 and up4.4 and up1.6 and up2.1 and up1.6 and up4.1 and up2.3.3 and up4.0 and up2.3 and up4.1 and up5.0 and up4.0 and up4.2 and up2.3 and up4.0.3 and up4.4 and up2.2 and up2.3 and up2.3.3 and up4.0 and up4.0 and up4.0 and up2.3 and up4.0 and up2.3.3 and up4.3 and up4.1 and up2.3 and up2.3.3 and up2.3.3 and up4.4 and up2.3 and up4.0.3 and up2.3 and up2.3.3 and up4.2 and up2.3 and up4.1 and up4.1 and up4.1 and up4.0 and up2.3 and upVaries with device2.3 and up4.1 and up2.3 and up2.3.3 and up4.1 and up2.2 and up2.3 and up4.0 and up4.2 and up4.1 and up2.3 and up4.0.3 and up4.2 and up4.0 and up5.0 and up3.2 and up4.1 and up4.4 and up2.3 and up4.4 and up4.1 and up4.0 and up4.4 and up2.3 and up4.4 and up2.2 and up4.1 and up4.1 and up4.4 and up4.0 and up4.0.3 and up4.0.3 and up4.1 and up4.0.3 and up4.1 and up4.0.3 and up4.4 and up3.0 and up2.3 and up4.0 and upVaries with device3.0 and up4.1 and up4.1 and up4.1 and up4.4 and up4.2 and up4.4 and up4.1 and up3.0 and up2.1 and up4.0.3 and up4.1 and up2.3.3 and up4.4 and up2.2 and up4.0.3 and up4.1 and up4.0 and up4.1 and up4.4 and up2.3.3 and up2.2 and up4.0.3 and up4.1 and up4.4 and up4.0 and up2.3.3 and up4.1 and up4.0.3 and up5.0 and up4.1 and up4.0.3 and up4.0.3 and up5.0 and up4.1 and up7.0 and up4.1 and up2.3.3 and up4.3 and up4.4 and up2.1 and up4.1 and up4.0 and up5.0 and up4.0 and up5.0 and upVaries with device5.0 and up4.0.3 and up4.1 and up4.0 and upVaries with device4.0.3 and up4.0.3 and up4.2 and up4.0 and up4.1 and up4.0 and up4.0.3 and up4.0 and up2.3 and up2.2 and up4.0 and up4.0.3 and up2.2 and up2.2 and up2.2 and upVaries with device4.1 and up4.4 and up4.0.3 and up2.1 and up4.1 and up4.0.3 and up3.0 and up2.3 and up2.1 and up4.1 and up7.0 and up2.2 and up2.3 and up2.3 and up2.3.3 and upVaries with device4.0.3 and up4.0 and upVaries with deviceVaries with device4.1 and up4.0 and up4.0 and up4.4 and up5.0 and up4.4 and up5.0 and up4.1 and up2.3.3 and up4.1 and up3.0 and up4.4 and up4.2 and up4.4 and up4.0 and up4.0 and up4.4 and up4.0.3 and up2.0 and up1.6 and up4.0 and up2.2 and up4.1 and up2.3 and up6.0 and up4.4 and up4.0.3 and up4.2 and up3.1 and up6.0 and up4.0.3 and up4.4 and up2.3 and up2.3.3 and up4.1 and up4.4 and up4.0 and up4.2 and up1.6 and upVaries with device4.0.3 and up4.2 and up5.0 and up2.3 and up4.0 and up2.3 and up4.0 and up4.1 and up4.4 and up4.1 and up4.1 and up5.0 and up4.1 and up4.0 and up2.3 and up6.0 and up4.1 and up4.1 and up4.1 and up2.2 and up4.0 and up4.0.3 and up4.1 and up4.1 and up5.0 and up4.0.3 and up4.4 and up4.4 and up3.0 and up4.0 and up2.3 and up4.2 and up4.1 and up4.4 and up4.0.3 and up3.0 and up4.2 and up5.0 and up4.1 and up4.1 and upVaries with device4.0.3 and up4.0 and up4.1 and up1.6 and up2.1 and up2.2 and up4.1 and up4.1 and up4.1 and upVaries with deviceVaries with device to numeric"
     ]
    }
   ],
   "source": [
    "#Question - Try calculating the average price of all apps having the Android version as \"4.1 and up\" \n",
    "average_price = inp1['Android Ver'].mean()\n"
   ]
  },
  {
   "cell_type": "code",
   "execution_count": null,
   "metadata": {},
   "outputs": [],
   "source": [
    "#Analyse the Price column to check the issue\n",
    "inp1.Price.value_counts()\n",
    "#print(inp1.Price.dtypes)"
   ]
  },
  {
   "cell_type": "code",
   "execution_count": 54,
   "metadata": {},
   "outputs": [
    {
     "name": "stderr",
     "output_type": "stream",
     "text": [
      "C:\\Users\\lenovo\\anaconda3\\lib\\site-packages\\pandas\\core\\generic.py:5494: SettingWithCopyWarning: \n",
      "A value is trying to be set on a copy of a slice from a DataFrame.\n",
      "Try using .loc[row_indexer,col_indexer] = value instead\n",
      "\n",
      "See the caveats in the documentation: https://pandas.pydata.org/pandas-docs/stable/user_guide/indexing.html#returning-a-view-versus-a-copy\n",
      "  self[name] = value\n"
     ]
    }
   ],
   "source": [
    "#Write the function to make the changes\n",
    "inp1.Price = inp1.Price.apply(lambda x: 0 if x==\"0\" else float(x[1:]))\n"
   ]
  },
  {
   "cell_type": "code",
   "execution_count": 55,
   "metadata": {},
   "outputs": [
    {
     "data": {
      "text/plain": [
       "dtype('float64')"
      ]
     },
     "execution_count": 55,
     "metadata": {},
     "output_type": "execute_result"
    }
   ],
   "source": [
    "#Verify the dtype of Price once again\n",
    "inp1.Price.dtypes"
   ]
  },
  {
   "cell_type": "code",
   "execution_count": 56,
   "metadata": {},
   "outputs": [
    {
     "data": {
      "text/plain": [
       "0.00     8719\n",
       "2.99      114\n",
       "0.99      107\n",
       "4.99       70\n",
       "1.99       59\n",
       "         ... \n",
       "1.61        1\n",
       "4.60        1\n",
       "2.90        1\n",
       "39.99       1\n",
       "14.00       1\n",
       "Name: Price, Length: 73, dtype: int64"
      ]
     },
     "execution_count": 56,
     "metadata": {},
     "output_type": "execute_result"
    }
   ],
   "source": [
    "inp1.Price.value_counts()"
   ]
  },
  {
   "cell_type": "code",
   "execution_count": 57,
   "metadata": {},
   "outputs": [
    {
     "data": {
      "text/plain": [
       "2         83\n",
       "3         78\n",
       "4         74\n",
       "5         74\n",
       "1         67\n",
       "          ..\n",
       "4706       1\n",
       "13880      1\n",
       "38961      1\n",
       "510392     1\n",
       "559186     1\n",
       "Name: Reviews, Length: 5992, dtype: int64"
      ]
     },
     "execution_count": 57,
     "metadata": {},
     "output_type": "execute_result"
    }
   ],
   "source": [
    "#Analyse the Reviews column\n",
    "inp1.Reviews.value_counts()"
   ]
  },
  {
   "cell_type": "code",
   "execution_count": 58,
   "metadata": {},
   "outputs": [
    {
     "data": {
      "text/plain": [
       "count    9.366000e+03\n",
       "mean     5.140498e+05\n",
       "std      3.144042e+06\n",
       "min      1.000000e+00\n",
       "25%      1.862500e+02\n",
       "50%      5.930500e+03\n",
       "75%      8.153275e+04\n",
       "max      7.815831e+07\n",
       "Name: Reviews, dtype: float64"
      ]
     },
     "execution_count": 58,
     "metadata": {},
     "output_type": "execute_result"
    }
   ],
   "source": [
    "#Change the dtype of this column\n",
    "inp1.Reviews = inp1.Reviews.astype(\"int32\")\n",
    "\n",
    "#Check the quantitative spread of this dataframe\n",
    "inp1.Reviews.describe()\n"
   ]
  },
  {
   "cell_type": "code",
   "execution_count": 59,
   "metadata": {},
   "outputs": [
    {
     "data": {
      "text/plain": [
       "0            10,000+\n",
       "1           500,000+\n",
       "2         5,000,000+\n",
       "3        50,000,000+\n",
       "4           100,000+\n",
       "            ...     \n",
       "10834           500+\n",
       "10836         5,000+\n",
       "10837           100+\n",
       "10839         1,000+\n",
       "10840    10,000,000+\n",
       "Name: Installs, Length: 9366, dtype: object"
      ]
     },
     "execution_count": 59,
     "metadata": {},
     "output_type": "execute_result"
    }
   ],
   "source": [
    "#Analyse the Installs Column\n",
    "inp1.Installs"
   ]
  },
  {
   "cell_type": "code",
   "execution_count": 60,
   "metadata": {},
   "outputs": [
    {
     "name": "stdout",
     "output_type": "stream",
     "text": [
      "0           159\n",
      "1           967\n",
      "2         87510\n",
      "3        215644\n",
      "4           967\n",
      "          ...  \n",
      "10834         7\n",
      "10836        38\n",
      "10837         4\n",
      "10839       114\n",
      "10840    398307\n",
      "Name: Installs, Length: 9366, dtype: int32\n"
     ]
    }
   ],
   "source": [
    "#Question Clean the Installs Column and find the approximate number of apps at the 50th percentile.\n",
    "inp1.Installs = inp1.Reviews.replace(',' , '') #removed ',' from the installs values \n",
    "print(inp1.Installs)\n",
    "inp1.Installs = inp1.Installs[0:-1]"
   ]
  },
  {
   "cell_type": "code",
   "execution_count": 61,
   "metadata": {},
   "outputs": [
    {
     "data": {
      "text/plain": [
       "0           159.0\n",
       "1           967.0\n",
       "2         87510.0\n",
       "3        215644.0\n",
       "4           967.0\n",
       "           ...   \n",
       "10834         7.0\n",
       "10836        38.0\n",
       "10837         4.0\n",
       "10839       114.0\n",
       "10840         NaN\n",
       "Name: Installs, Length: 9366, dtype: float64"
      ]
     },
     "execution_count": 61,
     "metadata": {},
     "output_type": "execute_result"
    }
   ],
   "source": [
    "inp1.Installs"
   ]
  },
  {
   "cell_type": "code",
   "execution_count": 62,
   "metadata": {},
   "outputs": [
    {
     "data": {
      "text/plain": [
       "count    9.365000e+03\n",
       "mean     5.140622e+05\n",
       "std      3.144210e+06\n",
       "min      1.000000e+00\n",
       "25%      1.860000e+02\n",
       "50%      5.928000e+03\n",
       "75%      8.150200e+04\n",
       "max      7.815831e+07\n",
       "Name: Installs, dtype: float64"
      ]
     },
     "execution_count": 62,
     "metadata": {},
     "output_type": "execute_result"
    }
   ],
   "source": [
    "inp1.Installs.describe()"
   ]
  },
  {
   "cell_type": "markdown",
   "metadata": {},
   "source": [
    "#### Sanity Checks"
   ]
  },
  {
   "cell_type": "markdown",
   "metadata": {},
   "source": [
    "The data that we have needs to make sense and therefore you can perform certain sanity checks on them to ensure they are factually correct as well. Some sanity checks can be:\n",
    "\n",
    "- Rating is between 1 and 5 for all the apps.\n",
    "- Number of Reviews is less than or equal to the number of Installs.\n",
    "- Free Apps shouldn’t have a price greater than 0.\n"
   ]
  },
  {
   "cell_type": "code",
   "execution_count": 63,
   "metadata": {},
   "outputs": [],
   "source": [
    "#Perform the sanity checks on the Reviews column\n",
    "inp1 = inp1[inp1.Reviews <= inp1.Installs]"
   ]
  },
  {
   "cell_type": "code",
   "execution_count": 64,
   "metadata": {},
   "outputs": [
    {
     "data": {
      "text/html": [
       "<div>\n",
       "<style scoped>\n",
       "    .dataframe tbody tr th:only-of-type {\n",
       "        vertical-align: middle;\n",
       "    }\n",
       "\n",
       "    .dataframe tbody tr th {\n",
       "        vertical-align: top;\n",
       "    }\n",
       "\n",
       "    .dataframe thead th {\n",
       "        text-align: right;\n",
       "    }\n",
       "</style>\n",
       "<table border=\"1\" class=\"dataframe\">\n",
       "  <thead>\n",
       "    <tr style=\"text-align: right;\">\n",
       "      <th></th>\n",
       "      <th>App</th>\n",
       "      <th>Category</th>\n",
       "      <th>Rating</th>\n",
       "      <th>Reviews</th>\n",
       "      <th>Size</th>\n",
       "      <th>Installs</th>\n",
       "      <th>Type</th>\n",
       "      <th>Price</th>\n",
       "      <th>Content Rating</th>\n",
       "      <th>Genres</th>\n",
       "      <th>Last Updated</th>\n",
       "      <th>Current Ver</th>\n",
       "      <th>Android Ver</th>\n",
       "    </tr>\n",
       "  </thead>\n",
       "  <tbody>\n",
       "  </tbody>\n",
       "</table>\n",
       "</div>"
      ],
      "text/plain": [
       "Empty DataFrame\n",
       "Columns: [App, Category, Rating, Reviews, Size, Installs, Type, Price, Content Rating, Genres, Last Updated, Current Ver, Android Ver]\n",
       "Index: []"
      ]
     },
     "execution_count": 64,
     "metadata": {},
     "output_type": "execute_result"
    }
   ],
   "source": [
    "#perform the sanity checks on prices of free apps \n",
    "inp1[(inp1.Type == \"Free\") & (inp1.Price > 0)]"
   ]
  },
  {
   "cell_type": "markdown",
   "metadata": {},
   "source": [
    "#### Outliers Analysis Using Boxplot"
   ]
  },
  {
   "cell_type": "markdown",
   "metadata": {},
   "source": [
    "Now you need to start identifying and removing extreme values or __outliers__ from our dataset. These values can tilt our analysis and often provide us with a biased perspective of the data available. This is where you’ll start utilising visualisation to achieve your tasks. And the best visualisation to use here would be the box plot. Boxplots are one of the best ways of analysing the spread of a numeric variable\n",
    "\n",
    "\n",
    "Using a box plot you can identify the outliers as follows:"
   ]
  },
  {
   "cell_type": "markdown",
   "metadata": {},
   "source": [
    "![BoxPlots to Identify Outliers](images\\Boxplot.png)"
   ]
  },
  {
   "cell_type": "markdown",
   "metadata": {},
   "source": [
    "- Outliers in data can arise due to genuine reasons or because of dubious entries. In the latter case, you should go ahead and remove such entries immediately. Use a boxplot to observe, analyse and remove them.\n",
    "- In the former case, you should determine whether or not removing them would add value to your analysis procedure."
   ]
  },
  {
   "cell_type": "markdown",
   "metadata": {},
   "source": [
    "- You can create a box plot directly from pandas dataframe or the matplotlib way as you learnt in the previous session. Check out their official documentation here:\n",
    "   - https://pandas.pydata.org/pandas-docs/stable/reference/api/pandas.DataFrame.boxplot.html\n",
    "   - https://matplotlib.org/3.1.1/api/_as_gen/matplotlib.pyplot.boxplot.html"
   ]
  },
  {
   "cell_type": "code",
   "execution_count": 65,
   "metadata": {},
   "outputs": [],
   "source": [
    "#import the plotting libraries\n",
    "import matplotlib.pyplot as plt\n",
    "%matplotlib inline"
   ]
  },
  {
   "cell_type": "code",
   "execution_count": 66,
   "metadata": {},
   "outputs": [
    {
     "data": {
      "image/png": "[encoded data removed]",
      "text/plain": [
       "<Figure size 432x288 with 1 Axes>"
      ]
     },
     "metadata": {
      "needs_background": "light"
     },
     "output_type": "display_data"
    }
   ],
   "source": [
    "#Create a box plot for the price column\n",
    "plt.boxplot(inp1.Price)\n",
    "plt.show()"
   ]
  },
  {
   "cell_type": "code",
   "execution_count": 67,
   "metadata": {},
   "outputs": [
    {
     "data": {
      "text/html": [
       "<div>\n",
       "<style scoped>\n",
       "    .dataframe tbody tr th:only-of-type {\n",
       "        vertical-align: middle;\n",
       "    }\n",
       "\n",
       "    .dataframe tbody tr th {\n",
       "        vertical-align: top;\n",
       "    }\n",
       "\n",
       "    .dataframe thead th {\n",
       "        text-align: right;\n",
       "    }\n",
       "</style>\n",
       "<table border=\"1\" class=\"dataframe\">\n",
       "  <thead>\n",
       "    <tr style=\"text-align: right;\">\n",
       "      <th></th>\n",
       "      <th>App</th>\n",
       "      <th>Category</th>\n",
       "      <th>Rating</th>\n",
       "      <th>Reviews</th>\n",
       "      <th>Size</th>\n",
       "      <th>Installs</th>\n",
       "      <th>Type</th>\n",
       "      <th>Price</th>\n",
       "      <th>Content Rating</th>\n",
       "      <th>Genres</th>\n",
       "      <th>Last Updated</th>\n",
       "      <th>Current Ver</th>\n",
       "      <th>Android Ver</th>\n",
       "    </tr>\n",
       "  </thead>\n",
       "  <tbody>\n",
       "    <tr>\n",
       "      <th>4197</th>\n",
       "      <td>most expensive app (H)</td>\n",
       "      <td>FAMILY</td>\n",
       "      <td>4.3</td>\n",
       "      <td>6</td>\n",
       "      <td>1500.0</td>\n",
       "      <td>6.0</td>\n",
       "      <td>Paid</td>\n",
       "      <td>399.99</td>\n",
       "      <td>Everyone</td>\n",
       "      <td>Entertainment</td>\n",
       "      <td>July 16, 2018</td>\n",
       "      <td>1.0</td>\n",
       "      <td>7.0 and up</td>\n",
       "    </tr>\n",
       "    <tr>\n",
       "      <th>4362</th>\n",
       "      <td>💎 I'm rich</td>\n",
       "      <td>LIFESTYLE</td>\n",
       "      <td>3.8</td>\n",
       "      <td>718</td>\n",
       "      <td>26000.0</td>\n",
       "      <td>718.0</td>\n",
       "      <td>Paid</td>\n",
       "      <td>399.99</td>\n",
       "      <td>Everyone</td>\n",
       "      <td>Lifestyle</td>\n",
       "      <td>March 11, 2018</td>\n",
       "      <td>1.0.0</td>\n",
       "      <td>4.4 and up</td>\n",
       "    </tr>\n",
       "    <tr>\n",
       "      <th>4367</th>\n",
       "      <td>I'm Rich - Trump Edition</td>\n",
       "      <td>LIFESTYLE</td>\n",
       "      <td>3.6</td>\n",
       "      <td>275</td>\n",
       "      <td>7300.0</td>\n",
       "      <td>275.0</td>\n",
       "      <td>Paid</td>\n",
       "      <td>400.00</td>\n",
       "      <td>Everyone</td>\n",
       "      <td>Lifestyle</td>\n",
       "      <td>May 3, 2018</td>\n",
       "      <td>1.0.1</td>\n",
       "      <td>4.1 and up</td>\n",
       "    </tr>\n",
       "    <tr>\n",
       "      <th>5351</th>\n",
       "      <td>I am rich</td>\n",
       "      <td>LIFESTYLE</td>\n",
       "      <td>3.8</td>\n",
       "      <td>3547</td>\n",
       "      <td>1800.0</td>\n",
       "      <td>3547.0</td>\n",
       "      <td>Paid</td>\n",
       "      <td>399.99</td>\n",
       "      <td>Everyone</td>\n",
       "      <td>Lifestyle</td>\n",
       "      <td>January 12, 2018</td>\n",
       "      <td>2.0</td>\n",
       "      <td>4.0.3 and up</td>\n",
       "    </tr>\n",
       "    <tr>\n",
       "      <th>5354</th>\n",
       "      <td>I am Rich Plus</td>\n",
       "      <td>FAMILY</td>\n",
       "      <td>4.0</td>\n",
       "      <td>856</td>\n",
       "      <td>8700.0</td>\n",
       "      <td>856.0</td>\n",
       "      <td>Paid</td>\n",
       "      <td>399.99</td>\n",
       "      <td>Everyone</td>\n",
       "      <td>Entertainment</td>\n",
       "      <td>May 19, 2018</td>\n",
       "      <td>3.0</td>\n",
       "      <td>4.4 and up</td>\n",
       "    </tr>\n",
       "    <tr>\n",
       "      <th>5355</th>\n",
       "      <td>I am rich VIP</td>\n",
       "      <td>LIFESTYLE</td>\n",
       "      <td>3.8</td>\n",
       "      <td>411</td>\n",
       "      <td>2600.0</td>\n",
       "      <td>411.0</td>\n",
       "      <td>Paid</td>\n",
       "      <td>299.99</td>\n",
       "      <td>Everyone</td>\n",
       "      <td>Lifestyle</td>\n",
       "      <td>July 21, 2018</td>\n",
       "      <td>1.1.1</td>\n",
       "      <td>4.3 and up</td>\n",
       "    </tr>\n",
       "    <tr>\n",
       "      <th>5356</th>\n",
       "      <td>I Am Rich Premium</td>\n",
       "      <td>FINANCE</td>\n",
       "      <td>4.1</td>\n",
       "      <td>1867</td>\n",
       "      <td>4700.0</td>\n",
       "      <td>1867.0</td>\n",
       "      <td>Paid</td>\n",
       "      <td>399.99</td>\n",
       "      <td>Everyone</td>\n",
       "      <td>Finance</td>\n",
       "      <td>November 12, 2017</td>\n",
       "      <td>1.6</td>\n",
       "      <td>4.0 and up</td>\n",
       "    </tr>\n",
       "    <tr>\n",
       "      <th>5357</th>\n",
       "      <td>I am extremely Rich</td>\n",
       "      <td>LIFESTYLE</td>\n",
       "      <td>2.9</td>\n",
       "      <td>41</td>\n",
       "      <td>2900.0</td>\n",
       "      <td>41.0</td>\n",
       "      <td>Paid</td>\n",
       "      <td>379.99</td>\n",
       "      <td>Everyone</td>\n",
       "      <td>Lifestyle</td>\n",
       "      <td>July 1, 2018</td>\n",
       "      <td>1.0</td>\n",
       "      <td>4.0 and up</td>\n",
       "    </tr>\n",
       "    <tr>\n",
       "      <th>5358</th>\n",
       "      <td>I am Rich!</td>\n",
       "      <td>FINANCE</td>\n",
       "      <td>3.8</td>\n",
       "      <td>93</td>\n",
       "      <td>22000.0</td>\n",
       "      <td>93.0</td>\n",
       "      <td>Paid</td>\n",
       "      <td>399.99</td>\n",
       "      <td>Everyone</td>\n",
       "      <td>Finance</td>\n",
       "      <td>December 11, 2017</td>\n",
       "      <td>1.0</td>\n",
       "      <td>4.1 and up</td>\n",
       "    </tr>\n",
       "    <tr>\n",
       "      <th>5359</th>\n",
       "      <td>I am rich(premium)</td>\n",
       "      <td>FINANCE</td>\n",
       "      <td>3.5</td>\n",
       "      <td>472</td>\n",
       "      <td>965.0</td>\n",
       "      <td>472.0</td>\n",
       "      <td>Paid</td>\n",
       "      <td>399.99</td>\n",
       "      <td>Everyone</td>\n",
       "      <td>Finance</td>\n",
       "      <td>May 1, 2017</td>\n",
       "      <td>3.4</td>\n",
       "      <td>4.4 and up</td>\n",
       "    </tr>\n",
       "    <tr>\n",
       "      <th>5362</th>\n",
       "      <td>I Am Rich Pro</td>\n",
       "      <td>FAMILY</td>\n",
       "      <td>4.4</td>\n",
       "      <td>201</td>\n",
       "      <td>2700.0</td>\n",
       "      <td>201.0</td>\n",
       "      <td>Paid</td>\n",
       "      <td>399.99</td>\n",
       "      <td>Everyone</td>\n",
       "      <td>Entertainment</td>\n",
       "      <td>May 30, 2017</td>\n",
       "      <td>1.54</td>\n",
       "      <td>1.6 and up</td>\n",
       "    </tr>\n",
       "    <tr>\n",
       "      <th>5364</th>\n",
       "      <td>I am rich (Most expensive app)</td>\n",
       "      <td>FINANCE</td>\n",
       "      <td>4.1</td>\n",
       "      <td>129</td>\n",
       "      <td>2700.0</td>\n",
       "      <td>129.0</td>\n",
       "      <td>Paid</td>\n",
       "      <td>399.99</td>\n",
       "      <td>Teen</td>\n",
       "      <td>Finance</td>\n",
       "      <td>December 6, 2017</td>\n",
       "      <td>2</td>\n",
       "      <td>4.0.3 and up</td>\n",
       "    </tr>\n",
       "    <tr>\n",
       "      <th>5366</th>\n",
       "      <td>I Am Rich</td>\n",
       "      <td>FAMILY</td>\n",
       "      <td>3.6</td>\n",
       "      <td>217</td>\n",
       "      <td>4900.0</td>\n",
       "      <td>217.0</td>\n",
       "      <td>Paid</td>\n",
       "      <td>389.99</td>\n",
       "      <td>Everyone</td>\n",
       "      <td>Entertainment</td>\n",
       "      <td>June 22, 2018</td>\n",
       "      <td>1.5</td>\n",
       "      <td>4.2 and up</td>\n",
       "    </tr>\n",
       "    <tr>\n",
       "      <th>5369</th>\n",
       "      <td>I am Rich</td>\n",
       "      <td>FINANCE</td>\n",
       "      <td>4.3</td>\n",
       "      <td>180</td>\n",
       "      <td>3800.0</td>\n",
       "      <td>180.0</td>\n",
       "      <td>Paid</td>\n",
       "      <td>399.99</td>\n",
       "      <td>Everyone</td>\n",
       "      <td>Finance</td>\n",
       "      <td>March 22, 2018</td>\n",
       "      <td>1.0</td>\n",
       "      <td>4.2 and up</td>\n",
       "    </tr>\n",
       "    <tr>\n",
       "      <th>5373</th>\n",
       "      <td>I AM RICH PRO PLUS</td>\n",
       "      <td>FINANCE</td>\n",
       "      <td>4.0</td>\n",
       "      <td>36</td>\n",
       "      <td>41000.0</td>\n",
       "      <td>36.0</td>\n",
       "      <td>Paid</td>\n",
       "      <td>399.99</td>\n",
       "      <td>Everyone</td>\n",
       "      <td>Finance</td>\n",
       "      <td>June 25, 2018</td>\n",
       "      <td>1.0.2</td>\n",
       "      <td>4.1 and up</td>\n",
       "    </tr>\n",
       "  </tbody>\n",
       "</table>\n",
       "</div>"
      ],
      "text/plain": [
       "                                 App   Category  Rating  Reviews     Size  \\\n",
       "4197          most expensive app (H)     FAMILY     4.3        6   1500.0   \n",
       "4362                      💎 I'm rich  LIFESTYLE     3.8      718  26000.0   \n",
       "4367        I'm Rich - Trump Edition  LIFESTYLE     3.6      275   7300.0   \n",
       "5351                       I am rich  LIFESTYLE     3.8     3547   1800.0   \n",
       "5354                  I am Rich Plus     FAMILY     4.0      856   8700.0   \n",
       "5355                   I am rich VIP  LIFESTYLE     3.8      411   2600.0   \n",
       "5356               I Am Rich Premium    FINANCE     4.1     1867   4700.0   \n",
       "5357             I am extremely Rich  LIFESTYLE     2.9       41   2900.0   \n",
       "5358                      I am Rich!    FINANCE     3.8       93  22000.0   \n",
       "5359              I am rich(premium)    FINANCE     3.5      472    965.0   \n",
       "5362                   I Am Rich Pro     FAMILY     4.4      201   2700.0   \n",
       "5364  I am rich (Most expensive app)    FINANCE     4.1      129   2700.0   \n",
       "5366                       I Am Rich     FAMILY     3.6      217   4900.0   \n",
       "5369                       I am Rich    FINANCE     4.3      180   3800.0   \n",
       "5373              I AM RICH PRO PLUS    FINANCE     4.0       36  41000.0   \n",
       "\n",
       "      Installs  Type   Price Content Rating         Genres       Last Updated  \\\n",
       "4197       6.0  Paid  399.99       Everyone  Entertainment      July 16, 2018   \n",
       "4362     718.0  Paid  399.99       Everyone      Lifestyle     March 11, 2018   \n",
       "4367     275.0  Paid  400.00       Everyone      Lifestyle        May 3, 2018   \n",
       "5351    3547.0  Paid  399.99       Everyone      Lifestyle   January 12, 2018   \n",
       "5354     856.0  Paid  399.99       Everyone  Entertainment       May 19, 2018   \n",
       "5355     411.0  Paid  299.99       Everyone      Lifestyle      July 21, 2018   \n",
       "5356    1867.0  Paid  399.99       Everyone        Finance  November 12, 2017   \n",
       "5357      41.0  Paid  379.99       Everyone      Lifestyle       July 1, 2018   \n",
       "5358      93.0  Paid  399.99       Everyone        Finance  December 11, 2017   \n",
       "5359     472.0  Paid  399.99       Everyone        Finance        May 1, 2017   \n",
       "5362     201.0  Paid  399.99       Everyone  Entertainment       May 30, 2017   \n",
       "5364     129.0  Paid  399.99           Teen        Finance   December 6, 2017   \n",
       "5366     217.0  Paid  389.99       Everyone  Entertainment      June 22, 2018   \n",
       "5369     180.0  Paid  399.99       Everyone        Finance     March 22, 2018   \n",
       "5373      36.0  Paid  399.99       Everyone        Finance      June 25, 2018   \n",
       "\n",
       "     Current Ver   Android Ver  \n",
       "4197         1.0    7.0 and up  \n",
       "4362       1.0.0    4.4 and up  \n",
       "4367       1.0.1    4.1 and up  \n",
       "5351         2.0  4.0.3 and up  \n",
       "5354         3.0    4.4 and up  \n",
       "5355       1.1.1    4.3 and up  \n",
       "5356         1.6    4.0 and up  \n",
       "5357         1.0    4.0 and up  \n",
       "5358         1.0    4.1 and up  \n",
       "5359         3.4    4.4 and up  \n",
       "5362        1.54    1.6 and up  \n",
       "5364           2  4.0.3 and up  \n",
       "5366         1.5    4.2 and up  \n",
       "5369         1.0    4.2 and up  \n",
       "5373       1.0.2    4.1 and up  "
      ]
     },
     "execution_count": 67,
     "metadata": {},
     "output_type": "execute_result"
    }
   ],
   "source": [
    "#Check the apps with price more than 200\n",
    "inp1[inp1.Price > 200]"
   ]
  },
  {
   "cell_type": "code",
   "execution_count": 68,
   "metadata": {},
   "outputs": [],
   "source": [
    "#Clean the Price column\n",
    "inp1 = inp1[inp1.Price < 200]"
   ]
  },
  {
   "cell_type": "code",
   "execution_count": 69,
   "metadata": {},
   "outputs": [
    {
     "data": {
      "text/plain": [
       "<AxesSubplot:>"
      ]
     },
     "execution_count": 69,
     "metadata": {},
     "output_type": "execute_result"
    },
    {
     "data": {
      "image/png": "[encoded data removed]",
      "text/plain": [
       "<Figure size 432x288 with 1 Axes>"
      ]
     },
     "metadata": {
      "needs_background": "light"
     },
     "output_type": "display_data"
    }
   ],
   "source": [
    "#Create a box plot for paid apps\n",
    "inp1[inp1.Price > 0].Price.plot.box()\n"
   ]
  },
  {
   "cell_type": "code",
   "execution_count": 70,
   "metadata": {},
   "outputs": [
    {
     "data": {
      "text/html": [
       "<div>\n",
       "<style scoped>\n",
       "    .dataframe tbody tr th:only-of-type {\n",
       "        vertical-align: middle;\n",
       "    }\n",
       "\n",
       "    .dataframe tbody tr th {\n",
       "        vertical-align: top;\n",
       "    }\n",
       "\n",
       "    .dataframe thead th {\n",
       "        text-align: right;\n",
       "    }\n",
       "</style>\n",
       "<table border=\"1\" class=\"dataframe\">\n",
       "  <thead>\n",
       "    <tr style=\"text-align: right;\">\n",
       "      <th></th>\n",
       "      <th>App</th>\n",
       "      <th>Category</th>\n",
       "      <th>Rating</th>\n",
       "      <th>Reviews</th>\n",
       "      <th>Size</th>\n",
       "      <th>Installs</th>\n",
       "      <th>Type</th>\n",
       "      <th>Price</th>\n",
       "      <th>Content Rating</th>\n",
       "      <th>Genres</th>\n",
       "      <th>Last Updated</th>\n",
       "      <th>Current Ver</th>\n",
       "      <th>Android Ver</th>\n",
       "    </tr>\n",
       "  </thead>\n",
       "  <tbody>\n",
       "    <tr>\n",
       "      <th>2253</th>\n",
       "      <td>Vargo Anesthesia Mega App</td>\n",
       "      <td>MEDICAL</td>\n",
       "      <td>4.6</td>\n",
       "      <td>92</td>\n",
       "      <td>32000.0</td>\n",
       "      <td>92.0</td>\n",
       "      <td>Paid</td>\n",
       "      <td>79.99</td>\n",
       "      <td>Everyone</td>\n",
       "      <td>Medical</td>\n",
       "      <td>June 18, 2018</td>\n",
       "      <td>19.0</td>\n",
       "      <td>4.0.3 and up</td>\n",
       "    </tr>\n",
       "    <tr>\n",
       "      <th>2301</th>\n",
       "      <td>A Manual of Acupuncture</td>\n",
       "      <td>MEDICAL</td>\n",
       "      <td>3.5</td>\n",
       "      <td>214</td>\n",
       "      <td>68000.0</td>\n",
       "      <td>214.0</td>\n",
       "      <td>Paid</td>\n",
       "      <td>33.99</td>\n",
       "      <td>Everyone</td>\n",
       "      <td>Medical</td>\n",
       "      <td>October 2, 2017</td>\n",
       "      <td>2.1.35</td>\n",
       "      <td>4.0 and up</td>\n",
       "    </tr>\n",
       "    <tr>\n",
       "      <th>2365</th>\n",
       "      <td>Vargo Anesthesia Mega App</td>\n",
       "      <td>MEDICAL</td>\n",
       "      <td>4.6</td>\n",
       "      <td>92</td>\n",
       "      <td>32000.0</td>\n",
       "      <td>92.0</td>\n",
       "      <td>Paid</td>\n",
       "      <td>79.99</td>\n",
       "      <td>Everyone</td>\n",
       "      <td>Medical</td>\n",
       "      <td>June 18, 2018</td>\n",
       "      <td>19.0</td>\n",
       "      <td>4.0.3 and up</td>\n",
       "    </tr>\n",
       "    <tr>\n",
       "      <th>2402</th>\n",
       "      <td>A Manual of Acupuncture</td>\n",
       "      <td>MEDICAL</td>\n",
       "      <td>3.5</td>\n",
       "      <td>214</td>\n",
       "      <td>68000.0</td>\n",
       "      <td>214.0</td>\n",
       "      <td>Paid</td>\n",
       "      <td>33.99</td>\n",
       "      <td>Everyone</td>\n",
       "      <td>Medical</td>\n",
       "      <td>October 2, 2017</td>\n",
       "      <td>2.1.35</td>\n",
       "      <td>4.0 and up</td>\n",
       "    </tr>\n",
       "    <tr>\n",
       "      <th>2414</th>\n",
       "      <td>LTC AS Legal</td>\n",
       "      <td>MEDICAL</td>\n",
       "      <td>4.0</td>\n",
       "      <td>6</td>\n",
       "      <td>1300.0</td>\n",
       "      <td>6.0</td>\n",
       "      <td>Paid</td>\n",
       "      <td>39.99</td>\n",
       "      <td>Everyone</td>\n",
       "      <td>Medical</td>\n",
       "      <td>April 4, 2018</td>\n",
       "      <td>3.0.1</td>\n",
       "      <td>4.1 and up</td>\n",
       "    </tr>\n",
       "    <tr>\n",
       "      <th>5360</th>\n",
       "      <td>I am Rich Person</td>\n",
       "      <td>LIFESTYLE</td>\n",
       "      <td>4.2</td>\n",
       "      <td>134</td>\n",
       "      <td>1800.0</td>\n",
       "      <td>134.0</td>\n",
       "      <td>Paid</td>\n",
       "      <td>37.99</td>\n",
       "      <td>Everyone</td>\n",
       "      <td>Lifestyle</td>\n",
       "      <td>July 18, 2017</td>\n",
       "      <td>1.0</td>\n",
       "      <td>4.0.3 and up</td>\n",
       "    </tr>\n",
       "  </tbody>\n",
       "</table>\n",
       "</div>"
      ],
      "text/plain": [
       "                            App   Category  Rating  Reviews     Size  \\\n",
       "2253  Vargo Anesthesia Mega App    MEDICAL     4.6       92  32000.0   \n",
       "2301    A Manual of Acupuncture    MEDICAL     3.5      214  68000.0   \n",
       "2365  Vargo Anesthesia Mega App    MEDICAL     4.6       92  32000.0   \n",
       "2402    A Manual of Acupuncture    MEDICAL     3.5      214  68000.0   \n",
       "2414               LTC AS Legal    MEDICAL     4.0        6   1300.0   \n",
       "5360           I am Rich Person  LIFESTYLE     4.2      134   1800.0   \n",
       "\n",
       "      Installs  Type  Price Content Rating     Genres     Last Updated  \\\n",
       "2253      92.0  Paid  79.99       Everyone    Medical    June 18, 2018   \n",
       "2301     214.0  Paid  33.99       Everyone    Medical  October 2, 2017   \n",
       "2365      92.0  Paid  79.99       Everyone    Medical    June 18, 2018   \n",
       "2402     214.0  Paid  33.99       Everyone    Medical  October 2, 2017   \n",
       "2414       6.0  Paid  39.99       Everyone    Medical    April 4, 2018   \n",
       "5360     134.0  Paid  37.99       Everyone  Lifestyle    July 18, 2017   \n",
       "\n",
       "     Current Ver   Android Ver  \n",
       "2253        19.0  4.0.3 and up  \n",
       "2301      2.1.35    4.0 and up  \n",
       "2365        19.0  4.0.3 and up  \n",
       "2402      2.1.35    4.0 and up  \n",
       "2414       3.0.1    4.1 and up  \n",
       "5360         1.0  4.0.3 and up  "
      ]
     },
     "execution_count": 70,
     "metadata": {},
     "output_type": "execute_result"
    }
   ],
   "source": [
    "#Check the apps with price more than 30\n",
    "inp1[inp1.Price > 30]"
   ]
  },
  {
   "cell_type": "code",
   "execution_count": 71,
   "metadata": {},
   "outputs": [
    {
     "data": {
      "text/plain": [
       "(9344, 13)"
      ]
     },
     "execution_count": 71,
     "metadata": {},
     "output_type": "execute_result"
    }
   ],
   "source": [
    "#Clean the Price column again\n",
    "inp1 = inp1[inp1.Price <=30]\n",
    "inp1.shape"
   ]
  },
  {
   "cell_type": "markdown",
   "metadata": {},
   "source": [
    "### Histograms\n",
    "\n",
    "Histograms can also be used in conjuction with boxplots for data cleaning and data handling purposes. You can use it to check the spread of a numeric variable. Histograms generally work by bucketing the entire range of values that a particular variable takes to specific __bins__. After that, it uses vertical bars to denote the total number of records in a specific bin, which is also known as its __frequency__.\n"
   ]
  },
  {
   "cell_type": "markdown",
   "metadata": {},
   "source": [
    "![Histogram](images\\Histogram.png)"
   ]
  },
  {
   "cell_type": "markdown",
   "metadata": {},
   "source": [
    "You can adjust the number of bins to improve its granularity"
   ]
  },
  {
   "cell_type": "markdown",
   "metadata": {},
   "source": [
    "![Bins change](images\\Granular.png)"
   ]
  },
  {
   "cell_type": "markdown",
   "metadata": {},
   "source": [
    "You'll be using plt.hist() to plot a histogram. Check out its official documentation:https://matplotlib.org/3.1.1/api/_as_gen/matplotlib.pyplot.hist.html"
   ]
  },
  {
   "cell_type": "code",
   "execution_count": 72,
   "metadata": {},
   "outputs": [],
   "source": [
    "?plt.hist"
   ]
  },
  {
   "cell_type": "code",
   "execution_count": 73,
   "metadata": {},
   "outputs": [
    {
     "data": {
      "image/png": "[encoded data removed]",
      "text/plain": [
       "<Figure size 432x288 with 1 Axes>"
      ]
     },
     "metadata": {
      "needs_background": "light"
     },
     "output_type": "display_data"
    }
   ],
   "source": [
    "#Create a histogram of the Reviews\n",
    "plt.hist(inp1.Reviews)\n",
    "plt.show()"
   ]
  },
  {
   "cell_type": "code",
   "execution_count": 74,
   "metadata": {},
   "outputs": [
    {
     "data": {
      "image/png": "[encoded data removed]",
      "text/plain": [
       "<Figure size 432x288 with 1 Axes>"
      ]
     },
     "metadata": {
      "needs_background": "light"
     },
     "output_type": "display_data"
    }
   ],
   "source": [
    "#Create a boxplot of the Reviews column\n",
    "plt.boxplot(inp1.Reviews)\n",
    "plt.show()"
   ]
  },
  {
   "cell_type": "code",
   "execution_count": 75,
   "metadata": {},
   "outputs": [
    {
     "data": {
      "text/html": [
       "<div>\n",
       "<style scoped>\n",
       "    .dataframe tbody tr th:only-of-type {\n",
       "        vertical-align: middle;\n",
       "    }\n",
       "\n",
       "    .dataframe tbody tr th {\n",
       "        vertical-align: top;\n",
       "    }\n",
       "\n",
       "    .dataframe thead th {\n",
       "        text-align: right;\n",
       "    }\n",
       "</style>\n",
       "<table border=\"1\" class=\"dataframe\">\n",
       "  <thead>\n",
       "    <tr style=\"text-align: right;\">\n",
       "      <th></th>\n",
       "      <th>App</th>\n",
       "      <th>Category</th>\n",
       "      <th>Rating</th>\n",
       "      <th>Reviews</th>\n",
       "      <th>Size</th>\n",
       "      <th>Installs</th>\n",
       "      <th>Type</th>\n",
       "      <th>Price</th>\n",
       "      <th>Content Rating</th>\n",
       "      <th>Genres</th>\n",
       "      <th>Last Updated</th>\n",
       "      <th>Current Ver</th>\n",
       "      <th>Android Ver</th>\n",
       "    </tr>\n",
       "  </thead>\n",
       "  <tbody>\n",
       "    <tr>\n",
       "      <th>335</th>\n",
       "      <td>Messenger – Text and Video Chat for Free</td>\n",
       "      <td>COMMUNICATION</td>\n",
       "      <td>4.0</td>\n",
       "      <td>56642847</td>\n",
       "      <td>21516.529524</td>\n",
       "      <td>56642847.0</td>\n",
       "      <td>Free</td>\n",
       "      <td>0.0</td>\n",
       "      <td>Everyone</td>\n",
       "      <td>Communication</td>\n",
       "      <td>August 1, 2018</td>\n",
       "      <td>Varies with device</td>\n",
       "      <td>Varies with device</td>\n",
       "    </tr>\n",
       "    <tr>\n",
       "      <th>336</th>\n",
       "      <td>WhatsApp Messenger</td>\n",
       "      <td>COMMUNICATION</td>\n",
       "      <td>4.4</td>\n",
       "      <td>69119316</td>\n",
       "      <td>21516.529524</td>\n",
       "      <td>69119316.0</td>\n",
       "      <td>Free</td>\n",
       "      <td>0.0</td>\n",
       "      <td>Everyone</td>\n",
       "      <td>Communication</td>\n",
       "      <td>August 3, 2018</td>\n",
       "      <td>Varies with device</td>\n",
       "      <td>Varies with device</td>\n",
       "    </tr>\n",
       "    <tr>\n",
       "      <th>342</th>\n",
       "      <td>Viber Messenger</td>\n",
       "      <td>COMMUNICATION</td>\n",
       "      <td>4.3</td>\n",
       "      <td>11334799</td>\n",
       "      <td>21516.529524</td>\n",
       "      <td>11334799.0</td>\n",
       "      <td>Free</td>\n",
       "      <td>0.0</td>\n",
       "      <td>Everyone</td>\n",
       "      <td>Communication</td>\n",
       "      <td>July 18, 2018</td>\n",
       "      <td>Varies with device</td>\n",
       "      <td>Varies with device</td>\n",
       "    </tr>\n",
       "    <tr>\n",
       "      <th>378</th>\n",
       "      <td>UC Browser - Fast Download Private &amp; Secure</td>\n",
       "      <td>COMMUNICATION</td>\n",
       "      <td>4.5</td>\n",
       "      <td>17712922</td>\n",
       "      <td>40000.000000</td>\n",
       "      <td>17712922.0</td>\n",
       "      <td>Free</td>\n",
       "      <td>0.0</td>\n",
       "      <td>Teen</td>\n",
       "      <td>Communication</td>\n",
       "      <td>August 2, 2018</td>\n",
       "      <td>12.8.5.1121</td>\n",
       "      <td>4.0 and up</td>\n",
       "    </tr>\n",
       "    <tr>\n",
       "      <th>381</th>\n",
       "      <td>WhatsApp Messenger</td>\n",
       "      <td>COMMUNICATION</td>\n",
       "      <td>4.4</td>\n",
       "      <td>69119316</td>\n",
       "      <td>21516.529524</td>\n",
       "      <td>69119316.0</td>\n",
       "      <td>Free</td>\n",
       "      <td>0.0</td>\n",
       "      <td>Everyone</td>\n",
       "      <td>Communication</td>\n",
       "      <td>August 3, 2018</td>\n",
       "      <td>Varies with device</td>\n",
       "      <td>Varies with device</td>\n",
       "    </tr>\n",
       "    <tr>\n",
       "      <th>...</th>\n",
       "      <td>...</td>\n",
       "      <td>...</td>\n",
       "      <td>...</td>\n",
       "      <td>...</td>\n",
       "      <td>...</td>\n",
       "      <td>...</td>\n",
       "      <td>...</td>\n",
       "      <td>...</td>\n",
       "      <td>...</td>\n",
       "      <td>...</td>\n",
       "      <td>...</td>\n",
       "      <td>...</td>\n",
       "      <td>...</td>\n",
       "    </tr>\n",
       "    <tr>\n",
       "      <th>6449</th>\n",
       "      <td>BBM - Free Calls &amp; Messages</td>\n",
       "      <td>COMMUNICATION</td>\n",
       "      <td>4.3</td>\n",
       "      <td>12843436</td>\n",
       "      <td>21516.529524</td>\n",
       "      <td>12843436.0</td>\n",
       "      <td>Free</td>\n",
       "      <td>0.0</td>\n",
       "      <td>Everyone</td>\n",
       "      <td>Communication</td>\n",
       "      <td>August 2, 2018</td>\n",
       "      <td>Varies with device</td>\n",
       "      <td>4.0.3 and up</td>\n",
       "    </tr>\n",
       "    <tr>\n",
       "      <th>7536</th>\n",
       "      <td>Security Master - Antivirus, VPN, AppLock, Boo...</td>\n",
       "      <td>TOOLS</td>\n",
       "      <td>4.7</td>\n",
       "      <td>24900999</td>\n",
       "      <td>21516.529524</td>\n",
       "      <td>24900999.0</td>\n",
       "      <td>Free</td>\n",
       "      <td>0.0</td>\n",
       "      <td>Everyone</td>\n",
       "      <td>Tools</td>\n",
       "      <td>August 4, 2018</td>\n",
       "      <td>4.6.6</td>\n",
       "      <td>Varies with device</td>\n",
       "    </tr>\n",
       "    <tr>\n",
       "      <th>7937</th>\n",
       "      <td>Shadow Fight 2</td>\n",
       "      <td>GAME</td>\n",
       "      <td>4.6</td>\n",
       "      <td>10981850</td>\n",
       "      <td>88000.000000</td>\n",
       "      <td>10981850.0</td>\n",
       "      <td>Free</td>\n",
       "      <td>0.0</td>\n",
       "      <td>Everyone 10+</td>\n",
       "      <td>Action</td>\n",
       "      <td>July 2, 2018</td>\n",
       "      <td>1.9.38</td>\n",
       "      <td>3.0 and up</td>\n",
       "    </tr>\n",
       "    <tr>\n",
       "      <th>8894</th>\n",
       "      <td>Cache Cleaner-DU Speed Booster (booster &amp; clea...</td>\n",
       "      <td>TOOLS</td>\n",
       "      <td>4.5</td>\n",
       "      <td>12759815</td>\n",
       "      <td>15000.000000</td>\n",
       "      <td>12759815.0</td>\n",
       "      <td>Free</td>\n",
       "      <td>0.0</td>\n",
       "      <td>Everyone</td>\n",
       "      <td>Tools</td>\n",
       "      <td>July 25, 2018</td>\n",
       "      <td>3.1.2</td>\n",
       "      <td>4.0 and up</td>\n",
       "    </tr>\n",
       "    <tr>\n",
       "      <th>8896</th>\n",
       "      <td>DU Battery Saver - Battery Charger &amp; Battery Life</td>\n",
       "      <td>TOOLS</td>\n",
       "      <td>4.5</td>\n",
       "      <td>13479633</td>\n",
       "      <td>14000.000000</td>\n",
       "      <td>13479633.0</td>\n",
       "      <td>Free</td>\n",
       "      <td>0.0</td>\n",
       "      <td>Everyone</td>\n",
       "      <td>Tools</td>\n",
       "      <td>June 5, 2018</td>\n",
       "      <td>4.8.7.8</td>\n",
       "      <td>4.0 and up</td>\n",
       "    </tr>\n",
       "  </tbody>\n",
       "</table>\n",
       "<p>92 rows × 13 columns</p>\n",
       "</div>"
      ],
      "text/plain": [
       "                                                    App       Category  \\\n",
       "335            Messenger – Text and Video Chat for Free  COMMUNICATION   \n",
       "336                                  WhatsApp Messenger  COMMUNICATION   \n",
       "342                                     Viber Messenger  COMMUNICATION   \n",
       "378         UC Browser - Fast Download Private & Secure  COMMUNICATION   \n",
       "381                                  WhatsApp Messenger  COMMUNICATION   \n",
       "...                                                 ...            ...   \n",
       "6449                        BBM - Free Calls & Messages  COMMUNICATION   \n",
       "7536  Security Master - Antivirus, VPN, AppLock, Boo...          TOOLS   \n",
       "7937                                     Shadow Fight 2           GAME   \n",
       "8894  Cache Cleaner-DU Speed Booster (booster & clea...          TOOLS   \n",
       "8896  DU Battery Saver - Battery Charger & Battery Life          TOOLS   \n",
       "\n",
       "      Rating   Reviews          Size    Installs  Type  Price Content Rating  \\\n",
       "335      4.0  56642847  21516.529524  56642847.0  Free    0.0       Everyone   \n",
       "336      4.4  69119316  21516.529524  69119316.0  Free    0.0       Everyone   \n",
       "342      4.3  11334799  21516.529524  11334799.0  Free    0.0       Everyone   \n",
       "378      4.5  17712922  40000.000000  17712922.0  Free    0.0           Teen   \n",
       "381      4.4  69119316  21516.529524  69119316.0  Free    0.0       Everyone   \n",
       "...      ...       ...           ...         ...   ...    ...            ...   \n",
       "6449     4.3  12843436  21516.529524  12843436.0  Free    0.0       Everyone   \n",
       "7536     4.7  24900999  21516.529524  24900999.0  Free    0.0       Everyone   \n",
       "7937     4.6  10981850  88000.000000  10981850.0  Free    0.0   Everyone 10+   \n",
       "8894     4.5  12759815  15000.000000  12759815.0  Free    0.0       Everyone   \n",
       "8896     4.5  13479633  14000.000000  13479633.0  Free    0.0       Everyone   \n",
       "\n",
       "             Genres    Last Updated         Current Ver         Android Ver  \n",
       "335   Communication  August 1, 2018  Varies with device  Varies with device  \n",
       "336   Communication  August 3, 2018  Varies with device  Varies with device  \n",
       "342   Communication   July 18, 2018  Varies with device  Varies with device  \n",
       "378   Communication  August 2, 2018         12.8.5.1121          4.0 and up  \n",
       "381   Communication  August 3, 2018  Varies with device  Varies with device  \n",
       "...             ...             ...                 ...                 ...  \n",
       "6449  Communication  August 2, 2018  Varies with device        4.0.3 and up  \n",
       "7536          Tools  August 4, 2018               4.6.6  Varies with device  \n",
       "7937         Action    July 2, 2018              1.9.38          3.0 and up  \n",
       "8894          Tools   July 25, 2018               3.1.2          4.0 and up  \n",
       "8896          Tools    June 5, 2018             4.8.7.8          4.0 and up  \n",
       "\n",
       "[92 rows x 13 columns]"
      ]
     },
     "execution_count": 75,
     "metadata": {},
     "output_type": "execute_result"
    }
   ],
   "source": [
    "#Check records with 1 million reviews\n",
    "inp1[inp1.Reviews >= 10000000]"
   ]
  },
  {
   "cell_type": "code",
   "execution_count": 76,
   "metadata": {},
   "outputs": [
    {
     "data": {
      "text/plain": [
       "(92, 13)"
      ]
     },
     "execution_count": 76,
     "metadata": {},
     "output_type": "execute_result"
    }
   ],
   "source": [
    "inp1[inp1.Reviews >= 10000000].shape"
   ]
  },
  {
   "cell_type": "code",
   "execution_count": 77,
   "metadata": {},
   "outputs": [
    {
     "data": {
      "text/plain": [
       "(8640, 13)"
      ]
     },
     "execution_count": 77,
     "metadata": {},
     "output_type": "execute_result"
    }
   ],
   "source": [
    "#Drop the above records\n",
    "inp1 = inp1[inp1.Reviews <= 1000000]\n",
    "inp1.shape"
   ]
  },
  {
   "cell_type": "code",
   "execution_count": 78,
   "metadata": {},
   "outputs": [
    {
     "data": {
      "image/png": "[encoded data removed]",
      "text/plain": [
       "<Figure size 432x288 with 1 Axes>"
      ]
     },
     "metadata": {
      "needs_background": "light"
     },
     "output_type": "display_data"
    }
   ],
   "source": [
    "#Question - Create a histogram again and check the peaks\n",
    "plt.hist(inp1.Reviews)\n",
    "plt.show()"
   ]
  },
  {
   "cell_type": "code",
   "execution_count": 79,
   "metadata": {},
   "outputs": [
    {
     "data": {
      "image/png": "[encoded data removed]",
      "text/plain": [
       "<Figure size 432x288 with 1 Axes>"
      ]
     },
     "metadata": {
      "needs_background": "light"
     },
     "output_type": "display_data"
    },
    {
     "data": {
      "text/plain": [
       "count      8640.000000\n",
       "mean      68290.951620\n",
       "std      156252.806389\n",
       "min           1.000000\n",
       "25%         142.750000\n",
       "50%        3624.500000\n",
       "75%       45958.250000\n",
       "max      995002.000000\n",
       "Name: Installs, dtype: float64"
      ]
     },
     "execution_count": 79,
     "metadata": {},
     "output_type": "execute_result"
    }
   ],
   "source": [
    "#Question - Create a box plot for the Installs column and report back the IQR\n",
    "plt.boxplot(inp1.Installs)\n",
    "plt.show()\n",
    "inp1.Installs.describe()"
   ]
  },
  {
   "cell_type": "code",
   "execution_count": 80,
   "metadata": {},
   "outputs": [],
   "source": [
    "#Question - CLean the Installs by removing all the apps having more than or equal to 100 million installs\n",
    "inp1 = inp1[inp1.Installs <= 100000000]"
   ]
  },
  {
   "cell_type": "code",
   "execution_count": 81,
   "metadata": {},
   "outputs": [
    {
     "data": {
      "image/png": "[encoded data removed]",
      "text/plain": [
       "<Figure size 432x288 with 1 Axes>"
      ]
     },
     "metadata": {
      "needs_background": "light"
     },
     "output_type": "display_data"
    }
   ],
   "source": [
    "#Plot a histogram for Size as well.\n",
    "plt.hist(inp1.Size)\n",
    "plt.show()"
   ]
  },
  {
   "cell_type": "code",
   "execution_count": 82,
   "metadata": {},
   "outputs": [
    {
     "data": {
      "image/png": "[encoded data removed]",
      "text/plain": [
       "<Figure size 432x288 with 1 Axes>"
      ]
     },
     "metadata": {
      "needs_background": "light"
     },
     "output_type": "display_data"
    }
   ],
   "source": [
    "#Question - Create a boxplot for the Size column and report back the median value\n",
    "plt.boxplot(inp1.Size)\n",
    "plt.show()"
   ]
  },
  {
   "cell_type": "markdown",
   "metadata": {},
   "source": [
    "### Session 2 - Data Visualisation with Seaborn"
   ]
  },
  {
   "cell_type": "markdown",
   "metadata": {},
   "source": [
    "Seaborn is Python library to create statistical graphs easily. It is built on top of matplotlib and closely integrated with pandas.\n",
    "\n",
    "_Functionalities of Seaborn_ :\n",
    "\n",
    "- Dataset oriented API\n",
    "- Analysing univariate and bivariate distributions\n",
    "- Automatic estimation and plotting of  linear regression models\n",
    "- Convenient views for complex datasets\n",
    "- Concise control over style\n",
    "- Colour palettes\n"
   ]
  },
  {
   "cell_type": "code",
   "execution_count": 83,
   "metadata": {},
   "outputs": [],
   "source": [
    "#import the necessary libraries\n",
    "import warnings\n",
    "warnings.filterwarnings(\"ignore\")\n",
    "import seaborn as sns"
   ]
  },
  {
   "cell_type": "markdown",
   "metadata": {},
   "source": [
    "#### Distribution Plots"
   ]
  },
  {
   "cell_type": "markdown",
   "metadata": {},
   "source": [
    "A distribution plot is pretty similar to the histogram functionality in matplotlib. Instead of a frequency plot, it plots an approximate probability density for that rating bucket. And the curve (or the __KDE__) that gets drawn over the distribution is the approximate probability density curve. \n",
    "\n",
    "The following is an example of a distribution plot. Notice that now instead of frequency on the left axis, it has the density for each bin or bucket."
   ]
  },
  {
   "cell_type": "markdown",
   "metadata": {},
   "source": [
    "![Distplot](images\\Distplot.png)"
   ]
  },
  {
   "cell_type": "markdown",
   "metadata": {},
   "source": [
    "You'll be using sns.distplot for plotting a distribution plot. Check out its official documentation: https://seaborn.pydata.org/generated/seaborn.distplot.html"
   ]
  },
  {
   "cell_type": "code",
   "execution_count": 84,
   "metadata": {},
   "outputs": [
    {
     "data": {
      "text/plain": [
       "<AxesSubplot:xlabel='Rating', ylabel='Density'>"
      ]
     },
     "execution_count": 84,
     "metadata": {},
     "output_type": "execute_result"
    },
    {
     "data": {
      "image/png": "[encoded data removed]",
      "text/plain": [
       "<Figure size 432x288 with 1 Axes>"
      ]
     },
     "metadata": {
      "needs_background": "light"
     },
     "output_type": "display_data"
    }
   ],
   "source": [
    "#Create a distribution plot for rating\n",
    "sns.distplot(inp1.Rating)"
   ]
  },
  {
   "cell_type": "code",
   "execution_count": 85,
   "metadata": {},
   "outputs": [
    {
     "data": {
      "text/plain": [
       "<AxesSubplot:xlabel='Rating', ylabel='Density'>"
      ]
     },
     "execution_count": 85,
     "metadata": {},
     "output_type": "execute_result"
    },
    {
     "data": {
      "image/png": "[encoded data removed]",
      "text/plain": [
       "<Figure size 432x288 with 1 Axes>"
      ]
     },
     "metadata": {
      "needs_background": "light"
     },
     "output_type": "display_data"
    }
   ],
   "source": [
    "#Change the number of bins\n",
    "sns.distplot(inp1.Rating, bins = 100)\n"
   ]
  },
  {
   "cell_type": "code",
   "execution_count": 86,
   "metadata": {},
   "outputs": [
    {
     "data": {
      "text/plain": [
       "<AxesSubplot:xlabel='Rating', ylabel='Density'>"
      ]
     },
     "execution_count": 86,
     "metadata": {},
     "output_type": "execute_result"
    },
    {
     "data": {
      "image/png": "[encoded data removed]",
      "text/plain": [
       "<Figure size 432x288 with 1 Axes>"
      ]
     },
     "metadata": {
      "needs_background": "light"
     },
     "output_type": "display_data"
    }
   ],
   "source": [
    "#Change the colour of bins to green\n",
    "sns.distplot(inp1.Rating, bins = 20, color = \"g\")"
   ]
  },
  {
   "cell_type": "code",
   "execution_count": 87,
   "metadata": {},
   "outputs": [
    {
     "data": {
      "image/png": "[encoded data removed]",
      "text/plain": [
       "<Figure size 432x288 with 1 Axes>"
      ]
     },
     "metadata": {
      "needs_background": "light"
     },
     "output_type": "display_data"
    }
   ],
   "source": [
    "#Apply matplotlib functionalities\n",
    "sns.distplot(inp1.Rating, bins = 20, color = \"Pink\")\n",
    "plt.title(\"Distribution Of App Ratings\" , fontsize = \"18\")\n",
    "plt.show()"
   ]
  },
  {
   "cell_type": "markdown",
   "metadata": {},
   "source": [
    "#### Styling Options\n",
    "\n",
    "One of the biggest advantages of using Seaborn is that you can retain its aesthetic properties and also the Matplotlib functionalities to perform additional customisations. Before we continue with our case study analysis, let’s study some styling options that are available in Seaborn."
   ]
  },
  {
   "cell_type": "markdown",
   "metadata": {},
   "source": [
    "-  Check out the official documentation:https://seaborn.pydata.org/generated/seaborn.set_style.html"
   ]
  },
  {
   "cell_type": "code",
   "execution_count": 88,
   "metadata": {},
   "outputs": [],
   "source": [
    "#Check all the styling options\n",
    "?sns.set_style"
   ]
  },
  {
   "cell_type": "code",
   "execution_count": 89,
   "metadata": {},
   "outputs": [
    {
     "data": {
      "image/png": "[encoded data removed]",
      "text/plain": [
       "<Figure size 432x288 with 1 Axes>"
      ]
     },
     "metadata": {},
     "output_type": "display_data"
    }
   ],
   "source": [
    "#Change the number of bins to 20\n",
    "sns.set_style(\"dark\")\n",
    "sns.distplot(inp1.Rating, bins = 20, color = \"Orange\")\n",
    "plt.title(\"Distribution Of App Ratings\" , fontsize = \"18\")\n",
    "plt.show()"
   ]
  },
  {
   "cell_type": "code",
   "execution_count": 90,
   "metadata": {},
   "outputs": [
    {
     "data": {
      "text/plain": [
       "['Solarize_Light2',\n",
       " '_classic_test_patch',\n",
       " 'bmh',\n",
       " 'classic',\n",
       " 'dark_background',\n",
       " 'fast',\n",
       " 'fivethirtyeight',\n",
       " 'ggplot',\n",
       " 'grayscale',\n",
       " 'seaborn',\n",
       " 'seaborn-bright',\n",
       " 'seaborn-colorblind',\n",
       " 'seaborn-dark',\n",
       " 'seaborn-dark-palette',\n",
       " 'seaborn-darkgrid',\n",
       " 'seaborn-deep',\n",
       " 'seaborn-muted',\n",
       " 'seaborn-notebook',\n",
       " 'seaborn-paper',\n",
       " 'seaborn-pastel',\n",
       " 'seaborn-poster',\n",
       " 'seaborn-talk',\n",
       " 'seaborn-ticks',\n",
       " 'seaborn-white',\n",
       " 'seaborn-whitegrid',\n",
       " 'tableau-colorblind10']"
      ]
     },
     "execution_count": 90,
     "metadata": {},
     "output_type": "execute_result"
    }
   ],
   "source": [
    "plt.style.available"
   ]
  },
  {
   "cell_type": "code",
   "execution_count": 91,
   "metadata": {},
   "outputs": [
    {
     "data": {
      "image/png": "[encoded data removed]",
      "text/plain": [
       "<Figure size 432x288 with 1 Axes>"
      ]
     },
     "metadata": {},
     "output_type": "display_data"
    }
   ],
   "source": [
    "plt.style.use(\"tableau-colorblind10\")\n",
    "sns.distplot(inp1.Rating, bins = 20, color = \"Orange\")\n",
    "plt.title(\"Distribution Of App Ratings\" , fontsize = \"18\")\n",
    "plt.show()"
   ]
  },
  {
   "cell_type": "code",
   "execution_count": 92,
   "metadata": {},
   "outputs": [
    {
     "data": {
      "image/png": "[encoded data removed]",
      "text/plain": [
       "<Figure size 432x288 with 1 Axes>"
      ]
     },
     "metadata": {},
     "output_type": "display_data"
    }
   ],
   "source": [
    "plt.style.use(\"seaborn-darkgrid\")\n",
    "sns.distplot(inp1.Rating, bins = 20, color = \"Orange\")\n",
    "plt.title(\"Distribution Of App Ratings\" , fontsize = \"18\")\n",
    "plt.show()"
   ]
  },
  {
   "cell_type": "code",
   "execution_count": 93,
   "metadata": {},
   "outputs": [
    {
     "data": {
      "image/png": "[encoded data removed]",
      "text/plain": [
       "<Figure size 432x288 with 1 Axes>"
      ]
     },
     "metadata": {},
     "output_type": "display_data"
    }
   ],
   "source": [
    "plt.style.use(\"ggplot\")\n",
    "sns.distplot(inp1.Rating, bins = 20, color = \"Orange\")\n",
    "plt.title(\"Distribution Of App Ratings\" , fontsize = \"18\")\n",
    "plt.show()"
   ]
  },
  {
   "cell_type": "code",
   "execution_count": 94,
   "metadata": {},
   "outputs": [
    {
     "data": {
      "image/png": "[encoded data removed]",
      "text/plain": [
       "<Figure size 432x288 with 1 Axes>"
      ]
     },
     "metadata": {},
     "output_type": "display_data"
    }
   ],
   "source": [
    "plt.style.use(\"dark_background\")\n",
    "sns.distplot(inp1.Rating, bins = 20, color = \"Orange\")\n",
    "plt.title(\"Distribution Of App Ratings\" , fontsize = \"18\")\n",
    "plt.show()"
   ]
  },
  {
   "cell_type": "code",
   "execution_count": 95,
   "metadata": {},
   "outputs": [],
   "source": [
    "plt.style.use(\"default\")\n",
    "%matplotlib inline"
   ]
  },
  {
   "cell_type": "code",
   "execution_count": 96,
   "metadata": {},
   "outputs": [
    {
     "data": {
      "image/png": "[encoded data removed]",
      "text/plain": [
       "<Figure size 432x288 with 1 Axes>"
      ]
     },
     "metadata": {
      "needs_background": "light"
     },
     "output_type": "display_data"
    }
   ],
   "source": [
    "sns.distplot(inp1.Rating, bins = 20, color = \"Orange\")\n",
    "plt.title(\"Distribution Of App Ratings\" , fontsize = \"18\")\n",
    "plt.show()"
   ]
  },
  {
   "cell_type": "markdown",
   "metadata": {},
   "source": [
    "#### Pie-Chart and Bar Chart"
   ]
  },
  {
   "cell_type": "markdown",
   "metadata": {},
   "source": [
    "For analysing how a numeric variable changes across several categories of a categorical variable you utilise either a pie chart or a box plot"
   ]
  },
  {
   "cell_type": "markdown",
   "metadata": {},
   "source": [
    "For example, if you want to visualise the responses of a marketing campaign, you can use the following views:"
   ]
  },
  {
   "cell_type": "markdown",
   "metadata": {},
   "source": [
    "![PieChart](images\\pie.png)"
   ]
  },
  {
   "cell_type": "markdown",
   "metadata": {},
   "source": [
    "![barChart](images\\bar.png)"
   ]
  },
  {
   "cell_type": "markdown",
   "metadata": {},
   "source": [
    "- You'll be using the pandas method of plotting both a pie chart and a bar chart. Check out their official documentations:\n",
    "   - https://pandas.pydata.org/pandas-docs/stable/reference/api/pandas.DataFrame.plot.bar.html\n",
    "   - https://pandas.pydata.org/pandas-docs/stable/reference/api/pandas.DataFrame.plot.pie.html"
   ]
  },
  {
   "cell_type": "code",
   "execution_count": 97,
   "metadata": {},
   "outputs": [
    {
     "data": {
      "text/plain": [
       "Everyone           6948\n",
       "Teen                934\n",
       "Mature 17+          417\n",
       "Everyone 10+        337\n",
       "Adults only 18+       3\n",
       "Unrated               1\n",
       "Name: Content Rating, dtype: int64"
      ]
     },
     "execution_count": 97,
     "metadata": {},
     "output_type": "execute_result"
    }
   ],
   "source": [
    "#Analyse the Content Rating column\n",
    "inp1[\"Content Rating\"].value_counts()"
   ]
  },
  {
   "cell_type": "code",
   "execution_count": 98,
   "metadata": {},
   "outputs": [
    {
     "data": {
      "text/plain": [
       "(8636, 13)"
      ]
     },
     "execution_count": 98,
     "metadata": {},
     "output_type": "execute_result"
    }
   ],
   "source": [
    "#Remove the rows with values which are less represented \n",
    "inp1 = inp1[~inp1[\"Content Rating\"].isin([\"Adults only 18+\", \"Unrated\"])]\n",
    "inp1.shape"
   ]
  },
  {
   "cell_type": "code",
   "execution_count": 99,
   "metadata": {},
   "outputs": [
    {
     "name": "stdout",
     "output_type": "stream",
     "text": [
      "<class 'pandas.core.frame.DataFrame'>\n",
      "RangeIndex: 8636 entries, 0 to 8635\n",
      "Data columns (total 13 columns):\n",
      " #   Column          Non-Null Count  Dtype  \n",
      "---  ------          --------------  -----  \n",
      " 0   App             8636 non-null   object \n",
      " 1   Category        8636 non-null   object \n",
      " 2   Rating          8636 non-null   float64\n",
      " 3   Reviews         8636 non-null   int32  \n",
      " 4   Size            8636 non-null   float64\n",
      " 5   Installs        8636 non-null   float64\n",
      " 6   Type            8636 non-null   object \n",
      " 7   Price           8636 non-null   float64\n",
      " 8   Content Rating  8636 non-null   object \n",
      " 9   Genres          8636 non-null   object \n",
      " 10  Last Updated    8636 non-null   object \n",
      " 11  Current Ver     8636 non-null   object \n",
      " 12  Android Ver     8636 non-null   object \n",
      "dtypes: float64(4), int32(1), object(8)\n",
      "memory usage: 843.5+ KB\n"
     ]
    }
   ],
   "source": [
    "#Reset the index\n",
    "inp1.reset_index(inplace=True, drop=True)\n",
    "inp1.info()"
   ]
  },
  {
   "cell_type": "code",
   "execution_count": 100,
   "metadata": {},
   "outputs": [
    {
     "data": {
      "text/plain": [
       "Everyone        6948\n",
       "Teen             934\n",
       "Mature 17+       417\n",
       "Everyone 10+     337\n",
       "Name: Content Rating, dtype: int64"
      ]
     },
     "execution_count": 100,
     "metadata": {},
     "output_type": "execute_result"
    }
   ],
   "source": [
    "#Check the apps belonging to different categories of Content Rating \n",
    "inp1[\"Content Rating\"].value_counts()"
   ]
  },
  {
   "cell_type": "code",
   "execution_count": 101,
   "metadata": {},
   "outputs": [
    {
     "data": {
      "image/png": "[encoded data removed]",
      "text/plain": [
       "<Figure size 432x288 with 1 Axes>"
      ]
     },
     "metadata": {},
     "output_type": "display_data"
    }
   ],
   "source": [
    "#Plot a pie chart\n",
    "inp1[\"Content Rating\"].value_counts().plot.pie()\n",
    "plt.show()"
   ]
  },
  {
   "cell_type": "code",
   "execution_count": 102,
   "metadata": {},
   "outputs": [
    {
     "data": {
      "image/png": "[encoded data removed]",
      "text/plain": [
       "<Figure size 432x288 with 1 Axes>"
      ]
     },
     "metadata": {
      "needs_background": "light"
     },
     "output_type": "display_data"
    }
   ],
   "source": [
    "#Plot a bar chart\n",
    "inp1[\"Content Rating\"].value_counts().plot.barh()\n",
    "plt.show()"
   ]
  },
  {
   "cell_type": "code",
   "execution_count": 103,
   "metadata": {},
   "outputs": [
    {
     "data": {
      "image/png": "[encoded data removed]",
      "text/plain": [
       "<Figure size 432x288 with 1 Axes>"
      ]
     },
     "metadata": {
      "needs_background": "light"
     },
     "output_type": "display_data"
    }
   ],
   "source": [
    "#Question - Plot a bar plot for checking the 4th highest Android version type\n",
    "inp1[\"Android Ver\"].value_counts().plot.bar()\n",
    "plt.show()"
   ]
  },
  {
   "cell_type": "markdown",
   "metadata": {},
   "source": [
    "#### Scatter Plots"
   ]
  },
  {
   "cell_type": "markdown",
   "metadata": {},
   "source": [
    "Scatterplots are perhaps one of the most commonly used as well one of the most powerful visualisations you can use in the field of machine learning. They are pretty crucial in revealing relationships between the data points and you can generally deduce some sort of trends in the data with the help of a scatter plot. "
   ]
  },
  {
   "cell_type": "markdown",
   "metadata": {},
   "source": [
    "![Scatterplot](images\\scatter.png)"
   ]
  },
  {
   "cell_type": "markdown",
   "metadata": {},
   "source": [
    "- They're pretty useful in regression problems to check whether a linear trend exists in the data or not. For example, in the image below, creating a linear model in the first case makes far more sense since a clear straight line trend is visible."
   ]
  },
  {
   "cell_type": "markdown",
   "metadata": {},
   "source": [
    "![Scatterplot-Reg](images\\regression3.png)"
   ]
  },
  {
   "cell_type": "markdown",
   "metadata": {},
   "source": [
    "- Also, they help in observing __naturally occuring clusters__. In the following image, the marks of students in Maths and Biology has been plotted.You can clearly group the students to 4 clusters now. Cluster 1 are students who score very well in Biology but very poorly in Maths, Cluster 2 are students who score equally well in both the subjects and so on."
   ]
  },
  {
   "cell_type": "markdown",
   "metadata": {},
   "source": [
    "![Scatter-Clusters](images\\Clusters.png)"
   ]
  },
  {
   "cell_type": "markdown",
   "metadata": {},
   "source": [
    "**Note**: You'll be studying about both Regression and Clustering in greater detail in the machine learning modules"
   ]
  },
  {
   "cell_type": "markdown",
   "metadata": {},
   "source": [
    "You'll be using **sns.jointplot()** for creating a scatter plot. Check out its documentation:\n",
    "https://seaborn.pydata.org/generated/seaborn.jointplot.html"
   ]
  },
  {
   "cell_type": "code",
   "execution_count": 104,
   "metadata": {},
   "outputs": [
    {
     "data": {
      "text/plain": [
       "<Figure size 720x720 with 0 Axes>"
      ]
     },
     "metadata": {},
     "output_type": "display_data"
    },
    {
     "data": {
      "image/png": "[encoded data removed]",
      "text/plain": [
       "<Figure size 432x432 with 3 Axes>"
      ]
     },
     "metadata": {
      "needs_background": "light"
     },
     "output_type": "display_data"
    }
   ],
   "source": [
    "import scipy.stats as ss\n",
    "#str1 will hold the value of Pearson r\n",
    "str1 = 'Pearson r = {}'.format(ss.pearsonr(inp1.Size,inp1.Rating)[0].round(3))\n",
    "\n",
    "#str2 will hold the p value\n",
    "str2 = 'p value = {}'.format(ss.pearsonr(inp1.Size,inp1.Rating)[1].round(9))   \n",
    "plt.figure(figsize = (10,10))\n",
    "sns.jointplot(inp1.Size, inp1.Rating)\n",
    "\n",
    "#Manually align the position of str1 and str2\n",
    "plt.text(-1250,1.25, str1,horizontalalignment='center',verticalalignment='center',fontsize = 11 )\n",
    "plt.text(-1250,1.0,str2,horizontalalignment='center',verticalalignment='center',fontsize = 11)\n",
    "plt.show()"
   ]
  },
  {
   "cell_type": "code",
   "execution_count": 105,
   "metadata": {},
   "outputs": [
    {
     "data": {
      "image/png": "[encoded data removed]",
      "text/plain": [
       "<Figure size 432x288 with 1 Axes>"
      ]
     },
     "metadata": {
      "needs_background": "light"
     },
     "output_type": "display_data"
    }
   ],
   "source": [
    "###Size vs Rating\n",
    "\n",
    "##Plot a scatter-plot in the matplotlib way between Size and Rating\n",
    "plt.scatter(inp1.Size, inp1.Rating)\n",
    "plt.show()"
   ]
  },
  {
   "cell_type": "code",
   "execution_count": null,
   "metadata": {},
   "outputs": [],
   "source": [
    "### Plot the same thing now using a jointplot\n",
    "sns.set_style(\"white\")"
   ]
  },
  {
   "cell_type": "code",
   "execution_count": null,
   "metadata": {},
   "outputs": [],
   "source": [
    "## Plot a jointplot for Price and Rating\n",
    "sns.jointplot(inp1.Size,inp1.Rating)\n",
    "plt.show()"
   ]
  },
  {
   "cell_type": "markdown",
   "metadata": {},
   "source": [
    "**Reg Plots**\n",
    "\n",
    "- These are an extension to the jointplots, where a regression line is added to the view "
   ]
  },
  {
   "cell_type": "code",
   "execution_count": null,
   "metadata": {},
   "outputs": [],
   "source": [
    "##Plot a reg plot for Price and Rating and observe the trend\n",
    "sns.jointplot(inp1.Price, inp1.Rating, kind=\"reg\")\n",
    "plt.show()"
   ]
  },
  {
   "cell_type": "code",
   "execution_count": null,
   "metadata": {},
   "outputs": [],
   "source": [
    "## Question - Plot a reg plot for Price and Rating again for only the paid apps.\n",
    "#str1 will hold the value of Pearson r\n",
    "str1 = 'Pearson r = {}'.format(ss.pearsonr(inp1.Size,inp1.Rating)[0].round(3))\n",
    "\n",
    "#str2 will hold the p value\n",
    "str2 = 'p value = {}'.format(ss.pearsonr(inp1.Size,inp1.Rating)[1].round(9)) \n",
    "\n",
    "temp=inp1[inp1['Price']>0]\n",
    "sns.jointplot(temp.Price, temp.Rating, kind=\"reg\")\n",
    "plt.show()"
   ]
  },
  {
   "cell_type": "markdown",
   "metadata": {},
   "source": [
    "**Pair Plots**"
   ]
  },
  {
   "cell_type": "markdown",
   "metadata": {},
   "source": [
    " - When you have several numeric variables, making multiple scatter plots becomes rather tedious. Therefore, a pair plot visualisation is preferred where all the scatter plots are in a single view in the form of a matrix\n",
    " - For the non-diagonal views, it plots a **scatter plot** between 2 numeric variables\n",
    " - For the diagonal views, it plots a **histogram**"
   ]
  },
  {
   "cell_type": "markdown",
   "metadata": {},
   "source": [
    "Pair Plots help in identifying the trends between a target variable and the predictor variables pretty quickly. For example, say you want to predict how your company’s profits are affected by three different factors. In order to choose which you created a pair plot containing profits and the three different factors as the variables. Here are the scatterplots of profits vs the three variables that you obtained from the pair plot."
   ]
  },
  {
   "cell_type": "markdown",
   "metadata": {},
   "source": [
    "![Pairplots](images\\pairplots2.png)"
   ]
  },
  {
   "cell_type": "markdown",
   "metadata": {},
   "source": [
    "It is clearly visible that the left-most factor is the most prominently related to the profits, given how linearly scattered the points are and how randomly scattered the rest two factors are."
   ]
  },
  {
   "cell_type": "markdown",
   "metadata": {},
   "source": [
    "You'll be using **sns.pairplot()** for this visualisation. Check out its official documentation:https://seaborn.pydata.org/generated/seaborn.pairplot.html"
   ]
  },
  {
   "cell_type": "code",
   "execution_count": null,
   "metadata": {},
   "outputs": [],
   "source": [
    "## Create a pair plot for Reviews, Size, Price and Rating\n",
    "sns.pairplot(inp1[[\"Reviews\", \"Size\", \"Price\", \"Rating\"]])\n",
    "plt.show()"
   ]
  },
  {
   "cell_type": "markdown",
   "metadata": {},
   "source": [
    "**Bar Charts Revisited**"
   ]
  },
  {
   "cell_type": "markdown",
   "metadata": {},
   "source": [
    "- Here, you'll be using bar charts once again, this time using the **sns.barplot()** function. Check out its official documentation:https://seaborn.pydata.org/generated/seaborn.barplot.html\n",
    "- You can modify the **estimator** parameter to change the aggregation value of your barplot"
   ]
  },
  {
   "cell_type": "code",
   "execution_count": null,
   "metadata": {},
   "outputs": [],
   "source": [
    "##Plot a bar plot of Content Rating vs Average Rating \n",
    "inp1.groupby([\"Content Rating\"])[\"Rating\"].mean().plot.barh()\n",
    "plt.show()"
   ]
  },
  {
   "cell_type": "code",
   "execution_count": null,
   "metadata": {},
   "outputs": [],
   "source": [
    "##Plot the bar plot again with Median Rating\n",
    "inp1.groupby([\"Content Rating\"])[\"Rating\"].median().plot.bar()\n",
    "plt.show()"
   ]
  },
  {
   "cell_type": "code",
   "execution_count": null,
   "metadata": {},
   "outputs": [],
   "source": [
    "##Plot the above bar plot using the estimator parameter\n",
    "sns.barplot(data=inp1, x=\"Content Rating\", y=\"Rating\")\n",
    "plt.show()"
   ]
  },
  {
   "cell_type": "code",
   "execution_count": null,
   "metadata": {},
   "outputs": [],
   "source": [
    "##Plot the bar plot with only the 5th percentile of Ratings\n",
    "sns.barplot(data=inp1, x=\"Content Rating\", y=\"Rating\",estimator = lambda x: np.quantile(x,0.05))\n",
    "plt.show()"
   ]
  },
  {
   "cell_type": "code",
   "execution_count": null,
   "metadata": {},
   "outputs": [],
   "source": [
    "##Question - Plot the bar plot with the minimum Rating\n",
    "sns.barplot(data=inp1, x=\"Content Rating\", y=\"Rating\",estimator=np.min)\n",
    "plt.show()"
   ]
  },
  {
   "cell_type": "markdown",
   "metadata": {},
   "source": [
    "__Box Plots Revisited__\n",
    "\n",
    "- Apart from outlier analysis, box plots are great at comparing the spread and analysing a numerical variable across several categories\n",
    "- Here you'll be using **sns.boxplot()** function to plot the visualisation. Check out its documentation: https://seaborn.pydata.org/generated/seaborn.boxplot.html\n",
    "\n",
    "\n"
   ]
  },
  {
   "cell_type": "code",
   "execution_count": null,
   "metadata": {},
   "outputs": [],
   "source": [
    "##Plot a box plot of Rating vs Content Rating\n",
    "plt.figure(figsize=[9,7])\n",
    "sns.boxplot(inp1[\"Content Rating\"], inp1.Rating)\n",
    "plt.show()"
   ]
  },
  {
   "cell_type": "code",
   "execution_count": null,
   "metadata": {},
   "outputs": [],
   "source": [
    "##Question - Plot a box plot for the Rating column only\n",
    "plt.figure(figsize=[8,6])\n",
    "sns.boxplot(inp1.Rating)\n",
    "plt.show()"
   ]
  },
  {
   "cell_type": "code",
   "execution_count": null,
   "metadata": {},
   "outputs": [],
   "source": [
    "inp1.head()"
   ]
  },
  {
   "cell_type": "code",
   "execution_count": null,
   "metadata": {},
   "outputs": [],
   "source": [
    "inp1.Genres.value_counts()"
   ]
  },
  {
   "cell_type": "code",
   "execution_count": null,
   "metadata": {},
   "outputs": [],
   "source": [
    "temp1 = inp1.Genres[\"Tools\",\"Entertainment\",\"Education\",\"Medical\"]\n",
    "inp5 = inp1[inp1[\"Genres\"].isin(temp1)]"
   ]
  },
  {
   "cell_type": "code",
   "execution_count": null,
   "metadata": {},
   "outputs": [],
   "source": [
    "##Question - Plot a box plot of Ratings across the 4 most popular Genres\n",
    "sns.boxplot(inp5,temp1)"
   ]
  },
  {
   "cell_type": "markdown",
   "metadata": {},
   "source": [
    "#### Heat Maps"
   ]
  },
  {
   "cell_type": "markdown",
   "metadata": {},
   "source": [
    "Heat mapsutilise the concept of using colours and colour intensities to visualise a range of values. You must have seen heat maps in cricket or football broadcasts on television to denote the players’ areas of strength and weakness."
   ]
  },
  {
   "cell_type": "markdown",
   "metadata": {},
   "source": [
    "![HeatMap](images\\heatmap1.png)"
   ]
  },
  {
   "cell_type": "markdown",
   "metadata": {},
   "source": [
    "- In python, you can create a heat map whenever you have a rectangular grid or table of numbers analysing any two features"
   ]
  },
  {
   "cell_type": "markdown",
   "metadata": {},
   "source": [
    "![heatmap2](images\\heatmap2.png)"
   ]
  },
  {
   "cell_type": "markdown",
   "metadata": {},
   "source": [
    "- You'll be using **sns.heatmap()** to plot the visualisation. Checkout its official documentation :https://seaborn.pydata.org/generated/seaborn.heatmap.html"
   ]
  },
  {
   "cell_type": "code",
   "execution_count": 121,
   "metadata": {},
   "outputs": [],
   "source": [
    "?pd.qcut"
   ]
  },
  {
   "cell_type": "code",
   "execution_count": 122,
   "metadata": {},
   "outputs": [
    {
     "data": {
      "text/html": [
       "<div>\n",
       "<style scoped>\n",
       "    .dataframe tbody tr th:only-of-type {\n",
       "        vertical-align: middle;\n",
       "    }\n",
       "\n",
       "    .dataframe tbody tr th {\n",
       "        vertical-align: top;\n",
       "    }\n",
       "\n",
       "    .dataframe thead th {\n",
       "        text-align: right;\n",
       "    }\n",
       "</style>\n",
       "<table border=\"1\" class=\"dataframe\">\n",
       "  <thead>\n",
       "    <tr style=\"text-align: right;\">\n",
       "      <th></th>\n",
       "      <th>App</th>\n",
       "      <th>Category</th>\n",
       "      <th>Rating</th>\n",
       "      <th>Reviews</th>\n",
       "      <th>Size</th>\n",
       "      <th>Installs</th>\n",
       "      <th>Type</th>\n",
       "      <th>Price</th>\n",
       "      <th>Content Rating</th>\n",
       "      <th>Genres</th>\n",
       "      <th>Last Updated</th>\n",
       "      <th>Current Ver</th>\n",
       "      <th>Android Ver</th>\n",
       "      <th>Size_Bucket</th>\n",
       "    </tr>\n",
       "  </thead>\n",
       "  <tbody>\n",
       "    <tr>\n",
       "      <th>0</th>\n",
       "      <td>Photo Editor &amp; Candy Camera &amp; Grid &amp; ScrapBook</td>\n",
       "      <td>ART_AND_DESIGN</td>\n",
       "      <td>4.1</td>\n",
       "      <td>159</td>\n",
       "      <td>19000.000000</td>\n",
       "      <td>159.0</td>\n",
       "      <td>Free</td>\n",
       "      <td>0.0</td>\n",
       "      <td>Everyone</td>\n",
       "      <td>Art &amp; Design</td>\n",
       "      <td>January 7, 2018</td>\n",
       "      <td>1.0.0</td>\n",
       "      <td>4.0.3 and up</td>\n",
       "      <td>M</td>\n",
       "    </tr>\n",
       "    <tr>\n",
       "      <th>1</th>\n",
       "      <td>Coloring book moana</td>\n",
       "      <td>ART_AND_DESIGN</td>\n",
       "      <td>3.9</td>\n",
       "      <td>967</td>\n",
       "      <td>14000.000000</td>\n",
       "      <td>967.0</td>\n",
       "      <td>Free</td>\n",
       "      <td>0.0</td>\n",
       "      <td>Everyone</td>\n",
       "      <td>Art &amp; Design;Pretend Play</td>\n",
       "      <td>January 15, 2018</td>\n",
       "      <td>2.0.0</td>\n",
       "      <td>4.0.3 and up</td>\n",
       "      <td>M</td>\n",
       "    </tr>\n",
       "    <tr>\n",
       "      <th>2</th>\n",
       "      <td>U Launcher Lite – FREE Live Cool Themes, Hide ...</td>\n",
       "      <td>ART_AND_DESIGN</td>\n",
       "      <td>4.7</td>\n",
       "      <td>87510</td>\n",
       "      <td>8700.000000</td>\n",
       "      <td>87510.0</td>\n",
       "      <td>Free</td>\n",
       "      <td>0.0</td>\n",
       "      <td>Everyone</td>\n",
       "      <td>Art &amp; Design</td>\n",
       "      <td>August 1, 2018</td>\n",
       "      <td>1.2.4</td>\n",
       "      <td>4.0.3 and up</td>\n",
       "      <td>L</td>\n",
       "    </tr>\n",
       "    <tr>\n",
       "      <th>3</th>\n",
       "      <td>Sketch - Draw &amp; Paint</td>\n",
       "      <td>ART_AND_DESIGN</td>\n",
       "      <td>4.5</td>\n",
       "      <td>215644</td>\n",
       "      <td>25000.000000</td>\n",
       "      <td>215644.0</td>\n",
       "      <td>Free</td>\n",
       "      <td>0.0</td>\n",
       "      <td>Teen</td>\n",
       "      <td>Art &amp; Design</td>\n",
       "      <td>June 8, 2018</td>\n",
       "      <td>Varies with device</td>\n",
       "      <td>4.2 and up</td>\n",
       "      <td>H</td>\n",
       "    </tr>\n",
       "    <tr>\n",
       "      <th>4</th>\n",
       "      <td>Pixel Draw - Number Art Coloring Book</td>\n",
       "      <td>ART_AND_DESIGN</td>\n",
       "      <td>4.3</td>\n",
       "      <td>967</td>\n",
       "      <td>2800.000000</td>\n",
       "      <td>967.0</td>\n",
       "      <td>Free</td>\n",
       "      <td>0.0</td>\n",
       "      <td>Everyone</td>\n",
       "      <td>Art &amp; Design;Creativity</td>\n",
       "      <td>June 20, 2018</td>\n",
       "      <td>1.1</td>\n",
       "      <td>4.4 and up</td>\n",
       "      <td>VL</td>\n",
       "    </tr>\n",
       "    <tr>\n",
       "      <th>...</th>\n",
       "      <td>...</td>\n",
       "      <td>...</td>\n",
       "      <td>...</td>\n",
       "      <td>...</td>\n",
       "      <td>...</td>\n",
       "      <td>...</td>\n",
       "      <td>...</td>\n",
       "      <td>...</td>\n",
       "      <td>...</td>\n",
       "      <td>...</td>\n",
       "      <td>...</td>\n",
       "      <td>...</td>\n",
       "      <td>...</td>\n",
       "      <td>...</td>\n",
       "    </tr>\n",
       "    <tr>\n",
       "      <th>8631</th>\n",
       "      <td>Chemin (fr)</td>\n",
       "      <td>BOOKS_AND_REFERENCE</td>\n",
       "      <td>4.8</td>\n",
       "      <td>44</td>\n",
       "      <td>619.000000</td>\n",
       "      <td>44.0</td>\n",
       "      <td>Free</td>\n",
       "      <td>0.0</td>\n",
       "      <td>Everyone</td>\n",
       "      <td>Books &amp; Reference</td>\n",
       "      <td>March 23, 2014</td>\n",
       "      <td>0.8</td>\n",
       "      <td>2.2 and up</td>\n",
       "      <td>VL</td>\n",
       "    </tr>\n",
       "    <tr>\n",
       "      <th>8632</th>\n",
       "      <td>FR Calculator</td>\n",
       "      <td>FAMILY</td>\n",
       "      <td>4.0</td>\n",
       "      <td>7</td>\n",
       "      <td>2600.000000</td>\n",
       "      <td>7.0</td>\n",
       "      <td>Free</td>\n",
       "      <td>0.0</td>\n",
       "      <td>Everyone</td>\n",
       "      <td>Education</td>\n",
       "      <td>June 18, 2017</td>\n",
       "      <td>1.0.0</td>\n",
       "      <td>4.1 and up</td>\n",
       "      <td>VL</td>\n",
       "    </tr>\n",
       "    <tr>\n",
       "      <th>8633</th>\n",
       "      <td>Sya9a Maroc - FR</td>\n",
       "      <td>FAMILY</td>\n",
       "      <td>4.5</td>\n",
       "      <td>38</td>\n",
       "      <td>53000.000000</td>\n",
       "      <td>38.0</td>\n",
       "      <td>Free</td>\n",
       "      <td>0.0</td>\n",
       "      <td>Everyone</td>\n",
       "      <td>Education</td>\n",
       "      <td>July 25, 2017</td>\n",
       "      <td>1.48</td>\n",
       "      <td>4.1 and up</td>\n",
       "      <td>VH</td>\n",
       "    </tr>\n",
       "    <tr>\n",
       "      <th>8634</th>\n",
       "      <td>Fr. Mike Schmitz Audio Teachings</td>\n",
       "      <td>FAMILY</td>\n",
       "      <td>5.0</td>\n",
       "      <td>4</td>\n",
       "      <td>3600.000000</td>\n",
       "      <td>4.0</td>\n",
       "      <td>Free</td>\n",
       "      <td>0.0</td>\n",
       "      <td>Everyone</td>\n",
       "      <td>Education</td>\n",
       "      <td>July 6, 2018</td>\n",
       "      <td>1.0</td>\n",
       "      <td>4.1 and up</td>\n",
       "      <td>VL</td>\n",
       "    </tr>\n",
       "    <tr>\n",
       "      <th>8635</th>\n",
       "      <td>The SCP Foundation DB fr nn5n</td>\n",
       "      <td>BOOKS_AND_REFERENCE</td>\n",
       "      <td>4.5</td>\n",
       "      <td>114</td>\n",
       "      <td>21516.529524</td>\n",
       "      <td>114.0</td>\n",
       "      <td>Free</td>\n",
       "      <td>0.0</td>\n",
       "      <td>Mature 17+</td>\n",
       "      <td>Books &amp; Reference</td>\n",
       "      <td>January 19, 2015</td>\n",
       "      <td>Varies with device</td>\n",
       "      <td>Varies with device</td>\n",
       "      <td>M</td>\n",
       "    </tr>\n",
       "  </tbody>\n",
       "</table>\n",
       "<p>8636 rows × 14 columns</p>\n",
       "</div>"
      ],
      "text/plain": [
       "                                                    App             Category  \\\n",
       "0        Photo Editor & Candy Camera & Grid & ScrapBook       ART_AND_DESIGN   \n",
       "1                                   Coloring book moana       ART_AND_DESIGN   \n",
       "2     U Launcher Lite – FREE Live Cool Themes, Hide ...       ART_AND_DESIGN   \n",
       "3                                 Sketch - Draw & Paint       ART_AND_DESIGN   \n",
       "4                 Pixel Draw - Number Art Coloring Book       ART_AND_DESIGN   \n",
       "...                                                 ...                  ...   \n",
       "8631                                        Chemin (fr)  BOOKS_AND_REFERENCE   \n",
       "8632                                      FR Calculator               FAMILY   \n",
       "8633                                   Sya9a Maroc - FR               FAMILY   \n",
       "8634                   Fr. Mike Schmitz Audio Teachings               FAMILY   \n",
       "8635                      The SCP Foundation DB fr nn5n  BOOKS_AND_REFERENCE   \n",
       "\n",
       "      Rating  Reviews          Size  Installs  Type  Price Content Rating  \\\n",
       "0        4.1      159  19000.000000     159.0  Free    0.0       Everyone   \n",
       "1        3.9      967  14000.000000     967.0  Free    0.0       Everyone   \n",
       "2        4.7    87510   8700.000000   87510.0  Free    0.0       Everyone   \n",
       "3        4.5   215644  25000.000000  215644.0  Free    0.0           Teen   \n",
       "4        4.3      967   2800.000000     967.0  Free    0.0       Everyone   \n",
       "...      ...      ...           ...       ...   ...    ...            ...   \n",
       "8631     4.8       44    619.000000      44.0  Free    0.0       Everyone   \n",
       "8632     4.0        7   2600.000000       7.0  Free    0.0       Everyone   \n",
       "8633     4.5       38  53000.000000      38.0  Free    0.0       Everyone   \n",
       "8634     5.0        4   3600.000000       4.0  Free    0.0       Everyone   \n",
       "8635     4.5      114  21516.529524     114.0  Free    0.0     Mature 17+   \n",
       "\n",
       "                         Genres      Last Updated         Current Ver  \\\n",
       "0                  Art & Design   January 7, 2018               1.0.0   \n",
       "1     Art & Design;Pretend Play  January 15, 2018               2.0.0   \n",
       "2                  Art & Design    August 1, 2018               1.2.4   \n",
       "3                  Art & Design      June 8, 2018  Varies with device   \n",
       "4       Art & Design;Creativity     June 20, 2018                 1.1   \n",
       "...                         ...               ...                 ...   \n",
       "8631          Books & Reference    March 23, 2014                 0.8   \n",
       "8632                  Education     June 18, 2017               1.0.0   \n",
       "8633                  Education     July 25, 2017                1.48   \n",
       "8634                  Education      July 6, 2018                 1.0   \n",
       "8635          Books & Reference  January 19, 2015  Varies with device   \n",
       "\n",
       "             Android Ver Size_Bucket  \n",
       "0           4.0.3 and up           M  \n",
       "1           4.0.3 and up           M  \n",
       "2           4.0.3 and up           L  \n",
       "3             4.2 and up           H  \n",
       "4             4.4 and up          VL  \n",
       "...                  ...         ...  \n",
       "8631          2.2 and up          VL  \n",
       "8632          4.1 and up          VL  \n",
       "8633          4.1 and up          VH  \n",
       "8634          4.1 and up          VL  \n",
       "8635  Varies with device           M  \n",
       "\n",
       "[8636 rows x 14 columns]"
      ]
     },
     "execution_count": 122,
     "metadata": {},
     "output_type": "execute_result"
    }
   ],
   "source": [
    "##Ratings vs Size vs Content Rating\n",
    "\n",
    "##Prepare buckets for the Size column using pd.qcut\n",
    "inp1[\"Size_Bucket\"] = pd.qcut(inp1.Size, [0, 0.2, 0.4, 0.6, 0.8, 1], [\"VL\", \"L\", \"M\", \"H\", \"VH\"])\n",
    "inp1"
   ]
  },
  {
   "cell_type": "code",
   "execution_count": 123,
   "metadata": {},
   "outputs": [],
   "source": [
    "?pd.pivot_table"
   ]
  },
  {
   "cell_type": "code",
   "execution_count": 124,
   "metadata": {},
   "outputs": [
    {
     "data": {
      "text/html": [
       "<div>\n",
       "<style scoped>\n",
       "    .dataframe tbody tr th:only-of-type {\n",
       "        vertical-align: middle;\n",
       "    }\n",
       "\n",
       "    .dataframe tbody tr th {\n",
       "        vertical-align: top;\n",
       "    }\n",
       "\n",
       "    .dataframe thead th {\n",
       "        text-align: right;\n",
       "    }\n",
       "</style>\n",
       "<table border=\"1\" class=\"dataframe\">\n",
       "  <thead>\n",
       "    <tr style=\"text-align: right;\">\n",
       "      <th>Size_Bucket</th>\n",
       "      <th>VL</th>\n",
       "      <th>L</th>\n",
       "      <th>M</th>\n",
       "      <th>H</th>\n",
       "      <th>VH</th>\n",
       "    </tr>\n",
       "    <tr>\n",
       "      <th>Content Rating</th>\n",
       "      <th></th>\n",
       "      <th></th>\n",
       "      <th></th>\n",
       "      <th></th>\n",
       "      <th></th>\n",
       "    </tr>\n",
       "  </thead>\n",
       "  <tbody>\n",
       "    <tr>\n",
       "      <th>Everyone</th>\n",
       "      <td>4.117536</td>\n",
       "      <td>4.158959</td>\n",
       "      <td>4.217085</td>\n",
       "      <td>4.171939</td>\n",
       "      <td>4.187396</td>\n",
       "    </tr>\n",
       "    <tr>\n",
       "      <th>Everyone 10+</th>\n",
       "      <td>4.189474</td>\n",
       "      <td>4.207407</td>\n",
       "      <td>4.238318</td>\n",
       "      <td>4.193443</td>\n",
       "      <td>4.217073</td>\n",
       "    </tr>\n",
       "    <tr>\n",
       "      <th>Mature 17+</th>\n",
       "      <td>3.978947</td>\n",
       "      <td>4.124211</td>\n",
       "      <td>4.021705</td>\n",
       "      <td>4.155172</td>\n",
       "      <td>4.193814</td>\n",
       "    </tr>\n",
       "    <tr>\n",
       "      <th>Teen</th>\n",
       "      <td>4.193000</td>\n",
       "      <td>4.233094</td>\n",
       "      <td>4.138408</td>\n",
       "      <td>4.198131</td>\n",
       "      <td>4.246154</td>\n",
       "    </tr>\n",
       "  </tbody>\n",
       "</table>\n",
       "</div>"
      ],
      "text/plain": [
       "Size_Bucket           VL         L         M         H        VH\n",
       "Content Rating                                                  \n",
       "Everyone        4.117536  4.158959  4.217085  4.171939  4.187396\n",
       "Everyone 10+    4.189474  4.207407  4.238318  4.193443  4.217073\n",
       "Mature 17+      3.978947  4.124211  4.021705  4.155172  4.193814\n",
       "Teen            4.193000  4.233094  4.138408  4.198131  4.246154"
      ]
     },
     "execution_count": 124,
     "metadata": {},
     "output_type": "execute_result"
    }
   ],
   "source": [
    "##Create a pivot table for Size_buckets and Content Rating with values set to Rating\n",
    "pd.pivot_table(data = inp1, index = \"Content Rating\", columns= \"Size_Bucket\", values = \"Rating\")"
   ]
  },
  {
   "cell_type": "code",
   "execution_count": 125,
   "metadata": {},
   "outputs": [
    {
     "data": {
      "text/html": [
       "<div>\n",
       "<style scoped>\n",
       "    .dataframe tbody tr th:only-of-type {\n",
       "        vertical-align: middle;\n",
       "    }\n",
       "\n",
       "    .dataframe tbody tr th {\n",
       "        vertical-align: top;\n",
       "    }\n",
       "\n",
       "    .dataframe thead th {\n",
       "        text-align: right;\n",
       "    }\n",
       "</style>\n",
       "<table border=\"1\" class=\"dataframe\">\n",
       "  <thead>\n",
       "    <tr style=\"text-align: right;\">\n",
       "      <th>Size_Bucket</th>\n",
       "      <th>VL</th>\n",
       "      <th>L</th>\n",
       "      <th>M</th>\n",
       "      <th>H</th>\n",
       "      <th>VH</th>\n",
       "    </tr>\n",
       "    <tr>\n",
       "      <th>Content Rating</th>\n",
       "      <th></th>\n",
       "      <th></th>\n",
       "      <th></th>\n",
       "      <th></th>\n",
       "      <th></th>\n",
       "    </tr>\n",
       "  </thead>\n",
       "  <tbody>\n",
       "    <tr>\n",
       "      <th>Everyone</th>\n",
       "      <td>4.20</td>\n",
       "      <td>4.3</td>\n",
       "      <td>4.3</td>\n",
       "      <td>4.3</td>\n",
       "      <td>4.3</td>\n",
       "    </tr>\n",
       "    <tr>\n",
       "      <th>Everyone 10+</th>\n",
       "      <td>4.10</td>\n",
       "      <td>4.3</td>\n",
       "      <td>4.3</td>\n",
       "      <td>4.3</td>\n",
       "      <td>4.3</td>\n",
       "    </tr>\n",
       "    <tr>\n",
       "      <th>Mature 17+</th>\n",
       "      <td>4.25</td>\n",
       "      <td>4.2</td>\n",
       "      <td>4.1</td>\n",
       "      <td>4.1</td>\n",
       "      <td>4.2</td>\n",
       "    </tr>\n",
       "    <tr>\n",
       "      <th>Teen</th>\n",
       "      <td>4.25</td>\n",
       "      <td>4.3</td>\n",
       "      <td>4.2</td>\n",
       "      <td>4.2</td>\n",
       "      <td>4.3</td>\n",
       "    </tr>\n",
       "  </tbody>\n",
       "</table>\n",
       "</div>"
      ],
      "text/plain": [
       "Size_Bucket       VL    L    M    H   VH\n",
       "Content Rating                          \n",
       "Everyone        4.20  4.3  4.3  4.3  4.3\n",
       "Everyone 10+    4.10  4.3  4.3  4.3  4.3\n",
       "Mature 17+      4.25  4.2  4.1  4.1  4.2\n",
       "Teen            4.25  4.3  4.2  4.2  4.3"
      ]
     },
     "execution_count": 125,
     "metadata": {},
     "output_type": "execute_result"
    }
   ],
   "source": [
    "##Change the aggregation to median\n",
    "pd.pivot_table(data = inp1, index = \"Content Rating\", columns= \"Size_Bucket\",values = \"Rating\", aggfunc=np.median)"
   ]
  },
  {
   "cell_type": "code",
   "execution_count": 126,
   "metadata": {},
   "outputs": [
    {
     "data": {
      "text/html": [
       "<div>\n",
       "<style scoped>\n",
       "    .dataframe tbody tr th:only-of-type {\n",
       "        vertical-align: middle;\n",
       "    }\n",
       "\n",
       "    .dataframe tbody tr th {\n",
       "        vertical-align: top;\n",
       "    }\n",
       "\n",
       "    .dataframe thead th {\n",
       "        text-align: right;\n",
       "    }\n",
       "</style>\n",
       "<table border=\"1\" class=\"dataframe\">\n",
       "  <thead>\n",
       "    <tr style=\"text-align: right;\">\n",
       "      <th>Size_Bucket</th>\n",
       "      <th>VL</th>\n",
       "      <th>L</th>\n",
       "      <th>M</th>\n",
       "      <th>H</th>\n",
       "      <th>VH</th>\n",
       "    </tr>\n",
       "    <tr>\n",
       "      <th>Content Rating</th>\n",
       "      <th></th>\n",
       "      <th></th>\n",
       "      <th></th>\n",
       "      <th></th>\n",
       "      <th></th>\n",
       "    </tr>\n",
       "  </thead>\n",
       "  <tbody>\n",
       "    <tr>\n",
       "      <th>Everyone</th>\n",
       "      <td>3.80</td>\n",
       "      <td>3.80</td>\n",
       "      <td>4.0</td>\n",
       "      <td>3.8</td>\n",
       "      <td>3.9</td>\n",
       "    </tr>\n",
       "    <tr>\n",
       "      <th>Everyone 10+</th>\n",
       "      <td>3.86</td>\n",
       "      <td>3.92</td>\n",
       "      <td>4.1</td>\n",
       "      <td>4.0</td>\n",
       "      <td>4.0</td>\n",
       "    </tr>\n",
       "    <tr>\n",
       "      <th>Mature 17+</th>\n",
       "      <td>3.30</td>\n",
       "      <td>3.68</td>\n",
       "      <td>3.7</td>\n",
       "      <td>3.9</td>\n",
       "      <td>4.0</td>\n",
       "    </tr>\n",
       "    <tr>\n",
       "      <th>Teen</th>\n",
       "      <td>3.80</td>\n",
       "      <td>3.90</td>\n",
       "      <td>3.9</td>\n",
       "      <td>4.0</td>\n",
       "      <td>4.0</td>\n",
       "    </tr>\n",
       "  </tbody>\n",
       "</table>\n",
       "</div>"
      ],
      "text/plain": [
       "Size_Bucket       VL     L    M    H   VH\n",
       "Content Rating                           \n",
       "Everyone        3.80  3.80  4.0  3.8  3.9\n",
       "Everyone 10+    3.86  3.92  4.1  4.0  4.0\n",
       "Mature 17+      3.30  3.68  3.7  3.9  4.0\n",
       "Teen            3.80  3.90  3.9  4.0  4.0"
      ]
     },
     "execution_count": 126,
     "metadata": {},
     "output_type": "execute_result"
    }
   ],
   "source": [
    "##Change the aggregation to 20th percentile\n",
    "pd.pivot_table(data = inp1, index = \"Content Rating\", columns= \"Size_Bucket\", values = \"Rating\", aggfunc=lambda x: np.quantile(x,0.2))"
   ]
  },
  {
   "cell_type": "code",
   "execution_count": 127,
   "metadata": {},
   "outputs": [],
   "source": [
    "##Store the pivot table in a separate variable\n",
    "res = pd.pivot_table(data = inp1, index = \"Content Rating\", columns= \"Size_Bucket\", values = \"Rating\", aggfunc=lambda x: np.quantile(x,0.2))"
   ]
  },
  {
   "cell_type": "code",
   "execution_count": 128,
   "metadata": {},
   "outputs": [],
   "source": [
    "?sns.heatmap"
   ]
  },
  {
   "cell_type": "code",
   "execution_count": 129,
   "metadata": {},
   "outputs": [
    {
     "data": {
      "image/png": "[encoded data removed]",
      "text/plain": [
       "<Figure size 432x288 with 2 Axes>"
      ]
     },
     "metadata": {},
     "output_type": "display_data"
    }
   ],
   "source": [
    "##Plot a heat map\n",
    "sns.heatmap(res)\n",
    "plt.show()"
   ]
  },
  {
   "cell_type": "code",
   "execution_count": 130,
   "metadata": {},
   "outputs": [
    {
     "data": {
      "image/png": "[encoded data removed]",
      "text/plain": [
       "<Figure size 432x288 with 2 Axes>"
      ]
     },
     "metadata": {},
     "output_type": "display_data"
    }
   ],
   "source": [
    "##Apply customisations\n",
    "sns.heatmap(res, cmap = \"Greens\", annot=True)\n",
    "plt.show()"
   ]
  },
  {
   "cell_type": "code",
   "execution_count": 131,
   "metadata": {},
   "outputs": [
    {
     "ename": "KeyError",
     "evalue": "'Review_buckets'",
     "output_type": "error",
     "traceback": [
      "\u001b[1;31m---------------------------------------------------------------------------\u001b[0m",
      "\u001b[1;31mKeyError\u001b[0m                                  Traceback (most recent call last)",
      "\u001b[1;32m<ipython-input-131-01ca1f156361>\u001b[0m in \u001b[0;36m<module>\u001b[1;34m\u001b[0m\n\u001b[0;32m      1\u001b[0m \u001b[1;31m##Question - Replace Content Rating with Review_buckets in the above heat map\u001b[0m\u001b[1;33m\u001b[0m\u001b[1;33m\u001b[0m\u001b[1;33m\u001b[0m\u001b[0m\n\u001b[0;32m      2\u001b[0m \u001b[1;31m##Keep the aggregation at minimum value for Rating\u001b[0m\u001b[1;33m\u001b[0m\u001b[1;33m\u001b[0m\u001b[1;33m\u001b[0m\u001b[0m\n\u001b[1;32m----> 3\u001b[1;33m \u001b[0mpd\u001b[0m\u001b[1;33m.\u001b[0m\u001b[0mpivot_table\u001b[0m\u001b[1;33m(\u001b[0m\u001b[0mdata\u001b[0m \u001b[1;33m=\u001b[0m \u001b[0minp1\u001b[0m\u001b[1;33m,\u001b[0m \u001b[0mindex\u001b[0m \u001b[1;33m=\u001b[0m \u001b[1;34m\"Review_buckets\"\u001b[0m\u001b[1;33m,\u001b[0m \u001b[0mcolumns\u001b[0m\u001b[1;33m=\u001b[0m \u001b[1;34m\"Size_Bucket\"\u001b[0m\u001b[1;33m,\u001b[0m \u001b[0mvalues\u001b[0m \u001b[1;33m=\u001b[0m \u001b[1;34m\"Rating\"\u001b[0m\u001b[1;33m,\u001b[0m \u001b[0maggfunc\u001b[0m\u001b[1;33m=\u001b[0m\u001b[0mnp\u001b[0m\u001b[1;33m.\u001b[0m\u001b[0mmin\u001b[0m\u001b[1;33m)\u001b[0m\u001b[1;33m\u001b[0m\u001b[1;33m\u001b[0m\u001b[0m\n\u001b[0m",
      "\u001b[1;32m~\\anaconda3\\lib\\site-packages\\pandas\\core\\reshape\\pivot.py\u001b[0m in \u001b[0;36mpivot_table\u001b[1;34m(data, values, index, columns, aggfunc, fill_value, margins, dropna, margins_name, observed)\u001b[0m\n\u001b[0;32m    110\u001b[0m         \u001b[0mvalues\u001b[0m \u001b[1;33m=\u001b[0m \u001b[0mlist\u001b[0m\u001b[1;33m(\u001b[0m\u001b[0mvalues\u001b[0m\u001b[1;33m)\u001b[0m\u001b[1;33m\u001b[0m\u001b[1;33m\u001b[0m\u001b[0m\n\u001b[0;32m    111\u001b[0m \u001b[1;33m\u001b[0m\u001b[0m\n\u001b[1;32m--> 112\u001b[1;33m     \u001b[0mgrouped\u001b[0m \u001b[1;33m=\u001b[0m \u001b[0mdata\u001b[0m\u001b[1;33m.\u001b[0m\u001b[0mgroupby\u001b[0m\u001b[1;33m(\u001b[0m\u001b[0mkeys\u001b[0m\u001b[1;33m,\u001b[0m \u001b[0mobserved\u001b[0m\u001b[1;33m=\u001b[0m\u001b[0mobserved\u001b[0m\u001b[1;33m)\u001b[0m\u001b[1;33m\u001b[0m\u001b[1;33m\u001b[0m\u001b[0m\n\u001b[0m\u001b[0;32m    113\u001b[0m     \u001b[0magged\u001b[0m \u001b[1;33m=\u001b[0m \u001b[0mgrouped\u001b[0m\u001b[1;33m.\u001b[0m\u001b[0magg\u001b[0m\u001b[1;33m(\u001b[0m\u001b[0maggfunc\u001b[0m\u001b[1;33m)\u001b[0m\u001b[1;33m\u001b[0m\u001b[1;33m\u001b[0m\u001b[0m\n\u001b[0;32m    114\u001b[0m     \u001b[1;32mif\u001b[0m \u001b[0mdropna\u001b[0m \u001b[1;32mand\u001b[0m \u001b[0misinstance\u001b[0m\u001b[1;33m(\u001b[0m\u001b[0magged\u001b[0m\u001b[1;33m,\u001b[0m \u001b[0mABCDataFrame\u001b[0m\u001b[1;33m)\u001b[0m \u001b[1;32mand\u001b[0m \u001b[0mlen\u001b[0m\u001b[1;33m(\u001b[0m\u001b[0magged\u001b[0m\u001b[1;33m.\u001b[0m\u001b[0mcolumns\u001b[0m\u001b[1;33m)\u001b[0m\u001b[1;33m:\u001b[0m\u001b[1;33m\u001b[0m\u001b[1;33m\u001b[0m\u001b[0m\n",
      "\u001b[1;32m~\\anaconda3\\lib\\site-packages\\pandas\\core\\frame.py\u001b[0m in \u001b[0;36mgroupby\u001b[1;34m(self, by, axis, level, as_index, sort, group_keys, squeeze, observed, dropna)\u001b[0m\n\u001b[0;32m   6715\u001b[0m         \u001b[0maxis\u001b[0m \u001b[1;33m=\u001b[0m \u001b[0mself\u001b[0m\u001b[1;33m.\u001b[0m\u001b[0m_get_axis_number\u001b[0m\u001b[1;33m(\u001b[0m\u001b[0maxis\u001b[0m\u001b[1;33m)\u001b[0m\u001b[1;33m\u001b[0m\u001b[1;33m\u001b[0m\u001b[0m\n\u001b[0;32m   6716\u001b[0m \u001b[1;33m\u001b[0m\u001b[0m\n\u001b[1;32m-> 6717\u001b[1;33m         return DataFrameGroupBy(\n\u001b[0m\u001b[0;32m   6718\u001b[0m             \u001b[0mobj\u001b[0m\u001b[1;33m=\u001b[0m\u001b[0mself\u001b[0m\u001b[1;33m,\u001b[0m\u001b[1;33m\u001b[0m\u001b[1;33m\u001b[0m\u001b[0m\n\u001b[0;32m   6719\u001b[0m             \u001b[0mkeys\u001b[0m\u001b[1;33m=\u001b[0m\u001b[0mby\u001b[0m\u001b[1;33m,\u001b[0m\u001b[1;33m\u001b[0m\u001b[1;33m\u001b[0m\u001b[0m\n",
      "\u001b[1;32m~\\anaconda3\\lib\\site-packages\\pandas\\core\\groupby\\groupby.py\u001b[0m in \u001b[0;36m__init__\u001b[1;34m(self, obj, keys, axis, level, grouper, exclusions, selection, as_index, sort, group_keys, squeeze, observed, mutated, dropna)\u001b[0m\n\u001b[0;32m    558\u001b[0m             \u001b[1;32mfrom\u001b[0m \u001b[0mpandas\u001b[0m\u001b[1;33m.\u001b[0m\u001b[0mcore\u001b[0m\u001b[1;33m.\u001b[0m\u001b[0mgroupby\u001b[0m\u001b[1;33m.\u001b[0m\u001b[0mgrouper\u001b[0m \u001b[1;32mimport\u001b[0m \u001b[0mget_grouper\u001b[0m\u001b[1;33m\u001b[0m\u001b[1;33m\u001b[0m\u001b[0m\n\u001b[0;32m    559\u001b[0m \u001b[1;33m\u001b[0m\u001b[0m\n\u001b[1;32m--> 560\u001b[1;33m             grouper, exclusions, obj = get_grouper(\n\u001b[0m\u001b[0;32m    561\u001b[0m                 \u001b[0mobj\u001b[0m\u001b[1;33m,\u001b[0m\u001b[1;33m\u001b[0m\u001b[1;33m\u001b[0m\u001b[0m\n\u001b[0;32m    562\u001b[0m                 \u001b[0mkeys\u001b[0m\u001b[1;33m,\u001b[0m\u001b[1;33m\u001b[0m\u001b[1;33m\u001b[0m\u001b[0m\n",
      "\u001b[1;32m~\\anaconda3\\lib\\site-packages\\pandas\\core\\groupby\\grouper.py\u001b[0m in \u001b[0;36mget_grouper\u001b[1;34m(obj, key, axis, level, sort, observed, mutated, validate, dropna)\u001b[0m\n\u001b[0;32m    809\u001b[0m                 \u001b[0min_axis\u001b[0m\u001b[1;33m,\u001b[0m \u001b[0mname\u001b[0m\u001b[1;33m,\u001b[0m \u001b[0mlevel\u001b[0m\u001b[1;33m,\u001b[0m \u001b[0mgpr\u001b[0m \u001b[1;33m=\u001b[0m \u001b[1;32mFalse\u001b[0m\u001b[1;33m,\u001b[0m \u001b[1;32mNone\u001b[0m\u001b[1;33m,\u001b[0m \u001b[0mgpr\u001b[0m\u001b[1;33m,\u001b[0m \u001b[1;32mNone\u001b[0m\u001b[1;33m\u001b[0m\u001b[1;33m\u001b[0m\u001b[0m\n\u001b[0;32m    810\u001b[0m             \u001b[1;32melse\u001b[0m\u001b[1;33m:\u001b[0m\u001b[1;33m\u001b[0m\u001b[1;33m\u001b[0m\u001b[0m\n\u001b[1;32m--> 811\u001b[1;33m                 \u001b[1;32mraise\u001b[0m \u001b[0mKeyError\u001b[0m\u001b[1;33m(\u001b[0m\u001b[0mgpr\u001b[0m\u001b[1;33m)\u001b[0m\u001b[1;33m\u001b[0m\u001b[1;33m\u001b[0m\u001b[0m\n\u001b[0m\u001b[0;32m    812\u001b[0m         \u001b[1;32melif\u001b[0m \u001b[0misinstance\u001b[0m\u001b[1;33m(\u001b[0m\u001b[0mgpr\u001b[0m\u001b[1;33m,\u001b[0m \u001b[0mGrouper\u001b[0m\u001b[1;33m)\u001b[0m \u001b[1;32mand\u001b[0m \u001b[0mgpr\u001b[0m\u001b[1;33m.\u001b[0m\u001b[0mkey\u001b[0m \u001b[1;32mis\u001b[0m \u001b[1;32mnot\u001b[0m \u001b[1;32mNone\u001b[0m\u001b[1;33m:\u001b[0m\u001b[1;33m\u001b[0m\u001b[1;33m\u001b[0m\u001b[0m\n\u001b[0;32m    813\u001b[0m             \u001b[1;31m# Add key to exclusions\u001b[0m\u001b[1;33m\u001b[0m\u001b[1;33m\u001b[0m\u001b[1;33m\u001b[0m\u001b[0m\n",
      "\u001b[1;31mKeyError\u001b[0m: 'Review_buckets'"
     ]
    }
   ],
   "source": [
    "##Question - Replace Content Rating with Review_buckets in the above heat map\n",
    "##Keep the aggregation at minimum value for Rating\n",
    "pd.pivot_table(data = inp1, index = \"Review_buckets\", columns= \"Size_Bucket\", values = \"Rating\", aggfunc=np.min)"
   ]
  },
  {
   "cell_type": "markdown",
   "metadata": {},
   "source": [
    "### Session 3: Additional Visualisations"
   ]
  },
  {
   "cell_type": "markdown",
   "metadata": {},
   "source": [
    "#### Line Plots"
   ]
  },
  {
   "cell_type": "markdown",
   "metadata": {},
   "source": [
    "- A line plot tries to observe trends using time dependent data.\n",
    "-  For this part, you'll be using **pd.to_datetime()** function. Check out its documentation:https://pandas.pydata.org/pandas-docs/stable/reference/api/pandas.to_datetime.html\n"
   ]
  },
  {
   "cell_type": "code",
   "execution_count": 132,
   "metadata": {},
   "outputs": [
    {
     "data": {
      "text/plain": [
       "App                 object\n",
       "Category            object\n",
       "Rating             float64\n",
       "Reviews              int32\n",
       "Size               float64\n",
       "Installs           float64\n",
       "Type                object\n",
       "Price              float64\n",
       "Content Rating      object\n",
       "Genres              object\n",
       "Last Updated        object\n",
       "Current Ver         object\n",
       "Android Ver         object\n",
       "Size_Bucket       category\n",
       "dtype: object"
      ]
     },
     "execution_count": 132,
     "metadata": {},
     "output_type": "execute_result"
    }
   ],
   "source": [
    "inp1.dtypes"
   ]
  },
  {
   "cell_type": "code",
   "execution_count": 133,
   "metadata": {},
   "outputs": [
    {
     "data": {
      "text/plain": [
       "0     January 7, 2018\n",
       "1    January 15, 2018\n",
       "2      August 1, 2018\n",
       "3        June 8, 2018\n",
       "4       June 20, 2018\n",
       "Name: Last Updated, dtype: object"
      ]
     },
     "execution_count": 133,
     "metadata": {},
     "output_type": "execute_result"
    }
   ],
   "source": [
    "inp1[\"Last Updated\"].head()"
   ]
  },
  {
   "cell_type": "code",
   "execution_count": 134,
   "metadata": {},
   "outputs": [],
   "source": [
    "## Extract the month from the Last Updated Date\n",
    "inp1[\"updated_month\"] = pd.to_datetime(inp1[\"Last Updated\"]).dt.month"
   ]
  },
  {
   "cell_type": "code",
   "execution_count": 135,
   "metadata": {},
   "outputs": [
    {
     "data": {
      "text/plain": [
       "updated_month\n",
       "1     4.143842\n",
       "2     4.092566\n",
       "3     4.111255\n",
       "4     4.148326\n",
       "5     4.153308\n",
       "6     4.172590\n",
       "7     4.223748\n",
       "8     4.269865\n",
       "9     4.041406\n",
       "10    4.012739\n",
       "11    4.102685\n",
       "12    4.065350\n",
       "Name: Rating, dtype: float64"
      ]
     },
     "execution_count": 135,
     "metadata": {},
     "output_type": "execute_result"
    }
   ],
   "source": [
    "## Find the average Rating across all the months\n",
    "inp1.groupby([\"updated_month\"])[\"Rating\"].mean()\n"
   ]
  },
  {
   "cell_type": "code",
   "execution_count": 144,
   "metadata": {},
   "outputs": [
    {
     "data": {
      "image/png": "[encoded data removed]",
      "text/plain": [
       "<Figure size 720x360 with 1 Axes>"
      ]
     },
     "metadata": {},
     "output_type": "display_data"
    }
   ],
   "source": [
    "## Plot a line graph\n",
    "plt.figure(figsize=[10,5])\n",
    "inp1.groupby([\"updated_month\"])[\"Rating\"].mean().plot()\n",
    "plt.show()"
   ]
  },
  {
   "cell_type": "markdown",
   "metadata": {},
   "source": [
    "#### Stacked Bar Charts"
   ]
  },
  {
   "cell_type": "markdown",
   "metadata": {},
   "source": [
    "- A stacked bar chart breaks down each bar of the bar chart on the basis of a different category\n",
    "- For example, for the Campaign Response bar chart you saw earlier, the stacked bar chart is also showing the Gender bifurcation as well"
   ]
  },
  {
   "cell_type": "markdown",
   "metadata": {},
   "source": [
    "![Stacked](images\\stacked.png)"
   ]
  },
  {
   "cell_type": "code",
   "execution_count": 137,
   "metadata": {},
   "outputs": [
    {
     "data": {
      "text/html": [
       "<div>\n",
       "<style scoped>\n",
       "    .dataframe tbody tr th:only-of-type {\n",
       "        vertical-align: middle;\n",
       "    }\n",
       "\n",
       "    .dataframe tbody tr th {\n",
       "        vertical-align: top;\n",
       "    }\n",
       "\n",
       "    .dataframe thead th {\n",
       "        text-align: right;\n",
       "    }\n",
       "</style>\n",
       "<table border=\"1\" class=\"dataframe\">\n",
       "  <thead>\n",
       "    <tr style=\"text-align: right;\">\n",
       "      <th>Content Rating</th>\n",
       "      <th>Everyone</th>\n",
       "      <th>Everyone 10+</th>\n",
       "      <th>Mature 17+</th>\n",
       "      <th>Teen</th>\n",
       "    </tr>\n",
       "    <tr>\n",
       "      <th>updated_month</th>\n",
       "      <th></th>\n",
       "      <th></th>\n",
       "      <th></th>\n",
       "      <th></th>\n",
       "    </tr>\n",
       "  </thead>\n",
       "  <tbody>\n",
       "    <tr>\n",
       "      <th>1</th>\n",
       "      <td>10783142.0</td>\n",
       "      <td>2625894.0</td>\n",
       "      <td>109270.0</td>\n",
       "      <td>1871120.0</td>\n",
       "    </tr>\n",
       "    <tr>\n",
       "      <th>2</th>\n",
       "      <td>9383273.0</td>\n",
       "      <td>430604.0</td>\n",
       "      <td>222873.0</td>\n",
       "      <td>891548.0</td>\n",
       "    </tr>\n",
       "    <tr>\n",
       "      <th>3</th>\n",
       "      <td>11651005.0</td>\n",
       "      <td>1209361.0</td>\n",
       "      <td>515648.0</td>\n",
       "      <td>2739191.0</td>\n",
       "    </tr>\n",
       "    <tr>\n",
       "      <th>4</th>\n",
       "      <td>14184273.0</td>\n",
       "      <td>503984.0</td>\n",
       "      <td>109882.0</td>\n",
       "      <td>3360992.0</td>\n",
       "    </tr>\n",
       "    <tr>\n",
       "      <th>5</th>\n",
       "      <td>34402653.0</td>\n",
       "      <td>2686130.0</td>\n",
       "      <td>770074.0</td>\n",
       "      <td>5020548.0</td>\n",
       "    </tr>\n",
       "    <tr>\n",
       "      <th>6</th>\n",
       "      <td>50519873.0</td>\n",
       "      <td>6696764.0</td>\n",
       "      <td>3368206.0</td>\n",
       "      <td>11566636.0</td>\n",
       "    </tr>\n",
       "    <tr>\n",
       "      <th>7</th>\n",
       "      <td>142684586.0</td>\n",
       "      <td>15531129.0</td>\n",
       "      <td>14637003.0</td>\n",
       "      <td>46849868.0</td>\n",
       "    </tr>\n",
       "    <tr>\n",
       "      <th>8</th>\n",
       "      <td>110296924.0</td>\n",
       "      <td>5763034.0</td>\n",
       "      <td>12863613.0</td>\n",
       "      <td>27393371.0</td>\n",
       "    </tr>\n",
       "    <tr>\n",
       "      <th>9</th>\n",
       "      <td>5236473.0</td>\n",
       "      <td>306609.0</td>\n",
       "      <td>226965.0</td>\n",
       "      <td>868103.0</td>\n",
       "    </tr>\n",
       "    <tr>\n",
       "      <th>10</th>\n",
       "      <td>7139681.0</td>\n",
       "      <td>577479.0</td>\n",
       "      <td>244025.0</td>\n",
       "      <td>2234855.0</td>\n",
       "    </tr>\n",
       "    <tr>\n",
       "      <th>11</th>\n",
       "      <td>9731469.0</td>\n",
       "      <td>562019.0</td>\n",
       "      <td>21416.0</td>\n",
       "      <td>840354.0</td>\n",
       "    </tr>\n",
       "    <tr>\n",
       "      <th>12</th>\n",
       "      <td>8603458.0</td>\n",
       "      <td>146231.0</td>\n",
       "      <td>293884.0</td>\n",
       "      <td>1275795.0</td>\n",
       "    </tr>\n",
       "  </tbody>\n",
       "</table>\n",
       "</div>"
      ],
      "text/plain": [
       "Content Rating     Everyone  Everyone 10+  Mature 17+        Teen\n",
       "updated_month                                                    \n",
       "1                10783142.0     2625894.0    109270.0   1871120.0\n",
       "2                 9383273.0      430604.0    222873.0    891548.0\n",
       "3                11651005.0     1209361.0    515648.0   2739191.0\n",
       "4                14184273.0      503984.0    109882.0   3360992.0\n",
       "5                34402653.0     2686130.0    770074.0   5020548.0\n",
       "6                50519873.0     6696764.0   3368206.0  11566636.0\n",
       "7               142684586.0    15531129.0  14637003.0  46849868.0\n",
       "8               110296924.0     5763034.0  12863613.0  27393371.0\n",
       "9                 5236473.0      306609.0    226965.0    868103.0\n",
       "10                7139681.0      577479.0    244025.0   2234855.0\n",
       "11                9731469.0      562019.0     21416.0    840354.0\n",
       "12                8603458.0      146231.0    293884.0   1275795.0"
      ]
     },
     "execution_count": 137,
     "metadata": {},
     "output_type": "execute_result"
    }
   ],
   "source": [
    "## Create a pivot table for Content Rating and updated Month with the values set to Installs\n",
    "pd.pivot_table(data=inp1, values=\"Installs\", index = \"updated_month\", columns = \"Content Rating\", aggfunc=sum)"
   ]
  },
  {
   "cell_type": "code",
   "execution_count": 146,
   "metadata": {},
   "outputs": [],
   "source": [
    "##Store the table in a separate variable\n",
    "monthly = pd.pivot_table(data=inp1, values=\"Installs\", index = \"updated_month\", columns = \"Content Rating\", aggfunc=sum)"
   ]
  },
  {
   "cell_type": "code",
   "execution_count": 156,
   "metadata": {},
   "outputs": [
    {
     "data": {
      "image/png": "[encoded data removed]",
      "text/plain": [
       "<Figure size 720x432 with 1 Axes>"
      ]
     },
     "metadata": {},
     "output_type": "display_data"
    }
   ],
   "source": [
    "##Plot the stacked bar chart.\n",
    "monthly.plot(kind=\"bar\", stacked=\"True\", figsize=[10,6])\n",
    "plt.show()"
   ]
  },
  {
   "cell_type": "code",
   "execution_count": 160,
   "metadata": {},
   "outputs": [
    {
     "data": {
      "image/png": "[encoded data removed]",
      "text/plain": [
       "<Figure size 720x432 with 1 Axes>"
      ]
     },
     "metadata": {},
     "output_type": "display_data"
    }
   ],
   "source": [
    "##Plot the stacked bar chart again wrt to the proportions.\n",
    "monthly_perc = monthly[[\"Everyone\", \"Everyone 10+\", \"Mature 17+\", \"Teen\"]].apply(lambda x: x/x.sum(), axis =1)\n",
    "monthly_perc.plot(kind=\"bar\", stacked=\"True\", figsize=[10,6])\n",
    "plt.show()"
   ]
  },
  {
   "cell_type": "code",
   "execution_count": 161,
   "metadata": {},
   "outputs": [
    {
     "data": {
      "image/png": "[encoded data removed]",
      "text/plain": [
       "<Figure size 720x360 with 1 Axes>"
      ]
     },
     "metadata": {},
     "output_type": "display_data"
    }
   ],
   "source": [
    "## Plot a line graph and compare it with the newly created stacked bar\n",
    "plt.figure(figsize=[10,5])\n",
    "inp1.groupby([\"updated_month\"])[\"Rating\"].mean().plot()\n",
    "plt.show()"
   ]
  },
  {
   "cell_type": "markdown",
   "metadata": {},
   "source": [
    "#### Plotly"
   ]
  },
  {
   "cell_type": "markdown",
   "metadata": {},
   "source": [
    "Plotly is a Python library used for creating interactive visual charts. You can take a look at how you can use it to create aesthetic looking plots with a lot of user-friendly functionalities like hover, zoom, etc."
   ]
  },
  {
   "cell_type": "markdown",
   "metadata": {},
   "source": [
    "Check out this link for installation and documentation:https://plot.ly/python/getting-started/"
   ]
  },
  {
   "cell_type": "code",
   "execution_count": 141,
   "metadata": {},
   "outputs": [],
   "source": [
    "#Install plotly\n"
   ]
  },
  {
   "cell_type": "code",
   "execution_count": 166,
   "metadata": {},
   "outputs": [
    {
     "data": {
      "image/png": "[encoded data removed]",
      "text/plain": [
       "<Figure size 432x288 with 1 Axes>"
      ]
     },
     "metadata": {},
     "output_type": "display_data"
    }
   ],
   "source": [
    "#Take the table you want to plot in a separate variable\n",
    "result = inp1.groupby([\"updated_month\"])[[\"Rating\"]].mean().plot().figsize=[20,10]"
   ]
  },
  {
   "cell_type": "code",
   "execution_count": 143,
   "metadata": {},
   "outputs": [],
   "source": [
    "#Import the plotly libraries\n"
   ]
  },
  {
   "cell_type": "code",
   "execution_count": null,
   "metadata": {},
   "outputs": [],
   "source": [
    "#Prepare the plot\n"
   ]
  }
 ],
 "metadata": {
  "kernelspec": {
   "display_name": "Python 3",
   "language": "python",
   "name": "python3"
  },
  "language_info": {
   "codemirror_mode": {
    "name": "ipython",
    "version": 3
   },
   "file_extension": ".py",
   "mimetype": "text/x-python",
   "name": "python",
   "nbconvert_exporter": "python",
   "pygments_lexer": "ipython3",
   "version": "3.8.8"
  }
 },
 "nbformat": 4,
 "nbformat_minor": 2
}
